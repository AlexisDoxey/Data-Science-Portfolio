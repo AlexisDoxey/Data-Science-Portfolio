{
 "cells": [
  {
   "cell_type": "markdown",
   "metadata": {},
   "source": [
    "<div class=\"alert alert-success\">\n",
    "<b>Reviewer's comment V2</b>\n",
    "\t  \n",
    "The project is accepted! Good luck on the next sprint!\n",
    "\t  \n",
    "</div>"
   ]
  },
  {
   "cell_type": "markdown",
   "metadata": {},
   "source": [
    "**Review**\n",
    "\t  \n",
    "Hi, my name is Dmitry and I will be reviewing your project.\n",
    "  \n",
    "You can find my comments in colored markdown cells:\n",
    "  \n",
    "<div class=\"alert alert-success\">\n",
    "  If everything is done successfully.\n",
    "</div>\n",
    "  \n",
    "<div class=\"alert alert-warning\">\n",
    "  If I have some (optional) suggestions, or questions to think about, or general comments.\n",
    "</div>\n",
    "  \n",
    "<div class=\"alert alert-danger\">\n",
    "  If a section requires some corrections. Work can't be accepted with red comments.\n",
    "</div>\n",
    "  \n",
    "Please don't remove my comments, as it will make further review iterations much harder for me.\n",
    "  \n",
    "Feel free to reply to my comments or ask questions using the following template:\n",
    "  \n",
    "<div class=\"alert alert-info\">\n",
    "  For your comments and questions.\n",
    "</div>\n",
    "  \n",
    "First of all, thank you for turning in the project! You did a great job overall, there's only one small problem that needs to be fixed before the project can be accepted. Good luck!"
   ]
  },
  {
   "cell_type": "markdown",
   "metadata": {},
   "source": [
    "# Predicting Taxi Orders using Machine Learning"
   ]
  },
  {
   "cell_type": "markdown",
   "metadata": {},
   "source": [
    "**Project Description**\n",
    "\n",
    "Sweet Lift Taxi company has collected historical data on taxi orders at airports. To attract more drivers during peak hours, we need to predict the amount of taxi orders for the next hour. Build a model for such a prediction.\n",
    "\n",
    "The RMSE metric on the test set should not be more than 48.\n",
    "\n",
    "**Project Instructions**\n",
    "\n",
    "1. Download the data and resample it by one hour.\n",
    "2. Analyze the data.\n",
    "3. Train different models with different hyperparameters. The test sample should be 10% of the initial dataset. \n",
    "4. Test the data using the test sample and provide a conclusion.\n",
    "\n",
    "**Data Description**\n",
    "\n",
    "The data is stored in file `taxi.csv`. The number of orders is in the '*num_orders*' column."
   ]
  },
  {
   "cell_type": "markdown",
   "metadata": {},
   "source": [
    "## Preparation"
   ]
  },
  {
   "cell_type": "code",
   "execution_count": 1,
   "metadata": {},
   "outputs": [],
   "source": [
    "import numpy as np\n",
    "import pandas as pd\n",
    "\n",
    "import matplotlib.pyplot as plt\n",
    "import seaborn as sns\n",
    "%matplotlib inline\n",
    "\n",
    "from statsmodels.tsa.seasonal import seasonal_decompose\n",
    "\n",
    "from sklearn.metrics import mean_squared_error\n",
    "\n",
    "from sklearn.model_selection import TimeSeriesSplit\n",
    "from sklearn.model_selection import train_test_split, GridSearchCV\n",
    "from sklearn.linear_model import LinearRegression\n",
    "from sklearn.ensemble import RandomForestRegressor\n",
    "from catboost import CatBoostRegressor\n",
    "from lightgbm import LGBMRegressor\n",
    "from xgboost import XGBRegressor\n",
    "\n",
    "import sys\n",
    "import warnings\n",
    "if not sys.warnoptions:\n",
    "    warnings.simplefilter(\"ignore\")"
   ]
  },
  {
   "cell_type": "code",
   "execution_count": 2,
   "metadata": {},
   "outputs": [
    {
     "data": {
      "text/html": [
       "<div>\n",
       "<style scoped>\n",
       "    .dataframe tbody tr th:only-of-type {\n",
       "        vertical-align: middle;\n",
       "    }\n",
       "\n",
       "    .dataframe tbody tr th {\n",
       "        vertical-align: top;\n",
       "    }\n",
       "\n",
       "    .dataframe thead th {\n",
       "        text-align: right;\n",
       "    }\n",
       "</style>\n",
       "<table border=\"1\" class=\"dataframe\">\n",
       "  <thead>\n",
       "    <tr style=\"text-align: right;\">\n",
       "      <th></th>\n",
       "      <th>num_orders</th>\n",
       "    </tr>\n",
       "    <tr>\n",
       "      <th>datetime</th>\n",
       "      <th></th>\n",
       "    </tr>\n",
       "  </thead>\n",
       "  <tbody>\n",
       "    <tr>\n",
       "      <td>2018-03-01 00:00:00</td>\n",
       "      <td>9</td>\n",
       "    </tr>\n",
       "    <tr>\n",
       "      <td>2018-03-01 00:10:00</td>\n",
       "      <td>14</td>\n",
       "    </tr>\n",
       "    <tr>\n",
       "      <td>2018-03-01 00:20:00</td>\n",
       "      <td>28</td>\n",
       "    </tr>\n",
       "    <tr>\n",
       "      <td>2018-03-01 00:30:00</td>\n",
       "      <td>20</td>\n",
       "    </tr>\n",
       "    <tr>\n",
       "      <td>2018-03-01 00:40:00</td>\n",
       "      <td>32</td>\n",
       "    </tr>\n",
       "  </tbody>\n",
       "</table>\n",
       "</div>"
      ],
      "text/plain": [
       "                     num_orders\n",
       "datetime                       \n",
       "2018-03-01 00:00:00           9\n",
       "2018-03-01 00:10:00          14\n",
       "2018-03-01 00:20:00          28\n",
       "2018-03-01 00:30:00          20\n",
       "2018-03-01 00:40:00          32"
      ]
     },
     "execution_count": 2,
     "metadata": {},
     "output_type": "execute_result"
    }
   ],
   "source": [
    "taxi = pd.read_csv('/datasets/taxi.csv', parse_dates = [0], index_col = 'datetime')\n",
    "taxi.sort_index(inplace = True)\n",
    "taxi.head(5)"
   ]
  },
  {
   "cell_type": "code",
   "execution_count": 3,
   "metadata": {},
   "outputs": [
    {
     "name": "stdout",
     "output_type": "stream",
     "text": [
      "<class 'pandas.core.frame.DataFrame'>\n",
      "DatetimeIndex: 26496 entries, 2018-03-01 00:00:00 to 2018-08-31 23:50:00\n",
      "Data columns (total 1 columns):\n",
      "num_orders    26496 non-null int64\n",
      "dtypes: int64(1)\n",
      "memory usage: 414.0 KB\n"
     ]
    }
   ],
   "source": [
    "taxi.info()"
   ]
  },
  {
   "cell_type": "code",
   "execution_count": 4,
   "metadata": {},
   "outputs": [
    {
     "data": {
      "text/plain": [
       "True"
      ]
     },
     "execution_count": 4,
     "metadata": {},
     "output_type": "execute_result"
    }
   ],
   "source": [
    "# check if dates are in chronological order\n",
    "\n",
    "taxi.index.is_monotonic"
   ]
  },
  {
   "cell_type": "code",
   "execution_count": 5,
   "metadata": {},
   "outputs": [
    {
     "data": {
      "text/html": [
       "<div>\n",
       "<style scoped>\n",
       "    .dataframe tbody tr th:only-of-type {\n",
       "        vertical-align: middle;\n",
       "    }\n",
       "\n",
       "    .dataframe tbody tr th {\n",
       "        vertical-align: top;\n",
       "    }\n",
       "\n",
       "    .dataframe thead th {\n",
       "        text-align: right;\n",
       "    }\n",
       "</style>\n",
       "<table border=\"1\" class=\"dataframe\">\n",
       "  <thead>\n",
       "    <tr style=\"text-align: right;\">\n",
       "      <th></th>\n",
       "      <th>num_orders</th>\n",
       "    </tr>\n",
       "    <tr>\n",
       "      <th>datetime</th>\n",
       "      <th></th>\n",
       "    </tr>\n",
       "  </thead>\n",
       "  <tbody>\n",
       "    <tr>\n",
       "      <td>2018-03-01 00:00:00</td>\n",
       "      <td>124</td>\n",
       "    </tr>\n",
       "    <tr>\n",
       "      <td>2018-03-01 01:00:00</td>\n",
       "      <td>85</td>\n",
       "    </tr>\n",
       "    <tr>\n",
       "      <td>2018-03-01 02:00:00</td>\n",
       "      <td>71</td>\n",
       "    </tr>\n",
       "    <tr>\n",
       "      <td>2018-03-01 03:00:00</td>\n",
       "      <td>66</td>\n",
       "    </tr>\n",
       "    <tr>\n",
       "      <td>2018-03-01 04:00:00</td>\n",
       "      <td>43</td>\n",
       "    </tr>\n",
       "  </tbody>\n",
       "</table>\n",
       "</div>"
      ],
      "text/plain": [
       "                     num_orders\n",
       "datetime                       \n",
       "2018-03-01 00:00:00         124\n",
       "2018-03-01 01:00:00          85\n",
       "2018-03-01 02:00:00          71\n",
       "2018-03-01 03:00:00          66\n",
       "2018-03-01 04:00:00          43"
      ]
     },
     "execution_count": 5,
     "metadata": {},
     "output_type": "execute_result"
    }
   ],
   "source": [
    "# resample data by one hour\n",
    "\n",
    "taxi = taxi.resample('1H').sum()\n",
    "\n",
    "taxi.head(5)"
   ]
  },
  {
   "cell_type": "markdown",
   "metadata": {},
   "source": [
    "**Conclusion**\n",
    "\n",
    "We uploaded data from a taxi company that contains the dates and times of taxi orders. The data consists of 26496 entries. There are no missing values. We prepared data by changing dates to datatype datetime and made sure data was in chronologic order. We resampled data by one hour. We will analyze data next.  "
   ]
  },
  {
   "cell_type": "markdown",
   "metadata": {},
   "source": [
    "<div class=\"alert alert-success\">\n",
    "<b>Reviewer's comment</b>\n",
    "\t  \n",
    "Great, you loaded the data, checked that it's sorted in chronological order and correctly resampled it\n",
    "\t  \n",
    "</div>"
   ]
  },
  {
   "cell_type": "markdown",
   "metadata": {},
   "source": [
    "## Analysis"
   ]
  },
  {
   "cell_type": "markdown",
   "metadata": {},
   "source": [
    "### Rolling Mean"
   ]
  },
  {
   "cell_type": "code",
   "execution_count": 6,
   "metadata": {},
   "outputs": [
    {
     "name": "stdout",
     "output_type": "stream",
     "text": [
      "                     num_orders  rolling_mean\n",
      "datetime                                     \n",
      "2018-03-01 19:00:00          45         53.30\n",
      "2018-03-01 20:00:00          61         50.15\n",
      "2018-03-01 21:00:00          66         49.20\n",
      "2018-03-01 22:00:00         113         51.30\n",
      "2018-03-01 23:00:00          58         50.90\n",
      "...                         ...           ...\n",
      "2018-08-31 19:00:00         136        163.85\n",
      "2018-08-31 20:00:00         154        157.75\n",
      "2018-08-31 21:00:00         159        156.00\n",
      "2018-08-31 22:00:00         223        155.65\n",
      "2018-08-31 23:00:00         205        160.95\n",
      "\n",
      "[4397 rows x 2 columns]\n"
     ]
    }
   ],
   "source": [
    "taxi['rolling_mean'] = taxi.rolling(20).mean()\n",
    "taxi = taxi.dropna()\n",
    "\n",
    "print(taxi)"
   ]
  },
  {
   "cell_type": "code",
   "execution_count": 7,
   "metadata": {
    "scrolled": false
   },
   "outputs": [
    {
     "data": {
      "text/plain": [
       "<matplotlib.axes._subplots.AxesSubplot at 0x7f5a7c763850>"
      ]
     },
     "execution_count": 7,
     "metadata": {},
     "output_type": "execute_result"
    },
    {
     "data": {
      "image/png": "[encoded data removed]",
      "text/plain": [
       "<Figure size 720x504 with 1 Axes>"
      ]
     },
     "metadata": {
      "needs_background": "light"
     },
     "output_type": "display_data"
    }
   ],
   "source": [
    "taxi.plot(figsize = (10, 7))"
   ]
  },
  {
   "cell_type": "markdown",
   "metadata": {},
   "source": [
    "We plotted the rolling mean per day for our data. The graph shows that there is a increase in orders from March to August, 2018."
   ]
  },
  {
   "cell_type": "markdown",
   "metadata": {},
   "source": [
    "### Trends and Seasonality"
   ]
  },
  {
   "cell_type": "code",
   "execution_count": 8,
   "metadata": {},
   "outputs": [
    {
     "data": {
      "image/png": "[encoded data removed]",
      "text/plain": [
       "<Figure size 720x1008 with 3 Axes>"
      ]
     },
     "metadata": {
      "needs_background": "light"
     },
     "output_type": "display_data"
    }
   ],
   "source": [
    "decomposed = seasonal_decompose(taxi)\n",
    "\n",
    "plt.figure(figsize=(10, 14))\n",
    "plt.subplot(311)\n",
    "\n",
    "# axes ax equal to plt.gca() (gca = get current axis)\n",
    "decomposed.trend.plot(ax=plt.gca())\n",
    "plt.title('Trend')\n",
    "plt.subplot(312)\n",
    "decomposed.seasonal.plot(ax=plt.gca())\n",
    "plt.title('Seasonality')\n",
    "plt.subplot(313)\n",
    "decomposed.resid.plot(ax=plt.gca())\n",
    "plt.title('Residuals')\n",
    "plt.tight_layout()"
   ]
  },
  {
   "cell_type": "raw",
   "metadata": {},
   "source": [
    "We looked at seasonality and trends for our data. The data shows an upward trend. Seasonality shows a pattern that repeats from one season to the next. The peaks in seasonality will match peaks in the original data. "
   ]
  },
  {
   "cell_type": "markdown",
   "metadata": {},
   "source": [
    "### Looking at Seasonality for One Week and One Day"
   ]
  },
  {
   "cell_type": "code",
   "execution_count": 9,
   "metadata": {},
   "outputs": [
    {
     "data": {
      "image/png": "[encoded data removed]",
      "text/plain": [
       "<Figure size 576x432 with 1 Axes>"
      ]
     },
     "metadata": {
      "needs_background": "light"
     },
     "output_type": "display_data"
    },
    {
     "data": {
      "image/png": "[encoded data removed]",
      "text/plain": [
       "<Figure size 576x432 with 1 Axes>"
      ]
     },
     "metadata": {
      "needs_background": "light"
     },
     "output_type": "display_data"
    }
   ],
   "source": [
    "#taxi orders from April 1st-8th, 2018\n",
    "decomposed.seasonal['2018-04-01':'2018-04-08'].plot(figsize=(8, 6))\n",
    "plt.title('Seasonal plot for April 1st - 8th');\n",
    "\n",
    "#taxi orders on April 1st\n",
    "decomposed.seasonal['2018-04-01'].plot(figsize=(8, 6))\n",
    "plt.title('Seasonal plot for April 1st');"
   ]
  },
  {
   "cell_type": "markdown",
   "metadata": {},
   "source": [
    "We looked at seasonality for the week of April 1st-8th, 2018. Taxi orders have the same pattern every day. There is a peak in taxi orders around 9am and 5pm, when travel time is busiest. 6am is when there are the least amount of taxi orders."
   ]
  },
  {
   "cell_type": "markdown",
   "metadata": {},
   "source": [
    "<div class=\"alert alert-warning\">\n",
    "<b>Reviewer's comment</b>\n",
    "\t  \n",
    "As we're doing hourly predictions, it would be probably more useful to look at the hourly data in the seasonal decomposition\n",
    "\t  \n",
    "</div>"
   ]
  },
  {
   "cell_type": "markdown",
   "metadata": {},
   "source": [
    "**Conclusion**\n",
    "\n",
    "We looked at the rolling mean, trends, and seasonality for our data. Our rolling mean and trend graphs show the number of taxi orders increased from March to August, 2018. The seasonality graph shows a pattern that fluctuates from one season to the next. We looked at seasonality for one week and one day in April. The busiest time for taxi orders is 9am and 5pm. Now that we have analyzed the data it is ready for training."
   ]
  },
  {
   "cell_type": "markdown",
   "metadata": {},
   "source": [
    "<div class=\"alert alert-success\">\n",
    "<b>Reviewer's comment</b>\n",
    "\t  \n",
    "Nice EDA! You plotted the data, did a seasonal decomposition and noted some patterns\n",
    "\t  \n",
    "</div>"
   ]
  },
  {
   "cell_type": "markdown",
   "metadata": {},
   "source": [
    "## Training"
   ]
  },
  {
   "cell_type": "code",
   "execution_count": 10,
   "metadata": {},
   "outputs": [
    {
     "data": {
      "text/html": [
       "<div>\n",
       "<style scoped>\n",
       "    .dataframe tbody tr th:only-of-type {\n",
       "        vertical-align: middle;\n",
       "    }\n",
       "\n",
       "    .dataframe tbody tr th {\n",
       "        vertical-align: top;\n",
       "    }\n",
       "\n",
       "    .dataframe thead th {\n",
       "        text-align: right;\n",
       "    }\n",
       "</style>\n",
       "<table border=\"1\" class=\"dataframe\">\n",
       "  <thead>\n",
       "    <tr style=\"text-align: right;\">\n",
       "      <th></th>\n",
       "      <th>num_orders</th>\n",
       "      <th>rolling_mean</th>\n",
       "      <th>month</th>\n",
       "      <th>day</th>\n",
       "      <th>dayofweek</th>\n",
       "      <th>hour</th>\n",
       "      <th>lag_1</th>\n",
       "      <th>lag_2</th>\n",
       "      <th>lag_3</th>\n",
       "      <th>lag_4</th>\n",
       "      <th>lag_5</th>\n",
       "      <th>lag_6</th>\n",
       "    </tr>\n",
       "    <tr>\n",
       "      <th>datetime</th>\n",
       "      <th></th>\n",
       "      <th></th>\n",
       "      <th></th>\n",
       "      <th></th>\n",
       "      <th></th>\n",
       "      <th></th>\n",
       "      <th></th>\n",
       "      <th></th>\n",
       "      <th></th>\n",
       "      <th></th>\n",
       "      <th></th>\n",
       "      <th></th>\n",
       "    </tr>\n",
       "  </thead>\n",
       "  <tbody>\n",
       "    <tr>\n",
       "      <td>2018-07-09 11:00:00</td>\n",
       "      <td>73</td>\n",
       "      <td>91.9</td>\n",
       "      <td>7</td>\n",
       "      <td>9</td>\n",
       "      <td>0</td>\n",
       "      <td>11</td>\n",
       "      <td>122.0</td>\n",
       "      <td>95.0</td>\n",
       "      <td>92.0</td>\n",
       "      <td>38.0</td>\n",
       "      <td>13.0</td>\n",
       "      <td>61.0</td>\n",
       "    </tr>\n",
       "    <tr>\n",
       "      <td>2018-08-14 21:00:00</td>\n",
       "      <td>119</td>\n",
       "      <td>112.2</td>\n",
       "      <td>8</td>\n",
       "      <td>14</td>\n",
       "      <td>1</td>\n",
       "      <td>21</td>\n",
       "      <td>84.0</td>\n",
       "      <td>109.0</td>\n",
       "      <td>98.0</td>\n",
       "      <td>152.0</td>\n",
       "      <td>111.0</td>\n",
       "      <td>116.0</td>\n",
       "    </tr>\n",
       "    <tr>\n",
       "      <td>2018-06-14 03:00:00</td>\n",
       "      <td>115</td>\n",
       "      <td>94.1</td>\n",
       "      <td>6</td>\n",
       "      <td>14</td>\n",
       "      <td>3</td>\n",
       "      <td>3</td>\n",
       "      <td>148.0</td>\n",
       "      <td>58.0</td>\n",
       "      <td>162.0</td>\n",
       "      <td>69.0</td>\n",
       "      <td>70.0</td>\n",
       "      <td>104.0</td>\n",
       "    </tr>\n",
       "    <tr>\n",
       "      <td>2018-05-18 13:00:00</td>\n",
       "      <td>85</td>\n",
       "      <td>63.3</td>\n",
       "      <td>5</td>\n",
       "      <td>18</td>\n",
       "      <td>4</td>\n",
       "      <td>13</td>\n",
       "      <td>49.0</td>\n",
       "      <td>102.0</td>\n",
       "      <td>102.0</td>\n",
       "      <td>80.0</td>\n",
       "      <td>84.0</td>\n",
       "      <td>18.0</td>\n",
       "    </tr>\n",
       "    <tr>\n",
       "      <td>2018-05-15 17:00:00</td>\n",
       "      <td>53</td>\n",
       "      <td>68.3</td>\n",
       "      <td>5</td>\n",
       "      <td>15</td>\n",
       "      <td>1</td>\n",
       "      <td>17</td>\n",
       "      <td>130.0</td>\n",
       "      <td>66.0</td>\n",
       "      <td>68.0</td>\n",
       "      <td>82.0</td>\n",
       "      <td>41.0</td>\n",
       "      <td>71.0</td>\n",
       "    </tr>\n",
       "  </tbody>\n",
       "</table>\n",
       "</div>"
      ],
      "text/plain": [
       "                     num_orders  rolling_mean  month  day  dayofweek  hour  \\\n",
       "datetime                                                                     \n",
       "2018-07-09 11:00:00          73          91.9      7    9          0    11   \n",
       "2018-08-14 21:00:00         119         112.2      8   14          1    21   \n",
       "2018-06-14 03:00:00         115          94.1      6   14          3     3   \n",
       "2018-05-18 13:00:00          85          63.3      5   18          4    13   \n",
       "2018-05-15 17:00:00          53          68.3      5   15          1    17   \n",
       "\n",
       "                     lag_1  lag_2  lag_3  lag_4  lag_5  lag_6  \n",
       "datetime                                                       \n",
       "2018-07-09 11:00:00  122.0   95.0   92.0   38.0   13.0   61.0  \n",
       "2018-08-14 21:00:00   84.0  109.0   98.0  152.0  111.0  116.0  \n",
       "2018-06-14 03:00:00  148.0   58.0  162.0   69.0   70.0  104.0  \n",
       "2018-05-18 13:00:00   49.0  102.0  102.0   80.0   84.0   18.0  \n",
       "2018-05-15 17:00:00  130.0   66.0   68.0   82.0   41.0   71.0  "
      ]
     },
     "execution_count": 10,
     "metadata": {},
     "output_type": "execute_result"
    }
   ],
   "source": [
    "# function to make features\n",
    "def make_features(taxi, max_lag, rolling_mean_size):\n",
    "    taxi['month'] = taxi.index.month\n",
    "    taxi['day'] = taxi.index.day\n",
    "    taxi['dayofweek'] = taxi.index.dayofweek\n",
    "    taxi['hour'] = taxi.index.hour\n",
    "    \n",
    "    for lag in range(1, max_lag + 1):\n",
    "        taxi['lag_{}'.format(lag)] = taxi['num_orders'].shift(lag)\n",
    "    \n",
    "    taxi['rolling_mean'] = taxi['num_orders'].shift().rolling(rolling_mean_size).mean()# < write code here >\n",
    "\n",
    "make_features(taxi, 6, 10)\n",
    "\n",
    "taxi.sample(5)"
   ]
  },
  {
   "cell_type": "markdown",
   "metadata": {},
   "source": [
    "<div class=\"alert alert-success\">\n",
    "<b>Reviewer's comment</b>\n",
    "\t  \n",
    "Feature engineering looks good!\n",
    "\t  \n",
    "</div>"
   ]
  },
  {
   "cell_type": "code",
   "execution_count": 11,
   "metadata": {},
   "outputs": [
    {
     "data": {
      "text/plain": [
       "(3947, 12)"
      ]
     },
     "metadata": {},
     "output_type": "display_data"
    },
    {
     "data": {
      "text/plain": [
       "(440, 12)"
      ]
     },
     "metadata": {},
     "output_type": "display_data"
    }
   ],
   "source": [
    "# split data into training and test set\n",
    "train, test = train_test_split(taxi, shuffle=False, test_size=0.1, random_state = 123)\n",
    "train = train.dropna()\n",
    "\n",
    "display(train.shape)\n",
    "display(test.shape)"
   ]
  },
  {
   "cell_type": "markdown",
   "metadata": {},
   "source": [
    "<div class=\"alert alert-success\">\n",
    "<b>Reviewer's comment</b>\n",
    "\t  \n",
    "The data was split into train and test without shuffling!\n",
    "    \n",
    "\t  \n",
    "</div>"
   ]
  },
  {
   "cell_type": "code",
   "execution_count": 12,
   "metadata": {},
   "outputs": [],
   "source": [
    "# declare variables for features and target\n",
    "\n",
    "features_train = train.drop(['num_orders'], axis = 1)\n",
    "target_train = train['num_orders']\n",
    "\n",
    "features_test = test.drop(['num_orders'], axis = 1)\n",
    "target_test = test['num_orders']\n"
   ]
  },
  {
   "cell_type": "code",
   "execution_count": 13,
   "metadata": {},
   "outputs": [
    {
     "name": "stdout",
     "output_type": "stream",
     "text": [
      "TimeSeriesSplit(max_train_size=None, n_splits=5)\n"
     ]
    }
   ],
   "source": [
    "# time series split\n",
    "tscv = TimeSeriesSplit(n_splits=5)\n",
    "print(tscv)"
   ]
  },
  {
   "cell_type": "code",
   "execution_count": 14,
   "metadata": {},
   "outputs": [
    {
     "name": "stdout",
     "output_type": "stream",
     "text": [
      "RMSE:, 58.88\n",
      "CPU times: user 3 ms, sys: 319 µs, total: 3.32 ms\n",
      "Wall time: 36.6 ms\n"
     ]
    }
   ],
   "source": [
    "%%time\n",
    "\n",
    "# baseline model with previous value as prediction\n",
    "pred_previous = test.shift(fill_value = train['num_orders'].iloc[-1])\n",
    "print('RMSE:, {:.2f}'.format(np.sqrt(mean_squared_error(pred_previous['num_orders'], test['num_orders']))))"
   ]
  },
  {
   "cell_type": "markdown",
   "metadata": {},
   "source": [
    "### Linear Regression"
   ]
  },
  {
   "cell_type": "code",
   "execution_count": 15,
   "metadata": {},
   "outputs": [
    {
     "name": "stdout",
     "output_type": "stream",
     "text": [
      "CPU times: user 2 ms, sys: 3.4 ms, total: 5.4 ms\n",
      "Wall time: 3.62 ms\n"
     ]
    },
    {
     "data": {
      "text/plain": [
       "LinearRegression(copy_X=True, fit_intercept=True, n_jobs=None, normalize=False)"
      ]
     },
     "execution_count": 15,
     "metadata": {},
     "output_type": "execute_result"
    }
   ],
   "source": [
    "%%time\n",
    "\n",
    "lr_model = LinearRegression()\n",
    "lr_model.fit(features_train, target_train)"
   ]
  },
  {
   "cell_type": "markdown",
   "metadata": {},
   "source": [
    "### Random Forest Regressor"
   ]
  },
  {
   "cell_type": "code",
   "execution_count": 16,
   "metadata": {},
   "outputs": [
    {
     "name": "stdout",
     "output_type": "stream",
     "text": [
      "The best hyperparameters are: {'max_depth': None, 'min_samples_leaf': 4, 'n_estimators': 100}\n",
      "CPU times: user 1min 11s, sys: 237 ms, total: 1min 12s\n",
      "Wall time: 1min 12s\n"
     ]
    }
   ],
   "source": [
    "%%time\n",
    "# hyperparameter optimization\n",
    "\n",
    "# define hyperparameters to tune\n",
    "grid = {\n",
    "    \"n_estimators\" : [10, 25, 50, 100],\n",
    "    \"max_depth\" : [None, 2, 4, 8],\n",
    "    \"min_samples_leaf\" : [2, 4, 6]\n",
    "}\n",
    "# define the model \n",
    "regressor = RandomForestRegressor(random_state = 123)\n",
    "# define the grid search\n",
    "grid_search_rf = GridSearchCV(estimator = regressor, param_grid = grid, scoring=\"neg_mean_squared_error\", cv=tscv)\n",
    "# execute search\n",
    "grid_search_rf.fit(features_train, target_train)\n",
    "# summarize result\n",
    "print('The best hyperparameters are: {}'.format(grid_search_rf.best_params_))"
   ]
  },
  {
   "cell_type": "code",
   "execution_count": 17,
   "metadata": {},
   "outputs": [
    {
     "name": "stdout",
     "output_type": "stream",
     "text": [
      "CPU times: user 1.86 s, sys: 36 µs, total: 1.86 s\n",
      "Wall time: 1.87 s\n"
     ]
    },
    {
     "data": {
      "text/plain": [
       "RandomForestRegressor(bootstrap=True, criterion='mse', max_depth=None,\n",
       "                      max_features='auto', max_leaf_nodes=None,\n",
       "                      min_impurity_decrease=0.0, min_impurity_split=None,\n",
       "                      min_samples_leaf=4, min_samples_split=2,\n",
       "                      min_weight_fraction_leaf=0.0, n_estimators=100,\n",
       "                      n_jobs=None, oob_score=False, random_state=None,\n",
       "                      verbose=0, warm_start=False)"
      ]
     },
     "execution_count": 17,
     "metadata": {},
     "output_type": "execute_result"
    }
   ],
   "source": [
    "%%time\n",
    "\n",
    "rf_model = RandomForestRegressor(**grid_search_rf.best_params_)\n",
    "rf_model.fit(features_train, target_train)"
   ]
  },
  {
   "cell_type": "markdown",
   "metadata": {},
   "source": [
    "### CatBoost Regressor"
   ]
  },
  {
   "cell_type": "code",
   "execution_count": 18,
   "metadata": {},
   "outputs": [
    {
     "name": "stdout",
     "output_type": "stream",
     "text": [
      "The best hyperparameters are: {'depth': 6, 'l2_leaf_reg': 1, 'learning_rate': 0.1}\n",
      "CPU times: user 4min 15s, sys: 30.1 s, total: 4min 45s\n",
      "Wall time: 6min 48s\n"
     ]
    }
   ],
   "source": [
    "%%time\n",
    "# hyperparameter optimization\n",
    "\n",
    "# define hyperparameters to tune\n",
    "cb_grid = {'learning_rate': [0.01, 0.1],\n",
    "        'depth': [2, 6, 10],\n",
    "        'l2_leaf_reg': [1, 3, 5]\n",
    "       }\n",
    "# define the model \n",
    "cb_regr = CatBoostRegressor(\n",
    "    iterations=100,\n",
    "    logging_level = 'Silent',\n",
    "    loss_function='RMSE',\n",
    "    early_stopping_rounds = 50,\n",
    "    random_state = 123)\n",
    "# define the grid search\n",
    "grid_search_cb = GridSearchCV(estimator = cb_regr, param_grid = cb_grid, scoring=\"neg_mean_squared_error\", cv=tscv)\n",
    "# execute search\n",
    "grid_search_cb.fit(features_train, target_train)\n",
    "# summarize result\n",
    "print('The best hyperparameters are: {}'.format(grid_search_cb.best_params_))"
   ]
  },
  {
   "cell_type": "code",
   "execution_count": 19,
   "metadata": {},
   "outputs": [
    {
     "name": "stdout",
     "output_type": "stream",
     "text": [
      "CPU times: user 30.9 s, sys: 4.2 s, total: 35.1 s\n",
      "Wall time: 37 s\n"
     ]
    },
    {
     "data": {
      "text/plain": [
       "<catboost.core.CatBoostRegressor at 0x7f59ce758690>"
      ]
     },
     "execution_count": 19,
     "metadata": {},
     "output_type": "execute_result"
    }
   ],
   "source": [
    "%%time\n",
    "\n",
    "cb_model = CatBoostRegressor(**grid_search_cb.best_params_)\n",
    "cb_model.fit(features_train, target_train, eval_set=(features_test,target_test), verbose = False)"
   ]
  },
  {
   "cell_type": "markdown",
   "metadata": {},
   "source": [
    "### XGBoost Regressor"
   ]
  },
  {
   "cell_type": "code",
   "execution_count": 20,
   "metadata": {
    "scrolled": true
   },
   "outputs": [
    {
     "name": "stdout",
     "output_type": "stream",
     "text": [
      "[23:39:35] WARNING: /workspace/src/objective/regression_obj.cu:152: reg:linear is now deprecated in favor of reg:squarederror.\n",
      "[23:39:35] WARNING: /workspace/src/objective/regression_obj.cu:152: reg:linear is now deprecated in favor of reg:squarederror.\n",
      "[23:39:35] WARNING: /workspace/src/objective/regression_obj.cu:152: reg:linear is now deprecated in favor of reg:squarederror.\n",
      "[23:39:35] WARNING: /workspace/src/objective/regression_obj.cu:152: reg:linear is now deprecated in favor of reg:squarederror.\n",
      "[23:39:35] WARNING: /workspace/src/objective/regression_obj.cu:152: reg:linear is now deprecated in favor of reg:squarederror.\n",
      "[23:39:36] WARNING: /workspace/src/objective/regression_obj.cu:152: reg:linear is now deprecated in favor of reg:squarederror.\n",
      "[23:39:36] WARNING: /workspace/src/objective/regression_obj.cu:152: reg:linear is now deprecated in favor of reg:squarederror.\n",
      "[23:39:36] WARNING: /workspace/src/objective/regression_obj.cu:152: reg:linear is now deprecated in favor of reg:squarederror.\n",
      "[23:39:36] WARNING: /workspace/src/objective/regression_obj.cu:152: reg:linear is now deprecated in favor of reg:squarederror.\n",
      "[23:39:36] WARNING: /workspace/src/objective/regression_obj.cu:152: reg:linear is now deprecated in favor of reg:squarederror.\n",
      "[23:39:36] WARNING: /workspace/src/objective/regression_obj.cu:152: reg:linear is now deprecated in favor of reg:squarederror.\n",
      "[23:39:36] WARNING: /workspace/src/objective/regression_obj.cu:152: reg:linear is now deprecated in favor of reg:squarederror.\n",
      "[23:39:36] WARNING: /workspace/src/objective/regression_obj.cu:152: reg:linear is now deprecated in favor of reg:squarederror.\n",
      "[23:39:36] WARNING: /workspace/src/objective/regression_obj.cu:152: reg:linear is now deprecated in favor of reg:squarederror.\n",
      "[23:39:36] WARNING: /workspace/src/objective/regression_obj.cu:152: reg:linear is now deprecated in favor of reg:squarederror.\n",
      "[23:39:36] WARNING: /workspace/src/objective/regression_obj.cu:152: reg:linear is now deprecated in favor of reg:squarederror.\n",
      "[23:39:37] WARNING: /workspace/src/objective/regression_obj.cu:152: reg:linear is now deprecated in favor of reg:squarederror.\n",
      "[23:39:37] WARNING: /workspace/src/objective/regression_obj.cu:152: reg:linear is now deprecated in favor of reg:squarederror.\n",
      "[23:39:37] WARNING: /workspace/src/objective/regression_obj.cu:152: reg:linear is now deprecated in favor of reg:squarederror.\n",
      "[23:39:37] WARNING: /workspace/src/objective/regression_obj.cu:152: reg:linear is now deprecated in favor of reg:squarederror.\n",
      "[23:39:38] WARNING: /workspace/src/objective/regression_obj.cu:152: reg:linear is now deprecated in favor of reg:squarederror.\n",
      "[23:39:38] WARNING: /workspace/src/objective/regression_obj.cu:152: reg:linear is now deprecated in favor of reg:squarederror.\n",
      "[23:39:38] WARNING: /workspace/src/objective/regression_obj.cu:152: reg:linear is now deprecated in favor of reg:squarederror.\n",
      "[23:39:38] WARNING: /workspace/src/objective/regression_obj.cu:152: reg:linear is now deprecated in favor of reg:squarederror.\n",
      "[23:39:38] WARNING: /workspace/src/objective/regression_obj.cu:152: reg:linear is now deprecated in favor of reg:squarederror.\n",
      "[23:39:38] WARNING: /workspace/src/objective/regression_obj.cu:152: reg:linear is now deprecated in favor of reg:squarederror.\n",
      "[23:39:38] WARNING: /workspace/src/objective/regression_obj.cu:152: reg:linear is now deprecated in favor of reg:squarederror.\n",
      "[23:39:38] WARNING: /workspace/src/objective/regression_obj.cu:152: reg:linear is now deprecated in favor of reg:squarederror.\n",
      "[23:39:38] WARNING: /workspace/src/objective/regression_obj.cu:152: reg:linear is now deprecated in favor of reg:squarederror.\n",
      "[23:39:39] WARNING: /workspace/src/objective/regression_obj.cu:152: reg:linear is now deprecated in favor of reg:squarederror.\n",
      "[23:39:39] WARNING: /workspace/src/objective/regression_obj.cu:152: reg:linear is now deprecated in favor of reg:squarederror.\n",
      "[23:39:39] WARNING: /workspace/src/objective/regression_obj.cu:152: reg:linear is now deprecated in favor of reg:squarederror.\n",
      "[23:39:39] WARNING: /workspace/src/objective/regression_obj.cu:152: reg:linear is now deprecated in favor of reg:squarederror.\n",
      "[23:39:39] WARNING: /workspace/src/objective/regression_obj.cu:152: reg:linear is now deprecated in favor of reg:squarederror.\n",
      "[23:39:39] WARNING: /workspace/src/objective/regression_obj.cu:152: reg:linear is now deprecated in favor of reg:squarederror.\n",
      "[23:39:40] WARNING: /workspace/src/objective/regression_obj.cu:152: reg:linear is now deprecated in favor of reg:squarederror.\n",
      "[23:39:40] WARNING: /workspace/src/objective/regression_obj.cu:152: reg:linear is now deprecated in favor of reg:squarederror.\n",
      "[23:39:40] WARNING: /workspace/src/objective/regression_obj.cu:152: reg:linear is now deprecated in favor of reg:squarederror.\n",
      "[23:39:41] WARNING: /workspace/src/objective/regression_obj.cu:152: reg:linear is now deprecated in favor of reg:squarederror.\n",
      "[23:39:41] WARNING: /workspace/src/objective/regression_obj.cu:152: reg:linear is now deprecated in favor of reg:squarederror.\n",
      "[23:39:42] WARNING: /workspace/src/objective/regression_obj.cu:152: reg:linear is now deprecated in favor of reg:squarederror.\n",
      "[23:39:42] WARNING: /workspace/src/objective/regression_obj.cu:152: reg:linear is now deprecated in favor of reg:squarederror.\n",
      "[23:39:42] WARNING: /workspace/src/objective/regression_obj.cu:152: reg:linear is now deprecated in favor of reg:squarederror.\n",
      "[23:39:42] WARNING: /workspace/src/objective/regression_obj.cu:152: reg:linear is now deprecated in favor of reg:squarederror.\n",
      "[23:39:42] WARNING: /workspace/src/objective/regression_obj.cu:152: reg:linear is now deprecated in favor of reg:squarederror.\n",
      "[23:39:42] WARNING: /workspace/src/objective/regression_obj.cu:152: reg:linear is now deprecated in favor of reg:squarederror.\n",
      "[23:39:42] WARNING: /workspace/src/objective/regression_obj.cu:152: reg:linear is now deprecated in favor of reg:squarederror.\n",
      "[23:39:42] WARNING: /workspace/src/objective/regression_obj.cu:152: reg:linear is now deprecated in favor of reg:squarederror.\n",
      "[23:39:43] WARNING: /workspace/src/objective/regression_obj.cu:152: reg:linear is now deprecated in favor of reg:squarederror.\n",
      "[23:39:43] WARNING: /workspace/src/objective/regression_obj.cu:152: reg:linear is now deprecated in favor of reg:squarederror.\n",
      "[23:39:43] WARNING: /workspace/src/objective/regression_obj.cu:152: reg:linear is now deprecated in favor of reg:squarederror.\n",
      "[23:39:43] WARNING: /workspace/src/objective/regression_obj.cu:152: reg:linear is now deprecated in favor of reg:squarederror.\n",
      "[23:39:43] WARNING: /workspace/src/objective/regression_obj.cu:152: reg:linear is now deprecated in favor of reg:squarederror.\n",
      "[23:39:44] WARNING: /workspace/src/objective/regression_obj.cu:152: reg:linear is now deprecated in favor of reg:squarederror.\n",
      "[23:39:44] WARNING: /workspace/src/objective/regression_obj.cu:152: reg:linear is now deprecated in favor of reg:squarederror.\n",
      "[23:39:45] WARNING: /workspace/src/objective/regression_obj.cu:152: reg:linear is now deprecated in favor of reg:squarederror.\n",
      "[23:39:45] WARNING: /workspace/src/objective/regression_obj.cu:152: reg:linear is now deprecated in favor of reg:squarederror.\n",
      "[23:39:45] WARNING: /workspace/src/objective/regression_obj.cu:152: reg:linear is now deprecated in favor of reg:squarederror.\n",
      "[23:39:46] WARNING: /workspace/src/objective/regression_obj.cu:152: reg:linear is now deprecated in favor of reg:squarederror.\n",
      "[23:39:47] WARNING: /workspace/src/objective/regression_obj.cu:152: reg:linear is now deprecated in favor of reg:squarederror.\n",
      "[23:39:48] WARNING: /workspace/src/objective/regression_obj.cu:152: reg:linear is now deprecated in favor of reg:squarederror.\n",
      "[23:39:48] WARNING: /workspace/src/objective/regression_obj.cu:152: reg:linear is now deprecated in favor of reg:squarederror.\n",
      "[23:39:48] WARNING: /workspace/src/objective/regression_obj.cu:152: reg:linear is now deprecated in favor of reg:squarederror.\n",
      "[23:39:48] WARNING: /workspace/src/objective/regression_obj.cu:152: reg:linear is now deprecated in favor of reg:squarederror.\n",
      "[23:39:48] WARNING: /workspace/src/objective/regression_obj.cu:152: reg:linear is now deprecated in favor of reg:squarederror.\n",
      "[23:39:49] WARNING: /workspace/src/objective/regression_obj.cu:152: reg:linear is now deprecated in favor of reg:squarederror.\n",
      "[23:39:49] WARNING: /workspace/src/objective/regression_obj.cu:152: reg:linear is now deprecated in favor of reg:squarederror.\n",
      "[23:39:49] WARNING: /workspace/src/objective/regression_obj.cu:152: reg:linear is now deprecated in favor of reg:squarederror.\n",
      "[23:39:49] WARNING: /workspace/src/objective/regression_obj.cu:152: reg:linear is now deprecated in favor of reg:squarederror.\n",
      "[23:39:50] WARNING: /workspace/src/objective/regression_obj.cu:152: reg:linear is now deprecated in favor of reg:squarederror.\n",
      "[23:39:50] WARNING: /workspace/src/objective/regression_obj.cu:152: reg:linear is now deprecated in favor of reg:squarederror.\n",
      "[23:39:50] WARNING: /workspace/src/objective/regression_obj.cu:152: reg:linear is now deprecated in favor of reg:squarederror.\n",
      "[23:39:51] WARNING: /workspace/src/objective/regression_obj.cu:152: reg:linear is now deprecated in favor of reg:squarederror.\n",
      "[23:39:51] WARNING: /workspace/src/objective/regression_obj.cu:152: reg:linear is now deprecated in favor of reg:squarederror.\n",
      "[23:39:52] WARNING: /workspace/src/objective/regression_obj.cu:152: reg:linear is now deprecated in favor of reg:squarederror.\n",
      "[23:39:53] WARNING: /workspace/src/objective/regression_obj.cu:152: reg:linear is now deprecated in favor of reg:squarederror.\n",
      "[23:39:53] WARNING: /workspace/src/objective/regression_obj.cu:152: reg:linear is now deprecated in favor of reg:squarederror.\n",
      "[23:39:54] WARNING: /workspace/src/objective/regression_obj.cu:152: reg:linear is now deprecated in favor of reg:squarederror.\n",
      "[23:39:55] WARNING: /workspace/src/objective/regression_obj.cu:152: reg:linear is now deprecated in favor of reg:squarederror.\n",
      "[23:39:57] WARNING: /workspace/src/objective/regression_obj.cu:152: reg:linear is now deprecated in favor of reg:squarederror.\n",
      "[23:39:58] WARNING: /workspace/src/objective/regression_obj.cu:152: reg:linear is now deprecated in favor of reg:squarederror.\n",
      "[23:39:58] WARNING: /workspace/src/objective/regression_obj.cu:152: reg:linear is now deprecated in favor of reg:squarederror.\n",
      "[23:39:59] WARNING: /workspace/src/objective/regression_obj.cu:152: reg:linear is now deprecated in favor of reg:squarederror.\n",
      "[23:39:59] WARNING: /workspace/src/objective/regression_obj.cu:152: reg:linear is now deprecated in favor of reg:squarederror.\n",
      "[23:39:59] WARNING: /workspace/src/objective/regression_obj.cu:152: reg:linear is now deprecated in favor of reg:squarederror.\n",
      "[23:39:59] WARNING: /workspace/src/objective/regression_obj.cu:152: reg:linear is now deprecated in favor of reg:squarederror.\n",
      "[23:39:59] WARNING: /workspace/src/objective/regression_obj.cu:152: reg:linear is now deprecated in favor of reg:squarederror.\n",
      "[23:39:59] WARNING: /workspace/src/objective/regression_obj.cu:152: reg:linear is now deprecated in favor of reg:squarederror.\n",
      "[23:39:59] WARNING: /workspace/src/objective/regression_obj.cu:152: reg:linear is now deprecated in favor of reg:squarederror.\n",
      "[23:39:59] WARNING: /workspace/src/objective/regression_obj.cu:152: reg:linear is now deprecated in favor of reg:squarederror.\n",
      "[23:39:59] WARNING: /workspace/src/objective/regression_obj.cu:152: reg:linear is now deprecated in favor of reg:squarederror.\n",
      "[23:39:59] WARNING: /workspace/src/objective/regression_obj.cu:152: reg:linear is now deprecated in favor of reg:squarederror.\n",
      "[23:39:59] WARNING: /workspace/src/objective/regression_obj.cu:152: reg:linear is now deprecated in favor of reg:squarederror.\n",
      "[23:39:59] WARNING: /workspace/src/objective/regression_obj.cu:152: reg:linear is now deprecated in favor of reg:squarederror.\n",
      "[23:39:59] WARNING: /workspace/src/objective/regression_obj.cu:152: reg:linear is now deprecated in favor of reg:squarederror.\n",
      "[23:40:00] WARNING: /workspace/src/objective/regression_obj.cu:152: reg:linear is now deprecated in favor of reg:squarederror.\n",
      "[23:40:00] WARNING: /workspace/src/objective/regression_obj.cu:152: reg:linear is now deprecated in favor of reg:squarederror.\n",
      "[23:40:00] WARNING: /workspace/src/objective/regression_obj.cu:152: reg:linear is now deprecated in favor of reg:squarederror.\n",
      "[23:40:00] WARNING: /workspace/src/objective/regression_obj.cu:152: reg:linear is now deprecated in favor of reg:squarederror.\n",
      "[23:40:00] WARNING: /workspace/src/objective/regression_obj.cu:152: reg:linear is now deprecated in favor of reg:squarederror.\n",
      "[23:40:01] WARNING: /workspace/src/objective/regression_obj.cu:152: reg:linear is now deprecated in favor of reg:squarederror.\n",
      "[23:40:01] WARNING: /workspace/src/objective/regression_obj.cu:152: reg:linear is now deprecated in favor of reg:squarederror.\n",
      "[23:40:01] WARNING: /workspace/src/objective/regression_obj.cu:152: reg:linear is now deprecated in favor of reg:squarederror.\n",
      "[23:40:01] WARNING: /workspace/src/objective/regression_obj.cu:152: reg:linear is now deprecated in favor of reg:squarederror.\n",
      "[23:40:01] WARNING: /workspace/src/objective/regression_obj.cu:152: reg:linear is now deprecated in favor of reg:squarederror.\n",
      "[23:40:01] WARNING: /workspace/src/objective/regression_obj.cu:152: reg:linear is now deprecated in favor of reg:squarederror.\n",
      "[23:40:01] WARNING: /workspace/src/objective/regression_obj.cu:152: reg:linear is now deprecated in favor of reg:squarederror.\n",
      "[23:40:01] WARNING: /workspace/src/objective/regression_obj.cu:152: reg:linear is now deprecated in favor of reg:squarederror.\n",
      "[23:40:01] WARNING: /workspace/src/objective/regression_obj.cu:152: reg:linear is now deprecated in favor of reg:squarederror.\n",
      "[23:40:01] WARNING: /workspace/src/objective/regression_obj.cu:152: reg:linear is now deprecated in favor of reg:squarederror.\n",
      "[23:40:02] WARNING: /workspace/src/objective/regression_obj.cu:152: reg:linear is now deprecated in favor of reg:squarederror.\n",
      "[23:40:02] WARNING: /workspace/src/objective/regression_obj.cu:152: reg:linear is now deprecated in favor of reg:squarederror.\n",
      "[23:40:02] WARNING: /workspace/src/objective/regression_obj.cu:152: reg:linear is now deprecated in favor of reg:squarederror.\n",
      "[23:40:02] WARNING: /workspace/src/objective/regression_obj.cu:152: reg:linear is now deprecated in favor of reg:squarederror.\n",
      "[23:40:02] WARNING: /workspace/src/objective/regression_obj.cu:152: reg:linear is now deprecated in favor of reg:squarederror.\n",
      "[23:40:03] WARNING: /workspace/src/objective/regression_obj.cu:152: reg:linear is now deprecated in favor of reg:squarederror.\n",
      "[23:40:03] WARNING: /workspace/src/objective/regression_obj.cu:152: reg:linear is now deprecated in favor of reg:squarederror.\n",
      "[23:40:03] WARNING: /workspace/src/objective/regression_obj.cu:152: reg:linear is now deprecated in favor of reg:squarederror.\n",
      "[23:40:04] WARNING: /workspace/src/objective/regression_obj.cu:152: reg:linear is now deprecated in favor of reg:squarederror.\n",
      "[23:40:04] WARNING: /workspace/src/objective/regression_obj.cu:152: reg:linear is now deprecated in favor of reg:squarederror.\n",
      "[23:40:05] WARNING: /workspace/src/objective/regression_obj.cu:152: reg:linear is now deprecated in favor of reg:squarederror.\n",
      "[23:40:05] WARNING: /workspace/src/objective/regression_obj.cu:152: reg:linear is now deprecated in favor of reg:squarederror.\n",
      "[23:40:05] WARNING: /workspace/src/objective/regression_obj.cu:152: reg:linear is now deprecated in favor of reg:squarederror.\n",
      "[23:40:05] WARNING: /workspace/src/objective/regression_obj.cu:152: reg:linear is now deprecated in favor of reg:squarederror.\n",
      "[23:40:05] WARNING: /workspace/src/objective/regression_obj.cu:152: reg:linear is now deprecated in favor of reg:squarederror.\n",
      "[23:40:05] WARNING: /workspace/src/objective/regression_obj.cu:152: reg:linear is now deprecated in favor of reg:squarederror.\n",
      "[23:40:05] WARNING: /workspace/src/objective/regression_obj.cu:152: reg:linear is now deprecated in favor of reg:squarederror.\n",
      "[23:40:05] WARNING: /workspace/src/objective/regression_obj.cu:152: reg:linear is now deprecated in favor of reg:squarederror.\n",
      "[23:40:06] WARNING: /workspace/src/objective/regression_obj.cu:152: reg:linear is now deprecated in favor of reg:squarederror.\n",
      "[23:40:06] WARNING: /workspace/src/objective/regression_obj.cu:152: reg:linear is now deprecated in favor of reg:squarederror.\n",
      "[23:40:06] WARNING: /workspace/src/objective/regression_obj.cu:152: reg:linear is now deprecated in favor of reg:squarederror.\n",
      "[23:40:06] WARNING: /workspace/src/objective/regression_obj.cu:152: reg:linear is now deprecated in favor of reg:squarederror.\n",
      "[23:40:06] WARNING: /workspace/src/objective/regression_obj.cu:152: reg:linear is now deprecated in favor of reg:squarederror.\n",
      "[23:40:07] WARNING: /workspace/src/objective/regression_obj.cu:152: reg:linear is now deprecated in favor of reg:squarederror.\n",
      "[23:40:07] WARNING: /workspace/src/objective/regression_obj.cu:152: reg:linear is now deprecated in favor of reg:squarederror.\n",
      "[23:40:08] WARNING: /workspace/src/objective/regression_obj.cu:152: reg:linear is now deprecated in favor of reg:squarederror.\n",
      "[23:40:08] WARNING: /workspace/src/objective/regression_obj.cu:152: reg:linear is now deprecated in favor of reg:squarederror.\n",
      "[23:40:08] WARNING: /workspace/src/objective/regression_obj.cu:152: reg:linear is now deprecated in favor of reg:squarederror.\n",
      "[23:40:09] WARNING: /workspace/src/objective/regression_obj.cu:152: reg:linear is now deprecated in favor of reg:squarederror.\n",
      "[23:40:10] WARNING: /workspace/src/objective/regression_obj.cu:152: reg:linear is now deprecated in favor of reg:squarederror.\n",
      "[23:40:11] WARNING: /workspace/src/objective/regression_obj.cu:152: reg:linear is now deprecated in favor of reg:squarederror.\n",
      "[23:40:11] WARNING: /workspace/src/objective/regression_obj.cu:152: reg:linear is now deprecated in favor of reg:squarederror.\n",
      "[23:40:11] WARNING: /workspace/src/objective/regression_obj.cu:152: reg:linear is now deprecated in favor of reg:squarederror.\n",
      "[23:40:11] WARNING: /workspace/src/objective/regression_obj.cu:152: reg:linear is now deprecated in favor of reg:squarederror.\n",
      "[23:40:11] WARNING: /workspace/src/objective/regression_obj.cu:152: reg:linear is now deprecated in favor of reg:squarederror.\n",
      "[23:40:12] WARNING: /workspace/src/objective/regression_obj.cu:152: reg:linear is now deprecated in favor of reg:squarederror.\n",
      "[23:40:12] WARNING: /workspace/src/objective/regression_obj.cu:152: reg:linear is now deprecated in favor of reg:squarederror.\n",
      "[23:40:12] WARNING: /workspace/src/objective/regression_obj.cu:152: reg:linear is now deprecated in favor of reg:squarederror.\n",
      "[23:40:12] WARNING: /workspace/src/objective/regression_obj.cu:152: reg:linear is now deprecated in favor of reg:squarederror.\n",
      "[23:40:13] WARNING: /workspace/src/objective/regression_obj.cu:152: reg:linear is now deprecated in favor of reg:squarederror.\n",
      "[23:40:13] WARNING: /workspace/src/objective/regression_obj.cu:152: reg:linear is now deprecated in favor of reg:squarederror.\n",
      "[23:40:13] WARNING: /workspace/src/objective/regression_obj.cu:152: reg:linear is now deprecated in favor of reg:squarederror.\n",
      "[23:40:14] WARNING: /workspace/src/objective/regression_obj.cu:152: reg:linear is now deprecated in favor of reg:squarederror.\n",
      "[23:40:14] WARNING: /workspace/src/objective/regression_obj.cu:152: reg:linear is now deprecated in favor of reg:squarederror.\n",
      "[23:40:15] WARNING: /workspace/src/objective/regression_obj.cu:152: reg:linear is now deprecated in favor of reg:squarederror.\n",
      "[23:40:16] WARNING: /workspace/src/objective/regression_obj.cu:152: reg:linear is now deprecated in favor of reg:squarederror.\n",
      "[23:40:17] WARNING: /workspace/src/objective/regression_obj.cu:152: reg:linear is now deprecated in favor of reg:squarederror.\n",
      "[23:40:18] WARNING: /workspace/src/objective/regression_obj.cu:152: reg:linear is now deprecated in favor of reg:squarederror.\n",
      "[23:40:19] WARNING: /workspace/src/objective/regression_obj.cu:152: reg:linear is now deprecated in favor of reg:squarederror.\n",
      "[23:40:21] WARNING: /workspace/src/objective/regression_obj.cu:152: reg:linear is now deprecated in favor of reg:squarederror.\n",
      "[23:40:23] WARNING: /workspace/src/objective/regression_obj.cu:152: reg:linear is now deprecated in favor of reg:squarederror.\n",
      "[23:40:23] WARNING: /workspace/src/objective/regression_obj.cu:152: reg:linear is now deprecated in favor of reg:squarederror.\n",
      "[23:40:23] WARNING: /workspace/src/objective/regression_obj.cu:152: reg:linear is now deprecated in favor of reg:squarederror.\n",
      "[23:40:23] WARNING: /workspace/src/objective/regression_obj.cu:152: reg:linear is now deprecated in favor of reg:squarederror.\n",
      "[23:40:23] WARNING: /workspace/src/objective/regression_obj.cu:152: reg:linear is now deprecated in favor of reg:squarederror.\n",
      "[23:40:23] WARNING: /workspace/src/objective/regression_obj.cu:152: reg:linear is now deprecated in favor of reg:squarederror.\n",
      "[23:40:23] WARNING: /workspace/src/objective/regression_obj.cu:152: reg:linear is now deprecated in favor of reg:squarederror.\n",
      "[23:40:23] WARNING: /workspace/src/objective/regression_obj.cu:152: reg:linear is now deprecated in favor of reg:squarederror.\n",
      "[23:40:23] WARNING: /workspace/src/objective/regression_obj.cu:152: reg:linear is now deprecated in favor of reg:squarederror.\n",
      "[23:40:23] WARNING: /workspace/src/objective/regression_obj.cu:152: reg:linear is now deprecated in favor of reg:squarederror.\n",
      "[23:40:23] WARNING: /workspace/src/objective/regression_obj.cu:152: reg:linear is now deprecated in favor of reg:squarederror.\n",
      "[23:40:23] WARNING: /workspace/src/objective/regression_obj.cu:152: reg:linear is now deprecated in favor of reg:squarederror.\n",
      "[23:40:23] WARNING: /workspace/src/objective/regression_obj.cu:152: reg:linear is now deprecated in favor of reg:squarederror.\n",
      "[23:40:24] WARNING: /workspace/src/objective/regression_obj.cu:152: reg:linear is now deprecated in favor of reg:squarederror.\n",
      "[23:40:24] WARNING: /workspace/src/objective/regression_obj.cu:152: reg:linear is now deprecated in favor of reg:squarederror.\n",
      "[23:40:24] WARNING: /workspace/src/objective/regression_obj.cu:152: reg:linear is now deprecated in favor of reg:squarederror.\n",
      "[23:40:24] WARNING: /workspace/src/objective/regression_obj.cu:152: reg:linear is now deprecated in favor of reg:squarederror.\n",
      "[23:40:24] WARNING: /workspace/src/objective/regression_obj.cu:152: reg:linear is now deprecated in favor of reg:squarederror.\n",
      "[23:40:24] WARNING: /workspace/src/objective/regression_obj.cu:152: reg:linear is now deprecated in favor of reg:squarederror.\n",
      "[23:40:25] WARNING: /workspace/src/objective/regression_obj.cu:152: reg:linear is now deprecated in favor of reg:squarederror.\n",
      "[23:40:25] WARNING: /workspace/src/objective/regression_obj.cu:152: reg:linear is now deprecated in favor of reg:squarederror.\n",
      "[23:40:25] WARNING: /workspace/src/objective/regression_obj.cu:152: reg:linear is now deprecated in favor of reg:squarederror.\n",
      "[23:40:25] WARNING: /workspace/src/objective/regression_obj.cu:152: reg:linear is now deprecated in favor of reg:squarederror.\n",
      "[23:40:25] WARNING: /workspace/src/objective/regression_obj.cu:152: reg:linear is now deprecated in favor of reg:squarederror.\n",
      "[23:40:25] WARNING: /workspace/src/objective/regression_obj.cu:152: reg:linear is now deprecated in favor of reg:squarederror.\n",
      "[23:40:25] WARNING: /workspace/src/objective/regression_obj.cu:152: reg:linear is now deprecated in favor of reg:squarederror.\n",
      "[23:40:25] WARNING: /workspace/src/objective/regression_obj.cu:152: reg:linear is now deprecated in favor of reg:squarederror.\n",
      "[23:40:25] WARNING: /workspace/src/objective/regression_obj.cu:152: reg:linear is now deprecated in favor of reg:squarederror.\n",
      "[23:40:26] WARNING: /workspace/src/objective/regression_obj.cu:152: reg:linear is now deprecated in favor of reg:squarederror.\n",
      "[23:40:26] WARNING: /workspace/src/objective/regression_obj.cu:152: reg:linear is now deprecated in favor of reg:squarederror.\n",
      "[23:40:26] WARNING: /workspace/src/objective/regression_obj.cu:152: reg:linear is now deprecated in favor of reg:squarederror.\n",
      "[23:40:26] WARNING: /workspace/src/objective/regression_obj.cu:152: reg:linear is now deprecated in favor of reg:squarederror.\n",
      "[23:40:26] WARNING: /workspace/src/objective/regression_obj.cu:152: reg:linear is now deprecated in favor of reg:squarederror.\n",
      "[23:40:26] WARNING: /workspace/src/objective/regression_obj.cu:152: reg:linear is now deprecated in favor of reg:squarederror.\n",
      "[23:40:27] WARNING: /workspace/src/objective/regression_obj.cu:152: reg:linear is now deprecated in favor of reg:squarederror.\n",
      "[23:40:27] WARNING: /workspace/src/objective/regression_obj.cu:152: reg:linear is now deprecated in favor of reg:squarederror.\n",
      "[23:40:27] WARNING: /workspace/src/objective/regression_obj.cu:152: reg:linear is now deprecated in favor of reg:squarederror.\n",
      "[23:40:27] WARNING: /workspace/src/objective/regression_obj.cu:152: reg:linear is now deprecated in favor of reg:squarederror.\n",
      "[23:40:28] WARNING: /workspace/src/objective/regression_obj.cu:152: reg:linear is now deprecated in favor of reg:squarederror.\n",
      "[23:40:28] WARNING: /workspace/src/objective/regression_obj.cu:152: reg:linear is now deprecated in favor of reg:squarederror.\n",
      "[23:40:29] WARNING: /workspace/src/objective/regression_obj.cu:152: reg:linear is now deprecated in favor of reg:squarederror.\n",
      "[23:40:29] WARNING: /workspace/src/objective/regression_obj.cu:152: reg:linear is now deprecated in favor of reg:squarederror.\n",
      "[23:40:29] WARNING: /workspace/src/objective/regression_obj.cu:152: reg:linear is now deprecated in favor of reg:squarederror.\n",
      "[23:40:29] WARNING: /workspace/src/objective/regression_obj.cu:152: reg:linear is now deprecated in favor of reg:squarederror.\n",
      "[23:40:29] WARNING: /workspace/src/objective/regression_obj.cu:152: reg:linear is now deprecated in favor of reg:squarederror.\n",
      "[23:40:29] WARNING: /workspace/src/objective/regression_obj.cu:152: reg:linear is now deprecated in favor of reg:squarederror.\n",
      "[23:40:30] WARNING: /workspace/src/objective/regression_obj.cu:152: reg:linear is now deprecated in favor of reg:squarederror.\n",
      "[23:40:30] WARNING: /workspace/src/objective/regression_obj.cu:152: reg:linear is now deprecated in favor of reg:squarederror.\n",
      "[23:40:30] WARNING: /workspace/src/objective/regression_obj.cu:152: reg:linear is now deprecated in favor of reg:squarederror.\n",
      "[23:40:30] WARNING: /workspace/src/objective/regression_obj.cu:152: reg:linear is now deprecated in favor of reg:squarederror.\n",
      "[23:40:30] WARNING: /workspace/src/objective/regression_obj.cu:152: reg:linear is now deprecated in favor of reg:squarederror.\n",
      "[23:40:30] WARNING: /workspace/src/objective/regression_obj.cu:152: reg:linear is now deprecated in favor of reg:squarederror.\n",
      "[23:40:31] WARNING: /workspace/src/objective/regression_obj.cu:152: reg:linear is now deprecated in favor of reg:squarederror.\n",
      "[23:40:31] WARNING: /workspace/src/objective/regression_obj.cu:152: reg:linear is now deprecated in favor of reg:squarederror.\n",
      "[23:40:31] WARNING: /workspace/src/objective/regression_obj.cu:152: reg:linear is now deprecated in favor of reg:squarederror.\n",
      "[23:40:32] WARNING: /workspace/src/objective/regression_obj.cu:152: reg:linear is now deprecated in favor of reg:squarederror.\n",
      "[23:40:32] WARNING: /workspace/src/objective/regression_obj.cu:152: reg:linear is now deprecated in favor of reg:squarederror.\n",
      "[23:40:33] WARNING: /workspace/src/objective/regression_obj.cu:152: reg:linear is now deprecated in favor of reg:squarederror.\n",
      "[23:40:33] WARNING: /workspace/src/objective/regression_obj.cu:152: reg:linear is now deprecated in favor of reg:squarederror.\n",
      "[23:40:34] WARNING: /workspace/src/objective/regression_obj.cu:152: reg:linear is now deprecated in favor of reg:squarederror.\n",
      "[23:40:35] WARNING: /workspace/src/objective/regression_obj.cu:152: reg:linear is now deprecated in favor of reg:squarederror.\n",
      "[23:40:35] WARNING: /workspace/src/objective/regression_obj.cu:152: reg:linear is now deprecated in favor of reg:squarederror.\n",
      "[23:40:35] WARNING: /workspace/src/objective/regression_obj.cu:152: reg:linear is now deprecated in favor of reg:squarederror.\n",
      "[23:40:35] WARNING: /workspace/src/objective/regression_obj.cu:152: reg:linear is now deprecated in favor of reg:squarederror.\n",
      "[23:40:36] WARNING: /workspace/src/objective/regression_obj.cu:152: reg:linear is now deprecated in favor of reg:squarederror.\n",
      "[23:40:36] WARNING: /workspace/src/objective/regression_obj.cu:152: reg:linear is now deprecated in favor of reg:squarederror.\n",
      "[23:40:36] WARNING: /workspace/src/objective/regression_obj.cu:152: reg:linear is now deprecated in favor of reg:squarederror.\n",
      "[23:40:36] WARNING: /workspace/src/objective/regression_obj.cu:152: reg:linear is now deprecated in favor of reg:squarederror.\n",
      "[23:40:37] WARNING: /workspace/src/objective/regression_obj.cu:152: reg:linear is now deprecated in favor of reg:squarederror.\n",
      "[23:40:37] WARNING: /workspace/src/objective/regression_obj.cu:152: reg:linear is now deprecated in favor of reg:squarederror.\n",
      "[23:40:38] WARNING: /workspace/src/objective/regression_obj.cu:152: reg:linear is now deprecated in favor of reg:squarederror.\n",
      "[23:40:38] WARNING: /workspace/src/objective/regression_obj.cu:152: reg:linear is now deprecated in favor of reg:squarederror.\n",
      "[23:40:38] WARNING: /workspace/src/objective/regression_obj.cu:152: reg:linear is now deprecated in favor of reg:squarederror.\n",
      "[23:40:39] WARNING: /workspace/src/objective/regression_obj.cu:152: reg:linear is now deprecated in favor of reg:squarederror.\n",
      "[23:40:40] WARNING: /workspace/src/objective/regression_obj.cu:152: reg:linear is now deprecated in favor of reg:squarederror.\n",
      "[23:40:41] WARNING: /workspace/src/objective/regression_obj.cu:152: reg:linear is now deprecated in favor of reg:squarederror.\n",
      "[23:40:41] WARNING: /workspace/src/objective/regression_obj.cu:152: reg:linear is now deprecated in favor of reg:squarederror.\n",
      "[23:40:42] WARNING: /workspace/src/objective/regression_obj.cu:152: reg:linear is now deprecated in favor of reg:squarederror.\n",
      "[23:40:43] WARNING: /workspace/src/objective/regression_obj.cu:152: reg:linear is now deprecated in favor of reg:squarederror.\n",
      "[23:40:45] WARNING: /workspace/src/objective/regression_obj.cu:152: reg:linear is now deprecated in favor of reg:squarederror.\n",
      "[23:40:46] WARNING: /workspace/src/objective/regression_obj.cu:152: reg:linear is now deprecated in favor of reg:squarederror.\n",
      "[23:40:46] WARNING: /workspace/src/objective/regression_obj.cu:152: reg:linear is now deprecated in favor of reg:squarederror.\n",
      "[23:40:46] WARNING: /workspace/src/objective/regression_obj.cu:152: reg:linear is now deprecated in favor of reg:squarederror.\n",
      "[23:40:47] WARNING: /workspace/src/objective/regression_obj.cu:152: reg:linear is now deprecated in favor of reg:squarederror.\n",
      "[23:40:47] WARNING: /workspace/src/objective/regression_obj.cu:152: reg:linear is now deprecated in favor of reg:squarederror.\n",
      "[23:40:47] WARNING: /workspace/src/objective/regression_obj.cu:152: reg:linear is now deprecated in favor of reg:squarederror.\n",
      "[23:40:47] WARNING: /workspace/src/objective/regression_obj.cu:152: reg:linear is now deprecated in favor of reg:squarederror.\n",
      "[23:40:47] WARNING: /workspace/src/objective/regression_obj.cu:152: reg:linear is now deprecated in favor of reg:squarederror.\n",
      "[23:40:47] WARNING: /workspace/src/objective/regression_obj.cu:152: reg:linear is now deprecated in favor of reg:squarederror.\n",
      "[23:40:47] WARNING: /workspace/src/objective/regression_obj.cu:152: reg:linear is now deprecated in favor of reg:squarederror.\n",
      "[23:40:47] WARNING: /workspace/src/objective/regression_obj.cu:152: reg:linear is now deprecated in favor of reg:squarederror.\n",
      "[23:40:47] WARNING: /workspace/src/objective/regression_obj.cu:152: reg:linear is now deprecated in favor of reg:squarederror.\n",
      "[23:40:47] WARNING: /workspace/src/objective/regression_obj.cu:152: reg:linear is now deprecated in favor of reg:squarederror.\n",
      "[23:40:47] WARNING: /workspace/src/objective/regression_obj.cu:152: reg:linear is now deprecated in favor of reg:squarederror.\n",
      "[23:40:47] WARNING: /workspace/src/objective/regression_obj.cu:152: reg:linear is now deprecated in favor of reg:squarederror.\n",
      "[23:40:48] WARNING: /workspace/src/objective/regression_obj.cu:152: reg:linear is now deprecated in favor of reg:squarederror.\n",
      "[23:40:48] WARNING: /workspace/src/objective/regression_obj.cu:152: reg:linear is now deprecated in favor of reg:squarederror.\n",
      "[23:40:48] WARNING: /workspace/src/objective/regression_obj.cu:152: reg:linear is now deprecated in favor of reg:squarederror.\n",
      "[23:40:48] WARNING: /workspace/src/objective/regression_obj.cu:152: reg:linear is now deprecated in favor of reg:squarederror.\n",
      "[23:40:48] WARNING: /workspace/src/objective/regression_obj.cu:152: reg:linear is now deprecated in favor of reg:squarederror.\n",
      "[23:40:49] WARNING: /workspace/src/objective/regression_obj.cu:152: reg:linear is now deprecated in favor of reg:squarederror.\n",
      "[23:40:49] WARNING: /workspace/src/objective/regression_obj.cu:152: reg:linear is now deprecated in favor of reg:squarederror.\n",
      "[23:40:49] WARNING: /workspace/src/objective/regression_obj.cu:152: reg:linear is now deprecated in favor of reg:squarederror.\n",
      "[23:40:49] WARNING: /workspace/src/objective/regression_obj.cu:152: reg:linear is now deprecated in favor of reg:squarederror.\n",
      "[23:40:49] WARNING: /workspace/src/objective/regression_obj.cu:152: reg:linear is now deprecated in favor of reg:squarederror.\n",
      "[23:40:49] WARNING: /workspace/src/objective/regression_obj.cu:152: reg:linear is now deprecated in favor of reg:squarederror.\n",
      "[23:40:49] WARNING: /workspace/src/objective/regression_obj.cu:152: reg:linear is now deprecated in favor of reg:squarederror.\n",
      "[23:40:49] WARNING: /workspace/src/objective/regression_obj.cu:152: reg:linear is now deprecated in favor of reg:squarederror.\n",
      "[23:40:49] WARNING: /workspace/src/objective/regression_obj.cu:152: reg:linear is now deprecated in favor of reg:squarederror.\n",
      "[23:40:49] WARNING: /workspace/src/objective/regression_obj.cu:152: reg:linear is now deprecated in favor of reg:squarederror.\n",
      "[23:40:50] WARNING: /workspace/src/objective/regression_obj.cu:152: reg:linear is now deprecated in favor of reg:squarederror.\n",
      "[23:40:50] WARNING: /workspace/src/objective/regression_obj.cu:152: reg:linear is now deprecated in favor of reg:squarederror.\n",
      "[23:40:50] WARNING: /workspace/src/objective/regression_obj.cu:152: reg:linear is now deprecated in favor of reg:squarederror.\n",
      "[23:40:50] WARNING: /workspace/src/objective/regression_obj.cu:152: reg:linear is now deprecated in favor of reg:squarederror.\n",
      "[23:40:50] WARNING: /workspace/src/objective/regression_obj.cu:152: reg:linear is now deprecated in favor of reg:squarederror.\n",
      "[23:40:51] WARNING: /workspace/src/objective/regression_obj.cu:152: reg:linear is now deprecated in favor of reg:squarederror.\n",
      "[23:40:51] WARNING: /workspace/src/objective/regression_obj.cu:152: reg:linear is now deprecated in favor of reg:squarederror.\n",
      "[23:40:51] WARNING: /workspace/src/objective/regression_obj.cu:152: reg:linear is now deprecated in favor of reg:squarederror.\n",
      "[23:40:52] WARNING: /workspace/src/objective/regression_obj.cu:152: reg:linear is now deprecated in favor of reg:squarederror.\n",
      "[23:40:52] WARNING: /workspace/src/objective/regression_obj.cu:152: reg:linear is now deprecated in favor of reg:squarederror.\n",
      "[23:40:53] WARNING: /workspace/src/objective/regression_obj.cu:152: reg:linear is now deprecated in favor of reg:squarederror.\n",
      "[23:40:53] WARNING: /workspace/src/objective/regression_obj.cu:152: reg:linear is now deprecated in favor of reg:squarederror.\n",
      "[23:40:53] WARNING: /workspace/src/objective/regression_obj.cu:152: reg:linear is now deprecated in favor of reg:squarederror.\n",
      "[23:40:53] WARNING: /workspace/src/objective/regression_obj.cu:152: reg:linear is now deprecated in favor of reg:squarederror.\n",
      "[23:40:53] WARNING: /workspace/src/objective/regression_obj.cu:152: reg:linear is now deprecated in favor of reg:squarederror.\n",
      "[23:40:53] WARNING: /workspace/src/objective/regression_obj.cu:152: reg:linear is now deprecated in favor of reg:squarederror.\n",
      "[23:40:53] WARNING: /workspace/src/objective/regression_obj.cu:152: reg:linear is now deprecated in favor of reg:squarederror.\n",
      "[23:40:53] WARNING: /workspace/src/objective/regression_obj.cu:152: reg:linear is now deprecated in favor of reg:squarederror.\n",
      "[23:40:54] WARNING: /workspace/src/objective/regression_obj.cu:152: reg:linear is now deprecated in favor of reg:squarederror.\n",
      "[23:40:54] WARNING: /workspace/src/objective/regression_obj.cu:152: reg:linear is now deprecated in favor of reg:squarederror.\n",
      "[23:40:54] WARNING: /workspace/src/objective/regression_obj.cu:152: reg:linear is now deprecated in favor of reg:squarederror.\n",
      "[23:40:54] WARNING: /workspace/src/objective/regression_obj.cu:152: reg:linear is now deprecated in favor of reg:squarederror.\n",
      "[23:40:54] WARNING: /workspace/src/objective/regression_obj.cu:152: reg:linear is now deprecated in favor of reg:squarederror.\n",
      "[23:40:55] WARNING: /workspace/src/objective/regression_obj.cu:152: reg:linear is now deprecated in favor of reg:squarederror.\n",
      "[23:40:55] WARNING: /workspace/src/objective/regression_obj.cu:152: reg:linear is now deprecated in favor of reg:squarederror.\n",
      "[23:40:56] WARNING: /workspace/src/objective/regression_obj.cu:152: reg:linear is now deprecated in favor of reg:squarederror.\n",
      "[23:40:56] WARNING: /workspace/src/objective/regression_obj.cu:152: reg:linear is now deprecated in favor of reg:squarederror.\n",
      "[23:40:56] WARNING: /workspace/src/objective/regression_obj.cu:152: reg:linear is now deprecated in favor of reg:squarederror.\n",
      "[23:40:57] WARNING: /workspace/src/objective/regression_obj.cu:152: reg:linear is now deprecated in favor of reg:squarederror.\n",
      "[23:40:58] WARNING: /workspace/src/objective/regression_obj.cu:152: reg:linear is now deprecated in favor of reg:squarederror.\n",
      "[23:40:59] WARNING: /workspace/src/objective/regression_obj.cu:152: reg:linear is now deprecated in favor of reg:squarederror.\n",
      "[23:40:59] WARNING: /workspace/src/objective/regression_obj.cu:152: reg:linear is now deprecated in favor of reg:squarederror.\n",
      "[23:40:59] WARNING: /workspace/src/objective/regression_obj.cu:152: reg:linear is now deprecated in favor of reg:squarederror.\n",
      "[23:40:59] WARNING: /workspace/src/objective/regression_obj.cu:152: reg:linear is now deprecated in favor of reg:squarederror.\n",
      "[23:40:59] WARNING: /workspace/src/objective/regression_obj.cu:152: reg:linear is now deprecated in favor of reg:squarederror.\n",
      "[23:41:00] WARNING: /workspace/src/objective/regression_obj.cu:152: reg:linear is now deprecated in favor of reg:squarederror.\n",
      "[23:41:00] WARNING: /workspace/src/objective/regression_obj.cu:152: reg:linear is now deprecated in favor of reg:squarederror.\n",
      "[23:41:00] WARNING: /workspace/src/objective/regression_obj.cu:152: reg:linear is now deprecated in favor of reg:squarederror.\n",
      "[23:41:00] WARNING: /workspace/src/objective/regression_obj.cu:152: reg:linear is now deprecated in favor of reg:squarederror.\n",
      "[23:41:01] WARNING: /workspace/src/objective/regression_obj.cu:152: reg:linear is now deprecated in favor of reg:squarederror.\n",
      "[23:41:01] WARNING: /workspace/src/objective/regression_obj.cu:152: reg:linear is now deprecated in favor of reg:squarederror.\n",
      "[23:41:01] WARNING: /workspace/src/objective/regression_obj.cu:152: reg:linear is now deprecated in favor of reg:squarederror.\n",
      "[23:41:02] WARNING: /workspace/src/objective/regression_obj.cu:152: reg:linear is now deprecated in favor of reg:squarederror.\n",
      "[23:41:02] WARNING: /workspace/src/objective/regression_obj.cu:152: reg:linear is now deprecated in favor of reg:squarederror.\n",
      "[23:41:03] WARNING: /workspace/src/objective/regression_obj.cu:152: reg:linear is now deprecated in favor of reg:squarederror.\n",
      "[23:41:04] WARNING: /workspace/src/objective/regression_obj.cu:152: reg:linear is now deprecated in favor of reg:squarederror.\n",
      "[23:41:05] WARNING: /workspace/src/objective/regression_obj.cu:152: reg:linear is now deprecated in favor of reg:squarederror.\n",
      "[23:41:05] WARNING: /workspace/src/objective/regression_obj.cu:152: reg:linear is now deprecated in favor of reg:squarederror.\n",
      "[23:41:06] WARNING: /workspace/src/objective/regression_obj.cu:152: reg:linear is now deprecated in favor of reg:squarederror.\n",
      "[23:41:08] WARNING: /workspace/src/objective/regression_obj.cu:152: reg:linear is now deprecated in favor of reg:squarederror.\n",
      "[23:41:10] WARNING: /workspace/src/objective/regression_obj.cu:152: reg:linear is now deprecated in favor of reg:squarederror.\n",
      "The best hyperparameters are: {'learning_rate': 0.1, 'max_depth': 4, 'n_estimators': 100}\n",
      "CPU times: user 1min 32s, sys: 293 ms, total: 1min 33s\n",
      "Wall time: 1min 34s\n"
     ]
    }
   ],
   "source": [
    "%%time\n",
    "# hyperparameter optimization for XGBoost\n",
    "\n",
    "# define hyperparameters to tune\n",
    "xgb_grid = {'learning_rate': [0.001, 0.01, 0.1, 0.3], \n",
    "            'max_depth': [2, 4, 6, 10],\n",
    "            'n_estimators': [25, 50, 100, 200]\n",
    "           }\n",
    "# define the model \n",
    "xgb_regr = XGBRegressor(random_state = 123)\n",
    "\n",
    "# define the grid search\n",
    "grid_search_xgb = GridSearchCV(\n",
    "    estimator = xgb_regr, \n",
    "    param_grid = xgb_grid, \n",
    "    scoring = \"neg_mean_squared_error\",\n",
    "    cv = tscv,\n",
    "    n_jobs = 1\n",
    ")\n",
    "# execute search\n",
    "grid_search_xgb.fit(features_train, target_train)\n",
    "# summarize result\n",
    "print('The best hyperparameters are: {}'.format(grid_search_xgb.best_params_))"
   ]
  },
  {
   "cell_type": "code",
   "execution_count": 21,
   "metadata": {},
   "outputs": [
    {
     "name": "stdout",
     "output_type": "stream",
     "text": [
      "[23:41:10] WARNING: /workspace/src/objective/regression_obj.cu:152: reg:linear is now deprecated in favor of reg:squarederror.\n",
      "CPU times: user 351 ms, sys: 6.96 ms, total: 358 ms\n",
      "Wall time: 372 ms\n"
     ]
    },
    {
     "data": {
      "text/plain": [
       "XGBRegressor(base_score=0.5, booster='gbtree', colsample_bylevel=1,\n",
       "             colsample_bynode=1, colsample_bytree=1, gamma=0,\n",
       "             importance_type='gain', learning_rate=0.1, max_delta_step=0,\n",
       "             max_depth=4, min_child_weight=1, missing=None, n_estimators=100,\n",
       "             n_jobs=1, nthread=None, objective='reg:linear', random_state=0,\n",
       "             reg_alpha=0, reg_lambda=1, scale_pos_weight=1, seed=None,\n",
       "             silent=None, subsample=1, verbosity=1)"
      ]
     },
     "execution_count": 21,
     "metadata": {},
     "output_type": "execute_result"
    }
   ],
   "source": [
    "%%time\n",
    "\n",
    "xgb_model = XGBRegressor(**grid_search_xgb.best_params_)\n",
    "xgb_model.fit(features_train, target_train)"
   ]
  },
  {
   "cell_type": "markdown",
   "metadata": {},
   "source": [
    "### LightGBM Regressor"
   ]
  },
  {
   "cell_type": "code",
   "execution_count": 22,
   "metadata": {},
   "outputs": [
    {
     "name": "stdout",
     "output_type": "stream",
     "text": [
      "The best hyperparameters are: {'learning_rate': 0.1, 'n_estimators': 100, 'num_leaves': 10}\n",
      "CPU times: user 47.7 s, sys: 1.76 s, total: 49.5 s\n",
      "Wall time: 50.4 s\n"
     ]
    }
   ],
   "source": [
    "%%time\n",
    "# hyperparameter optimization for LightGBM regression\n",
    "\n",
    "# define hyperparameters to tune\n",
    "lgbm_grid = {'learning_rate': [0.001, 0.01, 0.05, 0.1],\n",
    "             'n_estimators': [50, 100, 500],\n",
    "             'num_leaves': [5, 10, 20, 31]\n",
    "            }\n",
    "# define the model \n",
    "lgbm_regr = LGBMRegressor(random_state = 123)\n",
    "\n",
    "# define the grid search\n",
    "grid_search_lgbm = GridSearchCV(\n",
    "    estimator = lgbm_regr, \n",
    "    param_grid = lgbm_grid, \n",
    "    scoring = \"neg_mean_squared_error\", \n",
    "    cv = tscv, \n",
    "    n_jobs = 1\n",
    ")\n",
    "# execute search\n",
    "grid_search_lgbm.fit(features_train, target_train)\n",
    "# summarize result\n",
    "print('The best hyperparameters are: {}'.format(grid_search_lgbm.best_params_))"
   ]
  },
  {
   "cell_type": "code",
   "execution_count": 23,
   "metadata": {},
   "outputs": [
    {
     "name": "stdout",
     "output_type": "stream",
     "text": [
      "CPU times: user 89.4 ms, sys: 8.19 ms, total: 97.6 ms\n",
      "Wall time: 171 ms\n"
     ]
    },
    {
     "data": {
      "text/plain": [
       "LGBMRegressor(boosting_type='gbdt', class_weight=None, colsample_bytree=1.0,\n",
       "              importance_type='split', learning_rate=0.1, max_depth=-1,\n",
       "              min_child_samples=20, min_child_weight=0.001, min_split_gain=0.0,\n",
       "              n_estimators=100, n_jobs=-1, num_leaves=10, objective=None,\n",
       "              random_state=None, reg_alpha=0.0, reg_lambda=0.0, silent=True,\n",
       "              subsample=1.0, subsample_for_bin=200000, subsample_freq=0)"
      ]
     },
     "execution_count": 23,
     "metadata": {},
     "output_type": "execute_result"
    }
   ],
   "source": [
    "%%time\n",
    "\n",
    "lgbm_model = LGBMRegressor(**grid_search_lgbm.best_params_)\n",
    "lgbm_model.fit(features_train, target_train)"
   ]
  },
  {
   "cell_type": "markdown",
   "metadata": {},
   "source": [
    "**Conclusion**\n",
    "\n",
    "Our baseline model with previous values as predictions has a RMSE score of 58.88. We trained multiple models with different hyperparameters. The model we trained are Linear Regressor, Random Forest Regressor, CatBoost Regressor, LightGBM Regressor, and XGBoost Regressor. We observed the time to tune and train the models. The fastest trained model with hyperparameter tuning was the LightGBM Regressor."
   ]
  },
  {
   "cell_type": "markdown",
   "metadata": {},
   "source": [
    "## Testing"
   ]
  },
  {
   "cell_type": "markdown",
   "metadata": {},
   "source": [
    "### Linear Regression"
   ]
  },
  {
   "cell_type": "code",
   "execution_count": 24,
   "metadata": {},
   "outputs": [
    {
     "name": "stdout",
     "output_type": "stream",
     "text": [
      "RMSE Linear Regression Model: 53.11\n",
      "CPU times: user 3.12 ms, sys: 0 ns, total: 3.12 ms\n",
      "Wall time: 2.49 ms\n"
     ]
    }
   ],
   "source": [
    "%%time\n",
    "\n",
    "lr_predict = lr_model.predict(features_test)\n",
    "\n",
    "lr_rmse = np.sqrt(mean_squared_error(target_test, lr_predict))\n",
    "print('RMSE Linear Regression Model: {:.2f}'.format(lr_rmse))"
   ]
  },
  {
   "cell_type": "markdown",
   "metadata": {},
   "source": [
    "### Random Forest Regressor"
   ]
  },
  {
   "cell_type": "code",
   "execution_count": 25,
   "metadata": {},
   "outputs": [
    {
     "name": "stdout",
     "output_type": "stream",
     "text": [
      "RMSE Random Forest Regressor Model: 44.66\n",
      "CPU times: user 19 ms, sys: 0 ns, total: 19 ms\n",
      "Wall time: 17.9 ms\n"
     ]
    }
   ],
   "source": [
    "%%time\n",
    "\n",
    "rf_predict = rf_model.predict(features_test)\n",
    "rf_rmse = np.sqrt(mean_squared_error(target_test, rf_predict))\n",
    "print('RMSE Random Forest Regressor Model: {:.2f}'.format(rf_rmse))"
   ]
  },
  {
   "cell_type": "markdown",
   "metadata": {},
   "source": [
    "### CatBoost Regressor"
   ]
  },
  {
   "cell_type": "code",
   "execution_count": 26,
   "metadata": {},
   "outputs": [
    {
     "name": "stdout",
     "output_type": "stream",
     "text": [
      "RMSE CatBoost Regressor Model: 43.51\n",
      "CPU times: user 5.07 ms, sys: 3.36 ms, total: 8.43 ms\n",
      "Wall time: 3.57 ms\n"
     ]
    }
   ],
   "source": [
    "%%time\n",
    "\n",
    "cb_predict = cb_model.predict(features_test)\n",
    "cb_rmse = np.sqrt(mean_squared_error(target_test, cb_predict))\n",
    "print('RMSE CatBoost Regressor Model: {:.2f}'.format(cb_rmse))"
   ]
  },
  {
   "cell_type": "markdown",
   "metadata": {},
   "source": [
    "### XGBoost Regressor"
   ]
  },
  {
   "cell_type": "code",
   "execution_count": 27,
   "metadata": {},
   "outputs": [
    {
     "name": "stdout",
     "output_type": "stream",
     "text": [
      "RMSE XGBoost Regressor Model: 43.71\n",
      "CPU times: user 4.7 ms, sys: 0 ns, total: 4.7 ms\n",
      "Wall time: 4.33 ms\n"
     ]
    }
   ],
   "source": [
    "%%time\n",
    "\n",
    "xgb_predict = xgb_model.predict(features_test)\n",
    "xgb_rmse = np.sqrt(mean_squared_error(target_test, xgb_predict))\n",
    "print('RMSE XGBoost Regressor Model: {:.2f}'.format(xgb_rmse))"
   ]
  },
  {
   "cell_type": "markdown",
   "metadata": {},
   "source": [
    "### LightGBM Regressor"
   ]
  },
  {
   "cell_type": "code",
   "execution_count": 28,
   "metadata": {},
   "outputs": [
    {
     "name": "stdout",
     "output_type": "stream",
     "text": [
      "RMSE LightGBM Regressor Model: 43.97\n",
      "CPU times: user 10.8 ms, sys: 169 µs, total: 10.9 ms\n",
      "Wall time: 10.1 ms\n"
     ]
    }
   ],
   "source": [
    "%%time\n",
    "\n",
    "lgbm_predict = lgbm_model.predict(features_test)\n",
    "lgbm_rmse = np.sqrt(mean_squared_error(target_test, lgbm_predict))\n",
    "print('RMSE LightGBM Regressor Model: {:.2f}'.format(lgbm_rmse))"
   ]
  },
  {
   "cell_type": "markdown",
   "metadata": {},
   "source": [
    "**Conclusion**\n",
    "\n",
    "We tested our models and found the rmse score with the test data. The Linear Regression model's RMSE was higher than our target score of 48. The model with the lowest RMSE score was CatBoost Regressor. The LightGBM Regressor was the fastest model when training. The XGBoost Model had the fastest prediction time."
   ]
  },
  {
   "cell_type": "markdown",
   "metadata": {},
   "source": [
    "<div class=\"alert alert-danger\">\n",
    "<s>\n",
    "    <b>Reviewer's comment</b>\n",
    "\t  \n",
    "It's great that you tried several different models and tuned their hyperparameters. There's one small problem though: regular k-fold cross-validation is problematic for time series models, because in all folds but one there is data leakage that occurs due to some of train data being chronologically after the validation data for the fold. For correct cross-validation, we need to use something like [TimeSeriesSplit](https://scikit-learn.org/stable/modules/cross_validation.html#time-series-split) instead.\n",
    "\t  \n",
    "</div>"
   ]
  },
  {
   "cell_type": "markdown",
   "metadata": {},
   "source": [
    "<div class=\"alert alert-success\">\n",
    "<b>Reviewer's comment V2</b>\n",
    "\t  \n",
    "Fixed!\n",
    "\t  \n",
    "</div>"
   ]
  },
  {
   "cell_type": "markdown",
   "metadata": {},
   "source": [
    "<div class=\"alert alert-warning\">\n",
    "<b>Reviewer's comment</b>\n",
    "\t  \n",
    "It would be great if you added a simple baseline, like a model using a previous value as prediction.\n",
    "\t  \n",
    "</div>"
   ]
  },
  {
   "cell_type": "markdown",
   "metadata": {},
   "source": [
    "## Conclusion"
   ]
  },
  {
   "cell_type": "markdown",
   "metadata": {},
   "source": [
    "Our data consists of dates and times of taxi orders. To make data more readable we changed the datatype in datetime and resampled our data by one hour. We analyzed our data by viewing graphs for the rolling mean, trends, and seasonality of our data. The rolling mean and trend graphs show the number of taxi orders increased from March to August, 2018. The seasonality graph shows a pattern that fluctuates from one season to the next.\n",
    "\n",
    "We trained multiple models with different hyperparameters. We compared the training and prediction time along with the RMSE scores of the models. The fastest model was the LightGBM Regressor when training and the XGBoost Regressor when predicting. The best model for the task is CatBoost Regressor with the lowest RMSE score and one of the lowest model prediciton times, even if it has the highest model training and tuning time. "
   ]
  },
  {
   "cell_type": "markdown",
   "metadata": {},
   "source": [
    "<div class=\"alert alert-success\">\n",
    "<b>Reviewer's comment</b>\n",
    "\t  \n",
    "Ok, it's nice that you also compared the speed of the models!\n",
    "\t  \n",
    "</div>"
   ]
  },
  {
   "cell_type": "markdown",
   "metadata": {},
   "source": [
    "# Review checklist"
   ]
  },
  {
   "cell_type": "markdown",
   "metadata": {},
   "source": [
    "- [x]  Jupyter Notebook is open\n",
    "- [ ]  The code is error-free\n",
    "- [ ]  The cells with the code have been arranged in order of execution\n",
    "- [ ]  The data has been downloaded and prepared\n",
    "- [ ]  The data has been analyzed\n",
    "- [ ]  The model has been trained and hyperparameters have been selected\n",
    "- [ ]  The models have been evaluated. Conclusion has been provided\n",
    "- [ ] *RMSE* for the test set is not more than 48"
   ]
  }
 ],
 "metadata": {
  "ExecuteTimeLog": [
   {
    "duration": 1524,
    "start_time": "2021-11-26T20:55:11.839Z"
   },
   {
    "duration": 39,
    "start_time": "2021-11-26T20:56:26.214Z"
   },
   {
    "duration": 46,
    "start_time": "2021-11-26T20:58:06.170Z"
   },
   {
    "duration": 46,
    "start_time": "2021-11-26T20:58:10.757Z"
   },
   {
    "duration": 11,
    "start_time": "2021-11-26T20:58:23.615Z"
   },
   {
    "duration": 448,
    "start_time": "2021-11-26T20:59:40.309Z"
   },
   {
    "duration": 53,
    "start_time": "2021-11-26T21:01:28.667Z"
   },
   {
    "duration": 8,
    "start_time": "2021-11-26T21:01:31.664Z"
   },
   {
    "duration": 276,
    "start_time": "2021-11-26T21:01:39.000Z"
   },
   {
    "duration": 356,
    "start_time": "2021-11-26T21:03:10.609Z"
   },
   {
    "duration": 13,
    "start_time": "2021-11-26T21:06:07.281Z"
   },
   {
    "duration": 321,
    "start_time": "2021-11-26T21:06:11.871Z"
   },
   {
    "duration": 8,
    "start_time": "2021-11-26T21:06:18.202Z"
   },
   {
    "duration": 51,
    "start_time": "2021-11-26T21:06:19.043Z"
   },
   {
    "duration": 8,
    "start_time": "2021-11-26T21:06:19.969Z"
   },
   {
    "duration": 12,
    "start_time": "2021-11-26T21:06:20.881Z"
   },
   {
    "duration": 257,
    "start_time": "2021-11-26T21:06:22.910Z"
   },
   {
    "duration": 14,
    "start_time": "2021-11-26T21:06:31.339Z"
   },
   {
    "duration": 6,
    "start_time": "2021-11-26T21:06:54.460Z"
   },
   {
    "duration": 9,
    "start_time": "2021-11-26T21:06:58.398Z"
   },
   {
    "duration": 406,
    "start_time": "2021-11-26T21:07:00.708Z"
   },
   {
    "duration": 6,
    "start_time": "2021-11-26T21:07:19.568Z"
   },
   {
    "duration": 9,
    "start_time": "2021-11-26T21:07:22.418Z"
   },
   {
    "duration": 7,
    "start_time": "2021-11-26T21:07:25.162Z"
   },
   {
    "duration": 6,
    "start_time": "2021-11-26T21:07:34.748Z"
   },
   {
    "duration": 53,
    "start_time": "2021-11-26T21:07:35.358Z"
   },
   {
    "duration": 6,
    "start_time": "2021-11-26T21:07:36.209Z"
   },
   {
    "duration": 8,
    "start_time": "2021-11-26T21:07:37.227Z"
   },
   {
    "duration": 4,
    "start_time": "2021-11-26T21:09:58.342Z"
   },
   {
    "duration": 268,
    "start_time": "2021-11-26T21:10:06.621Z"
   },
   {
    "duration": 293,
    "start_time": "2021-11-26T21:10:48.470Z"
   },
   {
    "duration": 49,
    "start_time": "2021-11-26T21:11:44.602Z"
   },
   {
    "duration": 58,
    "start_time": "2021-11-26T21:12:26.419Z"
   },
   {
    "duration": 51,
    "start_time": "2021-11-26T21:12:29.719Z"
   },
   {
    "duration": 51,
    "start_time": "2021-11-26T21:12:58.628Z"
   },
   {
    "duration": 50,
    "start_time": "2021-11-26T21:13:03.740Z"
   },
   {
    "duration": 50,
    "start_time": "2021-11-26T21:13:24.051Z"
   },
   {
    "duration": 8,
    "start_time": "2021-11-26T21:13:25.217Z"
   },
   {
    "duration": 16,
    "start_time": "2021-11-26T21:13:27.239Z"
   },
   {
    "duration": 52,
    "start_time": "2021-11-26T21:14:31.085Z"
   },
   {
    "duration": 312,
    "start_time": "2021-11-26T21:14:42.796Z"
   },
   {
    "duration": 51,
    "start_time": "2021-11-26T21:14:55.289Z"
   },
   {
    "duration": 53,
    "start_time": "2021-11-26T21:15:31.594Z"
   },
   {
    "duration": 9,
    "start_time": "2021-11-26T21:15:33.743Z"
   },
   {
    "duration": 18,
    "start_time": "2021-11-26T21:15:36.325Z"
   },
   {
    "duration": 7,
    "start_time": "2021-11-26T21:19:22.948Z"
   },
   {
    "duration": 1480,
    "start_time": "2021-11-26T21:32:51.080Z"
   },
   {
    "duration": 57,
    "start_time": "2021-11-26T21:32:52.563Z"
   },
   {
    "duration": 8,
    "start_time": "2021-11-26T21:32:52.623Z"
   },
   {
    "duration": 8,
    "start_time": "2021-11-26T21:32:52.634Z"
   },
   {
    "duration": 44,
    "start_time": "2021-11-26T21:32:52.644Z"
   },
   {
    "duration": 51,
    "start_time": "2021-11-26T21:33:31.352Z"
   },
   {
    "duration": 52,
    "start_time": "2021-11-26T21:33:43.751Z"
   },
   {
    "duration": 10,
    "start_time": "2021-11-26T21:33:45.472Z"
   },
   {
    "duration": 5,
    "start_time": "2021-11-26T21:33:46.040Z"
   },
   {
    "duration": 17,
    "start_time": "2021-11-26T21:33:48.959Z"
   },
   {
    "duration": 24,
    "start_time": "2021-11-26T21:39:00.485Z"
   },
   {
    "duration": 9,
    "start_time": "2021-11-26T21:45:56.309Z"
   },
   {
    "duration": 603,
    "start_time": "2021-11-26T21:49:59.884Z"
   },
   {
    "duration": 9,
    "start_time": "2021-11-26T21:50:39.400Z"
   },
   {
    "duration": 575,
    "start_time": "2021-11-26T21:50:41.249Z"
   },
   {
    "duration": 15,
    "start_time": "2021-11-26T21:52:51.594Z"
   },
   {
    "duration": 494,
    "start_time": "2021-11-26T21:52:52.699Z"
   },
   {
    "duration": 16,
    "start_time": "2021-11-26T21:53:24.354Z"
   },
   {
    "duration": 559,
    "start_time": "2021-11-26T21:53:25.116Z"
   },
   {
    "duration": 15,
    "start_time": "2021-11-26T21:53:35.614Z"
   },
   {
    "duration": 498,
    "start_time": "2021-11-26T21:53:36.665Z"
   },
   {
    "duration": 14,
    "start_time": "2021-11-26T21:53:57.921Z"
   },
   {
    "duration": 495,
    "start_time": "2021-11-26T21:54:00.575Z"
   },
   {
    "duration": 16,
    "start_time": "2021-11-26T21:54:12.324Z"
   },
   {
    "duration": 518,
    "start_time": "2021-11-26T21:54:16.703Z"
   },
   {
    "duration": 14,
    "start_time": "2021-11-26T21:58:00.518Z"
   },
   {
    "duration": 494,
    "start_time": "2021-11-26T21:58:01.298Z"
   },
   {
    "duration": 16,
    "start_time": "2021-11-26T21:58:11.277Z"
   },
   {
    "duration": 15,
    "start_time": "2021-11-26T21:58:16.915Z"
   },
   {
    "duration": 508,
    "start_time": "2021-11-26T21:58:20.536Z"
   },
   {
    "duration": 431,
    "start_time": "2021-11-26T22:00:32.048Z"
   },
   {
    "duration": 19,
    "start_time": "2021-11-26T22:00:58.856Z"
   },
   {
    "duration": 1507,
    "start_time": "2021-11-26T22:01:10.469Z"
   },
   {
    "duration": 56,
    "start_time": "2021-11-26T22:01:11.978Z"
   },
   {
    "duration": 8,
    "start_time": "2021-11-26T22:01:12.037Z"
   },
   {
    "duration": 22,
    "start_time": "2021-11-26T22:01:12.047Z"
   },
   {
    "duration": 19,
    "start_time": "2021-11-26T22:01:12.071Z"
   },
   {
    "duration": 16,
    "start_time": "2021-11-26T22:01:12.093Z"
   },
   {
    "duration": 538,
    "start_time": "2021-11-26T22:01:12.111Z"
   },
   {
    "duration": 1841,
    "start_time": "2021-11-26T22:01:12.652Z"
   },
   {
    "duration": 409,
    "start_time": "2021-11-26T22:01:58.200Z"
   },
   {
    "duration": 1500,
    "start_time": "2021-11-26T22:02:07.854Z"
   },
   {
    "duration": 69,
    "start_time": "2021-11-26T22:02:09.357Z"
   },
   {
    "duration": 8,
    "start_time": "2021-11-26T22:02:09.429Z"
   },
   {
    "duration": 4,
    "start_time": "2021-11-26T22:02:09.440Z"
   },
   {
    "duration": 37,
    "start_time": "2021-11-26T22:02:09.446Z"
   },
   {
    "duration": 16,
    "start_time": "2021-11-26T22:02:09.486Z"
   },
   {
    "duration": 529,
    "start_time": "2021-11-26T22:02:09.505Z"
   },
   {
    "duration": 432,
    "start_time": "2021-11-26T22:02:10.037Z"
   },
   {
    "duration": 15,
    "start_time": "2021-11-26T22:02:25.063Z"
   },
   {
    "duration": 524,
    "start_time": "2021-11-26T22:02:26.214Z"
   },
   {
    "duration": 280,
    "start_time": "2021-11-26T22:02:31.342Z"
   },
   {
    "duration": 313,
    "start_time": "2021-11-26T22:03:36.336Z"
   },
   {
    "duration": 22,
    "start_time": "2021-11-26T22:03:53.260Z"
   },
   {
    "duration": 17,
    "start_time": "2021-11-26T22:04:09.472Z"
   },
   {
    "duration": 18,
    "start_time": "2021-11-26T22:04:18.062Z"
   },
   {
    "duration": 606,
    "start_time": "2021-11-26T22:05:16.199Z"
   },
   {
    "duration": 265,
    "start_time": "2021-11-26T22:05:22.714Z"
   },
   {
    "duration": 1851,
    "start_time": "2021-11-26T22:05:32.702Z"
   },
   {
    "duration": 1764,
    "start_time": "2021-11-26T22:08:03.886Z"
   },
   {
    "duration": 1801,
    "start_time": "2021-11-26T22:08:18.259Z"
   },
   {
    "duration": 1987,
    "start_time": "2021-11-26T22:08:58.065Z"
   },
   {
    "duration": 616,
    "start_time": "2021-11-26T22:09:41.255Z"
   },
   {
    "duration": 511,
    "start_time": "2021-11-26T22:09:51.303Z"
   },
   {
    "duration": 649,
    "start_time": "2021-11-26T22:10:25.260Z"
   },
   {
    "duration": 635,
    "start_time": "2021-11-26T22:10:38.132Z"
   },
   {
    "duration": 693,
    "start_time": "2021-11-26T22:11:00.493Z"
   },
   {
    "duration": 684,
    "start_time": "2021-11-26T22:11:12.762Z"
   },
   {
    "duration": 625,
    "start_time": "2021-11-26T22:11:34.702Z"
   },
   {
    "duration": 591,
    "start_time": "2021-11-26T22:11:49.480Z"
   },
   {
    "duration": 546,
    "start_time": "2021-11-26T22:24:37.985Z"
   },
   {
    "duration": 1521,
    "start_time": "2021-11-26T22:57:24.846Z"
   },
   {
    "duration": 58,
    "start_time": "2021-11-26T22:57:26.369Z"
   },
   {
    "duration": 11,
    "start_time": "2021-11-26T22:57:26.431Z"
   },
   {
    "duration": 26,
    "start_time": "2021-11-26T22:57:26.445Z"
   },
   {
    "duration": 21,
    "start_time": "2021-11-26T22:57:26.474Z"
   },
   {
    "duration": 19,
    "start_time": "2021-11-26T22:57:26.498Z"
   },
   {
    "duration": 660,
    "start_time": "2021-11-26T22:57:26.520Z"
   },
   {
    "duration": 1914,
    "start_time": "2021-11-26T22:57:27.184Z"
   },
   {
    "duration": 597,
    "start_time": "2021-11-26T22:57:29.101Z"
   },
   {
    "duration": 1481,
    "start_time": "2021-11-26T22:57:50.793Z"
   },
   {
    "duration": 58,
    "start_time": "2021-11-26T22:57:52.277Z"
   },
   {
    "duration": 8,
    "start_time": "2021-11-26T22:57:52.339Z"
   },
   {
    "duration": 18,
    "start_time": "2021-11-26T22:57:52.350Z"
   },
   {
    "duration": 20,
    "start_time": "2021-11-26T22:57:52.371Z"
   },
   {
    "duration": 22,
    "start_time": "2021-11-26T22:57:52.394Z"
   },
   {
    "duration": 632,
    "start_time": "2021-11-26T22:57:52.418Z"
   },
   {
    "duration": 1952,
    "start_time": "2021-11-26T22:57:53.054Z"
   },
   {
    "duration": 567,
    "start_time": "2021-11-26T22:57:55.008Z"
   },
   {
    "duration": 302,
    "start_time": "2021-11-29T16:19:06.883Z"
   },
   {
    "duration": 1198,
    "start_time": "2021-11-29T16:19:13.658Z"
   },
   {
    "duration": 44,
    "start_time": "2021-11-29T16:19:14.858Z"
   },
   {
    "duration": 6,
    "start_time": "2021-11-29T16:19:14.904Z"
   },
   {
    "duration": 19,
    "start_time": "2021-11-29T16:19:14.912Z"
   },
   {
    "duration": 44,
    "start_time": "2021-11-29T16:19:14.933Z"
   },
   {
    "duration": 26,
    "start_time": "2021-11-29T16:19:14.979Z"
   },
   {
    "duration": 407,
    "start_time": "2021-11-29T16:19:15.007Z"
   },
   {
    "duration": 1231,
    "start_time": "2021-11-29T16:19:15.417Z"
   },
   {
    "duration": 351,
    "start_time": "2021-11-29T16:19:16.650Z"
   },
   {
    "duration": 14,
    "start_time": "2021-11-29T16:19:17.002Z"
   },
   {
    "duration": 870,
    "start_time": "2021-11-29T16:29:25.477Z"
   },
   {
    "duration": 103,
    "start_time": "2021-11-29T16:30:05.322Z"
   },
   {
    "duration": 6,
    "start_time": "2021-11-29T16:30:10.844Z"
   },
   {
    "duration": 7,
    "start_time": "2021-11-29T16:30:44.484Z"
   },
   {
    "duration": 11,
    "start_time": "2021-11-29T16:32:44.291Z"
   },
   {
    "duration": 11,
    "start_time": "2021-11-29T16:34:23.418Z"
   },
   {
    "duration": 10,
    "start_time": "2021-11-29T16:34:24.421Z"
   },
   {
    "duration": 6,
    "start_time": "2021-11-29T16:41:24.709Z"
   },
   {
    "duration": 19,
    "start_time": "2021-11-29T16:47:19.470Z"
   },
   {
    "duration": 21,
    "start_time": "2021-11-29T16:47:23.524Z"
   },
   {
    "duration": 20,
    "start_time": "2021-11-29T16:47:37.573Z"
   },
   {
    "duration": 20,
    "start_time": "2021-11-29T16:47:55.390Z"
   },
   {
    "duration": 21,
    "start_time": "2021-11-29T16:48:08.667Z"
   },
   {
    "duration": 10,
    "start_time": "2021-11-29T16:56:27.565Z"
   },
   {
    "duration": 6,
    "start_time": "2021-11-29T16:56:28.808Z"
   },
   {
    "duration": 218,
    "start_time": "2021-11-29T16:58:16.946Z"
   },
   {
    "duration": 184,
    "start_time": "2021-11-29T16:58:54.059Z"
   },
   {
    "duration": 185,
    "start_time": "2021-11-29T16:59:06.442Z"
   },
   {
    "duration": 11,
    "start_time": "2021-11-29T16:59:12.384Z"
   },
   {
    "duration": 4,
    "start_time": "2021-11-29T17:02:15.909Z"
   },
   {
    "duration": 9,
    "start_time": "2021-11-29T17:02:23.030Z"
   },
   {
    "duration": 5,
    "start_time": "2021-11-29T17:02:31.688Z"
   },
   {
    "duration": 4,
    "start_time": "2021-11-29T17:05:14.019Z"
   },
   {
    "duration": 246,
    "start_time": "2021-11-29T17:05:17.780Z"
   },
   {
    "duration": 6,
    "start_time": "2021-11-29T17:05:44.706Z"
   },
   {
    "duration": 5,
    "start_time": "2021-11-29T17:05:47.500Z"
   },
   {
    "duration": 4,
    "start_time": "2021-11-29T17:05:51.778Z"
   },
   {
    "duration": 1250,
    "start_time": "2021-11-29T17:06:11.990Z"
   },
   {
    "duration": 47,
    "start_time": "2021-11-29T17:06:13.242Z"
   },
   {
    "duration": 6,
    "start_time": "2021-11-29T17:06:13.292Z"
   },
   {
    "duration": 32,
    "start_time": "2021-11-29T17:06:13.300Z"
   },
   {
    "duration": 39,
    "start_time": "2021-11-29T17:06:13.333Z"
   },
   {
    "duration": 29,
    "start_time": "2021-11-29T17:06:13.374Z"
   },
   {
    "duration": 384,
    "start_time": "2021-11-29T17:06:13.405Z"
   },
   {
    "duration": 1264,
    "start_time": "2021-11-29T17:06:13.791Z"
   },
   {
    "duration": 341,
    "start_time": "2021-11-29T17:06:15.062Z"
   },
   {
    "duration": 26,
    "start_time": "2021-11-29T17:06:15.405Z"
   },
   {
    "duration": 34,
    "start_time": "2021-11-29T17:06:15.433Z"
   },
   {
    "duration": 30,
    "start_time": "2021-11-29T17:06:15.469Z"
   },
   {
    "duration": 60,
    "start_time": "2021-11-29T17:06:15.501Z"
   },
   {
    "duration": 31,
    "start_time": "2021-11-29T17:06:15.562Z"
   },
   {
    "duration": 69,
    "start_time": "2021-11-29T17:06:15.595Z"
   },
   {
    "duration": 3,
    "start_time": "2021-11-29T17:07:07.138Z"
   },
   {
    "duration": 5,
    "start_time": "2021-11-29T17:07:21.945Z"
   },
   {
    "duration": 91243,
    "start_time": "2021-11-29T17:11:43.701Z"
   },
   {
    "duration": 1838,
    "start_time": "2021-11-29T17:16:13.579Z"
   },
   {
    "duration": 16,
    "start_time": "2021-11-29T17:16:47.484Z"
   },
   {
    "duration": 19,
    "start_time": "2021-11-29T17:16:55.789Z"
   },
   {
    "duration": 5,
    "start_time": "2021-11-29T17:18:18.377Z"
   },
   {
    "duration": 19,
    "start_time": "2021-11-29T17:19:00.298Z"
   },
   {
    "duration": 18,
    "start_time": "2021-11-29T17:19:17.219Z"
   },
   {
    "duration": 23150,
    "start_time": "2021-11-29T18:27:26.580Z"
   },
   {
    "duration": 237043,
    "start_time": "2021-11-29T18:28:09.286Z"
   },
   {
    "duration": 32231,
    "start_time": "2021-11-29T18:38:22.307Z"
   },
   {
    "duration": 7,
    "start_time": "2021-11-29T18:39:51.704Z"
   },
   {
    "duration": 83,
    "start_time": "2021-11-29T18:44:49.537Z"
   },
   {
    "duration": 200,
    "start_time": "2021-11-29T18:44:57.526Z"
   },
   {
    "duration": 59210,
    "start_time": "2021-11-29T18:45:04.165Z"
   },
   {
    "duration": 1229,
    "start_time": "2021-11-29T18:47:08.601Z"
   },
   {
    "duration": 45,
    "start_time": "2021-11-29T18:47:09.832Z"
   },
   {
    "duration": 5,
    "start_time": "2021-11-29T18:47:09.879Z"
   },
   {
    "duration": 18,
    "start_time": "2021-11-29T18:47:09.886Z"
   },
   {
    "duration": 23,
    "start_time": "2021-11-29T18:47:09.905Z"
   },
   {
    "duration": 21,
    "start_time": "2021-11-29T18:47:09.929Z"
   },
   {
    "duration": 360,
    "start_time": "2021-11-29T18:47:09.952Z"
   },
   {
    "duration": 1392,
    "start_time": "2021-11-29T18:47:10.314Z"
   },
   {
    "duration": 328,
    "start_time": "2021-11-29T18:47:11.708Z"
   },
   {
    "duration": 38,
    "start_time": "2021-11-29T18:47:12.038Z"
   },
   {
    "duration": 9,
    "start_time": "2021-11-29T18:47:12.078Z"
   },
   {
    "duration": 5,
    "start_time": "2021-11-29T18:47:12.089Z"
   },
   {
    "duration": 12,
    "start_time": "2021-11-29T18:47:12.096Z"
   },
   {
    "duration": 58,
    "start_time": "2021-11-29T18:47:12.110Z"
   },
   {
    "duration": 85192,
    "start_time": "2021-11-29T18:47:12.171Z"
   },
   {
    "duration": 1721,
    "start_time": "2021-11-29T18:48:37.365Z"
   },
   {
    "duration": 20,
    "start_time": "2021-11-29T18:48:39.088Z"
   },
   {
    "duration": 193254,
    "start_time": "2021-11-29T18:48:39.110Z"
   },
   {
    "duration": 17867,
    "start_time": "2021-11-29T18:51:52.366Z"
   },
   {
    "duration": 7,
    "start_time": "2021-11-29T18:52:10.234Z"
   },
   {
    "duration": 51431,
    "start_time": "2021-11-29T18:52:10.242Z"
   },
   {
    "duration": 361,
    "start_time": "2021-11-29T18:53:01.674Z"
   },
   {
    "duration": 252,
    "start_time": "2021-11-29T18:53:02.038Z"
   },
   {
    "duration": 1381,
    "start_time": "2021-11-29T19:09:04.676Z"
   },
   {
    "duration": 53,
    "start_time": "2021-11-29T19:09:06.060Z"
   },
   {
    "duration": 7,
    "start_time": "2021-11-29T19:09:06.116Z"
   },
   {
    "duration": 5,
    "start_time": "2021-11-29T19:09:06.126Z"
   },
   {
    "duration": 46,
    "start_time": "2021-11-29T19:09:06.133Z"
   },
   {
    "duration": 20,
    "start_time": "2021-11-29T19:09:06.181Z"
   },
   {
    "duration": 415,
    "start_time": "2021-11-29T19:09:06.203Z"
   },
   {
    "duration": 1336,
    "start_time": "2021-11-29T19:09:06.621Z"
   },
   {
    "duration": 368,
    "start_time": "2021-11-29T19:09:07.959Z"
   },
   {
    "duration": 38,
    "start_time": "2021-11-29T19:09:08.328Z"
   },
   {
    "duration": 11,
    "start_time": "2021-11-29T19:09:08.368Z"
   },
   {
    "duration": 7,
    "start_time": "2021-11-29T19:09:08.381Z"
   },
   {
    "duration": 20,
    "start_time": "2021-11-29T19:09:08.390Z"
   },
   {
    "duration": 57,
    "start_time": "2021-11-29T19:09:08.412Z"
   },
   {
    "duration": 91900,
    "start_time": "2021-11-29T19:09:08.471Z"
   },
   {
    "duration": 1950,
    "start_time": "2021-11-29T19:10:40.373Z"
   },
   {
    "duration": 17,
    "start_time": "2021-11-29T19:10:42.325Z"
   },
   {
    "duration": 244329,
    "start_time": "2021-11-29T19:10:42.344Z"
   },
   {
    "duration": 29580,
    "start_time": "2021-11-29T19:14:46.674Z"
   },
   {
    "duration": 15,
    "start_time": "2021-11-29T19:15:16.256Z"
   },
   {
    "duration": 66801,
    "start_time": "2021-11-29T19:15:16.273Z"
   },
   {
    "duration": 271,
    "start_time": "2021-11-29T19:16:23.076Z"
   },
   {
    "duration": 246,
    "start_time": "2021-11-29T19:16:23.350Z"
   },
   {
    "duration": 1113,
    "start_time": "2021-11-29T19:16:22.485Z"
   },
   {
    "duration": 1109,
    "start_time": "2021-11-29T19:16:22.491Z"
   },
   {
    "duration": 1106,
    "start_time": "2021-11-29T19:16:22.495Z"
   },
   {
    "duration": 164,
    "start_time": "2021-11-29T19:16:44.244Z"
   },
   {
    "duration": 770,
    "start_time": "2021-11-29T19:17:03.511Z"
   },
   {
    "duration": 11,
    "start_time": "2021-11-29T19:17:07.495Z"
   },
   {
    "duration": 181,
    "start_time": "2021-11-29T19:17:14.892Z"
   },
   {
    "duration": 59945,
    "start_time": "2021-11-29T19:19:25.497Z"
   },
   {
    "duration": 8,
    "start_time": "2021-11-29T19:20:27.378Z"
   },
   {
    "duration": 57664,
    "start_time": "2021-11-29T19:20:37.960Z"
   },
   {
    "duration": 51919,
    "start_time": "2021-11-29T19:22:07.946Z"
   },
   {
    "duration": 6,
    "start_time": "2021-11-29T19:24:21.081Z"
   },
   {
    "duration": 1294,
    "start_time": "2021-11-29T19:24:37.641Z"
   },
   {
    "duration": 46,
    "start_time": "2021-11-29T19:24:38.937Z"
   },
   {
    "duration": 7,
    "start_time": "2021-11-29T19:24:38.985Z"
   },
   {
    "duration": 16,
    "start_time": "2021-11-29T19:24:38.994Z"
   },
   {
    "duration": 19,
    "start_time": "2021-11-29T19:24:39.012Z"
   },
   {
    "duration": 30,
    "start_time": "2021-11-29T19:24:39.033Z"
   },
   {
    "duration": 353,
    "start_time": "2021-11-29T19:24:39.065Z"
   },
   {
    "duration": 1234,
    "start_time": "2021-11-29T19:24:39.420Z"
   },
   {
    "duration": 339,
    "start_time": "2021-11-29T19:24:40.657Z"
   },
   {
    "duration": 25,
    "start_time": "2021-11-29T19:24:40.998Z"
   },
   {
    "duration": 10,
    "start_time": "2021-11-29T19:24:41.024Z"
   },
   {
    "duration": 6,
    "start_time": "2021-11-29T19:24:41.063Z"
   },
   {
    "duration": 17,
    "start_time": "2021-11-29T19:24:41.071Z"
   },
   {
    "duration": 7,
    "start_time": "2021-11-29T19:24:41.091Z"
   },
   {
    "duration": 83501,
    "start_time": "2021-11-29T19:24:41.164Z"
   },
   {
    "duration": 1716,
    "start_time": "2021-11-29T19:26:04.667Z"
   },
   {
    "duration": 16,
    "start_time": "2021-11-29T19:26:06.385Z"
   },
   {
    "duration": 190837,
    "start_time": "2021-11-29T19:26:06.402Z"
   },
   {
    "duration": 18377,
    "start_time": "2021-11-29T19:29:17.241Z"
   },
   {
    "duration": 9,
    "start_time": "2021-11-29T19:29:35.620Z"
   },
   {
    "duration": 81137,
    "start_time": "2021-11-29T19:29:35.631Z"
   },
   {
    "duration": 695,
    "start_time": "2021-11-29T19:30:56.769Z"
   },
   {
    "duration": 13,
    "start_time": "2021-11-29T19:30:57.467Z"
   },
   {
    "duration": 52502,
    "start_time": "2021-11-29T19:30:57.482Z"
   },
   {
    "duration": 195,
    "start_time": "2021-11-29T19:31:49.986Z"
   },
   {
    "duration": 6,
    "start_time": "2021-11-29T19:31:50.183Z"
   },
   {
    "duration": 1804,
    "start_time": "2021-11-30T18:25:30.376Z"
   },
   {
    "duration": 52,
    "start_time": "2021-11-30T18:25:32.182Z"
   },
   {
    "duration": 6,
    "start_time": "2021-11-30T18:25:32.237Z"
   },
   {
    "duration": 4,
    "start_time": "2021-11-30T18:25:32.245Z"
   },
   {
    "duration": 15,
    "start_time": "2021-11-30T18:25:32.251Z"
   },
   {
    "duration": 38,
    "start_time": "2021-11-30T18:25:32.267Z"
   },
   {
    "duration": 416,
    "start_time": "2021-11-30T18:25:32.308Z"
   },
   {
    "duration": 1327,
    "start_time": "2021-11-30T18:25:32.728Z"
   },
   {
    "duration": 359,
    "start_time": "2021-11-30T18:25:34.057Z"
   },
   {
    "duration": 24,
    "start_time": "2021-11-30T18:25:34.420Z"
   },
   {
    "duration": 10,
    "start_time": "2021-11-30T18:25:34.446Z"
   },
   {
    "duration": 6,
    "start_time": "2021-11-30T18:25:34.457Z"
   },
   {
    "duration": 48,
    "start_time": "2021-11-30T18:25:34.464Z"
   },
   {
    "duration": 14,
    "start_time": "2021-11-30T18:25:34.514Z"
   },
   {
    "duration": 87080,
    "start_time": "2021-11-30T18:25:34.530Z"
   },
   {
    "duration": 1858,
    "start_time": "2021-11-30T18:27:01.612Z"
   },
   {
    "duration": 30,
    "start_time": "2021-11-30T18:27:03.471Z"
   },
   {
    "duration": 187640,
    "start_time": "2021-11-30T18:27:03.504Z"
   },
   {
    "duration": 20372,
    "start_time": "2021-11-30T18:30:11.146Z"
   },
   {
    "duration": 6,
    "start_time": "2021-11-30T18:30:31.520Z"
   },
   {
    "duration": 518767,
    "start_time": "2021-11-30T18:30:31.527Z"
   },
   {
    "duration": 406,
    "start_time": "2021-11-30T18:39:10.295Z"
   },
   {
    "duration": 90,
    "start_time": "2021-11-30T18:39:10.704Z"
   },
   {
    "duration": 49714,
    "start_time": "2021-11-30T18:39:10.796Z"
   },
   {
    "duration": 189,
    "start_time": "2021-11-30T18:40:00.512Z"
   },
   {
    "duration": 6,
    "start_time": "2021-11-30T18:40:00.703Z"
   },
   {
    "duration": 22,
    "start_time": "2021-11-30T18:40:00.710Z"
   },
   {
    "duration": 28,
    "start_time": "2021-11-30T18:40:00.733Z"
   },
   {
    "duration": 7,
    "start_time": "2021-11-30T18:40:00.763Z"
   },
   {
    "duration": 26,
    "start_time": "2021-11-30T18:40:00.772Z"
   },
   {
    "duration": 28,
    "start_time": "2021-11-30T18:40:00.799Z"
   },
   {
    "duration": 1141,
    "start_time": "2021-11-30T19:23:03.626Z"
   },
   {
    "duration": 45,
    "start_time": "2021-11-30T19:23:04.769Z"
   },
   {
    "duration": 5,
    "start_time": "2021-11-30T19:23:04.816Z"
   },
   {
    "duration": 16,
    "start_time": "2021-11-30T19:23:04.823Z"
   },
   {
    "duration": 36,
    "start_time": "2021-11-30T19:23:04.840Z"
   },
   {
    "duration": 28,
    "start_time": "2021-11-30T19:23:04.877Z"
   },
   {
    "duration": 418,
    "start_time": "2021-11-30T19:23:04.906Z"
   },
   {
    "duration": 1262,
    "start_time": "2021-11-30T19:23:05.327Z"
   },
   {
    "duration": 344,
    "start_time": "2021-11-30T19:23:06.591Z"
   },
   {
    "duration": 25,
    "start_time": "2021-11-30T19:23:06.937Z"
   },
   {
    "duration": 30,
    "start_time": "2021-11-30T19:23:06.964Z"
   },
   {
    "duration": 6,
    "start_time": "2021-11-30T19:23:06.995Z"
   },
   {
    "duration": 12,
    "start_time": "2021-11-30T19:23:07.002Z"
   },
   {
    "duration": 81382,
    "start_time": "2021-11-30T19:23:07.015Z"
   },
   {
    "duration": 1656,
    "start_time": "2021-11-30T19:24:28.399Z"
   },
   {
    "duration": 216792,
    "start_time": "2021-11-30T19:24:30.058Z"
   },
   {
    "duration": 29940,
    "start_time": "2021-11-30T19:28:06.852Z"
   },
   {
    "duration": 167119,
    "start_time": "2021-11-30T19:28:36.794Z"
   },
   {
    "duration": 1188,
    "start_time": "2021-11-30T19:31:23.915Z"
   },
   {
    "duration": 52815,
    "start_time": "2021-11-30T19:31:25.105Z"
   },
   {
    "duration": 206,
    "start_time": "2021-11-30T19:32:17.922Z"
   },
   {
    "duration": 6,
    "start_time": "2021-11-30T19:32:18.129Z"
   },
   {
    "duration": 15,
    "start_time": "2021-11-30T19:32:18.138Z"
   },
   {
    "duration": 6,
    "start_time": "2021-11-30T19:32:18.155Z"
   },
   {
    "duration": 43,
    "start_time": "2021-11-30T19:32:18.163Z"
   },
   {
    "duration": 7,
    "start_time": "2021-11-30T19:32:18.209Z"
   },
   {
    "duration": 325,
    "start_time": "2021-11-30T20:29:40.050Z"
   },
   {
    "duration": 10,
    "start_time": "2021-11-30T20:30:12.830Z"
   },
   {
    "duration": 3601,
    "start_time": "2021-11-30T20:32:16.173Z"
   },
   {
    "duration": 10,
    "start_time": "2021-11-30T20:33:48.786Z"
   },
   {
    "duration": 1220,
    "start_time": "2021-11-30T20:53:51.808Z"
   },
   {
    "duration": 42,
    "start_time": "2021-11-30T20:53:53.030Z"
   },
   {
    "duration": 6,
    "start_time": "2021-11-30T20:53:53.074Z"
   },
   {
    "duration": 10,
    "start_time": "2021-11-30T20:53:53.082Z"
   },
   {
    "duration": 22,
    "start_time": "2021-11-30T20:53:53.093Z"
   },
   {
    "duration": 13,
    "start_time": "2021-11-30T20:53:53.116Z"
   },
   {
    "duration": 356,
    "start_time": "2021-11-30T20:53:53.132Z"
   },
   {
    "duration": 1193,
    "start_time": "2021-11-30T20:53:53.490Z"
   },
   {
    "duration": 342,
    "start_time": "2021-11-30T20:53:54.685Z"
   },
   {
    "duration": 23,
    "start_time": "2021-11-30T20:53:55.029Z"
   },
   {
    "duration": 8,
    "start_time": "2021-11-30T20:53:55.054Z"
   },
   {
    "duration": 29,
    "start_time": "2021-11-30T20:53:55.064Z"
   },
   {
    "duration": 9,
    "start_time": "2021-11-30T20:53:55.095Z"
   },
   {
    "duration": 79888,
    "start_time": "2021-11-30T20:53:55.106Z"
   },
   {
    "duration": 1656,
    "start_time": "2021-11-30T20:55:14.996Z"
   },
   {
    "duration": 182653,
    "start_time": "2021-11-30T20:55:16.654Z"
   },
   {
    "duration": 17478,
    "start_time": "2021-11-30T20:58:19.310Z"
   },
   {
    "duration": 25107,
    "start_time": "2021-11-30T20:58:36.790Z"
   },
   {
    "duration": 400,
    "start_time": "2021-11-30T20:59:01.900Z"
   },
   {
    "duration": 49430,
    "start_time": "2021-11-30T20:59:02.301Z"
   },
   {
    "duration": 188,
    "start_time": "2021-11-30T20:59:51.733Z"
   },
   {
    "duration": 5,
    "start_time": "2021-11-30T20:59:51.922Z"
   },
   {
    "duration": 17,
    "start_time": "2021-11-30T20:59:51.930Z"
   },
   {
    "duration": 6,
    "start_time": "2021-11-30T20:59:51.948Z"
   },
   {
    "duration": 11,
    "start_time": "2021-11-30T20:59:51.955Z"
   },
   {
    "duration": 5,
    "start_time": "2021-11-30T20:59:51.992Z"
   },
   {
    "duration": 9,
    "start_time": "2021-11-30T20:59:51.999Z"
   },
   {
    "duration": 1388,
    "start_time": "2021-12-01T18:10:29.142Z"
   },
   {
    "duration": 86,
    "start_time": "2021-12-01T18:10:30.532Z"
   },
   {
    "duration": 6,
    "start_time": "2021-12-01T18:10:30.621Z"
   },
   {
    "duration": 53,
    "start_time": "2021-12-01T18:10:30.629Z"
   },
   {
    "duration": 56,
    "start_time": "2021-12-01T18:10:30.684Z"
   },
   {
    "duration": 17,
    "start_time": "2021-12-01T18:10:30.742Z"
   },
   {
    "duration": 384,
    "start_time": "2021-12-01T18:10:30.760Z"
   },
   {
    "duration": 1407,
    "start_time": "2021-12-01T18:10:31.147Z"
   },
   {
    "duration": 378,
    "start_time": "2021-12-01T18:10:32.556Z"
   },
   {
    "duration": 30,
    "start_time": "2021-12-01T18:10:32.935Z"
   },
   {
    "duration": 26,
    "start_time": "2021-12-01T18:10:32.966Z"
   },
   {
    "duration": 30,
    "start_time": "2021-12-01T18:10:32.994Z"
   },
   {
    "duration": 383,
    "start_time": "2021-12-01T18:10:33.026Z"
   },
   {
    "duration": 141,
    "start_time": "2021-12-01T18:10:33.270Z"
   },
   {
    "duration": 134,
    "start_time": "2021-12-01T18:10:33.278Z"
   },
   {
    "duration": 129,
    "start_time": "2021-12-01T18:10:33.284Z"
   },
   {
    "duration": 125,
    "start_time": "2021-12-01T18:10:33.289Z"
   },
   {
    "duration": 120,
    "start_time": "2021-12-01T18:10:33.295Z"
   },
   {
    "duration": 116,
    "start_time": "2021-12-01T18:10:33.300Z"
   },
   {
    "duration": 110,
    "start_time": "2021-12-01T18:10:33.307Z"
   },
   {
    "duration": 106,
    "start_time": "2021-12-01T18:10:33.312Z"
   },
   {
    "duration": 102,
    "start_time": "2021-12-01T18:10:33.317Z"
   },
   {
    "duration": 97,
    "start_time": "2021-12-01T18:10:33.323Z"
   },
   {
    "duration": 92,
    "start_time": "2021-12-01T18:10:33.329Z"
   },
   {
    "duration": 88,
    "start_time": "2021-12-01T18:10:33.334Z"
   },
   {
    "duration": 83,
    "start_time": "2021-12-01T18:10:33.340Z"
   },
   {
    "duration": 78,
    "start_time": "2021-12-01T18:10:33.346Z"
   },
   {
    "duration": 73,
    "start_time": "2021-12-01T18:10:33.352Z"
   },
   {
    "duration": 1202,
    "start_time": "2021-12-01T18:13:25.286Z"
   },
   {
    "duration": 45,
    "start_time": "2021-12-01T18:13:26.490Z"
   },
   {
    "duration": 7,
    "start_time": "2021-12-01T18:13:26.537Z"
   },
   {
    "duration": 21,
    "start_time": "2021-12-01T18:13:26.546Z"
   },
   {
    "duration": 28,
    "start_time": "2021-12-01T18:13:26.569Z"
   },
   {
    "duration": 17,
    "start_time": "2021-12-01T18:13:26.598Z"
   },
   {
    "duration": 406,
    "start_time": "2021-12-01T18:13:26.616Z"
   },
   {
    "duration": 1164,
    "start_time": "2021-12-01T18:13:27.024Z"
   },
   {
    "duration": 500,
    "start_time": "2021-12-01T18:13:28.191Z"
   },
   {
    "duration": 51,
    "start_time": "2021-12-01T18:13:28.695Z"
   },
   {
    "duration": 13,
    "start_time": "2021-12-01T18:13:28.748Z"
   },
   {
    "duration": 29,
    "start_time": "2021-12-01T18:13:28.763Z"
   },
   {
    "duration": 38,
    "start_time": "2021-12-01T18:13:28.794Z"
   },
   {
    "duration": 377,
    "start_time": "2021-12-01T18:13:28.834Z"
   },
   {
    "duration": 158,
    "start_time": "2021-12-01T18:13:29.055Z"
   },
   {
    "duration": 145,
    "start_time": "2021-12-01T18:13:29.069Z"
   },
   {
    "duration": 143,
    "start_time": "2021-12-01T18:13:29.072Z"
   },
   {
    "duration": 131,
    "start_time": "2021-12-01T18:13:29.085Z"
   },
   {
    "duration": 129,
    "start_time": "2021-12-01T18:13:29.088Z"
   },
   {
    "duration": 125,
    "start_time": "2021-12-01T18:13:29.093Z"
   },
   {
    "duration": 116,
    "start_time": "2021-12-01T18:13:29.103Z"
   },
   {
    "duration": 113,
    "start_time": "2021-12-01T18:13:29.107Z"
   },
   {
    "duration": 102,
    "start_time": "2021-12-01T18:13:29.119Z"
   },
   {
    "duration": 101,
    "start_time": "2021-12-01T18:13:29.121Z"
   },
   {
    "duration": 96,
    "start_time": "2021-12-01T18:13:29.127Z"
   },
   {
    "duration": 86,
    "start_time": "2021-12-01T18:13:29.138Z"
   },
   {
    "duration": 81,
    "start_time": "2021-12-01T18:13:29.144Z"
   },
   {
    "duration": 67,
    "start_time": "2021-12-01T18:13:29.158Z"
   },
   {
    "duration": 1369,
    "start_time": "2021-12-01T18:14:08.459Z"
   },
   {
    "duration": 46,
    "start_time": "2021-12-01T18:14:09.830Z"
   },
   {
    "duration": 5,
    "start_time": "2021-12-01T18:14:09.878Z"
   },
   {
    "duration": 9,
    "start_time": "2021-12-01T18:14:09.885Z"
   },
   {
    "duration": 28,
    "start_time": "2021-12-01T18:14:09.895Z"
   },
   {
    "duration": 19,
    "start_time": "2021-12-01T18:14:09.925Z"
   },
   {
    "duration": 355,
    "start_time": "2021-12-01T18:14:09.946Z"
   },
   {
    "duration": 1183,
    "start_time": "2021-12-01T18:14:10.304Z"
   },
   {
    "duration": 337,
    "start_time": "2021-12-01T18:14:11.489Z"
   },
   {
    "duration": 41,
    "start_time": "2021-12-01T18:14:11.828Z"
   },
   {
    "duration": 13,
    "start_time": "2021-12-01T18:14:11.872Z"
   },
   {
    "duration": 11,
    "start_time": "2021-12-01T18:14:11.887Z"
   },
   {
    "duration": 8,
    "start_time": "2021-12-01T18:14:11.900Z"
   },
   {
    "duration": 464,
    "start_time": "2021-12-01T18:14:11.910Z"
   },
   {
    "duration": 136,
    "start_time": "2021-12-01T18:14:12.240Z"
   },
   {
    "duration": 126,
    "start_time": "2021-12-01T18:14:12.251Z"
   },
   {
    "duration": 118,
    "start_time": "2021-12-01T18:14:12.259Z"
   },
   {
    "duration": 109,
    "start_time": "2021-12-01T18:14:12.269Z"
   },
   {
    "duration": 102,
    "start_time": "2021-12-01T18:14:12.277Z"
   },
   {
    "duration": 94,
    "start_time": "2021-12-01T18:14:12.286Z"
   },
   {
    "duration": 87,
    "start_time": "2021-12-01T18:14:12.294Z"
   },
   {
    "duration": 79,
    "start_time": "2021-12-01T18:14:12.303Z"
   },
   {
    "duration": 73,
    "start_time": "2021-12-01T18:14:12.311Z"
   },
   {
    "duration": 65,
    "start_time": "2021-12-01T18:14:12.319Z"
   },
   {
    "duration": 45,
    "start_time": "2021-12-01T18:14:12.341Z"
   },
   {
    "duration": 41,
    "start_time": "2021-12-01T18:14:12.346Z"
   },
   {
    "duration": 37,
    "start_time": "2021-12-01T18:14:12.351Z"
   },
   {
    "duration": 33,
    "start_time": "2021-12-01T18:14:12.356Z"
   },
   {
    "duration": 307,
    "start_time": "2021-12-01T18:15:11.245Z"
   },
   {
    "duration": 278,
    "start_time": "2021-12-01T18:15:18.807Z"
   },
   {
    "duration": 7,
    "start_time": "2021-12-01T18:15:23.057Z"
   },
   {
    "duration": 7,
    "start_time": "2021-12-01T18:15:31.177Z"
   },
   {
    "duration": 8,
    "start_time": "2021-12-01T18:15:46.137Z"
   },
   {
    "duration": 9,
    "start_time": "2021-12-01T18:44:04.209Z"
   },
   {
    "duration": 1254,
    "start_time": "2021-12-01T18:45:52.434Z"
   },
   {
    "duration": 46,
    "start_time": "2021-12-01T18:45:53.690Z"
   },
   {
    "duration": 6,
    "start_time": "2021-12-01T18:45:53.738Z"
   },
   {
    "duration": 11,
    "start_time": "2021-12-01T18:45:53.746Z"
   },
   {
    "duration": 34,
    "start_time": "2021-12-01T18:45:53.759Z"
   },
   {
    "duration": 12,
    "start_time": "2021-12-01T18:45:53.794Z"
   },
   {
    "duration": 345,
    "start_time": "2021-12-01T18:45:53.808Z"
   },
   {
    "duration": 1247,
    "start_time": "2021-12-01T18:45:54.155Z"
   },
   {
    "duration": 327,
    "start_time": "2021-12-01T18:45:55.405Z"
   },
   {
    "duration": 23,
    "start_time": "2021-12-01T18:45:55.734Z"
   },
   {
    "duration": 29,
    "start_time": "2021-12-01T18:45:55.759Z"
   },
   {
    "duration": 11,
    "start_time": "2021-12-01T18:45:55.790Z"
   },
   {
    "duration": 22,
    "start_time": "2021-12-01T18:45:55.803Z"
   },
   {
    "duration": 29,
    "start_time": "2021-12-01T18:45:55.827Z"
   },
   {
    "duration": 26,
    "start_time": "2021-12-01T18:45:55.858Z"
   },
   {
    "duration": 56278,
    "start_time": "2021-12-01T18:45:55.887Z"
   },
   {
    "duration": 1695,
    "start_time": "2021-12-01T18:46:52.167Z"
   },
   {
    "duration": 297826,
    "start_time": "2021-12-01T18:46:53.864Z"
   },
   {
    "duration": 17198,
    "start_time": "2021-12-01T18:51:51.691Z"
   },
   {
    "duration": 38464,
    "start_time": "2021-12-01T18:52:08.891Z"
   },
   {
    "duration": 497,
    "start_time": "2021-12-01T18:52:47.357Z"
   },
   {
    "duration": 64082,
    "start_time": "2021-12-01T18:52:47.856Z"
   },
   {
    "duration": 191,
    "start_time": "2021-12-01T18:53:51.945Z"
   },
   {
    "duration": 9,
    "start_time": "2021-12-01T18:53:52.138Z"
   },
   {
    "duration": 24,
    "start_time": "2021-12-01T18:53:52.149Z"
   },
   {
    "duration": 16,
    "start_time": "2021-12-01T18:53:52.174Z"
   },
   {
    "duration": 18,
    "start_time": "2021-12-01T18:53:52.193Z"
   },
   {
    "duration": 26,
    "start_time": "2021-12-01T18:53:52.212Z"
   },
   {
    "duration": 1434,
    "start_time": "2021-12-01T18:57:26.574Z"
   },
   {
    "duration": 48,
    "start_time": "2021-12-01T18:57:28.010Z"
   },
   {
    "duration": 27,
    "start_time": "2021-12-01T18:57:28.059Z"
   },
   {
    "duration": 41,
    "start_time": "2021-12-01T18:57:28.088Z"
   },
   {
    "duration": 39,
    "start_time": "2021-12-01T18:57:28.130Z"
   },
   {
    "duration": 22,
    "start_time": "2021-12-01T18:57:28.171Z"
   },
   {
    "duration": 345,
    "start_time": "2021-12-01T18:57:28.194Z"
   },
   {
    "duration": 1173,
    "start_time": "2021-12-01T18:57:28.544Z"
   },
   {
    "duration": 304,
    "start_time": "2021-12-01T18:57:29.719Z"
   },
   {
    "duration": 357,
    "start_time": "2021-12-01T18:57:30.025Z"
   },
   {
    "duration": 212,
    "start_time": "2021-12-01T18:57:30.173Z"
   },
   {
    "duration": 207,
    "start_time": "2021-12-01T18:57:30.179Z"
   },
   {
    "duration": 203,
    "start_time": "2021-12-01T18:57:30.184Z"
   },
   {
    "duration": 200,
    "start_time": "2021-12-01T18:57:30.188Z"
   },
   {
    "duration": 198,
    "start_time": "2021-12-01T18:57:30.191Z"
   },
   {
    "duration": 196,
    "start_time": "2021-12-01T18:57:30.194Z"
   },
   {
    "duration": 195,
    "start_time": "2021-12-01T18:57:30.196Z"
   },
   {
    "duration": 193,
    "start_time": "2021-12-01T18:57:30.199Z"
   },
   {
    "duration": 192,
    "start_time": "2021-12-01T18:57:30.201Z"
   },
   {
    "duration": 190,
    "start_time": "2021-12-01T18:57:30.204Z"
   },
   {
    "duration": 189,
    "start_time": "2021-12-01T18:57:30.207Z"
   },
   {
    "duration": 186,
    "start_time": "2021-12-01T18:57:30.211Z"
   },
   {
    "duration": 184,
    "start_time": "2021-12-01T18:57:30.214Z"
   },
   {
    "duration": 183,
    "start_time": "2021-12-01T18:57:30.216Z"
   },
   {
    "duration": 181,
    "start_time": "2021-12-01T18:57:30.219Z"
   },
   {
    "duration": 178,
    "start_time": "2021-12-01T18:57:30.222Z"
   },
   {
    "duration": 177,
    "start_time": "2021-12-01T18:57:30.224Z"
   },
   {
    "duration": 175,
    "start_time": "2021-12-01T18:57:30.227Z"
   },
   {
    "duration": 1223,
    "start_time": "2021-12-01T18:58:39.076Z"
   },
   {
    "duration": 46,
    "start_time": "2021-12-01T18:58:40.301Z"
   },
   {
    "duration": 6,
    "start_time": "2021-12-01T18:58:40.350Z"
   },
   {
    "duration": 12,
    "start_time": "2021-12-01T18:58:40.358Z"
   },
   {
    "duration": 25,
    "start_time": "2021-12-01T18:58:40.372Z"
   },
   {
    "duration": 21,
    "start_time": "2021-12-01T18:58:40.399Z"
   },
   {
    "duration": 551,
    "start_time": "2021-12-01T18:58:40.423Z"
   },
   {
    "duration": 1753,
    "start_time": "2021-12-01T18:58:40.978Z"
   },
   {
    "duration": 339,
    "start_time": "2021-12-01T18:58:42.734Z"
   },
   {
    "duration": 371,
    "start_time": "2021-12-01T18:58:43.075Z"
   },
   {
    "duration": 214,
    "start_time": "2021-12-01T18:58:43.234Z"
   },
   {
    "duration": 207,
    "start_time": "2021-12-01T18:58:43.242Z"
   },
   {
    "duration": 124,
    "start_time": "2021-12-01T18:58:43.326Z"
   },
   {
    "duration": 120,
    "start_time": "2021-12-01T18:58:43.331Z"
   },
   {
    "duration": 115,
    "start_time": "2021-12-01T18:58:43.337Z"
   },
   {
    "duration": 110,
    "start_time": "2021-12-01T18:58:43.343Z"
   },
   {
    "duration": 107,
    "start_time": "2021-12-01T18:58:43.348Z"
   },
   {
    "duration": 103,
    "start_time": "2021-12-01T18:58:43.353Z"
   },
   {
    "duration": 98,
    "start_time": "2021-12-01T18:58:43.359Z"
   },
   {
    "duration": 94,
    "start_time": "2021-12-01T18:58:43.364Z"
   },
   {
    "duration": 89,
    "start_time": "2021-12-01T18:58:43.369Z"
   },
   {
    "duration": 84,
    "start_time": "2021-12-01T18:58:43.375Z"
   },
   {
    "duration": 79,
    "start_time": "2021-12-01T18:58:43.381Z"
   },
   {
    "duration": 75,
    "start_time": "2021-12-01T18:58:43.386Z"
   },
   {
    "duration": 72,
    "start_time": "2021-12-01T18:58:43.390Z"
   },
   {
    "duration": 70,
    "start_time": "2021-12-01T18:58:43.393Z"
   },
   {
    "duration": 68,
    "start_time": "2021-12-01T18:58:43.396Z"
   },
   {
    "duration": 66,
    "start_time": "2021-12-01T18:58:43.399Z"
   },
   {
    "duration": 269,
    "start_time": "2021-12-01T19:19:39.379Z"
   },
   {
    "duration": 1201,
    "start_time": "2021-12-01T19:19:51.396Z"
   },
   {
    "duration": 46,
    "start_time": "2021-12-01T19:19:52.598Z"
   },
   {
    "duration": 5,
    "start_time": "2021-12-01T19:19:52.646Z"
   },
   {
    "duration": 25,
    "start_time": "2021-12-01T19:19:52.653Z"
   },
   {
    "duration": 31,
    "start_time": "2021-12-01T19:19:52.680Z"
   },
   {
    "duration": 28,
    "start_time": "2021-12-01T19:19:52.713Z"
   },
   {
    "duration": 344,
    "start_time": "2021-12-01T19:19:52.742Z"
   },
   {
    "duration": 1172,
    "start_time": "2021-12-01T19:19:53.088Z"
   },
   {
    "duration": 308,
    "start_time": "2021-12-01T19:19:54.262Z"
   },
   {
    "duration": 25,
    "start_time": "2021-12-01T19:19:54.572Z"
   },
   {
    "duration": 8,
    "start_time": "2021-12-01T19:19:54.599Z"
   },
   {
    "duration": 5,
    "start_time": "2021-12-01T19:19:54.609Z"
   },
   {
    "duration": 35,
    "start_time": "2021-12-01T19:19:54.615Z"
   },
   {
    "duration": 8,
    "start_time": "2021-12-01T19:19:54.651Z"
   },
   {
    "duration": 26,
    "start_time": "2021-12-01T19:19:54.661Z"
   },
   {
    "duration": 54606,
    "start_time": "2021-12-01T19:19:54.689Z"
   },
   {
    "duration": 1667,
    "start_time": "2021-12-01T19:20:49.297Z"
   },
   {
    "duration": 289039,
    "start_time": "2021-12-01T19:20:50.966Z"
   },
   {
    "duration": 17360,
    "start_time": "2021-12-01T19:25:40.007Z"
   },
   {
    "duration": 47887,
    "start_time": "2021-12-01T19:25:57.369Z"
   },
   {
    "duration": 494,
    "start_time": "2021-12-01T19:26:45.258Z"
   },
   {
    "duration": 66584,
    "start_time": "2021-12-01T19:26:45.754Z"
   },
   {
    "duration": 193,
    "start_time": "2021-12-01T19:27:52.345Z"
   },
   {
    "duration": 7,
    "start_time": "2021-12-01T19:27:52.540Z"
   },
   {
    "duration": 22,
    "start_time": "2021-12-01T19:27:52.549Z"
   },
   {
    "duration": 16,
    "start_time": "2021-12-01T19:27:52.572Z"
   },
   {
    "duration": 20,
    "start_time": "2021-12-01T19:27:52.589Z"
   },
   {
    "duration": 37,
    "start_time": "2021-12-01T19:27:52.610Z"
   },
   {
    "duration": 1256,
    "start_time": "2021-12-01T19:34:56.732Z"
   },
   {
    "duration": 46,
    "start_time": "2021-12-01T19:34:57.990Z"
   },
   {
    "duration": 8,
    "start_time": "2021-12-01T19:34:58.038Z"
   },
   {
    "duration": 3,
    "start_time": "2021-12-01T19:34:58.049Z"
   },
   {
    "duration": 15,
    "start_time": "2021-12-01T19:34:58.054Z"
   },
   {
    "duration": 10,
    "start_time": "2021-12-01T19:34:58.071Z"
   },
   {
    "duration": 440,
    "start_time": "2021-12-01T19:34:58.083Z"
   },
   {
    "duration": 385,
    "start_time": "2021-12-01T19:34:58.526Z"
   },
   {
    "duration": 196,
    "start_time": "2021-12-01T19:34:58.717Z"
   },
   {
    "duration": 187,
    "start_time": "2021-12-01T19:34:58.727Z"
   },
   {
    "duration": 180,
    "start_time": "2021-12-01T19:34:58.735Z"
   },
   {
    "duration": 173,
    "start_time": "2021-12-01T19:34:58.743Z"
   },
   {
    "duration": 168,
    "start_time": "2021-12-01T19:34:58.749Z"
   },
   {
    "duration": 165,
    "start_time": "2021-12-01T19:34:58.753Z"
   },
   {
    "duration": 160,
    "start_time": "2021-12-01T19:34:58.759Z"
   },
   {
    "duration": 157,
    "start_time": "2021-12-01T19:34:58.763Z"
   },
   {
    "duration": 153,
    "start_time": "2021-12-01T19:34:58.768Z"
   },
   {
    "duration": 149,
    "start_time": "2021-12-01T19:34:58.773Z"
   },
   {
    "duration": 147,
    "start_time": "2021-12-01T19:34:58.776Z"
   },
   {
    "duration": 145,
    "start_time": "2021-12-01T19:34:58.779Z"
   },
   {
    "duration": 142,
    "start_time": "2021-12-01T19:34:58.782Z"
   },
   {
    "duration": 140,
    "start_time": "2021-12-01T19:34:58.785Z"
   },
   {
    "duration": 138,
    "start_time": "2021-12-01T19:34:58.788Z"
   },
   {
    "duration": 137,
    "start_time": "2021-12-01T19:34:58.790Z"
   },
   {
    "duration": 135,
    "start_time": "2021-12-01T19:34:58.793Z"
   },
   {
    "duration": 134,
    "start_time": "2021-12-01T19:34:58.795Z"
   },
   {
    "duration": 132,
    "start_time": "2021-12-01T19:34:58.798Z"
   },
   {
    "duration": 113,
    "start_time": "2021-12-01T19:34:58.818Z"
   },
   {
    "duration": 1230,
    "start_time": "2021-12-01T19:35:19.871Z"
   },
   {
    "duration": 45,
    "start_time": "2021-12-01T19:35:21.102Z"
   },
   {
    "duration": 6,
    "start_time": "2021-12-01T19:35:21.149Z"
   },
   {
    "duration": 5,
    "start_time": "2021-12-01T19:35:21.157Z"
   },
   {
    "duration": 15,
    "start_time": "2021-12-01T19:35:21.164Z"
   },
   {
    "duration": 9,
    "start_time": "2021-12-01T19:35:21.181Z"
   },
   {
    "duration": 457,
    "start_time": "2021-12-01T19:35:21.191Z"
   },
   {
    "duration": 371,
    "start_time": "2021-12-01T19:35:21.650Z"
   },
   {
    "duration": 165,
    "start_time": "2021-12-01T19:35:21.858Z"
   },
   {
    "duration": 158,
    "start_time": "2021-12-01T19:35:21.866Z"
   },
   {
    "duration": 149,
    "start_time": "2021-12-01T19:35:21.877Z"
   },
   {
    "duration": 142,
    "start_time": "2021-12-01T19:35:21.884Z"
   },
   {
    "duration": 135,
    "start_time": "2021-12-01T19:35:21.892Z"
   },
   {
    "duration": 129,
    "start_time": "2021-12-01T19:35:21.899Z"
   },
   {
    "duration": 121,
    "start_time": "2021-12-01T19:35:21.908Z"
   },
   {
    "duration": 79,
    "start_time": "2021-12-01T19:35:21.951Z"
   },
   {
    "duration": 73,
    "start_time": "2021-12-01T19:35:21.958Z"
   },
   {
    "duration": 68,
    "start_time": "2021-12-01T19:35:21.964Z"
   },
   {
    "duration": 64,
    "start_time": "2021-12-01T19:35:21.969Z"
   },
   {
    "duration": 60,
    "start_time": "2021-12-01T19:35:21.975Z"
   },
   {
    "duration": 57,
    "start_time": "2021-12-01T19:35:21.979Z"
   },
   {
    "duration": 54,
    "start_time": "2021-12-01T19:35:21.983Z"
   },
   {
    "duration": 51,
    "start_time": "2021-12-01T19:35:21.987Z"
   },
   {
    "duration": 47,
    "start_time": "2021-12-01T19:35:21.992Z"
   },
   {
    "duration": 44,
    "start_time": "2021-12-01T19:35:21.996Z"
   },
   {
    "duration": 41,
    "start_time": "2021-12-01T19:35:22.000Z"
   },
   {
    "duration": 38,
    "start_time": "2021-12-01T19:35:22.004Z"
   },
   {
    "duration": 35,
    "start_time": "2021-12-01T19:35:22.008Z"
   },
   {
    "duration": 12,
    "start_time": "2021-12-01T19:36:37.382Z"
   },
   {
    "duration": 490,
    "start_time": "2021-12-01T19:36:45.442Z"
   },
   {
    "duration": 1440,
    "start_time": "2021-12-01T19:36:50.526Z"
   },
   {
    "duration": 358,
    "start_time": "2021-12-01T19:37:13.451Z"
   },
   {
    "duration": 248,
    "start_time": "2021-12-01T19:37:32.201Z"
   },
   {
    "duration": 279,
    "start_time": "2021-12-01T19:38:24.625Z"
   },
   {
    "duration": 230,
    "start_time": "2021-12-01T19:38:39.260Z"
   },
   {
    "duration": 317,
    "start_time": "2021-12-01T19:38:54.418Z"
   },
   {
    "duration": 233,
    "start_time": "2021-12-01T19:39:43.986Z"
   },
   {
    "duration": 231,
    "start_time": "2021-12-01T19:41:00.499Z"
   },
   {
    "duration": 273,
    "start_time": "2021-12-01T19:41:26.197Z"
   },
   {
    "duration": 267,
    "start_time": "2021-12-01T19:41:56.280Z"
   },
   {
    "duration": 234,
    "start_time": "2021-12-01T19:42:06.694Z"
   },
   {
    "duration": 378,
    "start_time": "2021-12-01T19:42:44.976Z"
   },
   {
    "duration": 235,
    "start_time": "2021-12-01T19:43:02.894Z"
   },
   {
    "duration": 1687,
    "start_time": "2021-12-01T21:17:46.552Z"
   },
   {
    "duration": 81,
    "start_time": "2021-12-01T21:17:48.242Z"
   },
   {
    "duration": 12,
    "start_time": "2021-12-01T21:17:48.327Z"
   },
   {
    "duration": 6,
    "start_time": "2021-12-01T21:17:48.343Z"
   },
   {
    "duration": 49,
    "start_time": "2021-12-01T21:17:48.352Z"
   },
   {
    "duration": 25,
    "start_time": "2021-12-01T21:17:48.404Z"
   },
   {
    "duration": 1051,
    "start_time": "2021-12-01T21:17:48.432Z"
   },
   {
    "duration": 3800,
    "start_time": "2021-12-01T21:17:49.488Z"
   },
   {
    "duration": 430,
    "start_time": "2021-12-01T21:17:53.292Z"
   },
   {
    "duration": 38,
    "start_time": "2021-12-01T21:17:53.724Z"
   },
   {
    "duration": 29,
    "start_time": "2021-12-01T21:17:53.764Z"
   },
   {
    "duration": 6,
    "start_time": "2021-12-01T21:17:53.796Z"
   },
   {
    "duration": 6,
    "start_time": "2021-12-01T21:17:53.804Z"
   },
   {
    "duration": 7,
    "start_time": "2021-12-01T21:17:53.812Z"
   },
   {
    "duration": 62,
    "start_time": "2021-12-01T21:17:53.821Z"
   },
   {
    "duration": 75302,
    "start_time": "2021-12-01T21:17:53.887Z"
   },
   {
    "duration": 2008,
    "start_time": "2021-12-01T21:19:09.192Z"
   },
   {
    "duration": 9663,
    "start_time": "2021-12-01T21:19:11.203Z"
   },
   {
    "duration": 192,
    "start_time": "2021-12-01T21:19:20.869Z"
   },
   {
    "duration": 1767,
    "start_time": "2021-12-01T21:19:32.563Z"
   },
   {
    "duration": 62,
    "start_time": "2021-12-01T21:19:34.333Z"
   },
   {
    "duration": 11,
    "start_time": "2021-12-01T21:19:34.399Z"
   },
   {
    "duration": 5,
    "start_time": "2021-12-01T21:19:34.413Z"
   },
   {
    "duration": 27,
    "start_time": "2021-12-01T21:19:34.420Z"
   },
   {
    "duration": 48,
    "start_time": "2021-12-01T21:19:34.450Z"
   },
   {
    "duration": 1077,
    "start_time": "2021-12-01T21:19:34.501Z"
   },
   {
    "duration": 2335,
    "start_time": "2021-12-01T21:19:35.585Z"
   },
   {
    "duration": 438,
    "start_time": "2021-12-01T21:19:37.923Z"
   },
   {
    "duration": 48,
    "start_time": "2021-12-01T21:19:38.365Z"
   },
   {
    "duration": 13,
    "start_time": "2021-12-01T21:19:38.415Z"
   },
   {
    "duration": 7,
    "start_time": "2021-12-01T21:19:38.431Z"
   },
   {
    "duration": 6,
    "start_time": "2021-12-01T21:19:38.440Z"
   },
   {
    "duration": 9,
    "start_time": "2021-12-01T21:19:38.483Z"
   },
   {
    "duration": 16,
    "start_time": "2021-12-01T21:19:38.494Z"
   },
   {
    "duration": 86262,
    "start_time": "2021-12-01T21:19:38.513Z"
   },
   {
    "duration": 2588,
    "start_time": "2021-12-01T21:21:04.777Z"
   },
   {
    "duration": 121333,
    "start_time": "2021-12-01T21:21:07.368Z"
   },
   {
    "duration": 204,
    "start_time": "2021-12-01T21:23:08.703Z"
   },
   {
    "duration": 2013,
    "start_time": "2021-12-01T21:23:08.910Z"
   },
   {
    "duration": 212,
    "start_time": "2021-12-01T21:23:10.926Z"
   },
   {
    "duration": 32620,
    "start_time": "2021-12-01T21:23:11.141Z"
   },
   {
    "duration": 821,
    "start_time": "2021-12-01T21:23:43.767Z"
   },
   {
    "duration": -75,
    "start_time": "2021-12-01T21:23:44.667Z"
   },
   {
    "duration": -86,
    "start_time": "2021-12-01T21:23:44.680Z"
   },
   {
    "duration": -94,
    "start_time": "2021-12-01T21:23:44.690Z"
   },
   {
    "duration": -100,
    "start_time": "2021-12-01T21:23:44.698Z"
   },
   {
    "duration": -108,
    "start_time": "2021-12-01T21:23:44.708Z"
   },
   {
    "duration": -109,
    "start_time": "2021-12-01T21:23:44.719Z"
   },
   {
    "duration": 1659,
    "start_time": "2021-12-01T21:23:51.492Z"
   },
   {
    "duration": 57,
    "start_time": "2021-12-01T21:23:53.154Z"
   },
   {
    "duration": 8,
    "start_time": "2021-12-01T21:23:53.214Z"
   },
   {
    "duration": 4,
    "start_time": "2021-12-01T21:23:53.225Z"
   },
   {
    "duration": 19,
    "start_time": "2021-12-01T21:23:53.232Z"
   },
   {
    "duration": 43,
    "start_time": "2021-12-01T21:23:53.253Z"
   },
   {
    "duration": 698,
    "start_time": "2021-12-01T21:23:53.298Z"
   },
   {
    "duration": 2375,
    "start_time": "2021-12-01T21:23:54.000Z"
   },
   {
    "duration": 414,
    "start_time": "2021-12-01T21:23:56.378Z"
   },
   {
    "duration": 39,
    "start_time": "2021-12-01T21:23:56.794Z"
   },
   {
    "duration": 17,
    "start_time": "2021-12-01T21:23:56.835Z"
   },
   {
    "duration": 7,
    "start_time": "2021-12-01T21:23:56.883Z"
   },
   {
    "duration": 6,
    "start_time": "2021-12-01T21:23:56.894Z"
   },
   {
    "duration": 8,
    "start_time": "2021-12-01T21:23:56.903Z"
   },
   {
    "duration": 69,
    "start_time": "2021-12-01T21:23:56.913Z"
   },
   {
    "duration": 75387,
    "start_time": "2021-12-01T21:23:56.986Z"
   },
   {
    "duration": 2758,
    "start_time": "2021-12-01T21:25:12.383Z"
   },
   {
    "duration": 23729,
    "start_time": "2021-12-01T21:25:15.144Z"
   },
   {
    "duration": 930,
    "start_time": "2021-12-01T21:25:38.876Z"
   },
   {
    "duration": 1918,
    "start_time": "2021-12-01T21:25:39.809Z"
   },
   {
    "duration": 296,
    "start_time": "2021-12-01T21:25:41.730Z"
   },
   {
    "duration": 8399,
    "start_time": "2021-12-01T21:25:42.029Z"
   },
   {
    "duration": 202,
    "start_time": "2021-12-01T21:25:50.433Z"
   },
   {
    "duration": 7,
    "start_time": "2021-12-01T21:25:50.638Z"
   },
   {
    "duration": 28,
    "start_time": "2021-12-01T21:25:50.648Z"
   },
   {
    "duration": 202,
    "start_time": "2021-12-01T21:25:50.679Z"
   },
   {
    "duration": 204,
    "start_time": "2021-12-01T21:25:50.883Z"
   },
   {
    "duration": 545,
    "start_time": "2021-12-01T21:25:51.090Z"
   },
   {
    "duration": 833,
    "start_time": "2021-12-01T21:25:51.637Z"
   },
   {
    "duration": 856,
    "start_time": "2021-12-01T21:25:56.356Z"
   },
   {
    "duration": 1621,
    "start_time": "2021-12-01T21:45:57.954Z"
   },
   {
    "duration": 57,
    "start_time": "2021-12-01T21:45:59.578Z"
   },
   {
    "duration": 8,
    "start_time": "2021-12-01T21:45:59.638Z"
   },
   {
    "duration": 5,
    "start_time": "2021-12-01T21:45:59.650Z"
   },
   {
    "duration": 40,
    "start_time": "2021-12-01T21:45:59.657Z"
   },
   {
    "duration": 17,
    "start_time": "2021-12-01T21:45:59.700Z"
   },
   {
    "duration": 718,
    "start_time": "2021-12-01T21:45:59.720Z"
   },
   {
    "duration": 2552,
    "start_time": "2021-12-01T21:46:00.441Z"
   },
   {
    "duration": 836,
    "start_time": "2021-12-01T21:46:02.997Z"
   },
   {
    "duration": 49,
    "start_time": "2021-12-01T21:46:03.837Z"
   },
   {
    "duration": 13,
    "start_time": "2021-12-01T21:46:03.889Z"
   },
   {
    "duration": 11,
    "start_time": "2021-12-01T21:46:03.904Z"
   },
   {
    "duration": 16,
    "start_time": "2021-12-01T21:46:03.917Z"
   },
   {
    "duration": 11,
    "start_time": "2021-12-01T21:46:03.935Z"
   },
   {
    "duration": 40,
    "start_time": "2021-12-01T21:46:03.949Z"
   },
   {
    "duration": 73132,
    "start_time": "2021-12-01T21:46:03.992Z"
   },
   {
    "duration": 1875,
    "start_time": "2021-12-01T21:47:17.127Z"
   },
   {
    "duration": 386262,
    "start_time": "2021-12-01T21:47:19.005Z"
   },
   {
    "duration": 36053,
    "start_time": "2021-12-01T21:53:45.270Z"
   },
   {
    "duration": 1855141,
    "start_time": "2021-12-01T21:54:21.326Z"
   },
   {
    "duration": 235,
    "start_time": "2021-12-01T22:25:16.469Z"
   },
   {
    "duration": 205,
    "start_time": "2021-12-01T22:26:22.147Z"
   },
   {
    "duration": 7,
    "start_time": "2021-12-01T22:26:22.354Z"
   },
   {
    "duration": 29,
    "start_time": "2021-12-01T22:26:22.364Z"
   },
   {
    "duration": 16,
    "start_time": "2021-12-01T22:26:22.395Z"
   },
   {
    "duration": 221,
    "start_time": "2021-12-01T22:26:22.415Z"
   },
   {
    "duration": 207,
    "start_time": "2021-12-01T22:26:22.639Z"
   },
   {
    "duration": 3019,
    "start_time": "2021-12-01T22:26:22.851Z"
   },
   {
    "duration": 114009,
    "start_time": "2021-12-01T22:26:30.484Z"
   },
   {
    "duration": 220,
    "start_time": "2021-12-01T22:28:29.504Z"
   },
   {
    "duration": 198,
    "start_time": "2021-12-01T22:28:35.524Z"
   },
   {
    "duration": 380,
    "start_time": "2021-12-01T22:29:00.283Z"
   },
   {
    "duration": 7937,
    "start_time": "2021-12-01T22:29:16.174Z"
   },
   {
    "duration": 104,
    "start_time": "2021-12-01T22:29:31.300Z"
   },
   {
    "duration": 1594,
    "start_time": "2021-12-01T22:29:40.598Z"
   },
   {
    "duration": 58,
    "start_time": "2021-12-01T22:29:42.194Z"
   },
   {
    "duration": 9,
    "start_time": "2021-12-01T22:29:42.255Z"
   },
   {
    "duration": 18,
    "start_time": "2021-12-01T22:29:42.266Z"
   },
   {
    "duration": 19,
    "start_time": "2021-12-01T22:29:42.287Z"
   },
   {
    "duration": 18,
    "start_time": "2021-12-01T22:29:42.308Z"
   },
   {
    "duration": 707,
    "start_time": "2021-12-01T22:29:42.329Z"
   },
   {
    "duration": 2283,
    "start_time": "2021-12-01T22:29:43.040Z"
   },
   {
    "duration": 823,
    "start_time": "2021-12-01T22:29:45.326Z"
   },
   {
    "duration": 53,
    "start_time": "2021-12-01T22:29:46.151Z"
   },
   {
    "duration": 15,
    "start_time": "2021-12-01T22:29:46.207Z"
   },
   {
    "duration": 10,
    "start_time": "2021-12-01T22:29:46.225Z"
   },
   {
    "duration": 6,
    "start_time": "2021-12-01T22:29:46.238Z"
   },
   {
    "duration": 41,
    "start_time": "2021-12-01T22:29:46.246Z"
   },
   {
    "duration": 14,
    "start_time": "2021-12-01T22:29:46.289Z"
   },
   {
    "duration": 72619,
    "start_time": "2021-12-01T22:29:46.305Z"
   },
   {
    "duration": 1913,
    "start_time": "2021-12-01T22:30:58.928Z"
   },
   {
    "duration": 393473,
    "start_time": "2021-12-01T22:31:00.843Z"
   },
   {
    "duration": 37922,
    "start_time": "2021-12-01T22:37:34.319Z"
   },
   {
    "duration": 255143,
    "start_time": "2021-12-01T22:38:12.244Z"
   },
   {
    "duration": 206,
    "start_time": "2021-12-01T22:42:27.389Z"
   },
   {
    "duration": 2313,
    "start_time": "2021-12-01T22:42:27.598Z"
   },
   {
    "duration": 277,
    "start_time": "2021-12-01T22:42:29.918Z"
   },
   {
    "duration": 8,
    "start_time": "2021-12-01T22:42:30.198Z"
   },
   {
    "duration": 37,
    "start_time": "2021-12-01T22:42:30.210Z"
   },
   {
    "duration": 32,
    "start_time": "2021-12-01T22:42:30.251Z"
   },
   {
    "duration": 253,
    "start_time": "2021-12-01T22:42:30.287Z"
   },
   {
    "duration": 268,
    "start_time": "2021-12-01T22:42:30.543Z"
   },
   {
    "duration": 8046,
    "start_time": "2021-12-01T22:42:40.447Z"
   },
   {
    "duration": 113,
    "start_time": "2021-12-01T22:43:03.883Z"
   },
   {
    "duration": 95321,
    "start_time": "2021-12-01T22:43:08.123Z"
   },
   {
    "duration": 386,
    "start_time": "2021-12-01T22:44:43.447Z"
   },
   {
    "duration": 812,
    "start_time": "2021-12-01T22:44:43.836Z"
   },
   {
    "duration": 35667,
    "start_time": "2021-12-01T22:44:50.941Z"
   },
   {
    "duration": 50870,
    "start_time": "2021-12-01T22:45:26.612Z"
   },
   {
    "duration": 50137,
    "start_time": "2021-12-01T22:46:22.181Z"
   },
   {
    "duration": 36700,
    "start_time": "2021-12-01T22:47:26.904Z"
   },
   {
    "duration": 50577,
    "start_time": "2021-12-01T22:48:22.889Z"
   },
   {
    "duration": 1657,
    "start_time": "2021-12-01T22:49:37.766Z"
   },
   {
    "duration": 58,
    "start_time": "2021-12-01T22:49:39.426Z"
   },
   {
    "duration": 8,
    "start_time": "2021-12-01T22:49:39.487Z"
   },
   {
    "duration": 5,
    "start_time": "2021-12-01T22:49:39.497Z"
   },
   {
    "duration": 20,
    "start_time": "2021-12-01T22:49:39.504Z"
   },
   {
    "duration": 66,
    "start_time": "2021-12-01T22:49:39.526Z"
   },
   {
    "duration": 792,
    "start_time": "2021-12-01T22:49:39.594Z"
   },
   {
    "duration": 2402,
    "start_time": "2021-12-01T22:49:40.390Z"
   },
   {
    "duration": 834,
    "start_time": "2021-12-01T22:49:42.795Z"
   },
   {
    "duration": 53,
    "start_time": "2021-12-01T22:49:43.631Z"
   },
   {
    "duration": 13,
    "start_time": "2021-12-01T22:49:43.687Z"
   },
   {
    "duration": 7,
    "start_time": "2021-12-01T22:49:43.702Z"
   },
   {
    "duration": 15,
    "start_time": "2021-12-01T22:49:43.711Z"
   },
   {
    "duration": 11,
    "start_time": "2021-12-01T22:49:43.728Z"
   },
   {
    "duration": 49,
    "start_time": "2021-12-01T22:49:43.742Z"
   },
   {
    "duration": 97602,
    "start_time": "2021-12-01T22:49:43.794Z"
   },
   {
    "duration": 1970,
    "start_time": "2021-12-01T22:51:21.399Z"
   },
   {
    "duration": 402432,
    "start_time": "2021-12-01T22:51:23.371Z"
   },
   {
    "duration": 36525,
    "start_time": "2021-12-01T22:58:05.805Z"
   },
   {
    "duration": 271121,
    "start_time": "2021-12-01T22:58:42.332Z"
   },
   {
    "duration": 209,
    "start_time": "2021-12-01T23:03:13.455Z"
   },
   {
    "duration": 92481,
    "start_time": "2021-12-01T23:03:13.666Z"
   },
   {
    "duration": -813,
    "start_time": "2021-12-01T23:04:46.965Z"
   },
   {
    "duration": -823,
    "start_time": "2021-12-01T23:04:46.977Z"
   },
   {
    "duration": -833,
    "start_time": "2021-12-01T23:04:46.989Z"
   },
   {
    "duration": -839,
    "start_time": "2021-12-01T23:04:46.997Z"
   },
   {
    "duration": -848,
    "start_time": "2021-12-01T23:04:47.007Z"
   },
   {
    "duration": -853,
    "start_time": "2021-12-01T23:04:47.015Z"
   },
   {
    "duration": 1627,
    "start_time": "2021-12-01T23:05:20.283Z"
   },
   {
    "duration": 57,
    "start_time": "2021-12-01T23:05:21.914Z"
   },
   {
    "duration": 12,
    "start_time": "2021-12-01T23:05:21.974Z"
   },
   {
    "duration": 7,
    "start_time": "2021-12-01T23:05:21.989Z"
   },
   {
    "duration": 25,
    "start_time": "2021-12-01T23:05:21.999Z"
   },
   {
    "duration": 16,
    "start_time": "2021-12-01T23:05:22.026Z"
   },
   {
    "duration": 715,
    "start_time": "2021-12-01T23:05:22.044Z"
   },
   {
    "duration": 2276,
    "start_time": "2021-12-01T23:05:22.762Z"
   },
   {
    "duration": 812,
    "start_time": "2021-12-01T23:05:25.041Z"
   },
   {
    "duration": 55,
    "start_time": "2021-12-01T23:05:25.856Z"
   },
   {
    "duration": 14,
    "start_time": "2021-12-01T23:05:25.913Z"
   },
   {
    "duration": 7,
    "start_time": "2021-12-01T23:05:25.930Z"
   },
   {
    "duration": 9,
    "start_time": "2021-12-01T23:05:25.939Z"
   },
   {
    "duration": 36,
    "start_time": "2021-12-01T23:05:25.951Z"
   },
   {
    "duration": 17,
    "start_time": "2021-12-01T23:05:25.990Z"
   },
   {
    "duration": 72808,
    "start_time": "2021-12-01T23:05:26.011Z"
   },
   {
    "duration": 1868,
    "start_time": "2021-12-01T23:06:38.822Z"
   },
   {
    "duration": 403802,
    "start_time": "2021-12-01T23:06:40.693Z"
   },
   {
    "duration": 38027,
    "start_time": "2021-12-01T23:13:24.498Z"
   },
   {
    "duration": 134532,
    "start_time": "2021-12-01T23:14:02.528Z"
   },
   {
    "duration": 546,
    "start_time": "2021-12-01T23:16:17.063Z"
   },
   {
    "duration": 60197,
    "start_time": "2021-12-01T23:16:17.612Z"
   },
   {
    "duration": 164,
    "start_time": "2021-12-01T23:17:17.814Z"
   },
   {
    "duration": 8,
    "start_time": "2021-12-01T23:17:17.983Z"
   },
   {
    "duration": 24,
    "start_time": "2021-12-01T23:17:17.994Z"
   },
   {
    "duration": 12,
    "start_time": "2021-12-01T23:17:18.021Z"
   },
   {
    "duration": 58,
    "start_time": "2021-12-01T23:17:18.036Z"
   },
   {
    "duration": 12,
    "start_time": "2021-12-01T23:17:18.097Z"
   },
   {
    "duration": 7,
    "start_time": "2021-12-01T23:30:38.065Z"
   },
   {
    "duration": 2226,
    "start_time": "2021-12-01T23:30:49.142Z"
   },
   {
    "duration": 89,
    "start_time": "2021-12-01T23:30:51.371Z"
   },
   {
    "duration": 11,
    "start_time": "2021-12-01T23:30:51.464Z"
   },
   {
    "duration": 6,
    "start_time": "2021-12-01T23:30:51.484Z"
   },
   {
    "duration": 26,
    "start_time": "2021-12-01T23:30:51.493Z"
   },
   {
    "duration": 24,
    "start_time": "2021-12-01T23:30:51.522Z"
   },
   {
    "duration": 957,
    "start_time": "2021-12-01T23:30:51.583Z"
   },
   {
    "duration": 2282,
    "start_time": "2021-12-01T23:30:52.544Z"
   },
   {
    "duration": 821,
    "start_time": "2021-12-01T23:30:54.829Z"
   },
   {
    "duration": 49,
    "start_time": "2021-12-01T23:30:55.652Z"
   },
   {
    "duration": 14,
    "start_time": "2021-12-01T23:30:55.704Z"
   },
   {
    "duration": 8,
    "start_time": "2021-12-01T23:30:55.720Z"
   },
   {
    "duration": 8,
    "start_time": "2021-12-01T23:30:55.731Z"
   },
   {
    "duration": 43,
    "start_time": "2021-12-01T23:30:55.742Z"
   },
   {
    "duration": 19,
    "start_time": "2021-12-01T23:30:55.788Z"
   },
   {
    "duration": 72698,
    "start_time": "2021-12-01T23:30:55.811Z"
   },
   {
    "duration": 1882,
    "start_time": "2021-12-01T23:32:08.512Z"
   },
   {
    "duration": 408353,
    "start_time": "2021-12-01T23:32:10.397Z"
   },
   {
    "duration": 37047,
    "start_time": "2021-12-01T23:38:58.752Z"
   },
   {
    "duration": 94758,
    "start_time": "2021-12-01T23:39:35.802Z"
   },
   {
    "duration": 379,
    "start_time": "2021-12-01T23:41:10.562Z"
   },
   {
    "duration": 50362,
    "start_time": "2021-12-01T23:41:10.944Z"
   },
   {
    "duration": 180,
    "start_time": "2021-12-01T23:42:01.310Z"
   },
   {
    "duration": 7,
    "start_time": "2021-12-01T23:42:01.493Z"
   },
   {
    "duration": 34,
    "start_time": "2021-12-01T23:42:01.502Z"
   },
   {
    "duration": 16,
    "start_time": "2021-12-01T23:42:01.539Z"
   },
   {
    "duration": 31,
    "start_time": "2021-12-01T23:42:01.558Z"
   },
   {
    "duration": 31,
    "start_time": "2021-12-01T23:42:01.592Z"
   }
  ],
  "kernelspec": {
   "display_name": "Python 3",
   "language": "python",
   "name": "python3"
  },
  "language_info": {
   "codemirror_mode": {
    "name": "ipython",
    "version": 3
   },
   "file_extension": ".py",
   "mimetype": "text/x-python",
   "name": "python",
   "nbconvert_exporter": "python",
   "pygments_lexer": "ipython3",
   "version": "3.7.8"
  },
  "toc": {
   "base_numbering": 1,
   "nav_menu": {},
   "number_sections": true,
   "sideBar": true,
   "skip_h1_title": true,
   "title_cell": "Table of Contents",
   "title_sidebar": "Contents",
   "toc_cell": false,
   "toc_position": {
    "height": "calc(100% - 180px)",
    "left": "10px",
    "top": "150px",
    "width": "302.512px"
   },
   "toc_section_display": true,
   "toc_window_display": true
  }
 },
 "nbformat": 4,
 "nbformat_minor": 2
}
