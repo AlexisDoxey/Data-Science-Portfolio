{
 "cells": [
  {
   "cell_type": "markdown",
   "metadata": {},
   "source": [
    "# Machine Learning for Recommmending a Phone Plan"
   ]
  },
  {
   "cell_type": "raw",
   "metadata": {},
   "source": [
    "Project Description:\n",
    "\n",
    "Mobile carrier Megaline has found out that many of their subscribers use legacy plans. They want to develop a model that would analyze subscribers' behavior and recommend one of Megaline's newer plans: Smart or Ultra.\n",
    "You have access to behavior data about subscribers who have already switched to the new plans (from the project for the Statistical Data Analysis course). For this classification task, you need to develop a model that will pick the right plan. Since you’ve already performed the data preprocessing step, you can move straight to creating the model.\n",
    "Develop a model with the highest possible accuracy. In this project, the threshold for accuracy is 0.75. Check the accuracy using the test dataset.\n",
    "\n",
    "Every observation in the dataset contains monthly behavior information about one user. The information given is as follows:\n",
    "сalls — number of calls,\n",
    "minutes — total call duration in minutes,\n",
    "messages — number of text messages,\n",
    "mb_used — Internet traffic used in MB,\n",
    "is_ultra — plan for the current month (Ultra - 1, Smart - 0)."
   ]
  },
  {
   "cell_type": "markdown",
   "metadata": {},
   "source": [
    "## Open and Look Through Data File"
   ]
  },
  {
   "cell_type": "code",
   "execution_count": 1,
   "metadata": {},
   "outputs": [],
   "source": [
    "import pandas as pd\n",
    "import numpy as np\n",
    "from sklearn.tree import DecisionTreeClassifier\n",
    "from sklearn.ensemble import RandomForestClassifier \n",
    "from sklearn.linear_model import LogisticRegression \n",
    "from sklearn.dummy import DummyClassifier\n",
    "from sklearn.metrics import confusion_matrix\n",
    "from sklearn.metrics import accuracy_score\n",
    "from sklearn.model_selection import train_test_split \n",
    "import sys\n",
    "import warnings\n",
    "if not sys.warnoptions:\n",
    "    warnings.simplefilter(\"ignore\")"
   ]
  },
  {
   "cell_type": "code",
   "execution_count": 2,
   "metadata": {},
   "outputs": [
    {
     "data": {
      "text/html": [
       "<div>\n",
       "<style scoped>\n",
       "    .dataframe tbody tr th:only-of-type {\n",
       "        vertical-align: middle;\n",
       "    }\n",
       "\n",
       "    .dataframe tbody tr th {\n",
       "        vertical-align: top;\n",
       "    }\n",
       "\n",
       "    .dataframe thead th {\n",
       "        text-align: right;\n",
       "    }\n",
       "</style>\n",
       "<table border=\"1\" class=\"dataframe\">\n",
       "  <thead>\n",
       "    <tr style=\"text-align: right;\">\n",
       "      <th></th>\n",
       "      <th>calls</th>\n",
       "      <th>minutes</th>\n",
       "      <th>messages</th>\n",
       "      <th>mb_used</th>\n",
       "      <th>is_ultra</th>\n",
       "    </tr>\n",
       "  </thead>\n",
       "  <tbody>\n",
       "    <tr>\n",
       "      <td>0</td>\n",
       "      <td>40.0</td>\n",
       "      <td>311.90</td>\n",
       "      <td>83.0</td>\n",
       "      <td>19915.42</td>\n",
       "      <td>0</td>\n",
       "    </tr>\n",
       "    <tr>\n",
       "      <td>1</td>\n",
       "      <td>85.0</td>\n",
       "      <td>516.75</td>\n",
       "      <td>56.0</td>\n",
       "      <td>22696.96</td>\n",
       "      <td>0</td>\n",
       "    </tr>\n",
       "    <tr>\n",
       "      <td>2</td>\n",
       "      <td>77.0</td>\n",
       "      <td>467.66</td>\n",
       "      <td>86.0</td>\n",
       "      <td>21060.45</td>\n",
       "      <td>0</td>\n",
       "    </tr>\n",
       "    <tr>\n",
       "      <td>3</td>\n",
       "      <td>106.0</td>\n",
       "      <td>745.53</td>\n",
       "      <td>81.0</td>\n",
       "      <td>8437.39</td>\n",
       "      <td>1</td>\n",
       "    </tr>\n",
       "    <tr>\n",
       "      <td>4</td>\n",
       "      <td>66.0</td>\n",
       "      <td>418.74</td>\n",
       "      <td>1.0</td>\n",
       "      <td>14502.75</td>\n",
       "      <td>0</td>\n",
       "    </tr>\n",
       "  </tbody>\n",
       "</table>\n",
       "</div>"
      ],
      "text/plain": [
       "   calls  minutes  messages   mb_used  is_ultra\n",
       "0   40.0   311.90      83.0  19915.42         0\n",
       "1   85.0   516.75      56.0  22696.96         0\n",
       "2   77.0   467.66      86.0  21060.45         0\n",
       "3  106.0   745.53      81.0   8437.39         1\n",
       "4   66.0   418.74       1.0  14502.75         0"
      ]
     },
     "execution_count": 2,
     "metadata": {},
     "output_type": "execute_result"
    }
   ],
   "source": [
    "df = pd.read_csv('/datasets/users_behavior.csv')\n",
    "\n",
    "df.head()"
   ]
  },
  {
   "cell_type": "code",
   "execution_count": 3,
   "metadata": {},
   "outputs": [
    {
     "name": "stdout",
     "output_type": "stream",
     "text": [
      "<class 'pandas.core.frame.DataFrame'>\n",
      "RangeIndex: 3214 entries, 0 to 3213\n",
      "Data columns (total 5 columns):\n",
      "calls       3214 non-null float64\n",
      "minutes     3214 non-null float64\n",
      "messages    3214 non-null float64\n",
      "mb_used     3214 non-null float64\n",
      "is_ultra    3214 non-null int64\n",
      "dtypes: float64(4), int64(1)\n",
      "memory usage: 125.7 KB\n"
     ]
    },
    {
     "data": {
      "text/plain": [
       "0"
      ]
     },
     "execution_count": 3,
     "metadata": {},
     "output_type": "execute_result"
    }
   ],
   "source": [
    "df.info()\n",
    "df.duplicated().sum()"
   ]
  },
  {
   "cell_type": "markdown",
   "metadata": {},
   "source": [
    "The dataset users_behavior has 3214 entries and 5 columns: calls, minutes, messages, mb_used, and is_ultra. There are two data types float and integer. The columns calls, minutes, messages, and mb_used are data type float. The column is_ultra is data type integer.There are no missing or duplicate values in the dataset."
   ]
  },
  {
   "cell_type": "markdown",
   "metadata": {},
   "source": [
    "## Split the Data into a Training Set, a Validation Set, and a Test Set"
   ]
  },
  {
   "cell_type": "code",
   "execution_count": 16,
   "metadata": {},
   "outputs": [
    {
     "data": {
      "text/plain": [
       "1928"
      ]
     },
     "metadata": {},
     "output_type": "display_data"
    },
    {
     "data": {
      "text/plain": [
       "643"
      ]
     },
     "metadata": {},
     "output_type": "display_data"
    },
    {
     "data": {
      "text/plain": [
       "643"
      ]
     },
     "metadata": {},
     "output_type": "display_data"
    }
   ],
   "source": [
    "#Split data\n",
    "df_train,df_valid = train_test_split(df, test_size = 0.20, random_state = 123)\n",
    "df_train,df_test = train_test_split(df_train, test_size = 0.25, random_state = 123)\n",
    "#Check if data is split correct\n",
    "display(len(df_train))\n",
    "display(len(df_valid))\n",
    "display(len(df_test))"
   ]
  },
  {
   "cell_type": "markdown",
   "metadata": {},
   "source": [
    "We split the data in to a training set, test set, and validation set. The training set is 60% of data, the test test is 20% of data, and the validation set is 20% of data."
   ]
  },
  {
   "cell_type": "markdown",
   "metadata": {},
   "source": [
    "## Investigate the Quality of Different Models by Changing Hyperparameters"
   ]
  },
  {
   "cell_type": "code",
   "execution_count": 5,
   "metadata": {},
   "outputs": [],
   "source": [
    "#Create variables for features and target features\n",
    "features_train = df_train.drop('is_ultra', axis=1)\n",
    "target_train = df_train['is_ultra']\n",
    "features_test = df_test.drop('is_ultra', axis=1)\n",
    "target_test = df_test['is_ultra']\n",
    "features_valid = df_valid.drop('is_ultra', axis=1)\n",
    "target_valid = df_valid['is_ultra']"
   ]
  },
  {
   "cell_type": "markdown",
   "metadata": {},
   "source": [
    "### Decision Tree Model"
   ]
  },
  {
   "cell_type": "code",
   "execution_count": 6,
   "metadata": {},
   "outputs": [
    {
     "name": "stdout",
     "output_type": "stream",
     "text": [
      "Max Depth = 3 Accuracy: 0.8055987558320373\n"
     ]
    }
   ],
   "source": [
    "#Find highest accuracy by comparing max depth for decision tree model\n",
    "best_accuracy = 0\n",
    "best_depth = 0\n",
    "for depth in range(1,100):\n",
    "    decision_tree_model = DecisionTreeClassifier(random_state=123, max_depth = depth)\n",
    "    decision_tree_model.fit(features_train,target_train)\n",
    "    decision_tree_predictions_valid = decision_tree_model.predict(features_valid)\n",
    "    accuracy = accuracy_score(target_valid, decision_tree_predictions_valid)\n",
    "    if accuracy > best_accuracy:\n",
    "        best_accuracy = accuracy\n",
    "        best_depth = depth\n",
    "print('Max Depth =', best_depth, 'Accuracy:', best_accuracy)"
   ]
  },
  {
   "cell_type": "markdown",
   "metadata": {},
   "source": [
    "### Random Forest Model"
   ]
  },
  {
   "cell_type": "code",
   "execution_count": 11,
   "metadata": {},
   "outputs": [
    {
     "name": "stdout",
     "output_type": "stream",
     "text": [
      "n_estimator = 32 Accuracy: 0.807153965785381\n"
     ]
    }
   ],
   "source": [
    "#Find highest accuracy by comparing n_estimators for random forest model.\n",
    "best_accuracy = 0\n",
    "best_n_estimator = 0\n",
    "for n in range(1,50):\n",
    "    random_forest_model = RandomForestClassifier(random_state=123, n_estimators = n)\n",
    "    random_forest_model.fit(features_train,target_train)\n",
    "    random_forest_predictions_valid = random_forest_model.predict(features_valid)\n",
    "    accuracy = accuracy_score(target_valid, random_forest_predictions_valid)\n",
    "    if accuracy > best_accuracy:\n",
    "        best_accuracy = accuracy\n",
    "        best_n_estimator = n\n",
    "print('n_estimator =', best_n_estimator, 'Accuracy:', best_accuracy)"
   ]
  },
  {
   "cell_type": "markdown",
   "metadata": {},
   "source": [
    "### Logistic Regression Model"
   ]
  },
  {
   "cell_type": "code",
   "execution_count": 8,
   "metadata": {},
   "outputs": [
    {
     "data": {
      "text/plain": [
       "0.702954898911353"
      ]
     },
     "metadata": {},
     "output_type": "display_data"
    }
   ],
   "source": [
    "#Find accuracy of logistic regression model\n",
    "logistic_regression_model = LogisticRegression(random_state=123, solver='liblinear') \n",
    "logistic_regression_model.fit(features_train,target_train)\n",
    "logistic_regression_predictions_valid = logistic_regression_model.predict(features_valid)\n",
    "display(accuracy_score(target_valid,logistic_regression_predictions_valid))"
   ]
  },
  {
   "cell_type": "markdown",
   "metadata": {},
   "source": [
    "The best model for our data is the decision tree model at a max_depth of 6. The random forest and decision tree models were relatively close in accuracy. The logistic regression model has the lowest accuracy at 70%."
   ]
  },
  {
   "cell_type": "markdown",
   "metadata": {},
   "source": [
    "## Check the Quality of the Model Using the Test Set"
   ]
  },
  {
   "cell_type": "code",
   "execution_count": 15,
   "metadata": {},
   "outputs": [
    {
     "name": "stdout",
     "output_type": "stream",
     "text": [
      "Accuracy: 0.7962674961119751\n"
     ]
    }
   ],
   "source": [
    "random_forest_model = RandomForestClassifier(random_state=123, n_estimators = 32)\n",
    "random_forest_model.fit(features_train,target_train)\n",
    "test_prediction = random_forest_model.predict(features_test)\n",
    "accuracy = accuracy_score(target_test,test_prediction)\n",
    "print('Accuracy:', accuracy)"
   ]
  },
  {
   "cell_type": "markdown",
   "metadata": {},
   "source": [
    "The accuracy of the model is 79.62%. The model passed the accuracy threshold of 75%."
   ]
  },
  {
   "cell_type": "markdown",
   "metadata": {},
   "source": [
    "## Sanity Check the Model"
   ]
  },
  {
   "cell_type": "code",
   "execution_count": 13,
   "metadata": {},
   "outputs": [
    {
     "data": {
      "text/plain": [
       "0.6842923794712286"
      ]
     },
     "metadata": {},
     "output_type": "display_data"
    }
   ],
   "source": [
    "#Create a dummy model to sanity check the model\n",
    "model_dummy = DummyClassifier(strategy = 'most_frequent', random_state=123)\n",
    "model_dummy.fit(features_train, target_train)\n",
    "display(model_dummy.score(features_test, target_test))"
   ]
  },
  {
   "cell_type": "markdown",
   "metadata": {},
   "source": [
    "To sanity check our model we used a dummy estimator. The accuracy of the dummy model was 68.43%."
   ]
  },
  {
   "cell_type": "markdown",
   "metadata": {},
   "source": [
    "## Conclusion"
   ]
  },
  {
   "cell_type": "markdown",
   "metadata": {},
   "source": [
    "We obtained an accuracy score of 79.62% from our data. To obtain the accuracy score we tested multiple models with different hyperparameters. We found that the best model for our data was the decision tree model with a max depth of 6. We sanity checked our model by using a dummy estimator and obtained an accuracy score of 68.43%. Based on our findings we have obtained a great model for our data."
   ]
  }
 ],
 "metadata": {
  "ExecuteTimeLog": [
   {
    "duration": 1054,
    "start_time": "2021-09-20T14:34:29.930Z"
   },
   {
    "duration": 2145,
    "start_time": "2021-09-20T14:35:17.616Z"
   },
   {
    "duration": 27,
    "start_time": "2021-09-20T14:36:50.986Z"
   },
   {
    "duration": 6,
    "start_time": "2021-09-20T14:37:06.510Z"
   },
   {
    "duration": 10,
    "start_time": "2021-09-20T14:37:28.109Z"
   },
   {
    "duration": 10,
    "start_time": "2021-09-20T14:37:34.778Z"
   },
   {
    "duration": 301,
    "start_time": "2021-09-20T14:59:00.295Z"
   },
   {
    "duration": 1076,
    "start_time": "2021-09-20T15:13:14.004Z"
   },
   {
    "duration": 26,
    "start_time": "2021-09-20T15:13:15.082Z"
   },
   {
    "duration": 9,
    "start_time": "2021-09-20T15:13:15.109Z"
   },
   {
    "duration": 294,
    "start_time": "2021-09-20T15:56:23.645Z"
   },
   {
    "duration": 1069,
    "start_time": "2021-09-20T15:57:36.827Z"
   },
   {
    "duration": 27,
    "start_time": "2021-09-20T15:57:37.897Z"
   },
   {
    "duration": 8,
    "start_time": "2021-09-20T15:57:37.926Z"
   },
   {
    "duration": 23,
    "start_time": "2021-09-20T15:57:37.936Z"
   },
   {
    "duration": 27,
    "start_time": "2021-09-20T16:18:41.809Z"
   },
   {
    "duration": 3,
    "start_time": "2021-09-20T16:46:19.075Z"
   },
   {
    "duration": 1322,
    "start_time": "2021-09-22T18:47:06.192Z"
   },
   {
    "duration": 1363,
    "start_time": "2021-09-22T19:03:09.441Z"
   },
   {
    "duration": 40,
    "start_time": "2021-09-22T19:03:10.807Z"
   },
   {
    "duration": 20,
    "start_time": "2021-09-22T19:03:10.850Z"
   },
   {
    "duration": 29,
    "start_time": "2021-09-22T19:03:10.874Z"
   },
   {
    "duration": 8,
    "start_time": "2021-09-22T19:03:10.905Z"
   },
   {
    "duration": 409,
    "start_time": "2021-09-22T19:03:10.923Z"
   },
   {
    "duration": 1303,
    "start_time": "2021-09-22T19:03:11.334Z"
   },
   {
    "duration": 31,
    "start_time": "2021-09-22T19:03:12.640Z"
   },
   {
    "duration": 14,
    "start_time": "2021-09-22T19:03:12.674Z"
   },
   {
    "duration": 8,
    "start_time": "2021-09-22T19:03:12.691Z"
   },
   {
    "duration": 64,
    "start_time": "2021-09-24T16:57:05.570Z"
   },
   {
    "duration": 61,
    "start_time": "2021-09-24T17:09:36.491Z"
   },
   {
    "duration": 127,
    "start_time": "2021-09-24T17:09:42.651Z"
   },
   {
    "duration": 220,
    "start_time": "2021-09-24T17:11:35.380Z"
   },
   {
    "duration": 1043,
    "start_time": "2021-09-24T17:11:47.587Z"
   },
   {
    "duration": 32,
    "start_time": "2021-09-24T17:11:48.632Z"
   },
   {
    "duration": 10,
    "start_time": "2021-09-24T17:11:48.665Z"
   },
   {
    "duration": 29,
    "start_time": "2021-09-24T17:11:48.677Z"
   },
   {
    "duration": 5,
    "start_time": "2021-09-24T17:11:48.707Z"
   },
   {
    "duration": 266,
    "start_time": "2021-09-24T17:11:48.714Z"
   },
   {
    "duration": -549,
    "start_time": "2021-09-24T17:11:49.530Z"
   },
   {
    "duration": -571,
    "start_time": "2021-09-24T17:11:49.553Z"
   },
   {
    "duration": -583,
    "start_time": "2021-09-24T17:11:49.566Z"
   },
   {
    "duration": -585,
    "start_time": "2021-09-24T17:11:49.569Z"
   },
   {
    "duration": 133,
    "start_time": "2021-09-24T17:12:00.145Z"
   },
   {
    "duration": 379,
    "start_time": "2021-09-24T17:12:27.834Z"
   },
   {
    "duration": 154,
    "start_time": "2021-09-24T17:12:55.796Z"
   },
   {
    "duration": 141,
    "start_time": "2021-09-24T17:13:10.774Z"
   },
   {
    "duration": 138,
    "start_time": "2021-09-24T17:13:47.611Z"
   },
   {
    "duration": 130,
    "start_time": "2021-09-24T17:14:31.832Z"
   },
   {
    "duration": 140,
    "start_time": "2021-09-24T17:15:27.082Z"
   },
   {
    "duration": 147,
    "start_time": "2021-09-24T17:25:23.773Z"
   },
   {
    "duration": 124,
    "start_time": "2021-09-24T17:25:34.955Z"
   },
   {
    "duration": 128,
    "start_time": "2021-09-24T17:29:22.805Z"
   },
   {
    "duration": 124,
    "start_time": "2021-09-24T17:30:32.213Z"
   },
   {
    "duration": 123,
    "start_time": "2021-09-24T17:30:58.133Z"
   },
   {
    "duration": 126,
    "start_time": "2021-09-24T17:31:13.121Z"
   },
   {
    "duration": 124,
    "start_time": "2021-09-24T17:31:53.606Z"
   },
   {
    "duration": 11,
    "start_time": "2021-09-24T17:32:04.863Z"
   },
   {
    "duration": 12,
    "start_time": "2021-09-24T17:32:13.224Z"
   },
   {
    "duration": 823,
    "start_time": "2021-09-24T17:32:18.504Z"
   },
   {
    "duration": 125,
    "start_time": "2021-09-24T17:33:02.953Z"
   },
   {
    "duration": 123,
    "start_time": "2021-09-24T17:33:08.981Z"
   },
   {
    "duration": 133,
    "start_time": "2021-09-24T17:33:25.791Z"
   },
   {
    "duration": 299,
    "start_time": "2021-09-24T17:33:33.994Z"
   },
   {
    "duration": 57,
    "start_time": "2021-09-24T17:33:44.402Z"
   },
   {
    "duration": 846,
    "start_time": "2021-09-24T17:33:49.952Z"
   },
   {
    "duration": 675,
    "start_time": "2021-09-24T17:39:29.164Z"
   },
   {
    "duration": 800,
    "start_time": "2021-09-24T17:40:07.170Z"
   },
   {
    "duration": 59,
    "start_time": "2021-09-24T17:40:48.544Z"
   },
   {
    "duration": 701,
    "start_time": "2021-09-24T17:40:52.470Z"
   },
   {
    "duration": 1031,
    "start_time": "2021-09-24T17:41:57.296Z"
   },
   {
    "duration": 30,
    "start_time": "2021-09-24T17:41:58.329Z"
   },
   {
    "duration": 9,
    "start_time": "2021-09-24T17:41:58.361Z"
   },
   {
    "duration": 29,
    "start_time": "2021-09-24T17:41:58.372Z"
   },
   {
    "duration": 6,
    "start_time": "2021-09-24T17:41:58.402Z"
   },
   {
    "duration": 846,
    "start_time": "2021-09-24T17:41:58.409Z"
   },
   {
    "duration": 11,
    "start_time": "2021-09-24T17:42:16.357Z"
   },
   {
    "duration": 10,
    "start_time": "2021-09-24T17:42:16.369Z"
   },
   {
    "duration": 22,
    "start_time": "2021-09-24T17:42:16.381Z"
   },
   {
    "duration": 4438,
    "start_time": "2021-09-24T17:42:16.404Z"
   },
   {
    "duration": 118,
    "start_time": "2021-09-24T17:45:22.775Z"
   },
   {
    "duration": 7,
    "start_time": "2021-09-24T17:45:58.790Z"
   },
   {
    "duration": 124,
    "start_time": "2021-09-24T17:47:58.768Z"
   },
   {
    "duration": 115,
    "start_time": "2021-09-24T17:48:06.970Z"
   },
   {
    "duration": 11,
    "start_time": "2021-09-24T17:49:11.577Z"
   }
  ],
  "kernelspec": {
   "display_name": "Python 3 (ipykernel)",
   "language": "python",
   "name": "python3"
  },
  "language_info": {
   "codemirror_mode": {
    "name": "ipython",
    "version": 3
   },
   "file_extension": ".py",
   "mimetype": "text/x-python",
   "name": "python",
   "nbconvert_exporter": "python",
   "pygments_lexer": "ipython3",
   "version": "3.9.7"
  },
  "toc": {
   "base_numbering": 1,
   "nav_menu": {},
   "number_sections": true,
   "sideBar": true,
   "skip_h1_title": true,
   "title_cell": "Table of Contents",
   "title_sidebar": "Contents",
   "toc_cell": false,
   "toc_position": {},
   "toc_section_display": true,
   "toc_window_display": true
  }
 },
 "nbformat": 4,
 "nbformat_minor": 2
}
