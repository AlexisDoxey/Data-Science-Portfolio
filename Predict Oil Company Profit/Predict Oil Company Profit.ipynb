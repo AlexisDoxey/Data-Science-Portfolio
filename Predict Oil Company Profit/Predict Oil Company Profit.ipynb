{
 "cells": [
  {
   "cell_type": "markdown",
   "metadata": {},
   "source": [
    "# Machine Learning to Predict Best Profit for an Oil Company"
   ]
  },
  {
   "cell_type": "raw",
   "metadata": {},
   "source": [
    "Project Description\n",
    "You work for the OilyGiant mining company. Your task is to find the best place for a new well.\n",
    "Steps to choose the location:\n",
    "Collect the oil well parameters in the selected region: oil quality and volume of reserves;\n",
    "Build a model for predicting the volume of reserves in the new wells;\n",
    "Pick the oil wells with the highest estimated values;\n",
    "Pick the region with the highest total profit for the selected oil wells.\n",
    "You have data on oil samples from three regions. Parameters of each oil well in the region are already known. Build a model that will help to pick the region with the highest profit margin. Analyze potential profit and risks using the Bootstrapping technique.\n",
    "\n",
    "Data Description\n",
    "Geological exploration data for the three regions are stored in files:\n",
    "geo_data_0.csv. download dataset\n",
    "geo_data_1.csv. download dataset\n",
    "geo_data_2.csv. download dataset\n",
    "id — unique oil well identifier\n",
    "f0, f1, f2 — three features of points (their specific meaning is unimportant, but the features themselves are significant)\n",
    "product — volume of reserves in the oil well (thousand barrels).\n",
    "\n",
    "Conditions:\n",
    "Only linear regression is suitable for model training (the rest are not sufficiently predictable).\n",
    "When exploring the region, a study of 500 points is carried with picking the best 200 points for the profit calculation.\n",
    "The budget for development of 200 oil wells is 100 USD million.\n",
    "One barrel of raw materials brings 4.5 USD of revenue The revenue from one unit of product is 4,500 dollars (volume of reserves is in thousand barrels).\n",
    "After the risk evaluation, keep only the regions with the risk of losses lower than 2.5%. From the ones that fit the criteria, the region with the highest average profit should be selected.\n",
    "\n",
    "The data is synthetic: contract details and well characteristics are not disclosed."
   ]
  },
  {
   "cell_type": "markdown",
   "metadata": {},
   "source": [
    "## Download and Prepare the Data. Explain the Procedure"
   ]
  },
  {
   "cell_type": "code",
   "execution_count": 1,
   "metadata": {},
   "outputs": [],
   "source": [
    "import pandas as pd\n",
    "import numpy as np\n",
    "from sklearn.model_selection import train_test_split\n",
    "from sklearn.linear_model import LinearRegression\n",
    "from sklearn.metrics import mean_squared_error\n",
    "from sklearn.model_selection import cross_val_score\n",
    "from scipy import stats as st\n",
    "import warnings\n",
    "warnings.filterwarnings('ignore')\n",
    "\n",
    "state = np.random.RandomState(12345)"
   ]
  },
  {
   "cell_type": "markdown",
   "metadata": {},
   "source": [
    "### Dataset 1"
   ]
  },
  {
   "cell_type": "code",
   "execution_count": 2,
   "metadata": {},
   "outputs": [
    {
     "data": {
      "text/html": [
       "<div>\n",
       "<style scoped>\n",
       "    .dataframe tbody tr th:only-of-type {\n",
       "        vertical-align: middle;\n",
       "    }\n",
       "\n",
       "    .dataframe tbody tr th {\n",
       "        vertical-align: top;\n",
       "    }\n",
       "\n",
       "    .dataframe thead th {\n",
       "        text-align: right;\n",
       "    }\n",
       "</style>\n",
       "<table border=\"1\" class=\"dataframe\">\n",
       "  <thead>\n",
       "    <tr style=\"text-align: right;\">\n",
       "      <th></th>\n",
       "      <th>id</th>\n",
       "      <th>f0</th>\n",
       "      <th>f1</th>\n",
       "      <th>f2</th>\n",
       "      <th>product</th>\n",
       "    </tr>\n",
       "  </thead>\n",
       "  <tbody>\n",
       "    <tr>\n",
       "      <td>0</td>\n",
       "      <td>txEyH</td>\n",
       "      <td>0.705745</td>\n",
       "      <td>-0.497823</td>\n",
       "      <td>1.221170</td>\n",
       "      <td>105.280062</td>\n",
       "    </tr>\n",
       "    <tr>\n",
       "      <td>1</td>\n",
       "      <td>2acmU</td>\n",
       "      <td>1.334711</td>\n",
       "      <td>-0.340164</td>\n",
       "      <td>4.365080</td>\n",
       "      <td>73.037750</td>\n",
       "    </tr>\n",
       "    <tr>\n",
       "      <td>2</td>\n",
       "      <td>409Wp</td>\n",
       "      <td>1.022732</td>\n",
       "      <td>0.151990</td>\n",
       "      <td>1.419926</td>\n",
       "      <td>85.265647</td>\n",
       "    </tr>\n",
       "    <tr>\n",
       "      <td>3</td>\n",
       "      <td>iJLyR</td>\n",
       "      <td>-0.032172</td>\n",
       "      <td>0.139033</td>\n",
       "      <td>2.978566</td>\n",
       "      <td>168.620776</td>\n",
       "    </tr>\n",
       "    <tr>\n",
       "      <td>4</td>\n",
       "      <td>Xdl7t</td>\n",
       "      <td>1.988431</td>\n",
       "      <td>0.155413</td>\n",
       "      <td>4.751769</td>\n",
       "      <td>154.036647</td>\n",
       "    </tr>\n",
       "  </tbody>\n",
       "</table>\n",
       "</div>"
      ],
      "text/plain": [
       "      id        f0        f1        f2     product\n",
       "0  txEyH  0.705745 -0.497823  1.221170  105.280062\n",
       "1  2acmU  1.334711 -0.340164  4.365080   73.037750\n",
       "2  409Wp  1.022732  0.151990  1.419926   85.265647\n",
       "3  iJLyR -0.032172  0.139033  2.978566  168.620776\n",
       "4  Xdl7t  1.988431  0.155413  4.751769  154.036647"
      ]
     },
     "metadata": {},
     "output_type": "display_data"
    },
    {
     "name": "stdout",
     "output_type": "stream",
     "text": [
      "<class 'pandas.core.frame.DataFrame'>\n",
      "RangeIndex: 100000 entries, 0 to 99999\n",
      "Data columns (total 5 columns):\n",
      "id         100000 non-null object\n",
      "f0         100000 non-null float64\n",
      "f1         100000 non-null float64\n",
      "f2         100000 non-null float64\n",
      "product    100000 non-null float64\n",
      "dtypes: float64(4), object(1)\n",
      "memory usage: 3.8+ MB\n"
     ]
    },
    {
     "data": {
      "text/plain": [
       "None"
      ]
     },
     "metadata": {},
     "output_type": "display_data"
    },
    {
     "data": {
      "text/html": [
       "<div>\n",
       "<style scoped>\n",
       "    .dataframe tbody tr th:only-of-type {\n",
       "        vertical-align: middle;\n",
       "    }\n",
       "\n",
       "    .dataframe tbody tr th {\n",
       "        vertical-align: top;\n",
       "    }\n",
       "\n",
       "    .dataframe thead th {\n",
       "        text-align: right;\n",
       "    }\n",
       "</style>\n",
       "<table border=\"1\" class=\"dataframe\">\n",
       "  <thead>\n",
       "    <tr style=\"text-align: right;\">\n",
       "      <th></th>\n",
       "      <th>f0</th>\n",
       "      <th>f1</th>\n",
       "      <th>f2</th>\n",
       "      <th>product</th>\n",
       "    </tr>\n",
       "  </thead>\n",
       "  <tbody>\n",
       "    <tr>\n",
       "      <td>count</td>\n",
       "      <td>100000.000000</td>\n",
       "      <td>100000.000000</td>\n",
       "      <td>100000.000000</td>\n",
       "      <td>100000.000000</td>\n",
       "    </tr>\n",
       "    <tr>\n",
       "      <td>mean</td>\n",
       "      <td>0.500419</td>\n",
       "      <td>0.250143</td>\n",
       "      <td>2.502647</td>\n",
       "      <td>92.500000</td>\n",
       "    </tr>\n",
       "    <tr>\n",
       "      <td>std</td>\n",
       "      <td>0.871832</td>\n",
       "      <td>0.504433</td>\n",
       "      <td>3.248248</td>\n",
       "      <td>44.288691</td>\n",
       "    </tr>\n",
       "    <tr>\n",
       "      <td>min</td>\n",
       "      <td>-1.408605</td>\n",
       "      <td>-0.848218</td>\n",
       "      <td>-12.088328</td>\n",
       "      <td>0.000000</td>\n",
       "    </tr>\n",
       "    <tr>\n",
       "      <td>25%</td>\n",
       "      <td>-0.072580</td>\n",
       "      <td>-0.200881</td>\n",
       "      <td>0.287748</td>\n",
       "      <td>56.497507</td>\n",
       "    </tr>\n",
       "    <tr>\n",
       "      <td>50%</td>\n",
       "      <td>0.502360</td>\n",
       "      <td>0.250252</td>\n",
       "      <td>2.515969</td>\n",
       "      <td>91.849972</td>\n",
       "    </tr>\n",
       "    <tr>\n",
       "      <td>75%</td>\n",
       "      <td>1.073581</td>\n",
       "      <td>0.700646</td>\n",
       "      <td>4.715088</td>\n",
       "      <td>128.564089</td>\n",
       "    </tr>\n",
       "    <tr>\n",
       "      <td>max</td>\n",
       "      <td>2.362331</td>\n",
       "      <td>1.343769</td>\n",
       "      <td>16.003790</td>\n",
       "      <td>185.364347</td>\n",
       "    </tr>\n",
       "  </tbody>\n",
       "</table>\n",
       "</div>"
      ],
      "text/plain": [
       "                  f0             f1             f2        product\n",
       "count  100000.000000  100000.000000  100000.000000  100000.000000\n",
       "mean        0.500419       0.250143       2.502647      92.500000\n",
       "std         0.871832       0.504433       3.248248      44.288691\n",
       "min        -1.408605      -0.848218     -12.088328       0.000000\n",
       "25%        -0.072580      -0.200881       0.287748      56.497507\n",
       "50%         0.502360       0.250252       2.515969      91.849972\n",
       "75%         1.073581       0.700646       4.715088     128.564089\n",
       "max         2.362331       1.343769      16.003790     185.364347"
      ]
     },
     "metadata": {},
     "output_type": "display_data"
    }
   ],
   "source": [
    "#Geo_data_0\n",
    "\n",
    "data_0 = pd.read_csv('/datasets/geo_data_0.csv')\n",
    "\n",
    "display(data_0.head())\n",
    "display(data_0.info())\n",
    "display(data_0.describe())"
   ]
  },
  {
   "cell_type": "code",
   "execution_count": 3,
   "metadata": {},
   "outputs": [
    {
     "data": {
      "text/plain": [
       "id         0\n",
       "f0         0\n",
       "f1         0\n",
       "f2         0\n",
       "product    0\n",
       "dtype: int64"
      ]
     },
     "execution_count": 3,
     "metadata": {},
     "output_type": "execute_result"
    }
   ],
   "source": [
    "#Check for missing values\n",
    "\n",
    "data_0.isnull().sum()"
   ]
  },
  {
   "cell_type": "code",
   "execution_count": 4,
   "metadata": {},
   "outputs": [
    {
     "data": {
      "text/plain": [
       "0"
      ]
     },
     "execution_count": 4,
     "metadata": {},
     "output_type": "execute_result"
    }
   ],
   "source": [
    "#Check for duplicates\n",
    "\n",
    "data_0.duplicated().sum()"
   ]
  },
  {
   "cell_type": "code",
   "execution_count": 5,
   "metadata": {},
   "outputs": [],
   "source": [
    "#Label target and features for model\n",
    "\n",
    "features_0 = data_0.drop(['product', 'id'], axis=1)\n",
    "target_0 = data_0['product']"
   ]
  },
  {
   "cell_type": "markdown",
   "metadata": {},
   "source": [
    "### Dataset 2"
   ]
  },
  {
   "cell_type": "code",
   "execution_count": 6,
   "metadata": {},
   "outputs": [
    {
     "data": {
      "text/html": [
       "<div>\n",
       "<style scoped>\n",
       "    .dataframe tbody tr th:only-of-type {\n",
       "        vertical-align: middle;\n",
       "    }\n",
       "\n",
       "    .dataframe tbody tr th {\n",
       "        vertical-align: top;\n",
       "    }\n",
       "\n",
       "    .dataframe thead th {\n",
       "        text-align: right;\n",
       "    }\n",
       "</style>\n",
       "<table border=\"1\" class=\"dataframe\">\n",
       "  <thead>\n",
       "    <tr style=\"text-align: right;\">\n",
       "      <th></th>\n",
       "      <th>id</th>\n",
       "      <th>f0</th>\n",
       "      <th>f1</th>\n",
       "      <th>f2</th>\n",
       "      <th>product</th>\n",
       "    </tr>\n",
       "  </thead>\n",
       "  <tbody>\n",
       "    <tr>\n",
       "      <td>0</td>\n",
       "      <td>kBEdx</td>\n",
       "      <td>-15.001348</td>\n",
       "      <td>-8.276000</td>\n",
       "      <td>-0.005876</td>\n",
       "      <td>3.179103</td>\n",
       "    </tr>\n",
       "    <tr>\n",
       "      <td>1</td>\n",
       "      <td>62mP7</td>\n",
       "      <td>14.272088</td>\n",
       "      <td>-3.475083</td>\n",
       "      <td>0.999183</td>\n",
       "      <td>26.953261</td>\n",
       "    </tr>\n",
       "    <tr>\n",
       "      <td>2</td>\n",
       "      <td>vyE1P</td>\n",
       "      <td>6.263187</td>\n",
       "      <td>-5.948386</td>\n",
       "      <td>5.001160</td>\n",
       "      <td>134.766305</td>\n",
       "    </tr>\n",
       "    <tr>\n",
       "      <td>3</td>\n",
       "      <td>KcrkZ</td>\n",
       "      <td>-13.081196</td>\n",
       "      <td>-11.506057</td>\n",
       "      <td>4.999415</td>\n",
       "      <td>137.945408</td>\n",
       "    </tr>\n",
       "    <tr>\n",
       "      <td>4</td>\n",
       "      <td>AHL4O</td>\n",
       "      <td>12.702195</td>\n",
       "      <td>-8.147433</td>\n",
       "      <td>5.004363</td>\n",
       "      <td>134.766305</td>\n",
       "    </tr>\n",
       "  </tbody>\n",
       "</table>\n",
       "</div>"
      ],
      "text/plain": [
       "      id         f0         f1        f2     product\n",
       "0  kBEdx -15.001348  -8.276000 -0.005876    3.179103\n",
       "1  62mP7  14.272088  -3.475083  0.999183   26.953261\n",
       "2  vyE1P   6.263187  -5.948386  5.001160  134.766305\n",
       "3  KcrkZ -13.081196 -11.506057  4.999415  137.945408\n",
       "4  AHL4O  12.702195  -8.147433  5.004363  134.766305"
      ]
     },
     "metadata": {},
     "output_type": "display_data"
    },
    {
     "name": "stdout",
     "output_type": "stream",
     "text": [
      "<class 'pandas.core.frame.DataFrame'>\n",
      "RangeIndex: 100000 entries, 0 to 99999\n",
      "Data columns (total 5 columns):\n",
      "id         100000 non-null object\n",
      "f0         100000 non-null float64\n",
      "f1         100000 non-null float64\n",
      "f2         100000 non-null float64\n",
      "product    100000 non-null float64\n",
      "dtypes: float64(4), object(1)\n",
      "memory usage: 3.8+ MB\n"
     ]
    },
    {
     "data": {
      "text/plain": [
       "None"
      ]
     },
     "metadata": {},
     "output_type": "display_data"
    },
    {
     "data": {
      "text/html": [
       "<div>\n",
       "<style scoped>\n",
       "    .dataframe tbody tr th:only-of-type {\n",
       "        vertical-align: middle;\n",
       "    }\n",
       "\n",
       "    .dataframe tbody tr th {\n",
       "        vertical-align: top;\n",
       "    }\n",
       "\n",
       "    .dataframe thead th {\n",
       "        text-align: right;\n",
       "    }\n",
       "</style>\n",
       "<table border=\"1\" class=\"dataframe\">\n",
       "  <thead>\n",
       "    <tr style=\"text-align: right;\">\n",
       "      <th></th>\n",
       "      <th>f0</th>\n",
       "      <th>f1</th>\n",
       "      <th>f2</th>\n",
       "      <th>product</th>\n",
       "    </tr>\n",
       "  </thead>\n",
       "  <tbody>\n",
       "    <tr>\n",
       "      <td>count</td>\n",
       "      <td>100000.000000</td>\n",
       "      <td>100000.000000</td>\n",
       "      <td>100000.000000</td>\n",
       "      <td>100000.000000</td>\n",
       "    </tr>\n",
       "    <tr>\n",
       "      <td>mean</td>\n",
       "      <td>1.141296</td>\n",
       "      <td>-4.796579</td>\n",
       "      <td>2.494541</td>\n",
       "      <td>68.825000</td>\n",
       "    </tr>\n",
       "    <tr>\n",
       "      <td>std</td>\n",
       "      <td>8.965932</td>\n",
       "      <td>5.119872</td>\n",
       "      <td>1.703572</td>\n",
       "      <td>45.944423</td>\n",
       "    </tr>\n",
       "    <tr>\n",
       "      <td>min</td>\n",
       "      <td>-31.609576</td>\n",
       "      <td>-26.358598</td>\n",
       "      <td>-0.018144</td>\n",
       "      <td>0.000000</td>\n",
       "    </tr>\n",
       "    <tr>\n",
       "      <td>25%</td>\n",
       "      <td>-6.298551</td>\n",
       "      <td>-8.267985</td>\n",
       "      <td>1.000021</td>\n",
       "      <td>26.953261</td>\n",
       "    </tr>\n",
       "    <tr>\n",
       "      <td>50%</td>\n",
       "      <td>1.153055</td>\n",
       "      <td>-4.813172</td>\n",
       "      <td>2.011479</td>\n",
       "      <td>57.085625</td>\n",
       "    </tr>\n",
       "    <tr>\n",
       "      <td>75%</td>\n",
       "      <td>8.621015</td>\n",
       "      <td>-1.332816</td>\n",
       "      <td>3.999904</td>\n",
       "      <td>107.813044</td>\n",
       "    </tr>\n",
       "    <tr>\n",
       "      <td>max</td>\n",
       "      <td>29.421755</td>\n",
       "      <td>18.734063</td>\n",
       "      <td>5.019721</td>\n",
       "      <td>137.945408</td>\n",
       "    </tr>\n",
       "  </tbody>\n",
       "</table>\n",
       "</div>"
      ],
      "text/plain": [
       "                  f0             f1             f2        product\n",
       "count  100000.000000  100000.000000  100000.000000  100000.000000\n",
       "mean        1.141296      -4.796579       2.494541      68.825000\n",
       "std         8.965932       5.119872       1.703572      45.944423\n",
       "min       -31.609576     -26.358598      -0.018144       0.000000\n",
       "25%        -6.298551      -8.267985       1.000021      26.953261\n",
       "50%         1.153055      -4.813172       2.011479      57.085625\n",
       "75%         8.621015      -1.332816       3.999904     107.813044\n",
       "max        29.421755      18.734063       5.019721     137.945408"
      ]
     },
     "metadata": {},
     "output_type": "display_data"
    }
   ],
   "source": [
    "#Geo_data_1\n",
    "\n",
    "data_1 = pd.read_csv('/datasets/geo_data_1.csv')\n",
    "\n",
    "display(data_1.head())\n",
    "display(data_1.info())\n",
    "display(data_1.describe())"
   ]
  },
  {
   "cell_type": "code",
   "execution_count": 7,
   "metadata": {},
   "outputs": [
    {
     "data": {
      "text/plain": [
       "id         0\n",
       "f0         0\n",
       "f1         0\n",
       "f2         0\n",
       "product    0\n",
       "dtype: int64"
      ]
     },
     "execution_count": 7,
     "metadata": {},
     "output_type": "execute_result"
    }
   ],
   "source": [
    "#Check for missing values\n",
    "\n",
    "data_1.isnull().sum()"
   ]
  },
  {
   "cell_type": "code",
   "execution_count": 8,
   "metadata": {},
   "outputs": [
    {
     "data": {
      "text/plain": [
       "0"
      ]
     },
     "execution_count": 8,
     "metadata": {},
     "output_type": "execute_result"
    }
   ],
   "source": [
    "#Check for duplicates\n",
    "\n",
    "data_1.duplicated().sum()"
   ]
  },
  {
   "cell_type": "code",
   "execution_count": 9,
   "metadata": {},
   "outputs": [],
   "source": [
    "#Label target and features for model\n",
    "\n",
    "features_1 = data_1.drop(['product', 'id'], axis=1)\n",
    "target_1 = data_1['product']"
   ]
  },
  {
   "cell_type": "markdown",
   "metadata": {},
   "source": [
    "### Dataset 3"
   ]
  },
  {
   "cell_type": "code",
   "execution_count": 10,
   "metadata": {},
   "outputs": [
    {
     "data": {
      "text/html": [
       "<div>\n",
       "<style scoped>\n",
       "    .dataframe tbody tr th:only-of-type {\n",
       "        vertical-align: middle;\n",
       "    }\n",
       "\n",
       "    .dataframe tbody tr th {\n",
       "        vertical-align: top;\n",
       "    }\n",
       "\n",
       "    .dataframe thead th {\n",
       "        text-align: right;\n",
       "    }\n",
       "</style>\n",
       "<table border=\"1\" class=\"dataframe\">\n",
       "  <thead>\n",
       "    <tr style=\"text-align: right;\">\n",
       "      <th></th>\n",
       "      <th>id</th>\n",
       "      <th>f0</th>\n",
       "      <th>f1</th>\n",
       "      <th>f2</th>\n",
       "      <th>product</th>\n",
       "    </tr>\n",
       "  </thead>\n",
       "  <tbody>\n",
       "    <tr>\n",
       "      <td>0</td>\n",
       "      <td>fwXo0</td>\n",
       "      <td>-1.146987</td>\n",
       "      <td>0.963328</td>\n",
       "      <td>-0.828965</td>\n",
       "      <td>27.758673</td>\n",
       "    </tr>\n",
       "    <tr>\n",
       "      <td>1</td>\n",
       "      <td>WJtFt</td>\n",
       "      <td>0.262778</td>\n",
       "      <td>0.269839</td>\n",
       "      <td>-2.530187</td>\n",
       "      <td>56.069697</td>\n",
       "    </tr>\n",
       "    <tr>\n",
       "      <td>2</td>\n",
       "      <td>ovLUW</td>\n",
       "      <td>0.194587</td>\n",
       "      <td>0.289035</td>\n",
       "      <td>-5.586433</td>\n",
       "      <td>62.871910</td>\n",
       "    </tr>\n",
       "    <tr>\n",
       "      <td>3</td>\n",
       "      <td>q6cA6</td>\n",
       "      <td>2.236060</td>\n",
       "      <td>-0.553760</td>\n",
       "      <td>0.930038</td>\n",
       "      <td>114.572842</td>\n",
       "    </tr>\n",
       "    <tr>\n",
       "      <td>4</td>\n",
       "      <td>WPMUX</td>\n",
       "      <td>-0.515993</td>\n",
       "      <td>1.716266</td>\n",
       "      <td>5.899011</td>\n",
       "      <td>149.600746</td>\n",
       "    </tr>\n",
       "  </tbody>\n",
       "</table>\n",
       "</div>"
      ],
      "text/plain": [
       "      id        f0        f1        f2     product\n",
       "0  fwXo0 -1.146987  0.963328 -0.828965   27.758673\n",
       "1  WJtFt  0.262778  0.269839 -2.530187   56.069697\n",
       "2  ovLUW  0.194587  0.289035 -5.586433   62.871910\n",
       "3  q6cA6  2.236060 -0.553760  0.930038  114.572842\n",
       "4  WPMUX -0.515993  1.716266  5.899011  149.600746"
      ]
     },
     "metadata": {},
     "output_type": "display_data"
    },
    {
     "name": "stdout",
     "output_type": "stream",
     "text": [
      "<class 'pandas.core.frame.DataFrame'>\n",
      "RangeIndex: 100000 entries, 0 to 99999\n",
      "Data columns (total 5 columns):\n",
      "id         100000 non-null object\n",
      "f0         100000 non-null float64\n",
      "f1         100000 non-null float64\n",
      "f2         100000 non-null float64\n",
      "product    100000 non-null float64\n",
      "dtypes: float64(4), object(1)\n",
      "memory usage: 3.8+ MB\n"
     ]
    },
    {
     "data": {
      "text/plain": [
       "None"
      ]
     },
     "metadata": {},
     "output_type": "display_data"
    },
    {
     "data": {
      "text/html": [
       "<div>\n",
       "<style scoped>\n",
       "    .dataframe tbody tr th:only-of-type {\n",
       "        vertical-align: middle;\n",
       "    }\n",
       "\n",
       "    .dataframe tbody tr th {\n",
       "        vertical-align: top;\n",
       "    }\n",
       "\n",
       "    .dataframe thead th {\n",
       "        text-align: right;\n",
       "    }\n",
       "</style>\n",
       "<table border=\"1\" class=\"dataframe\">\n",
       "  <thead>\n",
       "    <tr style=\"text-align: right;\">\n",
       "      <th></th>\n",
       "      <th>f0</th>\n",
       "      <th>f1</th>\n",
       "      <th>f2</th>\n",
       "      <th>product</th>\n",
       "    </tr>\n",
       "  </thead>\n",
       "  <tbody>\n",
       "    <tr>\n",
       "      <td>count</td>\n",
       "      <td>100000.000000</td>\n",
       "      <td>100000.000000</td>\n",
       "      <td>100000.000000</td>\n",
       "      <td>100000.000000</td>\n",
       "    </tr>\n",
       "    <tr>\n",
       "      <td>mean</td>\n",
       "      <td>0.002023</td>\n",
       "      <td>-0.002081</td>\n",
       "      <td>2.495128</td>\n",
       "      <td>95.000000</td>\n",
       "    </tr>\n",
       "    <tr>\n",
       "      <td>std</td>\n",
       "      <td>1.732045</td>\n",
       "      <td>1.730417</td>\n",
       "      <td>3.473445</td>\n",
       "      <td>44.749921</td>\n",
       "    </tr>\n",
       "    <tr>\n",
       "      <td>min</td>\n",
       "      <td>-8.760004</td>\n",
       "      <td>-7.084020</td>\n",
       "      <td>-11.970335</td>\n",
       "      <td>0.000000</td>\n",
       "    </tr>\n",
       "    <tr>\n",
       "      <td>25%</td>\n",
       "      <td>-1.162288</td>\n",
       "      <td>-1.174820</td>\n",
       "      <td>0.130359</td>\n",
       "      <td>59.450441</td>\n",
       "    </tr>\n",
       "    <tr>\n",
       "      <td>50%</td>\n",
       "      <td>0.009424</td>\n",
       "      <td>-0.009482</td>\n",
       "      <td>2.484236</td>\n",
       "      <td>94.925613</td>\n",
       "    </tr>\n",
       "    <tr>\n",
       "      <td>75%</td>\n",
       "      <td>1.158535</td>\n",
       "      <td>1.163678</td>\n",
       "      <td>4.858794</td>\n",
       "      <td>130.595027</td>\n",
       "    </tr>\n",
       "    <tr>\n",
       "      <td>max</td>\n",
       "      <td>7.238262</td>\n",
       "      <td>7.844801</td>\n",
       "      <td>16.739402</td>\n",
       "      <td>190.029838</td>\n",
       "    </tr>\n",
       "  </tbody>\n",
       "</table>\n",
       "</div>"
      ],
      "text/plain": [
       "                  f0             f1             f2        product\n",
       "count  100000.000000  100000.000000  100000.000000  100000.000000\n",
       "mean        0.002023      -0.002081       2.495128      95.000000\n",
       "std         1.732045       1.730417       3.473445      44.749921\n",
       "min        -8.760004      -7.084020     -11.970335       0.000000\n",
       "25%        -1.162288      -1.174820       0.130359      59.450441\n",
       "50%         0.009424      -0.009482       2.484236      94.925613\n",
       "75%         1.158535       1.163678       4.858794     130.595027\n",
       "max         7.238262       7.844801      16.739402     190.029838"
      ]
     },
     "metadata": {},
     "output_type": "display_data"
    }
   ],
   "source": [
    "#Geo_data_2\n",
    "\n",
    "data_2 = pd.read_csv('/datasets/geo_data_2.csv')\n",
    "\n",
    "display(data_2.head())\n",
    "display(data_2.info())\n",
    "display(data_2.describe())"
   ]
  },
  {
   "cell_type": "code",
   "execution_count": 11,
   "metadata": {},
   "outputs": [
    {
     "data": {
      "text/plain": [
       "id         0\n",
       "f0         0\n",
       "f1         0\n",
       "f2         0\n",
       "product    0\n",
       "dtype: int64"
      ]
     },
     "execution_count": 11,
     "metadata": {},
     "output_type": "execute_result"
    }
   ],
   "source": [
    "#Check for missing values\n",
    "\n",
    "data_2.isnull().sum()"
   ]
  },
  {
   "cell_type": "code",
   "execution_count": 12,
   "metadata": {},
   "outputs": [
    {
     "data": {
      "text/plain": [
       "0"
      ]
     },
     "execution_count": 12,
     "metadata": {},
     "output_type": "execute_result"
    }
   ],
   "source": [
    "#Check for duplicates\n",
    "\n",
    "data_2.duplicated().sum()"
   ]
  },
  {
   "cell_type": "code",
   "execution_count": 13,
   "metadata": {},
   "outputs": [],
   "source": [
    "#Label target and features for model\n",
    "\n",
    "features_2 = data_2.drop(['product', 'id'], axis=1)\n",
    "target_2 = data_2['product']"
   ]
  },
  {
   "cell_type": "markdown",
   "metadata": {},
   "source": [
    "We have three datasets, all with 100000 entries and five columns labeled id, f0, f1, f2, and product. There were no duplicated rows. We have two data types: float and object. The mean value of products in dataset 1 and dataset 3 are similar, whereas dataset 2 is smaller. Columns f0, f1, and f2 were labeled at features and the product column was labeled as the target for each dataset."
   ]
  },
  {
   "cell_type": "markdown",
   "metadata": {},
   "source": [
    "## Train and Test the Model for Each Region"
   ]
  },
  {
   "cell_type": "markdown",
   "metadata": {},
   "source": [
    "### Split the Data into a Training Set and Validation Set at a Ratio of 75:25"
   ]
  },
  {
   "cell_type": "code",
   "execution_count": 14,
   "metadata": {},
   "outputs": [
    {
     "data": {
      "text/plain": [
       "75000"
      ]
     },
     "metadata": {},
     "output_type": "display_data"
    },
    {
     "data": {
      "text/plain": [
       "25000"
      ]
     },
     "metadata": {},
     "output_type": "display_data"
    }
   ],
   "source": [
    "#Geo_data_0\n",
    "\n",
    "features_train_0, features_valid_0, target_train_0, target_valid_0 = train_test_split(\n",
    "    features_0, target_0, test_size=0.25, random_state=state)\n",
    "\n",
    "display(len(features_train_0))\n",
    "display(len(features_valid_0))"
   ]
  },
  {
   "cell_type": "code",
   "execution_count": 15,
   "metadata": {},
   "outputs": [
    {
     "data": {
      "text/plain": [
       "75000"
      ]
     },
     "metadata": {},
     "output_type": "display_data"
    },
    {
     "data": {
      "text/plain": [
       "25000"
      ]
     },
     "metadata": {},
     "output_type": "display_data"
    }
   ],
   "source": [
    "#Geo_data_1\n",
    "\n",
    "features_train_1, features_valid_1, target_train_1, target_valid_1 = train_test_split(\n",
    "    features_1, target_1, test_size=0.25, random_state=state)\n",
    "\n",
    "display(len(features_train_1))\n",
    "display(len(features_valid_1))"
   ]
  },
  {
   "cell_type": "code",
   "execution_count": 16,
   "metadata": {},
   "outputs": [
    {
     "data": {
      "text/plain": [
       "75000"
      ]
     },
     "metadata": {},
     "output_type": "display_data"
    },
    {
     "data": {
      "text/plain": [
       "25000"
      ]
     },
     "metadata": {},
     "output_type": "display_data"
    }
   ],
   "source": [
    "#Geo_data_2\n",
    "\n",
    "features_train_2, features_valid_2, target_train_2, target_valid_2 = train_test_split(\n",
    "    features_2, target_2, test_size=0.25, random_state=state)\n",
    "\n",
    "display(len(features_train_2))\n",
    "display(len(features_valid_2))"
   ]
  },
  {
   "cell_type": "markdown",
   "metadata": {},
   "source": [
    "### Train the Model and Make Predictions for the Validation Set. Print the Average Volume of Predicted Reserves and Model RMSE"
   ]
  },
  {
   "cell_type": "code",
   "execution_count": 17,
   "metadata": {},
   "outputs": [
    {
     "name": "stdout",
     "output_type": "stream",
     "text": [
      "RMSE: 37.5794217150813\n",
      "R2: 0.27994321524487786\n",
      "Average volume of predicted reserves: 92.59256778438038\n"
     ]
    }
   ],
   "source": [
    "#geo_data_0\n",
    "model = LinearRegression()\n",
    "model.fit(features_train_0, target_train_0)\n",
    "predict_valid_0 = model.predict(features_valid_0)\n",
    "mse = mean_squared_error(target_valid_0, predict_valid_0)\n",
    "print('RMSE:', mse ** 0.5)\n",
    "print('R2:', model.score(features_valid_0, target_valid_0))\n",
    "print('Average volume of predicted reserves:', predict_valid_0.mean())"
   ]
  },
  {
   "cell_type": "code",
   "execution_count": 18,
   "metadata": {},
   "outputs": [
    {
     "name": "stdout",
     "output_type": "stream",
     "text": [
      "RMSE: 0.889736773768064\n",
      "R2: 0.9996264922748638\n",
      "Average volume of predicted reserves: 68.76995145799754\n"
     ]
    }
   ],
   "source": [
    "#geo_data_1\n",
    "model = LinearRegression()\n",
    "model.fit(features_train_1, target_train_1)\n",
    "predict_valid_1 = model.predict(features_valid_1)\n",
    "mse = mean_squared_error(target_valid_1, predict_valid_1)\n",
    "print('RMSE:', mse ** 0.5)\n",
    "print('R2:', model.score(features_valid_1, target_valid_1))\n",
    "print('Average volume of predicted reserves:', predict_valid_1.mean())"
   ]
  },
  {
   "cell_type": "code",
   "execution_count": 19,
   "metadata": {},
   "outputs": [
    {
     "name": "stdout",
     "output_type": "stream",
     "text": [
      "RMSE: 39.958042459521614\n",
      "R2: 0.20261508041163934\n",
      "Average volume of predicted reserves: 95.087528122523\n"
     ]
    }
   ],
   "source": [
    "#geo_data_2\n",
    "model = LinearRegression()\n",
    "model.fit(features_train_2, target_train_2)\n",
    "predict_valid_2 = model.predict(features_valid_2)\n",
    "mse = mean_squared_error(target_valid_2, predict_valid_2)\n",
    "print('RMSE:', mse ** 0.5)\n",
    "print('R2:', model.score(features_valid_2, target_valid_2))\n",
    "print('Average volume of predicted reserves:', predict_valid_2.mean())"
   ]
  },
  {
   "cell_type": "code",
   "execution_count": 20,
   "metadata": {},
   "outputs": [
    {
     "name": "stdout",
     "output_type": "stream",
     "text": [
      "Score geo_data_0: 0.2756742735466014\n",
      "Score geo_data_1: 0.9996243886479773\n",
      "Score geo_data_2: 0.1987398624233513\n"
     ]
    }
   ],
   "source": [
    "#Cross validation check on linear regression model\n",
    "\n",
    "#geo_data_0\n",
    "scores_0 = cross_val_score(model,features_0,target_0)\n",
    "final_score_0 = sum(scores_0) / len(scores_0)\n",
    "\n",
    "#geo_data_1\n",
    "scores_1 = cross_val_score(model,features_1,target_1)\n",
    "final_score_1 = sum(scores_1) / len(scores_1)\n",
    "\n",
    "#geo_data_2\n",
    "scores_2 = cross_val_score(model, features_2, target_2)\n",
    "final_score_2 = sum(scores_2) / len(scores_2)\n",
    "\n",
    "print('Score geo_data_0:', final_score_0)\n",
    "print('Score geo_data_1:', final_score_1)\n",
    "print('Score geo_data_2:', final_score_2)"
   ]
  },
  {
   "cell_type": "markdown",
   "metadata": {},
   "source": [
    "### Analyze the Results"
   ]
  },
  {
   "cell_type": "raw",
   "metadata": {},
   "source": [
    "We got the following results for our models:\n",
    "\n",
    "RMSE: 37.65, R2: 0.28, Average volume of predicted reserves: 92.55\n",
    "RMSE: 0.89, R2: 0.9996, Average volume of predicted reserves: 62.28\n",
    "RMSE: 40.13, R2: 0.19, Average volume of predicted reserves: 95.10\n",
    "\n",
    "The average volume of predicted reserves are similar in geo_data_0 and geo_data_2. The dataset geo_data_1 has a low average volume of predicted reserves. Dataset geo_data_1 has a good coefficienct of determination compared to the other two datasets.\n",
    "\n",
    "Based on the results of the cross validation our model is performing good."
   ]
  },
  {
   "cell_type": "markdown",
   "metadata": {},
   "source": [
    "## Prepare the Profit Calculation"
   ]
  },
  {
   "cell_type": "markdown",
   "metadata": {},
   "source": [
    "### Store all Key Values for Calculations in Separate Variables"
   ]
  },
  {
   "cell_type": "code",
   "execution_count": 21,
   "metadata": {},
   "outputs": [],
   "source": [
    "n_points_all = 500\n",
    "n_points = 200\n",
    "budget_total = 100000000\n",
    "income_per_volume = 4500\n",
    "threshold_risk_loss = 0.025\n",
    "budget_per_barrel = budget_total / n_points\n",
    "unit_of_volume =1000"
   ]
  },
  {
   "cell_type": "markdown",
   "metadata": {},
   "source": [
    "### Calculate the Volume of Reserves Sufficient for Developing a New Well without Losses. Compare the Obtained Value with the Average Volume of Reserves in Each Region."
   ]
  },
  {
   "cell_type": "code",
   "execution_count": 22,
   "metadata": {},
   "outputs": [
    {
     "name": "stdout",
     "output_type": "stream",
     "text": [
      "The volume of reserves sufficienct for developing a new well without losses is 111.11\n",
      "Average volume of reserves in geo_0: 92.59\n",
      "Average volume of reserves in geo_1: 68.77\n",
      "Average volume of reserves in geo_2: 95.09\n"
     ]
    }
   ],
   "source": [
    "new_well_volume = budget_total/n_points/income_per_volume\n",
    "\n",
    "print('The volume of reserves sufficienct for developing a new well without losses is {:.2f}'.format(new_well_volume))\n",
    "print('Average volume of reserves in geo_0: {:.2f}'.format(predict_valid_0.mean()))\n",
    "print('Average volume of reserves in geo_1: {:.2f}'.format(predict_valid_1.mean()))\n",
    "print('Average volume of reserves in geo_2: {:.2f}'.format(predict_valid_2.mean()))"
   ]
  },
  {
   "cell_type": "markdown",
   "metadata": {},
   "source": [
    "### Provide the Findings About the Preparation for Profit Calculation Step"
   ]
  },
  {
   "cell_type": "markdown",
   "metadata": {},
   "source": [
    "The average predicted volumes for all three regions are less than the volume of reserves sufficient for developing an new well without losses. The volume for developing a new well without loss is now our baseline for finding sufficient wells."
   ]
  },
  {
   "cell_type": "markdown",
   "metadata": {},
   "source": [
    "## Write a Function to Calculate Profit from a Set of Selected Oil Wells and Model Predictions"
   ]
  },
  {
   "cell_type": "code",
   "execution_count": 23,
   "metadata": {},
   "outputs": [],
   "source": [
    "#Revenue function\n",
    "def profit(target, predicted, count):\n",
    "    target = pd.Series(target)\n",
    "    predicted = pd.Series(predicted)\n",
    "    predicted_sorted = predicted.reset_index(drop=True).sort_values(ascending=False)\n",
    "    selected = target.reset_index(drop=True).iloc[predicted_sorted.index][:count]\n",
    "    result = selected.sum() * income_per_volume - budget_total\n",
    "    return result"
   ]
  },
  {
   "cell_type": "markdown",
   "metadata": {},
   "source": [
    "### Pick the Wells with the Highest Values of Predictions"
   ]
  },
  {
   "cell_type": "code",
   "execution_count": 24,
   "metadata": {},
   "outputs": [],
   "source": [
    "#Highest values of predictions function\n",
    "def highest_prediction(target, predicted, count):\n",
    "    target = pd.Series(target)\n",
    "    predicted = pd.Series(predicted)\n",
    "    highest_reserves_volume_predicted = predicted.sort_values(ascending=False)\n",
    "    selected_reserves_volume_target = target[highest_reserves_volume_predicted.index][:count]\n",
    "    return selected_reserves_volume_target.sum() * unit_of_volume"
   ]
  },
  {
   "cell_type": "code",
   "execution_count": 25,
   "metadata": {},
   "outputs": [
    {
     "name": "stdout",
     "output_type": "stream",
     "text": [
      "The highest predicition value in the region is: 3915200.050298473\n"
     ]
    }
   ],
   "source": [
    "#Highest value prediction in geo_data_0\n",
    "print('The highest predicition value in the region is:', highest_prediction(target_valid_0, predict_valid_0, 200))"
   ]
  },
  {
   "cell_type": "code",
   "execution_count": 26,
   "metadata": {},
   "outputs": [
    {
     "name": "stdout",
     "output_type": "stream",
     "text": [
      "The highest predicition value in the region is: 2790699.1806501863\n"
     ]
    }
   ],
   "source": [
    "#Highest value prediction in geo_data_1\n",
    "print('The highest predicition value in the region is:', highest_prediction(target_valid_1, predict_valid_1, 200))"
   ]
  },
  {
   "cell_type": "code",
   "execution_count": 27,
   "metadata": {},
   "outputs": [
    {
     "name": "stdout",
     "output_type": "stream",
     "text": [
      "The highest predicition value in the region is: 4689948.711653393\n"
     ]
    }
   ],
   "source": [
    "#Highest value prediction in geo_data_2\n",
    "print('The highest predicition value in the region is:', highest_prediction(target_valid_2, predict_valid_2, 200))"
   ]
  },
  {
   "cell_type": "markdown",
   "metadata": {},
   "source": [
    "We created a function to find the highest value of predictions by region. Based on our findings region 1, geo_data_0, has the highest value of predictions. \n",
    "\n",
    "The region with the highest target values is region 3, geo_data_2. This does not match up with the highest region for predictions."
   ]
  },
  {
   "cell_type": "markdown",
   "metadata": {},
   "source": [
    "### Provide Findings: Suggest a Region for Oil Wells' Development and Justify the Choice. Calculate the Profit for the Obtained Volume of Reserves"
   ]
  },
  {
   "cell_type": "code",
   "execution_count": 28,
   "metadata": {},
   "outputs": [
    {
     "data": {
      "text/plain": [
       "33208260.431398526"
      ]
     },
     "execution_count": 28,
     "metadata": {},
     "output_type": "execute_result"
    }
   ],
   "source": [
    "#Profit from geo_data_0\n",
    "profit(target_valid_0, predict_valid_0, 200)"
   ]
  },
  {
   "cell_type": "code",
   "execution_count": 29,
   "metadata": {},
   "outputs": [
    {
     "data": {
      "text/plain": [
       "24150866.966815114"
      ]
     },
     "execution_count": 29,
     "metadata": {},
     "output_type": "execute_result"
    }
   ],
   "source": [
    "#Profit from geo_data_1\n",
    "profit(target_valid_1, predict_valid_1, 200)"
   ]
  },
  {
   "cell_type": "code",
   "execution_count": 30,
   "metadata": {},
   "outputs": [
    {
     "data": {
      "text/plain": [
       "25399159.45842947"
      ]
     },
     "execution_count": 30,
     "metadata": {},
     "output_type": "execute_result"
    }
   ],
   "source": [
    "#Profit from geo_data_2\n",
    "profit(target_valid_2, predict_valid_2, 200)"
   ]
  },
  {
   "cell_type": "markdown",
   "metadata": {},
   "source": [
    "The region with the highest profit is region 1, geo_data_0 with 33 million USD. The lowest profit region is region 2, geo_data_1 with 24 million USD."
   ]
  },
  {
   "cell_type": "markdown",
   "metadata": {},
   "source": [
    "## Calculate Risks and Profit for Each Region"
   ]
  },
  {
   "cell_type": "markdown",
   "metadata": {},
   "source": [
    "### Use the Bootstrapping Technique with 1000 Samples to find the Distribution of Profit. Find average profit, 95% confidence interval and risk of losses. Loss is negative profit, calculate it as a probability and then express as a percentage."
   ]
  },
  {
   "cell_type": "code",
   "execution_count": 31,
   "metadata": {},
   "outputs": [
    {
     "name": "stdout",
     "output_type": "stream",
     "text": [
      "Average Profit: 3942844.113405507\n",
      "95% Confidence Interval: ( -694505.6685672167 , 9198756.807998639 )\n",
      "Risk of Loss: 6.1\n"
     ]
    }
   ],
   "source": [
    "#Bootstrapping technique for geo_data_0\n",
    "\n",
    "values = []\n",
    "target_valid_0 = pd.Series(target_valid_0)\n",
    "predict_valid_0 = pd.Series(predict_valid_0)\n",
    "for i in range(1000):\n",
    "    target_subsample_0 = target_valid_0.reset_index(drop=True).sample(replace=True, random_state=state, n=500)\n",
    "    predict_subsample_0 = predict_valid_0.reset_index(drop=True)[target_subsample_0.index]\n",
    "    values.append(profit(target_subsample_0, predict_subsample_0, 200))\n",
    "        \n",
    "values = pd.Series(values)\n",
    "average_profit = values.mean()\n",
    "lower = values.quantile(0.025)\n",
    "upper = values.quantile(0.9775)\n",
    "risk_of_losses = ((values < 0).sum() / len(values) * 100)\n",
    "    \n",
    "print('Average Profit:', average_profit)\n",
    "print('95% Confidence Interval: (', lower, ',', upper, ')')\n",
    "print('Risk of Loss:', risk_of_losses)"
   ]
  },
  {
   "cell_type": "code",
   "execution_count": 32,
   "metadata": {},
   "outputs": [
    {
     "name": "stdout",
     "output_type": "stream",
     "text": [
      "Average Profit: 4547363.590973578\n",
      "95% Confidence Interval: ( 610718.1129769981 , 8586910.606938029 )\n",
      "Risk of Loss: 0.7000000000000001\n"
     ]
    }
   ],
   "source": [
    "#Bootstrapping technique for geo_data_1\n",
    "\n",
    "values = []\n",
    "target_valid_1 = pd.Series(target_valid_1)\n",
    "predict_valid_1 = pd.Series(predict_valid_1)\n",
    "for i in range(1000):\n",
    "    target_subsample_1 = target_valid_1.reset_index(drop=True).sample(replace=True, random_state=state, n=500)\n",
    "    predict_subsample_1 = predict_valid_1.reset_index(drop=True)[target_subsample_1.index]\n",
    "    values.append(profit(target_subsample_1, predict_subsample_1, 200))\n",
    "        \n",
    "values = pd.Series(values)\n",
    "average_profit = values.mean()\n",
    "lower = values.quantile(0.025)\n",
    "upper = values.quantile(0.975)\n",
    "risk_of_losses = ((values < 0).sum() / len(values) * 100)\n",
    "    \n",
    "print('Average Profit:', average_profit)\n",
    "print('95% Confidence Interval: (', lower, ',', upper, ')')\n",
    "print('Risk of Loss:', risk_of_losses)"
   ]
  },
  {
   "cell_type": "code",
   "execution_count": 33,
   "metadata": {},
   "outputs": [
    {
     "name": "stdout",
     "output_type": "stream",
     "text": [
      "Average Profit: 3536640.975248346\n",
      "95% Confidence Interval: ( -1626509.4694229267 , 8497782.039717663 )\n",
      "Risk of Loss: 7.6\n"
     ]
    }
   ],
   "source": [
    "#Bootstrapping technique for geo_data_2\n",
    "\n",
    "values = []\n",
    "target_valid_2 = pd.Series(target_valid_2)\n",
    "predict_valid_2 = pd.Series(predict_valid_2)\n",
    "for i in range(1000):\n",
    "    target_subsample_2 = target_valid_2.reset_index(drop=True).sample(replace=True, random_state=state, n=500)\n",
    "    predict_subsample_2 = predict_valid_2.reset_index(drop=True)[target_subsample_2.index]\n",
    "    values.append(profit(target_subsample_2, predict_subsample_2, 200))\n",
    "        \n",
    "values = pd.Series(values)\n",
    "average_profit = values.mean()\n",
    "lower = values.quantile(0.025)\n",
    "upper = values.quantile(0.975)\n",
    "risk_of_losses = ((values < 0).sum() / len(values) * 100)\n",
    "    \n",
    "print('Average Profit:', average_profit)\n",
    "print('95% Confidence Interval: (', lower, ',', upper, ')')\n",
    "print('Risk of Loss:', risk_of_losses)"
   ]
  },
  {
   "cell_type": "markdown",
   "metadata": {},
   "source": [
    "### Provide findings: suggest a region for development of oil wells and justify the choice."
   ]
  },
  {
   "cell_type": "markdown",
   "metadata": {},
   "source": [
    "We obtain a confidence interval with negative values in both region 1, geo_data_0 and region 3, geo_data_2. Region 2, geo_data_1 had the best confidence interval. The smallest percent of risk loss was geo_data_1, with a value of 0.7. Based on our findings the best region for our oil wells is region 2, geo_data_1."
   ]
  }
 ],
 "metadata": {
  "ExecuteTimeLog": [
   {
    "duration": 1568,
    "start_time": "2021-10-09T18:56:52.345Z"
   },
   {
    "duration": 741,
    "start_time": "2021-10-09T19:01:50.194Z"
   },
   {
    "duration": 260,
    "start_time": "2021-10-09T19:02:50.949Z"
   },
   {
    "duration": 189,
    "start_time": "2021-10-09T19:03:12.737Z"
   },
   {
    "duration": 612,
    "start_time": "2021-10-09T19:04:07.613Z"
   },
   {
    "duration": 2058,
    "start_time": "2021-10-09T19:04:37.638Z"
   },
   {
    "duration": 13,
    "start_time": "2021-10-09T19:05:25.060Z"
   },
   {
    "duration": 13,
    "start_time": "2021-10-09T19:05:51.861Z"
   },
   {
    "duration": 12,
    "start_time": "2021-10-09T19:06:08.243Z"
   },
   {
    "duration": 69,
    "start_time": "2021-10-09T19:06:55.009Z"
   },
   {
    "duration": 737,
    "start_time": "2021-10-09T19:07:29.900Z"
   },
   {
    "duration": 192,
    "start_time": "2021-10-09T19:07:30.640Z"
   },
   {
    "duration": 12,
    "start_time": "2021-10-09T19:07:30.835Z"
   },
   {
    "duration": 90,
    "start_time": "2021-10-09T19:07:30.849Z"
   },
   {
    "duration": 188,
    "start_time": "2021-10-09T19:07:30.941Z"
   },
   {
    "duration": 12,
    "start_time": "2021-10-09T19:07:31.131Z"
   },
   {
    "duration": 91,
    "start_time": "2021-10-09T19:07:31.145Z"
   },
   {
    "duration": 184,
    "start_time": "2021-10-09T19:07:31.239Z"
   },
   {
    "duration": 14,
    "start_time": "2021-10-09T19:07:31.426Z"
   },
   {
    "duration": 101,
    "start_time": "2021-10-09T19:07:31.442Z"
   },
   {
    "duration": 234,
    "start_time": "2021-10-09T19:10:43.884Z"
   },
   {
    "duration": 233,
    "start_time": "2021-10-09T19:11:08.980Z"
   },
   {
    "duration": 565,
    "start_time": "2021-10-09T19:11:31.744Z"
   },
   {
    "duration": 242,
    "start_time": "2021-10-09T19:11:42.240Z"
   },
   {
    "duration": 303,
    "start_time": "2021-10-09T19:27:08.573Z"
   },
   {
    "duration": 7,
    "start_time": "2021-10-09T19:28:49.085Z"
   },
   {
    "duration": 21,
    "start_time": "2021-10-09T19:29:01.763Z"
   },
   {
    "duration": 784,
    "start_time": "2021-10-09T19:30:43.949Z"
   },
   {
    "duration": 264,
    "start_time": "2021-10-09T19:30:44.736Z"
   },
   {
    "duration": 17,
    "start_time": "2021-10-09T19:30:45.004Z"
   },
   {
    "duration": 93,
    "start_time": "2021-10-09T19:30:45.024Z"
   },
   {
    "duration": 6,
    "start_time": "2021-10-09T19:30:45.119Z"
   },
   {
    "duration": 252,
    "start_time": "2021-10-09T19:30:45.128Z"
   },
   {
    "duration": 12,
    "start_time": "2021-10-09T19:30:45.383Z"
   },
   {
    "duration": 107,
    "start_time": "2021-10-09T19:30:45.399Z"
   },
   {
    "duration": 7,
    "start_time": "2021-10-09T19:30:45.510Z"
   },
   {
    "duration": 379,
    "start_time": "2021-10-09T19:30:45.521Z"
   },
   {
    "duration": 19,
    "start_time": "2021-10-09T19:30:45.903Z"
   },
   {
    "duration": 109,
    "start_time": "2021-10-09T19:30:45.926Z"
   },
   {
    "duration": 8,
    "start_time": "2021-10-09T19:30:46.038Z"
   },
   {
    "duration": 758,
    "start_time": "2021-10-09T19:41:08.945Z"
   },
   {
    "duration": 244,
    "start_time": "2021-10-09T19:41:09.706Z"
   },
   {
    "duration": 24,
    "start_time": "2021-10-09T19:41:09.953Z"
   },
   {
    "duration": 92,
    "start_time": "2021-10-09T19:41:09.980Z"
   },
   {
    "duration": 6,
    "start_time": "2021-10-09T19:41:10.074Z"
   },
   {
    "duration": 239,
    "start_time": "2021-10-09T19:41:10.082Z"
   },
   {
    "duration": 12,
    "start_time": "2021-10-09T19:41:10.324Z"
   },
   {
    "duration": 91,
    "start_time": "2021-10-09T19:41:10.339Z"
   },
   {
    "duration": 6,
    "start_time": "2021-10-09T19:41:10.433Z"
   },
   {
    "duration": 254,
    "start_time": "2021-10-09T19:41:10.441Z"
   },
   {
    "duration": 13,
    "start_time": "2021-10-09T19:41:10.697Z"
   },
   {
    "duration": 91,
    "start_time": "2021-10-09T19:41:10.713Z"
   },
   {
    "duration": 6,
    "start_time": "2021-10-09T19:41:10.806Z"
   },
   {
    "duration": 1546,
    "start_time": "2021-10-09T19:45:54.791Z"
   },
   {
    "duration": 251,
    "start_time": "2021-10-09T19:45:56.339Z"
   },
   {
    "duration": 13,
    "start_time": "2021-10-09T19:45:56.593Z"
   },
   {
    "duration": 98,
    "start_time": "2021-10-09T19:45:56.609Z"
   },
   {
    "duration": 5,
    "start_time": "2021-10-09T19:45:56.710Z"
   },
   {
    "duration": 251,
    "start_time": "2021-10-09T19:45:56.718Z"
   },
   {
    "duration": 13,
    "start_time": "2021-10-09T19:45:56.972Z"
   },
   {
    "duration": 95,
    "start_time": "2021-10-09T19:45:56.988Z"
   },
   {
    "duration": 6,
    "start_time": "2021-10-09T19:45:57.086Z"
   },
   {
    "duration": 242,
    "start_time": "2021-10-09T19:45:57.094Z"
   },
   {
    "duration": 30,
    "start_time": "2021-10-09T19:45:57.339Z"
   },
   {
    "duration": 71,
    "start_time": "2021-10-09T19:45:57.371Z"
   },
   {
    "duration": 28,
    "start_time": "2021-10-09T19:45:57.444Z"
   },
   {
    "duration": 417,
    "start_time": "2021-10-09T19:45:57.475Z"
   },
   {
    "duration": 18,
    "start_time": "2021-10-09T19:46:13.701Z"
   },
   {
    "duration": 22,
    "start_time": "2021-10-09T19:47:07.205Z"
   },
   {
    "duration": 22,
    "start_time": "2021-10-09T19:47:54.245Z"
   },
   {
    "duration": 21,
    "start_time": "2021-10-09T19:48:21.500Z"
   },
   {
    "duration": 24,
    "start_time": "2021-10-09T20:10:37.304Z"
   },
   {
    "duration": 22,
    "start_time": "2021-10-09T20:12:11.805Z"
   },
   {
    "duration": 40,
    "start_time": "2021-10-09T20:28:33.173Z"
   },
   {
    "duration": 56,
    "start_time": "2021-10-09T20:29:00.916Z"
   },
   {
    "duration": 21,
    "start_time": "2021-10-09T20:31:29.232Z"
   },
   {
    "duration": 280,
    "start_time": "2021-10-09T20:40:10.848Z"
   },
   {
    "duration": 5,
    "start_time": "2021-10-09T20:40:33.243Z"
   },
   {
    "duration": 79,
    "start_time": "2021-10-09T20:40:38.487Z"
   },
   {
    "duration": 457,
    "start_time": "2021-10-09T20:59:40.787Z"
   },
   {
    "duration": 1323,
    "start_time": "2021-10-09T20:59:52.966Z"
   },
   {
    "duration": 239,
    "start_time": "2021-10-09T20:59:54.292Z"
   },
   {
    "duration": 34,
    "start_time": "2021-10-09T20:59:54.534Z"
   },
   {
    "duration": 68,
    "start_time": "2021-10-09T20:59:54.572Z"
   },
   {
    "duration": 24,
    "start_time": "2021-10-09T20:59:54.643Z"
   },
   {
    "duration": 237,
    "start_time": "2021-10-09T20:59:54.669Z"
   },
   {
    "duration": 13,
    "start_time": "2021-10-09T20:59:54.909Z"
   },
   {
    "duration": 92,
    "start_time": "2021-10-09T20:59:54.925Z"
   },
   {
    "duration": 6,
    "start_time": "2021-10-09T20:59:55.021Z"
   },
   {
    "duration": 249,
    "start_time": "2021-10-09T20:59:55.030Z"
   },
   {
    "duration": 13,
    "start_time": "2021-10-09T20:59:55.281Z"
   },
   {
    "duration": 97,
    "start_time": "2021-10-09T20:59:55.297Z"
   },
   {
    "duration": 6,
    "start_time": "2021-10-09T20:59:55.396Z"
   },
   {
    "duration": 24,
    "start_time": "2021-10-09T20:59:55.404Z"
   },
   {
    "duration": 48,
    "start_time": "2021-10-09T20:59:55.430Z"
   },
   {
    "duration": 25,
    "start_time": "2021-10-09T20:59:55.480Z"
   },
   {
    "duration": 485,
    "start_time": "2021-10-09T20:59:55.507Z"
   },
   {
    "duration": 17,
    "start_time": "2021-10-09T21:00:19.992Z"
   },
   {
    "duration": 91,
    "start_time": "2021-10-09T21:02:30.482Z"
   },
   {
    "duration": 22,
    "start_time": "2021-10-09T21:06:37.685Z"
   },
   {
    "duration": 80,
    "start_time": "2021-10-09T21:09:20.815Z"
   },
   {
    "duration": 22,
    "start_time": "2021-10-09T21:09:27.166Z"
   },
   {
    "duration": 94,
    "start_time": "2021-10-09T21:10:17.197Z"
   },
   {
    "duration": 55,
    "start_time": "2021-10-09T21:10:30.312Z"
   },
   {
    "duration": 1071,
    "start_time": "2021-10-10T13:35:10.154Z"
   },
   {
    "duration": 195,
    "start_time": "2021-10-10T13:35:11.227Z"
   },
   {
    "duration": 26,
    "start_time": "2021-10-10T13:35:11.424Z"
   },
   {
    "duration": 44,
    "start_time": "2021-10-10T13:35:11.452Z"
   },
   {
    "duration": 4,
    "start_time": "2021-10-10T13:35:11.498Z"
   },
   {
    "duration": 186,
    "start_time": "2021-10-10T13:35:11.504Z"
   },
   {
    "duration": 11,
    "start_time": "2021-10-10T13:35:11.691Z"
   },
   {
    "duration": 64,
    "start_time": "2021-10-10T13:35:11.704Z"
   },
   {
    "duration": 4,
    "start_time": "2021-10-10T13:35:11.770Z"
   },
   {
    "duration": 189,
    "start_time": "2021-10-10T13:35:11.776Z"
   },
   {
    "duration": 10,
    "start_time": "2021-10-10T13:35:11.967Z"
   },
   {
    "duration": 46,
    "start_time": "2021-10-10T13:35:11.978Z"
   },
   {
    "duration": 24,
    "start_time": "2021-10-10T13:35:12.026Z"
   },
   {
    "duration": 17,
    "start_time": "2021-10-10T13:35:12.051Z"
   },
   {
    "duration": 17,
    "start_time": "2021-10-10T13:35:12.070Z"
   },
   {
    "duration": 20,
    "start_time": "2021-10-10T13:35:12.089Z"
   },
   {
    "duration": 281,
    "start_time": "2021-10-10T13:35:12.111Z"
   },
   {
    "duration": -2083,
    "start_time": "2021-10-10T13:35:14.476Z"
   },
   {
    "duration": -2084,
    "start_time": "2021-10-10T13:35:14.478Z"
   },
   {
    "duration": -2088,
    "start_time": "2021-10-10T13:35:14.483Z"
   },
   {
    "duration": 23,
    "start_time": "2021-10-10T13:35:49.918Z"
   },
   {
    "duration": 1055,
    "start_time": "2021-10-10T13:35:55.028Z"
   },
   {
    "duration": 192,
    "start_time": "2021-10-10T13:35:56.085Z"
   },
   {
    "duration": 10,
    "start_time": "2021-10-10T13:35:56.279Z"
   },
   {
    "duration": 72,
    "start_time": "2021-10-10T13:35:56.290Z"
   },
   {
    "duration": 4,
    "start_time": "2021-10-10T13:35:56.364Z"
   },
   {
    "duration": 193,
    "start_time": "2021-10-10T13:35:56.370Z"
   },
   {
    "duration": 10,
    "start_time": "2021-10-10T13:35:56.564Z"
   },
   {
    "duration": 43,
    "start_time": "2021-10-10T13:35:56.577Z"
   },
   {
    "duration": 4,
    "start_time": "2021-10-10T13:35:56.622Z"
   },
   {
    "duration": 184,
    "start_time": "2021-10-10T13:35:56.649Z"
   },
   {
    "duration": 18,
    "start_time": "2021-10-10T13:35:56.835Z"
   },
   {
    "duration": 44,
    "start_time": "2021-10-10T13:35:56.855Z"
   },
   {
    "duration": 4,
    "start_time": "2021-10-10T13:35:56.900Z"
   },
   {
    "duration": 24,
    "start_time": "2021-10-10T13:35:56.906Z"
   },
   {
    "duration": 36,
    "start_time": "2021-10-10T13:35:56.931Z"
   },
   {
    "duration": 20,
    "start_time": "2021-10-10T13:35:56.969Z"
   },
   {
    "duration": 66,
    "start_time": "2021-10-10T13:35:56.991Z"
   },
   {
    "duration": 108,
    "start_time": "2021-10-10T13:35:57.151Z"
   },
   {
    "duration": 201,
    "start_time": "2021-10-10T13:35:57.351Z"
   },
   {
    "duration": 1311,
    "start_time": "2021-10-10T13:35:57.648Z"
   },
   {
    "duration": 1289,
    "start_time": "2021-10-10T13:36:43.873Z"
   },
   {
    "duration": 1434,
    "start_time": "2021-10-10T13:37:28.223Z"
   },
   {
    "duration": 1709,
    "start_time": "2021-10-10T13:37:36.451Z"
   },
   {
    "duration": 1278,
    "start_time": "2021-10-10T13:37:45.972Z"
   },
   {
    "duration": 1375,
    "start_time": "2021-10-10T13:39:16.382Z"
   },
   {
    "duration": 1313,
    "start_time": "2021-10-10T13:40:45.850Z"
   },
   {
    "duration": 1112,
    "start_time": "2021-10-10T13:48:10.015Z"
   },
   {
    "duration": 198,
    "start_time": "2021-10-10T13:48:11.130Z"
   },
   {
    "duration": 23,
    "start_time": "2021-10-10T13:48:11.331Z"
   },
   {
    "duration": 49,
    "start_time": "2021-10-10T13:48:11.356Z"
   },
   {
    "duration": 4,
    "start_time": "2021-10-10T13:48:11.406Z"
   },
   {
    "duration": 196,
    "start_time": "2021-10-10T13:48:11.412Z"
   },
   {
    "duration": 8,
    "start_time": "2021-10-10T13:48:11.610Z"
   },
   {
    "duration": 61,
    "start_time": "2021-10-10T13:48:11.621Z"
   },
   {
    "duration": 5,
    "start_time": "2021-10-10T13:48:11.684Z"
   },
   {
    "duration": 191,
    "start_time": "2021-10-10T13:48:11.690Z"
   },
   {
    "duration": 9,
    "start_time": "2021-10-10T13:48:11.883Z"
   },
   {
    "duration": 58,
    "start_time": "2021-10-10T13:48:11.894Z"
   },
   {
    "duration": 5,
    "start_time": "2021-10-10T13:48:11.953Z"
   },
   {
    "duration": 23,
    "start_time": "2021-10-10T13:48:11.959Z"
   },
   {
    "duration": 18,
    "start_time": "2021-10-10T13:48:11.983Z"
   },
   {
    "duration": 48,
    "start_time": "2021-10-10T13:48:12.003Z"
   },
   {
    "duration": 97,
    "start_time": "2021-10-10T13:48:12.053Z"
   },
   {
    "duration": 109,
    "start_time": "2021-10-10T13:48:12.153Z"
   },
   {
    "duration": 196,
    "start_time": "2021-10-10T13:48:12.265Z"
   },
   {
    "duration": 1599,
    "start_time": "2021-10-10T13:48:12.463Z"
   },
   {
    "duration": 4,
    "start_time": "2021-10-10T14:06:13.985Z"
   },
   {
    "duration": 988,
    "start_time": "2021-10-10T14:06:22.804Z"
   },
   {
    "duration": 188,
    "start_time": "2021-10-10T14:06:23.794Z"
   },
   {
    "duration": 10,
    "start_time": "2021-10-10T14:06:23.984Z"
   },
   {
    "duration": 63,
    "start_time": "2021-10-10T14:06:23.996Z"
   },
   {
    "duration": 4,
    "start_time": "2021-10-10T14:06:24.061Z"
   },
   {
    "duration": 199,
    "start_time": "2021-10-10T14:06:24.067Z"
   },
   {
    "duration": 10,
    "start_time": "2021-10-10T14:06:24.268Z"
   },
   {
    "duration": 51,
    "start_time": "2021-10-10T14:06:24.280Z"
   },
   {
    "duration": 5,
    "start_time": "2021-10-10T14:06:24.350Z"
   },
   {
    "duration": 187,
    "start_time": "2021-10-10T14:06:24.356Z"
   },
   {
    "duration": 10,
    "start_time": "2021-10-10T14:06:24.544Z"
   },
   {
    "duration": 45,
    "start_time": "2021-10-10T14:06:24.555Z"
   },
   {
    "duration": 4,
    "start_time": "2021-10-10T14:06:24.602Z"
   },
   {
    "duration": 47,
    "start_time": "2021-10-10T14:06:24.608Z"
   },
   {
    "duration": 20,
    "start_time": "2021-10-10T14:06:24.658Z"
   },
   {
    "duration": 22,
    "start_time": "2021-10-10T14:06:24.680Z"
   },
   {
    "duration": 56,
    "start_time": "2021-10-10T14:06:24.704Z"
   },
   {
    "duration": 105,
    "start_time": "2021-10-10T14:06:24.852Z"
   },
   {
    "duration": 109,
    "start_time": "2021-10-10T14:06:25.051Z"
   },
   {
    "duration": 1589,
    "start_time": "2021-10-10T14:06:25.162Z"
   },
   {
    "duration": 4,
    "start_time": "2021-10-10T14:06:26.754Z"
   },
   {
    "duration": 3,
    "start_time": "2021-10-10T14:12:02.573Z"
   },
   {
    "duration": 3,
    "start_time": "2021-10-10T14:13:32.273Z"
   },
   {
    "duration": 4,
    "start_time": "2021-10-10T14:15:02.111Z"
   },
   {
    "duration": 4,
    "start_time": "2021-10-10T14:15:36.325Z"
   },
   {
    "duration": 5,
    "start_time": "2021-10-10T14:15:56.132Z"
   },
   {
    "duration": 4,
    "start_time": "2021-10-10T14:28:54.936Z"
   },
   {
    "duration": 536,
    "start_time": "2021-10-10T14:30:24.941Z"
   },
   {
    "duration": 3,
    "start_time": "2021-10-10T14:30:56.308Z"
   },
   {
    "duration": 71,
    "start_time": "2021-10-10T14:30:59.495Z"
   },
   {
    "duration": 433,
    "start_time": "2021-10-10T14:31:03.748Z"
   },
   {
    "duration": 5,
    "start_time": "2021-10-10T14:34:41.154Z"
   },
   {
    "duration": 5,
    "start_time": "2021-10-10T14:48:43.831Z"
   },
   {
    "duration": 12,
    "start_time": "2021-10-10T14:48:46.625Z"
   },
   {
    "duration": 16,
    "start_time": "2021-10-10T14:49:22.744Z"
   },
   {
    "duration": 11,
    "start_time": "2021-10-10T14:49:31.874Z"
   },
   {
    "duration": 4,
    "start_time": "2021-10-10T14:50:07.711Z"
   },
   {
    "duration": 4,
    "start_time": "2021-10-10T14:50:11.629Z"
   },
   {
    "duration": 217,
    "start_time": "2021-10-10T14:50:20.710Z"
   },
   {
    "duration": 202,
    "start_time": "2021-10-10T14:50:34.032Z"
   },
   {
    "duration": 4,
    "start_time": "2021-10-10T14:50:44.202Z"
   },
   {
    "duration": 13,
    "start_time": "2021-10-10T14:51:42.373Z"
   },
   {
    "duration": 13,
    "start_time": "2021-10-10T14:51:48.584Z"
   },
   {
    "duration": 4,
    "start_time": "2021-10-10T14:51:58.322Z"
   },
   {
    "duration": 11,
    "start_time": "2021-10-10T14:52:00.290Z"
   },
   {
    "duration": 12,
    "start_time": "2021-10-10T14:52:29.116Z"
   },
   {
    "duration": 11,
    "start_time": "2021-10-10T14:52:44.380Z"
   },
   {
    "duration": 66,
    "start_time": "2021-10-10T14:54:02.896Z"
   },
   {
    "duration": 11,
    "start_time": "2021-10-10T14:54:05.992Z"
   },
   {
    "duration": 74,
    "start_time": "2021-10-10T14:57:47.419Z"
   },
   {
    "duration": 11,
    "start_time": "2021-10-10T14:57:50.523Z"
   },
   {
    "duration": 71,
    "start_time": "2021-10-10T14:57:57.016Z"
   },
   {
    "duration": 11,
    "start_time": "2021-10-10T14:57:59.689Z"
   },
   {
    "duration": 11,
    "start_time": "2021-10-10T14:58:05.064Z"
   },
   {
    "duration": 3,
    "start_time": "2021-10-10T15:00:23.575Z"
   },
   {
    "duration": 11,
    "start_time": "2021-10-10T15:00:25.517Z"
   },
   {
    "duration": 96,
    "start_time": "2021-10-10T15:01:01.012Z"
   },
   {
    "duration": 11,
    "start_time": "2021-10-10T15:01:04.196Z"
   },
   {
    "duration": 77,
    "start_time": "2021-10-10T15:01:18.597Z"
   },
   {
    "duration": 12,
    "start_time": "2021-10-10T15:01:20.932Z"
   },
   {
    "duration": 3,
    "start_time": "2021-10-10T15:01:54.811Z"
   },
   {
    "duration": 12,
    "start_time": "2021-10-10T15:01:56.925Z"
   },
   {
    "duration": 87,
    "start_time": "2021-10-10T15:02:38.993Z"
   },
   {
    "duration": 287,
    "start_time": "2021-10-10T15:02:41.899Z"
   },
   {
    "duration": 19,
    "start_time": "2021-10-10T15:02:52.499Z"
   },
   {
    "duration": 24,
    "start_time": "2021-10-10T15:03:38.825Z"
   },
   {
    "duration": 4,
    "start_time": "2021-10-10T15:04:00.457Z"
   },
   {
    "duration": 4,
    "start_time": "2021-10-10T15:04:02.983Z"
   },
   {
    "duration": 209,
    "start_time": "2021-10-10T15:04:13.697Z"
   },
   {
    "duration": 3,
    "start_time": "2021-10-10T15:04:17.864Z"
   },
   {
    "duration": 4,
    "start_time": "2021-10-10T15:04:20.903Z"
   },
   {
    "duration": 12,
    "start_time": "2021-10-10T15:05:14.454Z"
   },
   {
    "duration": 214,
    "start_time": "2021-10-10T15:06:15.947Z"
   },
   {
    "duration": 3,
    "start_time": "2021-10-10T15:06:29.789Z"
   },
   {
    "duration": 4,
    "start_time": "2021-10-10T15:06:36.364Z"
   },
   {
    "duration": 4,
    "start_time": "2021-10-10T15:06:41.467Z"
   },
   {
    "duration": 1047,
    "start_time": "2021-10-10T15:06:46.945Z"
   },
   {
    "duration": 207,
    "start_time": "2021-10-10T15:06:47.994Z"
   },
   {
    "duration": 10,
    "start_time": "2021-10-10T15:06:48.203Z"
   },
   {
    "duration": 67,
    "start_time": "2021-10-10T15:06:48.216Z"
   },
   {
    "duration": 4,
    "start_time": "2021-10-10T15:06:48.285Z"
   },
   {
    "duration": 188,
    "start_time": "2021-10-10T15:06:48.291Z"
   },
   {
    "duration": 12,
    "start_time": "2021-10-10T15:06:48.481Z"
   },
   {
    "duration": 67,
    "start_time": "2021-10-10T15:06:48.497Z"
   },
   {
    "duration": 7,
    "start_time": "2021-10-10T15:06:48.566Z"
   },
   {
    "duration": 195,
    "start_time": "2021-10-10T15:06:48.575Z"
   },
   {
    "duration": 11,
    "start_time": "2021-10-10T15:06:48.771Z"
   },
   {
    "duration": 42,
    "start_time": "2021-10-10T15:06:48.783Z"
   },
   {
    "duration": 22,
    "start_time": "2021-10-10T15:06:48.827Z"
   },
   {
    "duration": 18,
    "start_time": "2021-10-10T15:06:48.852Z"
   },
   {
    "duration": 20,
    "start_time": "2021-10-10T15:06:48.872Z"
   },
   {
    "duration": 19,
    "start_time": "2021-10-10T15:06:48.893Z"
   },
   {
    "duration": 98,
    "start_time": "2021-10-10T15:06:48.951Z"
   },
   {
    "duration": 108,
    "start_time": "2021-10-10T15:06:49.052Z"
   },
   {
    "duration": 194,
    "start_time": "2021-10-10T15:06:49.162Z"
   },
   {
    "duration": 1502,
    "start_time": "2021-10-10T15:06:49.359Z"
   },
   {
    "duration": 86,
    "start_time": "2021-10-10T15:06:50.864Z"
   },
   {
    "duration": 97,
    "start_time": "2021-10-10T15:06:50.953Z"
   },
   {
    "duration": 4,
    "start_time": "2021-10-10T15:06:51.053Z"
   },
   {
    "duration": 375,
    "start_time": "2021-10-10T15:08:14.373Z"
   },
   {
    "duration": 9,
    "start_time": "2021-10-10T15:09:24.292Z"
   },
   {
    "duration": 13,
    "start_time": "2021-10-10T15:09:34.038Z"
   },
   {
    "duration": 17,
    "start_time": "2021-10-10T15:11:30.819Z"
   },
   {
    "duration": 15,
    "start_time": "2021-10-10T15:13:36.544Z"
   },
   {
    "duration": 11,
    "start_time": "2021-10-10T15:13:53.040Z"
   },
   {
    "duration": 12,
    "start_time": "2021-10-10T15:14:05.677Z"
   },
   {
    "duration": 13,
    "start_time": "2021-10-10T15:14:33.163Z"
   },
   {
    "duration": 5,
    "start_time": "2021-10-10T15:21:25.602Z"
   },
   {
    "duration": 4,
    "start_time": "2021-10-10T15:28:25.766Z"
   },
   {
    "duration": 12,
    "start_time": "2021-10-10T15:29:28.941Z"
   },
   {
    "duration": 4,
    "start_time": "2021-10-10T15:30:37.890Z"
   },
   {
    "duration": 12,
    "start_time": "2021-10-10T15:30:40.473Z"
   },
   {
    "duration": 4,
    "start_time": "2021-10-10T15:33:17.879Z"
   },
   {
    "duration": 12,
    "start_time": "2021-10-10T15:33:20.406Z"
   },
   {
    "duration": 12,
    "start_time": "2021-10-10T15:33:50.956Z"
   },
   {
    "duration": 16,
    "start_time": "2021-10-10T15:34:03.559Z"
   },
   {
    "duration": 17,
    "start_time": "2021-10-10T15:42:08.779Z"
   },
   {
    "duration": 15,
    "start_time": "2021-10-10T15:42:23.944Z"
   },
   {
    "duration": 11,
    "start_time": "2021-10-10T15:42:47.492Z"
   },
   {
    "duration": 12,
    "start_time": "2021-10-10T15:43:03.326Z"
   },
   {
    "duration": 16,
    "start_time": "2021-10-10T15:43:42.567Z"
   },
   {
    "duration": 14,
    "start_time": "2021-10-10T15:43:59.461Z"
   },
   {
    "duration": 14,
    "start_time": "2021-10-10T15:44:22.325Z"
   },
   {
    "duration": 11,
    "start_time": "2021-10-10T15:47:58.351Z"
   },
   {
    "duration": 4,
    "start_time": "2021-10-10T15:51:18.540Z"
   },
   {
    "duration": 11,
    "start_time": "2021-10-10T15:51:22.657Z"
   },
   {
    "duration": 228,
    "start_time": "2021-10-10T15:56:08.370Z"
   },
   {
    "duration": 16,
    "start_time": "2021-10-10T15:56:25.228Z"
   },
   {
    "duration": 15,
    "start_time": "2021-10-10T15:56:43.912Z"
   },
   {
    "duration": 16,
    "start_time": "2021-10-10T15:56:48.713Z"
   },
   {
    "duration": 9,
    "start_time": "2021-10-10T15:57:07.849Z"
   },
   {
    "duration": 13,
    "start_time": "2021-10-10T15:57:15.056Z"
   },
   {
    "duration": 11,
    "start_time": "2021-10-10T15:59:32.790Z"
   },
   {
    "duration": 12,
    "start_time": "2021-10-10T16:00:01.005Z"
   },
   {
    "duration": 12,
    "start_time": "2021-10-10T16:00:12.396Z"
   },
   {
    "duration": 219,
    "start_time": "2021-10-10T16:00:22.612Z"
   },
   {
    "duration": 12,
    "start_time": "2021-10-10T16:00:41.289Z"
   },
   {
    "duration": 12,
    "start_time": "2021-10-10T16:00:52.318Z"
   },
   {
    "duration": 70,
    "start_time": "2021-10-10T16:02:29.553Z"
   },
   {
    "duration": 12,
    "start_time": "2021-10-10T16:02:34.457Z"
   },
   {
    "duration": 18,
    "start_time": "2021-10-10T16:03:05.791Z"
   },
   {
    "duration": 15,
    "start_time": "2021-10-10T16:05:41.958Z"
   },
   {
    "duration": 12,
    "start_time": "2021-10-10T16:10:48.290Z"
   },
   {
    "duration": 12,
    "start_time": "2021-10-10T16:11:04.403Z"
   },
   {
    "duration": 4,
    "start_time": "2021-10-10T16:12:56.488Z"
   },
   {
    "duration": 11,
    "start_time": "2021-10-10T16:13:11.419Z"
   },
   {
    "duration": 4,
    "start_time": "2021-10-10T16:13:22.128Z"
   },
   {
    "duration": 1067,
    "start_time": "2021-10-10T16:13:27.823Z"
   },
   {
    "duration": 194,
    "start_time": "2021-10-10T16:13:28.893Z"
   },
   {
    "duration": 10,
    "start_time": "2021-10-10T16:13:29.090Z"
   },
   {
    "duration": 66,
    "start_time": "2021-10-10T16:13:29.102Z"
   },
   {
    "duration": 4,
    "start_time": "2021-10-10T16:13:29.170Z"
   },
   {
    "duration": 196,
    "start_time": "2021-10-10T16:13:29.176Z"
   },
   {
    "duration": 10,
    "start_time": "2021-10-10T16:13:29.374Z"
   },
   {
    "duration": 41,
    "start_time": "2021-10-10T16:13:29.387Z"
   },
   {
    "duration": 22,
    "start_time": "2021-10-10T16:13:29.430Z"
   },
   {
    "duration": 195,
    "start_time": "2021-10-10T16:13:29.454Z"
   },
   {
    "duration": 10,
    "start_time": "2021-10-10T16:13:29.651Z"
   },
   {
    "duration": 44,
    "start_time": "2021-10-10T16:13:29.662Z"
   },
   {
    "duration": 4,
    "start_time": "2021-10-10T16:13:29.708Z"
   },
   {
    "duration": 38,
    "start_time": "2021-10-10T16:13:29.714Z"
   },
   {
    "duration": 19,
    "start_time": "2021-10-10T16:13:29.753Z"
   },
   {
    "duration": 19,
    "start_time": "2021-10-10T16:13:29.774Z"
   },
   {
    "duration": 64,
    "start_time": "2021-10-10T16:13:29.794Z"
   },
   {
    "duration": 201,
    "start_time": "2021-10-10T16:13:29.950Z"
   },
   {
    "duration": 110,
    "start_time": "2021-10-10T16:13:30.154Z"
   },
   {
    "duration": 1691,
    "start_time": "2021-10-10T16:13:30.266Z"
   },
   {
    "duration": 92,
    "start_time": "2021-10-10T16:13:31.959Z"
   },
   {
    "duration": 97,
    "start_time": "2021-10-10T16:13:32.053Z"
   },
   {
    "duration": 4,
    "start_time": "2021-10-10T16:13:32.155Z"
   },
   {
    "duration": 6,
    "start_time": "2021-10-10T16:13:32.161Z"
   },
   {
    "duration": 546,
    "start_time": "2021-10-10T16:13:32.169Z"
   },
   {
    "duration": -2346,
    "start_time": "2021-10-10T16:13:35.063Z"
   },
   {
    "duration": -2348,
    "start_time": "2021-10-10T16:13:35.066Z"
   },
   {
    "duration": -2349,
    "start_time": "2021-10-10T16:13:35.068Z"
   },
   {
    "duration": 1078,
    "start_time": "2021-10-10T16:14:27.406Z"
   },
   {
    "duration": 192,
    "start_time": "2021-10-10T16:14:28.486Z"
   },
   {
    "duration": 9,
    "start_time": "2021-10-10T16:14:28.680Z"
   },
   {
    "duration": 58,
    "start_time": "2021-10-10T16:14:28.691Z"
   },
   {
    "duration": 4,
    "start_time": "2021-10-10T16:14:28.751Z"
   },
   {
    "duration": 193,
    "start_time": "2021-10-10T16:14:28.757Z"
   },
   {
    "duration": 9,
    "start_time": "2021-10-10T16:14:28.952Z"
   },
   {
    "duration": 41,
    "start_time": "2021-10-10T16:14:28.964Z"
   },
   {
    "duration": 5,
    "start_time": "2021-10-10T16:14:29.007Z"
   },
   {
    "duration": 197,
    "start_time": "2021-10-10T16:14:29.013Z"
   },
   {
    "duration": 9,
    "start_time": "2021-10-10T16:14:29.212Z"
   },
   {
    "duration": 59,
    "start_time": "2021-10-10T16:14:29.222Z"
   },
   {
    "duration": 5,
    "start_time": "2021-10-10T16:14:29.283Z"
   },
   {
    "duration": 37,
    "start_time": "2021-10-10T16:14:29.290Z"
   },
   {
    "duration": 23,
    "start_time": "2021-10-10T16:14:29.329Z"
   },
   {
    "duration": 20,
    "start_time": "2021-10-10T16:14:29.354Z"
   },
   {
    "duration": 77,
    "start_time": "2021-10-10T16:14:29.377Z"
   },
   {
    "duration": 109,
    "start_time": "2021-10-10T16:14:29.457Z"
   },
   {
    "duration": 107,
    "start_time": "2021-10-10T16:14:29.651Z"
   },
   {
    "duration": 1590,
    "start_time": "2021-10-10T16:14:29.761Z"
   },
   {
    "duration": 3,
    "start_time": "2021-10-10T16:14:31.354Z"
   },
   {
    "duration": 18,
    "start_time": "2021-10-10T16:14:31.450Z"
   },
   {
    "duration": 14,
    "start_time": "2021-10-10T16:14:31.471Z"
   },
   {
    "duration": 16,
    "start_time": "2021-10-10T16:14:31.487Z"
   },
   {
    "duration": 571,
    "start_time": "2021-10-10T16:14:31.505Z"
   },
   {
    "duration": -2347,
    "start_time": "2021-10-10T16:14:34.425Z"
   },
   {
    "duration": -2348,
    "start_time": "2021-10-10T16:14:34.427Z"
   },
   {
    "duration": -2522,
    "start_time": "2021-10-10T16:14:34.602Z"
   },
   {
    "duration": 3,
    "start_time": "2021-10-10T16:17:51.250Z"
   },
   {
    "duration": 1052,
    "start_time": "2021-10-10T16:21:07.838Z"
   },
   {
    "duration": 194,
    "start_time": "2021-10-10T16:21:08.892Z"
   },
   {
    "duration": 11,
    "start_time": "2021-10-10T16:21:09.089Z"
   },
   {
    "duration": 70,
    "start_time": "2021-10-10T16:21:09.103Z"
   },
   {
    "duration": 5,
    "start_time": "2021-10-10T16:21:09.175Z"
   },
   {
    "duration": 192,
    "start_time": "2021-10-10T16:21:09.183Z"
   },
   {
    "duration": 10,
    "start_time": "2021-10-10T16:21:09.377Z"
   },
   {
    "duration": 42,
    "start_time": "2021-10-10T16:21:09.388Z"
   },
   {
    "duration": 5,
    "start_time": "2021-10-10T16:21:09.449Z"
   },
   {
    "duration": 186,
    "start_time": "2021-10-10T16:21:09.456Z"
   },
   {
    "duration": 10,
    "start_time": "2021-10-10T16:21:09.649Z"
   },
   {
    "duration": 43,
    "start_time": "2021-10-10T16:21:09.661Z"
   },
   {
    "duration": 4,
    "start_time": "2021-10-10T16:21:09.706Z"
   },
   {
    "duration": 39,
    "start_time": "2021-10-10T16:21:09.712Z"
   },
   {
    "duration": 16,
    "start_time": "2021-10-10T16:21:09.753Z"
   },
   {
    "duration": 17,
    "start_time": "2021-10-10T16:21:09.771Z"
   },
   {
    "duration": 160,
    "start_time": "2021-10-10T16:21:09.789Z"
   },
   {
    "duration": 111,
    "start_time": "2021-10-10T16:21:09.952Z"
   },
   {
    "duration": 191,
    "start_time": "2021-10-10T16:21:10.065Z"
   },
   {
    "duration": 1598,
    "start_time": "2021-10-10T16:21:10.258Z"
   },
   {
    "duration": 92,
    "start_time": "2021-10-10T16:21:11.858Z"
   },
   {
    "duration": 8,
    "start_time": "2021-10-10T16:21:11.952Z"
   },
   {
    "duration": 7,
    "start_time": "2021-10-10T16:21:11.961Z"
   },
   {
    "duration": 9,
    "start_time": "2021-10-10T16:21:11.969Z"
   },
   {
    "duration": 505,
    "start_time": "2021-10-10T16:21:11.980Z"
   },
   {
    "duration": -2358,
    "start_time": "2021-10-10T16:21:14.845Z"
   },
   {
    "duration": -2359,
    "start_time": "2021-10-10T16:21:14.847Z"
   },
   {
    "duration": -2360,
    "start_time": "2021-10-10T16:21:14.849Z"
   },
   {
    "duration": 4,
    "start_time": "2021-10-10T16:22:32.805Z"
   },
   {
    "duration": 997,
    "start_time": "2021-10-10T16:23:06.192Z"
   },
   {
    "duration": 192,
    "start_time": "2021-10-10T16:23:07.191Z"
   },
   {
    "duration": 9,
    "start_time": "2021-10-10T16:23:07.385Z"
   },
   {
    "duration": 62,
    "start_time": "2021-10-10T16:23:07.396Z"
   },
   {
    "duration": 5,
    "start_time": "2021-10-10T16:23:07.459Z"
   },
   {
    "duration": 189,
    "start_time": "2021-10-10T16:23:07.465Z"
   },
   {
    "duration": 9,
    "start_time": "2021-10-10T16:23:07.656Z"
   },
   {
    "duration": 41,
    "start_time": "2021-10-10T16:23:07.667Z"
   },
   {
    "duration": 4,
    "start_time": "2021-10-10T16:23:07.710Z"
   },
   {
    "duration": 192,
    "start_time": "2021-10-10T16:23:07.716Z"
   },
   {
    "duration": 9,
    "start_time": "2021-10-10T16:23:07.910Z"
   },
   {
    "duration": 65,
    "start_time": "2021-10-10T16:23:07.921Z"
   },
   {
    "duration": 5,
    "start_time": "2021-10-10T16:23:07.987Z"
   },
   {
    "duration": 20,
    "start_time": "2021-10-10T16:23:07.993Z"
   },
   {
    "duration": 36,
    "start_time": "2021-10-10T16:23:08.015Z"
   },
   {
    "duration": 19,
    "start_time": "2021-10-10T16:23:08.053Z"
   },
   {
    "duration": 85,
    "start_time": "2021-10-10T16:23:08.073Z"
   },
   {
    "duration": 101,
    "start_time": "2021-10-10T16:23:08.250Z"
   },
   {
    "duration": 107,
    "start_time": "2021-10-10T16:23:08.353Z"
   },
   {
    "duration": 1411,
    "start_time": "2021-10-10T16:23:08.551Z"
   },
   {
    "duration": 84,
    "start_time": "2021-10-10T16:23:09.966Z"
   },
   {
    "duration": 99,
    "start_time": "2021-10-10T16:23:10.053Z"
   },
   {
    "duration": 5,
    "start_time": "2021-10-10T16:23:10.156Z"
   },
   {
    "duration": 5,
    "start_time": "2021-10-10T16:23:10.163Z"
   },
   {
    "duration": 488,
    "start_time": "2021-10-10T16:23:10.170Z"
   },
   {
    "duration": -2358,
    "start_time": "2021-10-10T16:23:13.018Z"
   },
   {
    "duration": -2360,
    "start_time": "2021-10-10T16:23:13.021Z"
   },
   {
    "duration": -2533,
    "start_time": "2021-10-10T16:23:13.195Z"
   },
   {
    "duration": 990,
    "start_time": "2021-10-10T16:23:24.294Z"
   },
   {
    "duration": 191,
    "start_time": "2021-10-10T16:23:25.286Z"
   },
   {
    "duration": 9,
    "start_time": "2021-10-10T16:23:25.480Z"
   },
   {
    "duration": 58,
    "start_time": "2021-10-10T16:23:25.491Z"
   },
   {
    "duration": 4,
    "start_time": "2021-10-10T16:23:25.552Z"
   },
   {
    "duration": 193,
    "start_time": "2021-10-10T16:23:25.558Z"
   },
   {
    "duration": 9,
    "start_time": "2021-10-10T16:23:25.753Z"
   },
   {
    "duration": 43,
    "start_time": "2021-10-10T16:23:25.765Z"
   },
   {
    "duration": 4,
    "start_time": "2021-10-10T16:23:25.810Z"
   },
   {
    "duration": 199,
    "start_time": "2021-10-10T16:23:25.815Z"
   },
   {
    "duration": 10,
    "start_time": "2021-10-10T16:23:26.016Z"
   },
   {
    "duration": 61,
    "start_time": "2021-10-10T16:23:26.028Z"
   },
   {
    "duration": 5,
    "start_time": "2021-10-10T16:23:26.090Z"
   },
   {
    "duration": 22,
    "start_time": "2021-10-10T16:23:26.096Z"
   },
   {
    "duration": 43,
    "start_time": "2021-10-10T16:23:26.119Z"
   },
   {
    "duration": 18,
    "start_time": "2021-10-10T16:23:26.163Z"
   },
   {
    "duration": 74,
    "start_time": "2021-10-10T16:23:26.183Z"
   },
   {
    "duration": 293,
    "start_time": "2021-10-10T16:23:26.259Z"
   },
   {
    "duration": 200,
    "start_time": "2021-10-10T16:23:26.554Z"
   },
   {
    "duration": 1406,
    "start_time": "2021-10-10T16:23:26.756Z"
   },
   {
    "duration": 85,
    "start_time": "2021-10-10T16:23:28.165Z"
   },
   {
    "duration": 8,
    "start_time": "2021-10-10T16:23:28.253Z"
   },
   {
    "duration": 4,
    "start_time": "2021-10-10T16:23:28.352Z"
   },
   {
    "duration": 8,
    "start_time": "2021-10-10T16:23:28.357Z"
   },
   {
    "duration": 14,
    "start_time": "2021-10-10T16:23:28.366Z"
   },
   {
    "duration": 10,
    "start_time": "2021-10-10T16:23:28.382Z"
   },
   {
    "duration": 11,
    "start_time": "2021-10-10T16:23:28.394Z"
   },
   {
    "duration": 8,
    "start_time": "2021-10-10T16:23:28.407Z"
   },
   {
    "duration": 4,
    "start_time": "2021-10-10T16:25:28.992Z"
   },
   {
    "duration": 499,
    "start_time": "2021-10-10T16:25:31.263Z"
   },
   {
    "duration": 4,
    "start_time": "2021-10-10T16:26:11.214Z"
   },
   {
    "duration": 8,
    "start_time": "2021-10-10T16:26:14.494Z"
   },
   {
    "duration": 9,
    "start_time": "2021-10-10T16:26:18.928Z"
   },
   {
    "duration": 9,
    "start_time": "2021-10-10T16:26:21.478Z"
   },
   {
    "duration": 11,
    "start_time": "2021-10-10T16:28:10.385Z"
   },
   {
    "duration": 13,
    "start_time": "2021-10-10T16:28:36.666Z"
   },
   {
    "duration": 13,
    "start_time": "2021-10-10T16:28:48.209Z"
   },
   {
    "duration": 3,
    "start_time": "2021-10-10T16:29:42.883Z"
   },
   {
    "duration": 15,
    "start_time": "2021-10-10T16:29:44.576Z"
   },
   {
    "duration": 14,
    "start_time": "2021-10-10T16:29:45.462Z"
   },
   {
    "duration": 15,
    "start_time": "2021-10-10T16:29:46.342Z"
   },
   {
    "duration": 17,
    "start_time": "2021-10-10T16:31:08.302Z"
   },
   {
    "duration": 14,
    "start_time": "2021-10-10T16:32:16.436Z"
   },
   {
    "duration": 1040,
    "start_time": "2021-10-10T16:33:22.843Z"
   },
   {
    "duration": 198,
    "start_time": "2021-10-10T16:33:23.885Z"
   },
   {
    "duration": 9,
    "start_time": "2021-10-10T16:33:24.085Z"
   },
   {
    "duration": 64,
    "start_time": "2021-10-10T16:33:24.096Z"
   },
   {
    "duration": 5,
    "start_time": "2021-10-10T16:33:24.162Z"
   },
   {
    "duration": 199,
    "start_time": "2021-10-10T16:33:24.168Z"
   },
   {
    "duration": 10,
    "start_time": "2021-10-10T16:33:24.368Z"
   },
   {
    "duration": 45,
    "start_time": "2021-10-10T16:33:24.381Z"
   },
   {
    "duration": 25,
    "start_time": "2021-10-10T16:33:24.428Z"
   },
   {
    "duration": 183,
    "start_time": "2021-10-10T16:33:24.455Z"
   },
   {
    "duration": 14,
    "start_time": "2021-10-10T16:33:24.640Z"
   },
   {
    "duration": 46,
    "start_time": "2021-10-10T16:33:24.656Z"
   },
   {
    "duration": 5,
    "start_time": "2021-10-10T16:33:24.704Z"
   },
   {
    "duration": 45,
    "start_time": "2021-10-10T16:33:24.711Z"
   },
   {
    "duration": 21,
    "start_time": "2021-10-10T16:33:24.758Z"
   },
   {
    "duration": 20,
    "start_time": "2021-10-10T16:33:24.781Z"
   },
   {
    "duration": 54,
    "start_time": "2021-10-10T16:33:24.803Z"
   },
   {
    "duration": 199,
    "start_time": "2021-10-10T16:33:24.949Z"
   },
   {
    "duration": 107,
    "start_time": "2021-10-10T16:33:25.152Z"
   },
   {
    "duration": 1495,
    "start_time": "2021-10-10T16:33:25.261Z"
   },
   {
    "duration": 91,
    "start_time": "2021-10-10T16:33:26.759Z"
   },
   {
    "duration": 16,
    "start_time": "2021-10-10T16:33:26.852Z"
   },
   {
    "duration": 78,
    "start_time": "2021-10-10T16:33:26.871Z"
   },
   {
    "duration": 5,
    "start_time": "2021-10-10T16:33:26.952Z"
   },
   {
    "duration": 14,
    "start_time": "2021-10-10T16:33:26.959Z"
   },
   {
    "duration": 10,
    "start_time": "2021-10-10T16:33:26.974Z"
   },
   {
    "duration": 11,
    "start_time": "2021-10-10T16:33:26.986Z"
   },
   {
    "duration": 9,
    "start_time": "2021-10-10T16:33:26.998Z"
   },
   {
    "duration": 9,
    "start_time": "2021-10-10T16:34:01.509Z"
   },
   {
    "duration": 9,
    "start_time": "2021-10-10T16:34:07.738Z"
   },
   {
    "duration": 8,
    "start_time": "2021-10-10T16:34:20.482Z"
   },
   {
    "duration": 1343,
    "start_time": "2021-10-11T02:05:47.942Z"
   },
   {
    "duration": 232,
    "start_time": "2021-10-11T02:05:49.288Z"
   },
   {
    "duration": 12,
    "start_time": "2021-10-11T02:05:49.523Z"
   },
   {
    "duration": 87,
    "start_time": "2021-10-11T02:05:49.538Z"
   },
   {
    "duration": 5,
    "start_time": "2021-10-11T02:05:49.627Z"
   },
   {
    "duration": 249,
    "start_time": "2021-10-11T02:05:49.635Z"
   },
   {
    "duration": 13,
    "start_time": "2021-10-11T02:05:49.887Z"
   },
   {
    "duration": 98,
    "start_time": "2021-10-11T02:05:49.903Z"
   },
   {
    "duration": 7,
    "start_time": "2021-10-11T02:05:50.007Z"
   },
   {
    "duration": 250,
    "start_time": "2021-10-11T02:05:50.017Z"
   },
   {
    "duration": 14,
    "start_time": "2021-10-11T02:05:50.270Z"
   },
   {
    "duration": 91,
    "start_time": "2021-10-11T02:05:50.286Z"
   },
   {
    "duration": 6,
    "start_time": "2021-10-11T02:05:50.380Z"
   },
   {
    "duration": 25,
    "start_time": "2021-10-11T02:05:50.388Z"
   },
   {
    "duration": 56,
    "start_time": "2021-10-11T02:05:50.416Z"
   },
   {
    "duration": 23,
    "start_time": "2021-10-11T02:05:50.474Z"
   },
   {
    "duration": 66,
    "start_time": "2021-10-11T02:05:50.501Z"
   },
   {
    "duration": 194,
    "start_time": "2021-10-11T02:05:50.569Z"
   },
   {
    "duration": 111,
    "start_time": "2021-10-11T02:05:50.768Z"
   },
   {
    "duration": 1602,
    "start_time": "2021-10-11T02:05:50.962Z"
   },
   {
    "duration": 95,
    "start_time": "2021-10-11T02:05:52.567Z"
   },
   {
    "duration": 7,
    "start_time": "2021-10-11T02:05:52.665Z"
   },
   {
    "duration": 9,
    "start_time": "2021-10-11T02:05:52.674Z"
   },
   {
    "duration": 6,
    "start_time": "2021-10-11T02:05:52.685Z"
   },
   {
    "duration": 16,
    "start_time": "2021-10-11T02:05:52.693Z"
   },
   {
    "duration": 54,
    "start_time": "2021-10-11T02:05:52.712Z"
   },
   {
    "duration": 12,
    "start_time": "2021-10-11T02:05:52.771Z"
   },
   {
    "duration": 11,
    "start_time": "2021-10-11T02:05:52.786Z"
   },
   {
    "duration": 11,
    "start_time": "2021-10-11T02:05:52.799Z"
   },
   {
    "duration": 55,
    "start_time": "2021-10-11T02:05:52.812Z"
   },
   {
    "duration": 1420,
    "start_time": "2021-10-11T02:10:29.891Z"
   },
   {
    "duration": 23,
    "start_time": "2021-10-11T02:10:38.457Z"
   },
   {
    "duration": 325,
    "start_time": "2021-10-11T02:13:26.578Z"
   },
   {
    "duration": 340,
    "start_time": "2021-10-11T02:14:02.881Z"
   },
   {
    "duration": 408,
    "start_time": "2021-10-11T02:17:06.091Z"
   },
   {
    "duration": 114,
    "start_time": "2021-10-11T02:25:35.986Z"
   },
   {
    "duration": 115,
    "start_time": "2021-10-11T02:25:50.062Z"
   },
   {
    "duration": 300,
    "start_time": "2021-10-11T02:26:28.308Z"
   },
   {
    "duration": 482,
    "start_time": "2021-10-11T02:28:44.544Z"
   },
   {
    "duration": 318,
    "start_time": "2021-10-11T02:28:57.778Z"
   },
   {
    "duration": 377,
    "start_time": "2021-10-11T02:31:54.644Z"
   },
   {
    "duration": 303,
    "start_time": "2021-10-11T02:32:02.901Z"
   },
   {
    "duration": 129,
    "start_time": "2021-10-11T02:32:37.905Z"
   },
   {
    "duration": 327,
    "start_time": "2021-10-11T02:32:48.026Z"
   },
   {
    "duration": 329,
    "start_time": "2021-10-11T02:33:44.335Z"
   },
   {
    "duration": 344,
    "start_time": "2021-10-11T02:34:10.755Z"
   },
   {
    "duration": 1260,
    "start_time": "2021-10-11T02:34:28.871Z"
   },
   {
    "duration": 285,
    "start_time": "2021-10-11T02:38:43.227Z"
   },
   {
    "duration": 315,
    "start_time": "2021-10-11T02:38:56.523Z"
   },
   {
    "duration": 2674,
    "start_time": "2021-10-11T02:39:05.104Z"
   },
   {
    "duration": 2788,
    "start_time": "2021-10-11T02:41:08.392Z"
   },
   {
    "duration": 2819,
    "start_time": "2021-10-11T02:41:21.048Z"
   },
   {
    "duration": 3132,
    "start_time": "2021-10-11T02:41:35.037Z"
   },
   {
    "duration": 7296,
    "start_time": "2021-10-11T02:42:42.322Z"
   },
   {
    "duration": 9424,
    "start_time": "2021-10-11T02:43:01.036Z"
   },
   {
    "duration": 324,
    "start_time": "2021-10-11T02:44:01.195Z"
   },
   {
    "duration": 3190,
    "start_time": "2021-10-11T02:45:03.446Z"
   },
   {
    "duration": 2853,
    "start_time": "2021-10-11T02:45:29.918Z"
   },
   {
    "duration": 5,
    "start_time": "2021-10-11T02:45:48.165Z"
   },
   {
    "duration": 2828,
    "start_time": "2021-10-11T02:45:54.348Z"
   },
   {
    "duration": 2816,
    "start_time": "2021-10-11T02:46:00.709Z"
   },
   {
    "duration": 13964,
    "start_time": "2021-10-11T02:46:39.035Z"
   },
   {
    "duration": 8607,
    "start_time": "2021-10-11T02:47:19.993Z"
   },
   {
    "duration": 8779,
    "start_time": "2021-10-11T02:47:47.145Z"
   },
   {
    "duration": 324,
    "start_time": "2021-10-11T02:49:26.465Z"
   },
   {
    "duration": 15034,
    "start_time": "2021-10-11T02:49:42.438Z"
   },
   {
    "duration": 14206,
    "start_time": "2021-10-11T02:50:21.723Z"
   },
   {
    "duration": 329,
    "start_time": "2021-10-11T02:52:37.322Z"
   },
   {
    "duration": 14541,
    "start_time": "2021-10-11T02:53:02.779Z"
   },
   {
    "duration": 9000,
    "start_time": "2021-10-11T02:54:44.127Z"
   },
   {
    "duration": 283,
    "start_time": "2021-10-11T02:55:10.711Z"
   },
   {
    "duration": 9237,
    "start_time": "2021-10-11T02:55:35.339Z"
   },
   {
    "duration": 9063,
    "start_time": "2021-10-11T02:57:26.163Z"
   },
   {
    "duration": 2721,
    "start_time": "2021-10-11T02:58:49.680Z"
   },
   {
    "duration": 2815,
    "start_time": "2021-10-11T02:59:02.575Z"
   },
   {
    "duration": 2873,
    "start_time": "2021-10-11T02:59:12.464Z"
   },
   {
    "duration": 2777,
    "start_time": "2021-10-11T02:59:18.290Z"
   },
   {
    "duration": 2952,
    "start_time": "2021-10-11T02:59:35.197Z"
   },
   {
    "duration": 344,
    "start_time": "2021-10-11T03:00:21.934Z"
   },
   {
    "duration": 312,
    "start_time": "2021-10-11T03:00:37.357Z"
   },
   {
    "duration": 337,
    "start_time": "2021-10-11T03:09:00.696Z"
   },
   {
    "duration": 361,
    "start_time": "2021-10-11T03:09:17.398Z"
   },
   {
    "duration": 344,
    "start_time": "2021-10-11T03:10:21.109Z"
   },
   {
    "duration": 9925,
    "start_time": "2021-10-11T03:11:46.172Z"
   },
   {
    "duration": 352,
    "start_time": "2021-10-11T03:13:27.799Z"
   },
   {
    "duration": 309,
    "start_time": "2021-10-11T03:14:27.193Z"
   },
   {
    "duration": 9138,
    "start_time": "2021-10-11T03:14:35.161Z"
   },
   {
    "duration": 9100,
    "start_time": "2021-10-11T03:14:51.774Z"
   },
   {
    "duration": 2550,
    "start_time": "2021-10-11T03:15:26.678Z"
   },
   {
    "duration": 9000,
    "start_time": "2021-10-11T03:17:05.178Z"
   },
   {
    "duration": 15705,
    "start_time": "2021-10-11T03:17:27.573Z"
   },
   {
    "duration": 7358,
    "start_time": "2021-10-11T03:19:10.106Z"
   },
   {
    "duration": 6913,
    "start_time": "2021-10-11T03:19:46.256Z"
   },
   {
    "duration": 7285,
    "start_time": "2021-10-11T03:20:02.209Z"
   },
   {
    "duration": 7210,
    "start_time": "2021-10-11T03:20:35.552Z"
   },
   {
    "duration": 3781,
    "start_time": "2021-10-11T03:20:55.542Z"
   },
   {
    "duration": 3940,
    "start_time": "2021-10-11T03:22:21.386Z"
   },
   {
    "duration": 5135,
    "start_time": "2021-10-11T03:24:27.847Z"
   },
   {
    "duration": 4838,
    "start_time": "2021-10-11T03:26:51.825Z"
   },
   {
    "duration": 403,
    "start_time": "2021-10-11T03:31:15.219Z"
   },
   {
    "duration": 4679,
    "start_time": "2021-10-11T03:31:19.452Z"
   },
   {
    "duration": 29,
    "start_time": "2021-10-11T03:32:16.907Z"
   },
   {
    "duration": 9071,
    "start_time": "2021-10-11T03:33:18.010Z"
   },
   {
    "duration": 7970,
    "start_time": "2021-10-11T03:34:03.356Z"
   },
   {
    "duration": 6191,
    "start_time": "2021-10-11T03:35:07.626Z"
   },
   {
    "duration": 4139,
    "start_time": "2021-10-11T03:35:46.234Z"
   },
   {
    "duration": 98,
    "start_time": "2021-10-11T03:36:06.805Z"
   },
   {
    "duration": 4120,
    "start_time": "2021-10-11T03:36:10.247Z"
   },
   {
    "duration": 4367,
    "start_time": "2021-10-11T03:36:45.020Z"
   },
   {
    "duration": 4868,
    "start_time": "2021-10-11T03:37:17.948Z"
   },
   {
    "duration": 4,
    "start_time": "2021-10-11T03:37:57.122Z"
   },
   {
    "duration": 4918,
    "start_time": "2021-10-11T03:38:00.645Z"
   },
   {
    "duration": 389,
    "start_time": "2021-10-11T03:38:45.291Z"
   },
   {
    "duration": 5624,
    "start_time": "2021-10-11T03:39:04.088Z"
   },
   {
    "duration": 5,
    "start_time": "2021-10-11T03:39:32.623Z"
   },
   {
    "duration": 5172,
    "start_time": "2021-10-11T03:39:34.671Z"
   },
   {
    "duration": 5,
    "start_time": "2021-10-11T03:39:44.303Z"
   },
   {
    "duration": 4904,
    "start_time": "2021-10-11T03:39:52.321Z"
   },
   {
    "duration": 317,
    "start_time": "2021-10-11T03:40:31.879Z"
   },
   {
    "duration": 5072,
    "start_time": "2021-10-11T03:40:39.797Z"
   },
   {
    "duration": 126,
    "start_time": "2021-10-11T03:45:04.288Z"
   },
   {
    "duration": 8,
    "start_time": "2021-10-11T03:46:00.877Z"
   },
   {
    "duration": 7,
    "start_time": "2021-10-11T03:46:33.988Z"
   },
   {
    "duration": 7,
    "start_time": "2021-10-11T03:46:43.860Z"
   },
   {
    "duration": 7,
    "start_time": "2021-10-11T03:46:54.893Z"
   },
   {
    "duration": 6,
    "start_time": "2021-10-11T03:47:02.955Z"
   },
   {
    "duration": 1297,
    "start_time": "2021-10-11T03:47:08.779Z"
   },
   {
    "duration": 242,
    "start_time": "2021-10-11T03:47:10.079Z"
   },
   {
    "duration": 12,
    "start_time": "2021-10-11T03:47:10.324Z"
   },
   {
    "duration": 87,
    "start_time": "2021-10-11T03:47:10.339Z"
   },
   {
    "duration": 6,
    "start_time": "2021-10-11T03:47:10.428Z"
   },
   {
    "duration": 246,
    "start_time": "2021-10-11T03:47:10.437Z"
   },
   {
    "duration": 12,
    "start_time": "2021-10-11T03:47:10.686Z"
   },
   {
    "duration": 96,
    "start_time": "2021-10-11T03:47:10.702Z"
   },
   {
    "duration": 5,
    "start_time": "2021-10-11T03:47:10.801Z"
   },
   {
    "duration": 222,
    "start_time": "2021-10-11T03:47:10.809Z"
   },
   {
    "duration": 30,
    "start_time": "2021-10-11T03:47:11.033Z"
   },
   {
    "duration": 67,
    "start_time": "2021-10-11T03:47:11.065Z"
   },
   {
    "duration": 6,
    "start_time": "2021-10-11T03:47:11.134Z"
   },
   {
    "duration": 21,
    "start_time": "2021-10-11T03:47:11.162Z"
   },
   {
    "duration": 23,
    "start_time": "2021-10-11T03:47:11.186Z"
   },
   {
    "duration": 56,
    "start_time": "2021-10-11T03:47:11.211Z"
   },
   {
    "duration": 95,
    "start_time": "2021-10-11T03:47:11.269Z"
   },
   {
    "duration": 111,
    "start_time": "2021-10-11T03:47:11.368Z"
   },
   {
    "duration": 198,
    "start_time": "2021-10-11T03:47:11.563Z"
   },
   {
    "duration": 1610,
    "start_time": "2021-10-11T03:47:11.764Z"
   },
   {
    "duration": 94,
    "start_time": "2021-10-11T03:47:13.378Z"
   },
   {
    "duration": 6,
    "start_time": "2021-10-11T03:47:13.563Z"
   },
   {
    "duration": 4,
    "start_time": "2021-10-11T03:47:13.574Z"
   },
   {
    "duration": 9,
    "start_time": "2021-10-11T03:47:13.581Z"
   },
   {
    "duration": 21,
    "start_time": "2021-10-11T03:47:13.592Z"
   },
   {
    "duration": 47,
    "start_time": "2021-10-11T03:47:13.615Z"
   },
   {
    "duration": 13,
    "start_time": "2021-10-11T03:47:13.665Z"
   },
   {
    "duration": 11,
    "start_time": "2021-10-11T03:47:13.680Z"
   },
   {
    "duration": 11,
    "start_time": "2021-10-11T03:47:13.693Z"
   },
   {
    "duration": 10,
    "start_time": "2021-10-11T03:47:13.706Z"
   },
   {
    "duration": 45,
    "start_time": "2021-10-11T03:47:13.718Z"
   },
   {
    "duration": 437,
    "start_time": "2021-10-11T03:47:13.766Z"
   },
   {
    "duration": 332,
    "start_time": "2021-10-11T03:47:49.837Z"
   },
   {
    "duration": 7,
    "start_time": "2021-10-11T03:48:03.769Z"
   },
   {
    "duration": 6,
    "start_time": "2021-10-11T03:48:17.141Z"
   },
   {
    "duration": 6,
    "start_time": "2021-10-11T03:48:22.498Z"
   },
   {
    "duration": 349,
    "start_time": "2021-10-11T03:48:46.457Z"
   },
   {
    "duration": 6,
    "start_time": "2021-10-11T03:49:40.320Z"
   },
   {
    "duration": 302,
    "start_time": "2021-10-11T03:50:41.526Z"
   },
   {
    "duration": 2471,
    "start_time": "2021-10-11T03:50:48.991Z"
   },
   {
    "duration": 7,
    "start_time": "2021-10-11T03:56:48.696Z"
   },
   {
    "duration": 3033,
    "start_time": "2021-10-11T03:56:51.197Z"
   },
   {
    "duration": 7,
    "start_time": "2021-10-11T03:58:21.194Z"
   },
   {
    "duration": 4000,
    "start_time": "2021-10-11T03:58:24.521Z"
   },
   {
    "duration": 7,
    "start_time": "2021-10-11T03:58:41.722Z"
   },
   {
    "duration": 2538,
    "start_time": "2021-10-11T03:58:47.279Z"
   },
   {
    "duration": 7,
    "start_time": "2021-10-11T03:59:29.901Z"
   },
   {
    "duration": 2498,
    "start_time": "2021-10-11T03:59:32.375Z"
   },
   {
    "duration": 5,
    "start_time": "2021-10-11T04:01:48.413Z"
   },
   {
    "duration": 8,
    "start_time": "2021-10-11T04:05:44.360Z"
   },
   {
    "duration": 2623,
    "start_time": "2021-10-11T04:05:45.251Z"
   },
   {
    "duration": 7,
    "start_time": "2021-10-11T04:06:38.389Z"
   },
   {
    "duration": 3836,
    "start_time": "2021-10-11T04:06:39.347Z"
   },
   {
    "duration": 8,
    "start_time": "2021-10-11T04:07:42.027Z"
   },
   {
    "duration": 751,
    "start_time": "2021-10-11T04:07:49.598Z"
   },
   {
    "duration": 8,
    "start_time": "2021-10-11T04:08:08.210Z"
   },
   {
    "duration": 8,
    "start_time": "2021-10-11T04:08:28.394Z"
   },
   {
    "duration": 5009,
    "start_time": "2021-10-11T04:08:30.563Z"
   },
   {
    "duration": 7,
    "start_time": "2021-10-11T04:09:04.701Z"
   },
   {
    "duration": 6368,
    "start_time": "2021-10-11T04:09:06.447Z"
   },
   {
    "duration": 8,
    "start_time": "2021-10-11T04:10:15.440Z"
   },
   {
    "duration": 6369,
    "start_time": "2021-10-11T04:10:18.307Z"
   },
   {
    "duration": 7,
    "start_time": "2021-10-11T04:11:28.295Z"
   },
   {
    "duration": 4550,
    "start_time": "2021-10-11T04:11:29.684Z"
   },
   {
    "duration": 8,
    "start_time": "2021-10-11T04:11:43.839Z"
   },
   {
    "duration": 7,
    "start_time": "2021-10-11T04:12:02.731Z"
   },
   {
    "duration": 6380,
    "start_time": "2021-10-11T04:12:03.205Z"
   },
   {
    "duration": 8,
    "start_time": "2021-10-11T04:13:05.341Z"
   },
   {
    "duration": 8273,
    "start_time": "2021-10-11T04:13:06.104Z"
   },
   {
    "duration": 7,
    "start_time": "2021-10-11T04:14:31.959Z"
   },
   {
    "duration": 4506,
    "start_time": "2021-10-11T04:14:32.856Z"
   },
   {
    "duration": 5,
    "start_time": "2021-10-11T04:15:56.813Z"
   },
   {
    "duration": 12,
    "start_time": "2021-10-11T04:16:00.414Z"
   },
   {
    "duration": 5,
    "start_time": "2021-10-11T04:16:06.878Z"
   },
   {
    "duration": 5,
    "start_time": "2021-10-11T04:16:54.593Z"
   },
   {
    "duration": 5,
    "start_time": "2021-10-11T04:17:01.676Z"
   },
   {
    "duration": 12,
    "start_time": "2021-10-11T04:17:05.531Z"
   },
   {
    "duration": 7,
    "start_time": "2021-10-11T04:19:19.899Z"
   },
   {
    "duration": 3152,
    "start_time": "2021-10-11T04:19:21.242Z"
   },
   {
    "duration": 5,
    "start_time": "2021-10-11T04:19:50.329Z"
   },
   {
    "duration": 14,
    "start_time": "2021-10-11T04:19:55.470Z"
   },
   {
    "duration": 3182,
    "start_time": "2021-10-11T04:22:02.023Z"
   },
   {
    "duration": 7,
    "start_time": "2021-10-11T04:22:29.294Z"
   },
   {
    "duration": 2589,
    "start_time": "2021-10-11T04:22:31.203Z"
   },
   {
    "duration": 7,
    "start_time": "2021-10-11T04:25:47.875Z"
   },
   {
    "duration": 1546,
    "start_time": "2021-10-11T04:25:50.549Z"
   },
   {
    "duration": 7,
    "start_time": "2021-10-11T04:29:08.301Z"
   },
   {
    "duration": 8,
    "start_time": "2021-10-11T04:29:15.561Z"
   },
   {
    "duration": 5741,
    "start_time": "2021-10-11T04:29:19.831Z"
   },
   {
    "duration": 7,
    "start_time": "2021-10-11T04:29:38.017Z"
   },
   {
    "duration": 7,
    "start_time": "2021-10-11T04:30:10.656Z"
   },
   {
    "duration": 8,
    "start_time": "2021-10-11T04:30:20.075Z"
   },
   {
    "duration": 5959,
    "start_time": "2021-10-11T04:30:22.008Z"
   },
   {
    "duration": 128,
    "start_time": "2021-10-11T04:40:46.802Z"
   },
   {
    "duration": 8,
    "start_time": "2021-10-11T04:40:52.889Z"
   },
   {
    "duration": 5809,
    "start_time": "2021-10-11T04:40:56.263Z"
   },
   {
    "duration": 8,
    "start_time": "2021-10-11T04:41:16.767Z"
   },
   {
    "duration": 1323,
    "start_time": "2021-10-11T04:41:18.983Z"
   },
   {
    "duration": 6,
    "start_time": "2021-10-11T04:43:37.974Z"
   },
   {
    "duration": 4392,
    "start_time": "2021-10-11T04:43:40.842Z"
   },
   {
    "duration": 8,
    "start_time": "2021-10-11T04:45:04.489Z"
   },
   {
    "duration": 7,
    "start_time": "2021-10-11T04:45:20.153Z"
   },
   {
    "duration": 6,
    "start_time": "2021-10-11T04:45:33.823Z"
   },
   {
    "duration": 4500,
    "start_time": "2021-10-11T04:45:37.687Z"
   },
   {
    "duration": 5,
    "start_time": "2021-10-11T04:46:02.806Z"
   },
   {
    "duration": 7,
    "start_time": "2021-10-11T04:46:07.145Z"
   },
   {
    "duration": 3611,
    "start_time": "2021-10-11T04:46:07.852Z"
   },
   {
    "duration": 6,
    "start_time": "2021-10-11T04:57:54.524Z"
   },
   {
    "duration": 4532,
    "start_time": "2021-10-11T04:57:58.931Z"
   },
   {
    "duration": 6,
    "start_time": "2021-10-11T04:58:23.947Z"
   },
   {
    "duration": 3774,
    "start_time": "2021-10-11T04:58:26.005Z"
   },
   {
    "duration": 124,
    "start_time": "2021-10-11T04:58:55.345Z"
   },
   {
    "duration": 7,
    "start_time": "2021-10-11T04:58:59.777Z"
   },
   {
    "duration": 4397,
    "start_time": "2021-10-11T04:59:01.129Z"
   },
   {
    "duration": 6,
    "start_time": "2021-10-11T05:04:45.216Z"
   },
   {
    "duration": 646,
    "start_time": "2021-10-11T05:04:46.831Z"
   },
   {
    "duration": 6,
    "start_time": "2021-10-11T05:04:58.434Z"
   },
   {
    "duration": 4432,
    "start_time": "2021-10-11T05:05:01.683Z"
   },
   {
    "duration": 7,
    "start_time": "2021-10-11T05:06:04.680Z"
   },
   {
    "duration": 4301,
    "start_time": "2021-10-11T05:06:05.191Z"
   },
   {
    "duration": 8,
    "start_time": "2021-10-11T05:08:08.894Z"
   },
   {
    "duration": 5566,
    "start_time": "2021-10-11T05:08:10.389Z"
   },
   {
    "duration": 7,
    "start_time": "2021-10-11T05:10:02.352Z"
   },
   {
    "duration": 698,
    "start_time": "2021-10-11T05:10:04.782Z"
   },
   {
    "duration": 7,
    "start_time": "2021-10-11T05:10:11.032Z"
   },
   {
    "duration": 4575,
    "start_time": "2021-10-11T05:10:11.742Z"
   },
   {
    "duration": 7,
    "start_time": "2021-10-11T05:10:28.603Z"
   },
   {
    "duration": 8,
    "start_time": "2021-10-11T05:10:48.426Z"
   },
   {
    "duration": 3815,
    "start_time": "2021-10-11T05:10:52.673Z"
   },
   {
    "duration": 109,
    "start_time": "2021-10-11T05:15:27.609Z"
   },
   {
    "duration": 335,
    "start_time": "2021-10-11T05:15:34.974Z"
   },
   {
    "duration": 3812,
    "start_time": "2021-10-11T05:15:58.023Z"
   },
   {
    "duration": 3786,
    "start_time": "2021-10-11T05:16:01.838Z"
   },
   {
    "duration": 3629,
    "start_time": "2021-10-11T05:16:34.829Z"
   },
   {
    "duration": 3641,
    "start_time": "2021-10-11T05:18:03.181Z"
   },
   {
    "duration": 5,
    "start_time": "2021-10-11T05:18:35.635Z"
   },
   {
    "duration": 15,
    "start_time": "2021-10-11T05:18:41.562Z"
   },
   {
    "duration": 2402,
    "start_time": "2021-10-11T05:19:29.410Z"
   },
   {
    "duration": 4314,
    "start_time": "2021-10-11T05:19:49.595Z"
   },
   {
    "duration": 560,
    "start_time": "2021-10-11T05:20:42.226Z"
   },
   {
    "duration": 3291,
    "start_time": "2021-10-11T05:21:11.070Z"
   },
   {
    "duration": 5,
    "start_time": "2021-10-11T05:23:19.828Z"
   },
   {
    "duration": 3527,
    "start_time": "2021-10-11T05:23:23.183Z"
   },
   {
    "duration": 1823,
    "start_time": "2021-10-11T05:23:36.385Z"
   },
   {
    "duration": 6047,
    "start_time": "2021-10-11T05:23:57.324Z"
   },
   {
    "duration": 1521,
    "start_time": "2021-10-11T05:25:12.650Z"
   },
   {
    "duration": 1160,
    "start_time": "2021-10-11T12:31:25.542Z"
   },
   {
    "duration": 409,
    "start_time": "2021-10-11T12:32:41.372Z"
   },
   {
    "duration": 1057,
    "start_time": "2021-10-11T12:32:50.638Z"
   },
   {
    "duration": 187,
    "start_time": "2021-10-11T12:32:51.697Z"
   },
   {
    "duration": 9,
    "start_time": "2021-10-11T12:32:51.886Z"
   },
   {
    "duration": 39,
    "start_time": "2021-10-11T12:32:51.897Z"
   },
   {
    "duration": 4,
    "start_time": "2021-10-11T12:32:51.938Z"
   },
   {
    "duration": 187,
    "start_time": "2021-10-11T12:32:51.944Z"
   },
   {
    "duration": 10,
    "start_time": "2021-10-11T12:32:52.133Z"
   },
   {
    "duration": 65,
    "start_time": "2021-10-11T12:32:52.145Z"
   },
   {
    "duration": 5,
    "start_time": "2021-10-11T12:32:52.213Z"
   },
   {
    "duration": 183,
    "start_time": "2021-10-11T12:32:52.220Z"
   },
   {
    "duration": 9,
    "start_time": "2021-10-11T12:32:52.405Z"
   },
   {
    "duration": 61,
    "start_time": "2021-10-11T12:32:52.416Z"
   },
   {
    "duration": 4,
    "start_time": "2021-10-11T12:32:52.479Z"
   },
   {
    "duration": 21,
    "start_time": "2021-10-11T12:32:52.485Z"
   },
   {
    "duration": 19,
    "start_time": "2021-10-11T12:32:52.508Z"
   },
   {
    "duration": 17,
    "start_time": "2021-10-11T12:32:52.529Z"
   },
   {
    "duration": 47,
    "start_time": "2021-10-11T12:32:52.547Z"
   },
   {
    "duration": 109,
    "start_time": "2021-10-11T12:32:52.679Z"
   },
   {
    "duration": 200,
    "start_time": "2021-10-11T12:32:52.876Z"
   },
   {
    "duration": 1407,
    "start_time": "2021-10-11T12:32:53.079Z"
   },
   {
    "duration": 88,
    "start_time": "2021-10-11T12:32:54.489Z"
   },
   {
    "duration": 6,
    "start_time": "2021-10-11T12:32:54.582Z"
   },
   {
    "duration": 5,
    "start_time": "2021-10-11T12:32:54.676Z"
   },
   {
    "duration": 12,
    "start_time": "2021-10-11T12:32:54.683Z"
   },
   {
    "duration": 28,
    "start_time": "2021-10-11T12:32:54.696Z"
   },
   {
    "duration": 10,
    "start_time": "2021-10-11T12:32:54.725Z"
   },
   {
    "duration": 11,
    "start_time": "2021-10-11T12:32:54.737Z"
   },
   {
    "duration": 11,
    "start_time": "2021-10-11T12:32:54.750Z"
   },
   {
    "duration": 21,
    "start_time": "2021-10-11T12:32:54.763Z"
   },
   {
    "duration": 9,
    "start_time": "2021-10-11T12:32:54.786Z"
   },
   {
    "duration": 714,
    "start_time": "2021-10-11T12:32:54.796Z"
   },
   {
    "duration": 1512,
    "start_time": "2021-10-11T12:33:56.385Z"
   },
   {
    "duration": 6154,
    "start_time": "2021-10-11T12:34:25.649Z"
   },
   {
    "duration": 1421,
    "start_time": "2021-10-11T12:41:47.716Z"
   },
   {
    "duration": 5192,
    "start_time": "2021-10-11T12:51:57.134Z"
   },
   {
    "duration": 3,
    "start_time": "2021-10-11T12:53:00.543Z"
   },
   {
    "duration": 4,
    "start_time": "2021-10-11T12:53:24.920Z"
   },
   {
    "duration": 8501,
    "start_time": "2021-10-11T12:53:35.007Z"
   },
   {
    "duration": 8878,
    "start_time": "2021-10-11T12:56:55.532Z"
   },
   {
    "duration": 3,
    "start_time": "2021-10-11T12:58:10.663Z"
   },
   {
    "duration": 1390,
    "start_time": "2021-10-11T12:58:15.070Z"
   },
   {
    "duration": 2152,
    "start_time": "2021-10-11T12:59:04.843Z"
   },
   {
    "duration": 3,
    "start_time": "2021-10-11T12:59:35.865Z"
   },
   {
    "duration": 4,
    "start_time": "2021-10-11T12:59:44.654Z"
   },
   {
    "duration": 2250,
    "start_time": "2021-10-11T13:01:08.401Z"
   },
   {
    "duration": 3,
    "start_time": "2021-10-11T13:01:52.501Z"
   },
   {
    "duration": 2257,
    "start_time": "2021-10-11T13:02:00.812Z"
   },
   {
    "duration": 2222,
    "start_time": "2021-10-11T13:02:22.460Z"
   },
   {
    "duration": 2219,
    "start_time": "2021-10-11T13:03:45.747Z"
   },
   {
    "duration": 2198,
    "start_time": "2021-10-11T13:03:58.936Z"
   },
   {
    "duration": 2208,
    "start_time": "2021-10-11T13:05:20.756Z"
   },
   {
    "duration": 2135,
    "start_time": "2021-10-11T13:05:48.335Z"
   },
   {
    "duration": 2710,
    "start_time": "2021-10-11T13:06:48.372Z"
   },
   {
    "duration": 2378,
    "start_time": "2021-10-11T13:06:52.023Z"
   },
   {
    "duration": 2122,
    "start_time": "2021-10-11T13:07:39.390Z"
   },
   {
    "duration": 2129,
    "start_time": "2021-10-11T13:08:18.100Z"
   },
   {
    "duration": 2449,
    "start_time": "2021-10-11T13:08:27.829Z"
   },
   {
    "duration": 2247,
    "start_time": "2021-10-11T13:08:42.039Z"
   },
   {
    "duration": 2536,
    "start_time": "2021-10-11T13:09:25.888Z"
   },
   {
    "duration": 2461,
    "start_time": "2021-10-11T13:09:46.749Z"
   },
   {
    "duration": 2338,
    "start_time": "2021-10-11T13:12:33.816Z"
   },
   {
    "duration": 2233,
    "start_time": "2021-10-11T13:12:46.225Z"
   },
   {
    "duration": 112,
    "start_time": "2021-10-11T13:13:02.985Z"
   },
   {
    "duration": 2213,
    "start_time": "2021-10-11T13:13:06.994Z"
   },
   {
    "duration": 1469,
    "start_time": "2021-10-11T14:24:39.884Z"
   },
   {
    "duration": 253,
    "start_time": "2021-10-11T14:24:41.358Z"
   },
   {
    "duration": 13,
    "start_time": "2021-10-11T14:24:41.614Z"
   },
   {
    "duration": 96,
    "start_time": "2021-10-11T14:24:41.630Z"
   },
   {
    "duration": 5,
    "start_time": "2021-10-11T14:24:41.728Z"
   },
   {
    "duration": 267,
    "start_time": "2021-10-11T14:24:41.736Z"
   },
   {
    "duration": 16,
    "start_time": "2021-10-11T14:24:42.006Z"
   },
   {
    "duration": 98,
    "start_time": "2021-10-11T14:24:42.027Z"
   },
   {
    "duration": 5,
    "start_time": "2021-10-11T14:24:42.128Z"
   },
   {
    "duration": 254,
    "start_time": "2021-10-11T14:24:42.135Z"
   },
   {
    "duration": 12,
    "start_time": "2021-10-11T14:24:42.391Z"
   },
   {
    "duration": 93,
    "start_time": "2021-10-11T14:24:42.406Z"
   },
   {
    "duration": 7,
    "start_time": "2021-10-11T14:24:42.501Z"
   },
   {
    "duration": 55,
    "start_time": "2021-10-11T14:24:42.511Z"
   },
   {
    "duration": 28,
    "start_time": "2021-10-11T14:24:42.569Z"
   },
   {
    "duration": 22,
    "start_time": "2021-10-11T14:24:42.600Z"
   },
   {
    "duration": 104,
    "start_time": "2021-10-11T14:24:42.656Z"
   },
   {
    "duration": 121,
    "start_time": "2021-10-11T14:24:42.762Z"
   },
   {
    "duration": 104,
    "start_time": "2021-10-11T14:24:42.959Z"
   },
   {
    "duration": 1194,
    "start_time": "2021-10-11T14:24:43.066Z"
   },
   {
    "duration": 7,
    "start_time": "2021-10-11T14:24:44.262Z"
   },
   {
    "duration": 84,
    "start_time": "2021-10-11T14:24:44.278Z"
   },
   {
    "duration": 10,
    "start_time": "2021-10-11T14:24:44.369Z"
   },
   {
    "duration": 5,
    "start_time": "2021-10-11T14:24:44.383Z"
   },
   {
    "duration": 17,
    "start_time": "2021-10-11T14:24:44.391Z"
   },
   {
    "duration": 54,
    "start_time": "2021-10-11T14:24:44.410Z"
   },
   {
    "duration": 14,
    "start_time": "2021-10-11T14:24:44.467Z"
   },
   {
    "duration": 11,
    "start_time": "2021-10-11T14:24:44.484Z"
   },
   {
    "duration": 11,
    "start_time": "2021-10-11T14:24:44.498Z"
   },
   {
    "duration": 56,
    "start_time": "2021-10-11T14:24:44.511Z"
   },
   {
    "duration": 3998,
    "start_time": "2021-10-11T14:24:44.569Z"
   },
   {
    "duration": 4128,
    "start_time": "2021-10-11T14:25:52.577Z"
   },
   {
    "duration": 3964,
    "start_time": "2021-10-11T14:27:23.377Z"
   },
   {
    "duration": 1312,
    "start_time": "2021-10-11T14:43:02.201Z"
   },
   {
    "duration": 256,
    "start_time": "2021-10-11T14:43:03.516Z"
   },
   {
    "duration": 12,
    "start_time": "2021-10-11T14:43:03.775Z"
   },
   {
    "duration": 85,
    "start_time": "2021-10-11T14:43:03.789Z"
   },
   {
    "duration": 5,
    "start_time": "2021-10-11T14:43:03.877Z"
   },
   {
    "duration": 247,
    "start_time": "2021-10-11T14:43:03.884Z"
   },
   {
    "duration": 33,
    "start_time": "2021-10-11T14:43:04.133Z"
   },
   {
    "duration": 65,
    "start_time": "2021-10-11T14:43:04.170Z"
   },
   {
    "duration": 6,
    "start_time": "2021-10-11T14:43:04.238Z"
   },
   {
    "duration": 235,
    "start_time": "2021-10-11T14:43:04.258Z"
   },
   {
    "duration": 12,
    "start_time": "2021-10-11T14:43:04.496Z"
   },
   {
    "duration": 86,
    "start_time": "2021-10-11T14:43:04.510Z"
   },
   {
    "duration": 6,
    "start_time": "2021-10-11T14:43:04.598Z"
   },
   {
    "duration": 30,
    "start_time": "2021-10-11T14:43:04.606Z"
   },
   {
    "duration": 44,
    "start_time": "2021-10-11T14:43:04.638Z"
   },
   {
    "duration": 20,
    "start_time": "2021-10-11T14:43:04.687Z"
   },
   {
    "duration": 68,
    "start_time": "2021-10-11T14:43:04.709Z"
   },
   {
    "duration": 117,
    "start_time": "2021-10-11T14:43:04.861Z"
   },
   {
    "duration": 188,
    "start_time": "2021-10-11T14:43:04.980Z"
   },
   {
    "duration": 1609,
    "start_time": "2021-10-11T14:43:05.172Z"
   },
   {
    "duration": 75,
    "start_time": "2021-10-11T14:43:06.786Z"
   },
   {
    "duration": 101,
    "start_time": "2021-10-11T14:43:06.868Z"
   },
   {
    "duration": 5,
    "start_time": "2021-10-11T14:43:06.979Z"
   },
   {
    "duration": 7,
    "start_time": "2021-10-11T14:43:06.987Z"
   },
   {
    "duration": 17,
    "start_time": "2021-10-11T14:43:06.996Z"
   },
   {
    "duration": 12,
    "start_time": "2021-10-11T14:43:07.016Z"
   },
   {
    "duration": 18,
    "start_time": "2021-10-11T14:43:07.059Z"
   },
   {
    "duration": 11,
    "start_time": "2021-10-11T14:43:07.080Z"
   },
   {
    "duration": 10,
    "start_time": "2021-10-11T14:43:07.094Z"
   },
   {
    "duration": 11,
    "start_time": "2021-10-11T14:43:07.107Z"
   },
   {
    "duration": 4457,
    "start_time": "2021-10-11T14:43:07.163Z"
   },
   {
    "duration": 4082,
    "start_time": "2021-10-11T14:43:11.622Z"
   },
   {
    "duration": 3935,
    "start_time": "2021-10-11T14:43:15.706Z"
   },
   {
    "duration": 1734,
    "start_time": "2021-10-11T14:45:26.371Z"
   },
   {
    "duration": 238,
    "start_time": "2021-10-11T14:45:28.108Z"
   },
   {
    "duration": 14,
    "start_time": "2021-10-11T14:45:28.359Z"
   },
   {
    "duration": 84,
    "start_time": "2021-10-11T14:45:28.376Z"
   },
   {
    "duration": 5,
    "start_time": "2021-10-11T14:45:28.463Z"
   },
   {
    "duration": 241,
    "start_time": "2021-10-11T14:45:28.471Z"
   },
   {
    "duration": 13,
    "start_time": "2021-10-11T14:45:28.714Z"
   },
   {
    "duration": 89,
    "start_time": "2021-10-11T14:45:28.731Z"
   },
   {
    "duration": 5,
    "start_time": "2021-10-11T14:45:28.823Z"
   },
   {
    "duration": 231,
    "start_time": "2021-10-11T14:45:28.831Z"
   },
   {
    "duration": 13,
    "start_time": "2021-10-11T14:45:29.064Z"
   },
   {
    "duration": 90,
    "start_time": "2021-10-11T14:45:29.079Z"
   },
   {
    "duration": 6,
    "start_time": "2021-10-11T14:45:29.171Z"
   },
   {
    "duration": 26,
    "start_time": "2021-10-11T14:45:29.179Z"
   },
   {
    "duration": 50,
    "start_time": "2021-10-11T14:45:29.207Z"
   },
   {
    "duration": 23,
    "start_time": "2021-10-11T14:45:29.260Z"
   },
   {
    "duration": 79,
    "start_time": "2021-10-11T14:45:29.285Z"
   },
   {
    "duration": 199,
    "start_time": "2021-10-11T14:45:29.368Z"
   },
   {
    "duration": 194,
    "start_time": "2021-10-11T14:45:29.568Z"
   },
   {
    "duration": 1704,
    "start_time": "2021-10-11T14:45:29.765Z"
   },
   {
    "duration": 184,
    "start_time": "2021-10-11T14:45:31.472Z"
   },
   {
    "duration": 7,
    "start_time": "2021-10-11T14:45:31.660Z"
   },
   {
    "duration": 13,
    "start_time": "2021-10-11T14:45:31.672Z"
   },
   {
    "duration": 11,
    "start_time": "2021-10-11T14:45:31.687Z"
   },
   {
    "duration": 21,
    "start_time": "2021-10-11T14:45:31.701Z"
   },
   {
    "duration": 40,
    "start_time": "2021-10-11T14:45:31.725Z"
   },
   {
    "duration": 17,
    "start_time": "2021-10-11T14:45:31.767Z"
   },
   {
    "duration": 12,
    "start_time": "2021-10-11T14:45:31.786Z"
   },
   {
    "duration": 11,
    "start_time": "2021-10-11T14:45:31.800Z"
   },
   {
    "duration": 52,
    "start_time": "2021-10-11T14:45:31.813Z"
   },
   {
    "duration": 3759,
    "start_time": "2021-10-11T14:45:31.868Z"
   },
   {
    "duration": 3780,
    "start_time": "2021-10-11T14:45:35.629Z"
   },
   {
    "duration": 3790,
    "start_time": "2021-10-11T14:45:39.411Z"
   },
   {
    "duration": 9,
    "start_time": "2021-10-11T18:46:59.346Z"
   },
   {
    "duration": 4,
    "start_time": "2021-10-11T18:47:04.726Z"
   },
   {
    "duration": 4,
    "start_time": "2021-10-11T18:47:07.630Z"
   },
   {
    "duration": 3,
    "start_time": "2021-10-11T18:47:09.555Z"
   },
   {
    "duration": 4,
    "start_time": "2021-10-11T18:48:56.977Z"
   },
   {
    "duration": 4,
    "start_time": "2021-10-11T18:49:01.665Z"
   }
  ],
  "celltoolbar": "Raw Cell Format",
  "kernelspec": {
   "display_name": "Python 3 (ipykernel)",
   "language": "python",
   "name": "python3"
  },
  "language_info": {
   "codemirror_mode": {
    "name": "ipython",
    "version": 3
   },
   "file_extension": ".py",
   "mimetype": "text/x-python",
   "name": "python",
   "nbconvert_exporter": "python",
   "pygments_lexer": "ipython3",
   "version": "3.9.7"
  },
  "toc": {
   "base_numbering": 1,
   "nav_menu": {},
   "number_sections": true,
   "sideBar": true,
   "skip_h1_title": true,
   "title_cell": "Table of Contents",
   "title_sidebar": "Contents",
   "toc_cell": false,
   "toc_position": {
    "height": "calc(100% - 180px)",
    "left": "10px",
    "top": "150px",
    "width": "366px"
   },
   "toc_section_display": true,
   "toc_window_display": true
  }
 },
 "nbformat": 4,
 "nbformat_minor": 2
}
