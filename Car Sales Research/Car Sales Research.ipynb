{
 "cells": [
  {
   "cell_type": "markdown",
   "metadata": {},
   "source": [
    "# Research on Car Sales Ads\n",
    "\n",
    "You're an analyst at Crankshaft List. Hundreds of free advertisements for vehicles are published on your site every day.\n",
    "\n",
    "You need to study data collected over the last few years and determine which factors influence the price of a vehicle. "
   ]
  },
  {
   "cell_type": "markdown",
   "metadata": {},
   "source": [
    "## Open the data file and study the general information. "
   ]
  },
  {
   "cell_type": "code",
   "execution_count": 1,
   "metadata": {},
   "outputs": [
    {
     "name": "stdout",
     "output_type": "stream",
     "text": [
      "<class 'pandas.core.frame.DataFrame'>\n",
      "RangeIndex: 51525 entries, 0 to 51524\n",
      "Data columns (total 13 columns):\n",
      " #   Column        Non-Null Count  Dtype  \n",
      "---  ------        --------------  -----  \n",
      " 0   price         51525 non-null  int64  \n",
      " 1   model_year    47906 non-null  float64\n",
      " 2   model         51525 non-null  object \n",
      " 3   condition     51525 non-null  object \n",
      " 4   cylinders     46265 non-null  float64\n",
      " 5   fuel          51525 non-null  object \n",
      " 6   odometer      43633 non-null  float64\n",
      " 7   transmission  51525 non-null  object \n",
      " 8   type          51525 non-null  object \n",
      " 9   paint_color   42258 non-null  object \n",
      " 10  is_4wd        25572 non-null  float64\n",
      " 11  date_posted   51525 non-null  object \n",
      " 12  days_listed   51525 non-null  int64  \n",
      "dtypes: float64(4), int64(2), object(7)\n",
      "memory usage: 5.1+ MB\n"
     ]
    },
    {
     "data": {
      "text/html": [
       "<div>\n",
       "<style scoped>\n",
       "    .dataframe tbody tr th:only-of-type {\n",
       "        vertical-align: middle;\n",
       "    }\n",
       "\n",
       "    .dataframe tbody tr th {\n",
       "        vertical-align: top;\n",
       "    }\n",
       "\n",
       "    .dataframe thead th {\n",
       "        text-align: right;\n",
       "    }\n",
       "</style>\n",
       "<table border=\"1\" class=\"dataframe\">\n",
       "  <thead>\n",
       "    <tr style=\"text-align: right;\">\n",
       "      <th></th>\n",
       "      <th>price</th>\n",
       "      <th>model_year</th>\n",
       "      <th>model</th>\n",
       "      <th>condition</th>\n",
       "      <th>cylinders</th>\n",
       "      <th>fuel</th>\n",
       "      <th>odometer</th>\n",
       "      <th>transmission</th>\n",
       "      <th>type</th>\n",
       "      <th>paint_color</th>\n",
       "      <th>is_4wd</th>\n",
       "      <th>date_posted</th>\n",
       "      <th>days_listed</th>\n",
       "    </tr>\n",
       "  </thead>\n",
       "  <tbody>\n",
       "    <tr>\n",
       "      <th>0</th>\n",
       "      <td>9400</td>\n",
       "      <td>2011.0</td>\n",
       "      <td>bmw x5</td>\n",
       "      <td>good</td>\n",
       "      <td>6.0</td>\n",
       "      <td>gas</td>\n",
       "      <td>145000.0</td>\n",
       "      <td>automatic</td>\n",
       "      <td>SUV</td>\n",
       "      <td>NaN</td>\n",
       "      <td>1.0</td>\n",
       "      <td>2018-06-23</td>\n",
       "      <td>19</td>\n",
       "    </tr>\n",
       "    <tr>\n",
       "      <th>1</th>\n",
       "      <td>25500</td>\n",
       "      <td>NaN</td>\n",
       "      <td>ford f-150</td>\n",
       "      <td>good</td>\n",
       "      <td>6.0</td>\n",
       "      <td>gas</td>\n",
       "      <td>88705.0</td>\n",
       "      <td>automatic</td>\n",
       "      <td>pickup</td>\n",
       "      <td>white</td>\n",
       "      <td>1.0</td>\n",
       "      <td>2018-10-19</td>\n",
       "      <td>50</td>\n",
       "    </tr>\n",
       "    <tr>\n",
       "      <th>2</th>\n",
       "      <td>5500</td>\n",
       "      <td>2013.0</td>\n",
       "      <td>hyundai sonata</td>\n",
       "      <td>like new</td>\n",
       "      <td>4.0</td>\n",
       "      <td>gas</td>\n",
       "      <td>110000.0</td>\n",
       "      <td>automatic</td>\n",
       "      <td>sedan</td>\n",
       "      <td>red</td>\n",
       "      <td>NaN</td>\n",
       "      <td>2019-02-07</td>\n",
       "      <td>79</td>\n",
       "    </tr>\n",
       "    <tr>\n",
       "      <th>3</th>\n",
       "      <td>1500</td>\n",
       "      <td>2003.0</td>\n",
       "      <td>ford f-150</td>\n",
       "      <td>fair</td>\n",
       "      <td>8.0</td>\n",
       "      <td>gas</td>\n",
       "      <td>NaN</td>\n",
       "      <td>automatic</td>\n",
       "      <td>pickup</td>\n",
       "      <td>NaN</td>\n",
       "      <td>NaN</td>\n",
       "      <td>2019-03-22</td>\n",
       "      <td>9</td>\n",
       "    </tr>\n",
       "    <tr>\n",
       "      <th>4</th>\n",
       "      <td>14900</td>\n",
       "      <td>2017.0</td>\n",
       "      <td>chrysler 200</td>\n",
       "      <td>excellent</td>\n",
       "      <td>4.0</td>\n",
       "      <td>gas</td>\n",
       "      <td>80903.0</td>\n",
       "      <td>automatic</td>\n",
       "      <td>sedan</td>\n",
       "      <td>black</td>\n",
       "      <td>NaN</td>\n",
       "      <td>2019-04-02</td>\n",
       "      <td>28</td>\n",
       "    </tr>\n",
       "  </tbody>\n",
       "</table>\n",
       "</div>"
      ],
      "text/plain": [
       "   price  model_year           model  condition  cylinders fuel  odometer  \\\n",
       "0   9400      2011.0          bmw x5       good        6.0  gas  145000.0   \n",
       "1  25500         NaN      ford f-150       good        6.0  gas   88705.0   \n",
       "2   5500      2013.0  hyundai sonata   like new        4.0  gas  110000.0   \n",
       "3   1500      2003.0      ford f-150       fair        8.0  gas       NaN   \n",
       "4  14900      2017.0    chrysler 200  excellent        4.0  gas   80903.0   \n",
       "\n",
       "  transmission    type paint_color  is_4wd date_posted  days_listed  \n",
       "0    automatic     SUV         NaN     1.0  2018-06-23           19  \n",
       "1    automatic  pickup       white     1.0  2018-10-19           50  \n",
       "2    automatic   sedan         red     NaN  2019-02-07           79  \n",
       "3    automatic  pickup         NaN     NaN  2019-03-22            9  \n",
       "4    automatic   sedan       black     NaN  2019-04-02           28  "
      ]
     },
     "execution_count": 1,
     "metadata": {},
     "output_type": "execute_result"
    }
   ],
   "source": [
    "### Project: Exploratory Data Analysis\n",
    "## I will be studying data collected from a company with free advertisement for selling vehicles. I will use factors such\n",
    "## as: vehicle's age, the ad placement date, mileage, number of cyliners, and condition to learn if they determine price\n",
    "## of a vehicle. The goal of my project is to find which factors impact price most when selling a vehicle.\n",
    "\n",
    "#Import data\n",
    "import pandas as pd\n",
    "import numpy as np\n",
    "import matplotlib.pyplot as plt\n",
    "\n",
    "vehicles = pd.read_csv('https://code.s3.yandex.net/datasets/vehicles_us.csv')\n",
    "#General information about data\n",
    "vehicles.info()\n",
    "#First 5 rows of data\n",
    "vehicles.head(5)\n",
    "#Descriptive data of each column\n",
    "#vehicles.describe()"
   ]
  },
  {
   "cell_type": "markdown",
   "metadata": {},
   "source": [
    "### Conclusion"
   ]
  },
  {
   "cell_type": "markdown",
   "metadata": {},
   "source": [
    "Based on information from the data there are 51525 advertisements. The data that has missing values are model_year, cylinders, odometer, paint_color, and is_4wd"
   ]
  },
  {
   "cell_type": "markdown",
   "metadata": {},
   "source": [
    "## Data preprocessing"
   ]
  },
  {
   "cell_type": "code",
   "execution_count": 2,
   "metadata": {},
   "outputs": [
    {
     "name": "stdout",
     "output_type": "stream",
     "text": [
      "<class 'pandas.core.frame.DataFrame'>\n",
      "Int64Index: 47883 entries, 0 to 51524\n",
      "Data columns (total 13 columns):\n",
      " #   Column        Non-Null Count  Dtype  \n",
      "---  ------        --------------  -----  \n",
      " 0   price         47883 non-null  int64  \n",
      " 1   model_year    47883 non-null  float64\n",
      " 2   model         47883 non-null  object \n",
      " 3   condition     47883 non-null  object \n",
      " 4   cylinders     47883 non-null  float64\n",
      " 5   fuel          47883 non-null  object \n",
      " 6   odometer      47883 non-null  float64\n",
      " 7   transmission  47883 non-null  object \n",
      " 8   type          47883 non-null  object \n",
      " 9   paint_color   47883 non-null  object \n",
      " 10  is_4wd        47883 non-null  float64\n",
      " 11  date_posted   47883 non-null  object \n",
      " 12  days_listed   47883 non-null  int64  \n",
      "dtypes: float64(4), int64(2), object(7)\n",
      "memory usage: 5.1+ MB\n"
     ]
    },
    {
     "data": {
      "text/html": [
       "<div>\n",
       "<style scoped>\n",
       "    .dataframe tbody tr th:only-of-type {\n",
       "        vertical-align: middle;\n",
       "    }\n",
       "\n",
       "    .dataframe tbody tr th {\n",
       "        vertical-align: top;\n",
       "    }\n",
       "\n",
       "    .dataframe thead th {\n",
       "        text-align: right;\n",
       "    }\n",
       "</style>\n",
       "<table border=\"1\" class=\"dataframe\">\n",
       "  <thead>\n",
       "    <tr style=\"text-align: right;\">\n",
       "      <th></th>\n",
       "      <th>price</th>\n",
       "      <th>model_year</th>\n",
       "      <th>model</th>\n",
       "      <th>condition</th>\n",
       "      <th>cylinders</th>\n",
       "      <th>fuel</th>\n",
       "      <th>odometer</th>\n",
       "      <th>transmission</th>\n",
       "      <th>type</th>\n",
       "      <th>paint_color</th>\n",
       "      <th>is_4wd</th>\n",
       "      <th>date_posted</th>\n",
       "      <th>days_listed</th>\n",
       "    </tr>\n",
       "  </thead>\n",
       "  <tbody>\n",
       "    <tr>\n",
       "      <th>0</th>\n",
       "      <td>9400</td>\n",
       "      <td>2011.0</td>\n",
       "      <td>bmw x5</td>\n",
       "      <td>good</td>\n",
       "      <td>6.0</td>\n",
       "      <td>gas</td>\n",
       "      <td>145000.0</td>\n",
       "      <td>automatic</td>\n",
       "      <td>SUV</td>\n",
       "      <td>Unknown</td>\n",
       "      <td>1.0</td>\n",
       "      <td>2018-06-23</td>\n",
       "      <td>19</td>\n",
       "    </tr>\n",
       "    <tr>\n",
       "      <th>2</th>\n",
       "      <td>5500</td>\n",
       "      <td>2013.0</td>\n",
       "      <td>hyundai sonata</td>\n",
       "      <td>like new</td>\n",
       "      <td>4.0</td>\n",
       "      <td>gas</td>\n",
       "      <td>110000.0</td>\n",
       "      <td>automatic</td>\n",
       "      <td>sedan</td>\n",
       "      <td>red</td>\n",
       "      <td>0.0</td>\n",
       "      <td>2019-02-07</td>\n",
       "      <td>79</td>\n",
       "    </tr>\n",
       "    <tr>\n",
       "      <th>3</th>\n",
       "      <td>1500</td>\n",
       "      <td>2003.0</td>\n",
       "      <td>ford f-150</td>\n",
       "      <td>fair</td>\n",
       "      <td>8.0</td>\n",
       "      <td>gas</td>\n",
       "      <td>165025.0</td>\n",
       "      <td>automatic</td>\n",
       "      <td>pickup</td>\n",
       "      <td>Unknown</td>\n",
       "      <td>0.0</td>\n",
       "      <td>2019-03-22</td>\n",
       "      <td>9</td>\n",
       "    </tr>\n",
       "    <tr>\n",
       "      <th>4</th>\n",
       "      <td>14900</td>\n",
       "      <td>2017.0</td>\n",
       "      <td>chrysler 200</td>\n",
       "      <td>excellent</td>\n",
       "      <td>4.0</td>\n",
       "      <td>gas</td>\n",
       "      <td>80903.0</td>\n",
       "      <td>automatic</td>\n",
       "      <td>sedan</td>\n",
       "      <td>black</td>\n",
       "      <td>0.0</td>\n",
       "      <td>2019-04-02</td>\n",
       "      <td>28</td>\n",
       "    </tr>\n",
       "    <tr>\n",
       "      <th>5</th>\n",
       "      <td>14990</td>\n",
       "      <td>2014.0</td>\n",
       "      <td>chrysler 300</td>\n",
       "      <td>excellent</td>\n",
       "      <td>6.0</td>\n",
       "      <td>gas</td>\n",
       "      <td>57954.0</td>\n",
       "      <td>automatic</td>\n",
       "      <td>sedan</td>\n",
       "      <td>black</td>\n",
       "      <td>1.0</td>\n",
       "      <td>2018-06-20</td>\n",
       "      <td>15</td>\n",
       "    </tr>\n",
       "    <tr>\n",
       "      <th>6</th>\n",
       "      <td>12990</td>\n",
       "      <td>2015.0</td>\n",
       "      <td>toyota camry</td>\n",
       "      <td>excellent</td>\n",
       "      <td>4.0</td>\n",
       "      <td>gas</td>\n",
       "      <td>79212.0</td>\n",
       "      <td>automatic</td>\n",
       "      <td>sedan</td>\n",
       "      <td>white</td>\n",
       "      <td>0.0</td>\n",
       "      <td>2018-12-27</td>\n",
       "      <td>73</td>\n",
       "    </tr>\n",
       "    <tr>\n",
       "      <th>7</th>\n",
       "      <td>15990</td>\n",
       "      <td>2013.0</td>\n",
       "      <td>honda pilot</td>\n",
       "      <td>excellent</td>\n",
       "      <td>6.0</td>\n",
       "      <td>gas</td>\n",
       "      <td>109473.0</td>\n",
       "      <td>automatic</td>\n",
       "      <td>SUV</td>\n",
       "      <td>black</td>\n",
       "      <td>1.0</td>\n",
       "      <td>2019-01-07</td>\n",
       "      <td>68</td>\n",
       "    </tr>\n",
       "    <tr>\n",
       "      <th>8</th>\n",
       "      <td>11500</td>\n",
       "      <td>2012.0</td>\n",
       "      <td>kia sorento</td>\n",
       "      <td>excellent</td>\n",
       "      <td>4.0</td>\n",
       "      <td>gas</td>\n",
       "      <td>104174.0</td>\n",
       "      <td>automatic</td>\n",
       "      <td>SUV</td>\n",
       "      <td>Unknown</td>\n",
       "      <td>1.0</td>\n",
       "      <td>2018-07-16</td>\n",
       "      <td>19</td>\n",
       "    </tr>\n",
       "    <tr>\n",
       "      <th>9</th>\n",
       "      <td>9200</td>\n",
       "      <td>2008.0</td>\n",
       "      <td>honda pilot</td>\n",
       "      <td>excellent</td>\n",
       "      <td>6.0</td>\n",
       "      <td>gas</td>\n",
       "      <td>147191.0</td>\n",
       "      <td>automatic</td>\n",
       "      <td>SUV</td>\n",
       "      <td>blue</td>\n",
       "      <td>1.0</td>\n",
       "      <td>2019-02-15</td>\n",
       "      <td>17</td>\n",
       "    </tr>\n",
       "    <tr>\n",
       "      <th>10</th>\n",
       "      <td>19500</td>\n",
       "      <td>2011.0</td>\n",
       "      <td>chevrolet silverado 1500</td>\n",
       "      <td>excellent</td>\n",
       "      <td>8.0</td>\n",
       "      <td>gas</td>\n",
       "      <td>128413.0</td>\n",
       "      <td>automatic</td>\n",
       "      <td>pickup</td>\n",
       "      <td>black</td>\n",
       "      <td>1.0</td>\n",
       "      <td>2018-09-17</td>\n",
       "      <td>38</td>\n",
       "    </tr>\n",
       "  </tbody>\n",
       "</table>\n",
       "</div>"
      ],
      "text/plain": [
       "    price  model_year                     model  condition  cylinders fuel  \\\n",
       "0    9400      2011.0                    bmw x5       good        6.0  gas   \n",
       "2    5500      2013.0            hyundai sonata   like new        4.0  gas   \n",
       "3    1500      2003.0                ford f-150       fair        8.0  gas   \n",
       "4   14900      2017.0              chrysler 200  excellent        4.0  gas   \n",
       "5   14990      2014.0              chrysler 300  excellent        6.0  gas   \n",
       "6   12990      2015.0              toyota camry  excellent        4.0  gas   \n",
       "7   15990      2013.0               honda pilot  excellent        6.0  gas   \n",
       "8   11500      2012.0               kia sorento  excellent        4.0  gas   \n",
       "9    9200      2008.0               honda pilot  excellent        6.0  gas   \n",
       "10  19500      2011.0  chevrolet silverado 1500  excellent        8.0  gas   \n",
       "\n",
       "    odometer transmission    type paint_color  is_4wd date_posted  days_listed  \n",
       "0   145000.0    automatic     SUV     Unknown     1.0  2018-06-23           19  \n",
       "2   110000.0    automatic   sedan         red     0.0  2019-02-07           79  \n",
       "3   165025.0    automatic  pickup     Unknown     0.0  2019-03-22            9  \n",
       "4    80903.0    automatic   sedan       black     0.0  2019-04-02           28  \n",
       "5    57954.0    automatic   sedan       black     1.0  2018-06-20           15  \n",
       "6    79212.0    automatic   sedan       white     0.0  2018-12-27           73  \n",
       "7   109473.0    automatic     SUV       black     1.0  2019-01-07           68  \n",
       "8   104174.0    automatic     SUV     Unknown     1.0  2018-07-16           19  \n",
       "9   147191.0    automatic     SUV        blue     1.0  2019-02-15           17  \n",
       "10  128413.0    automatic  pickup       black     1.0  2018-09-17           38  "
      ]
     },
     "execution_count": 2,
     "metadata": {},
     "output_type": "execute_result"
    }
   ],
   "source": [
    "## 2.1\n",
    "\n",
    "#Check for duplicates\n",
    "vehicles.duplicated().sum()\n",
    "\n",
    "\n",
    "#Replace missing values\n",
    "vehicles['is_4wd'] = vehicles['is_4wd'].fillna(0)\n",
    "vehicles['is_4wd'].isnull().sum()\n",
    "\n",
    "\n",
    "vehicles.groupby(['type', 'model'])['cylinders'].median()\n",
    "vehicles['cylinders'] = vehicles.groupby(['type', 'model'])['cylinders'].apply(lambda x: x.fillna(x.median()))\n",
    "vehicles.dropna(subset = ['cylinders'], inplace = True)\n",
    "vehicles['cylinders'].isnull().sum()\n",
    "\n",
    "\n",
    "vehicles.dropna(subset = ['model_year'], inplace = True)\n",
    "vehicles['model_year'].isnull().sum()\n",
    "\n",
    "\n",
    "vehicles.groupby(['type','model_year'])['odometer'].median()\n",
    "vehicles['odometer'] = vehicles.groupby(['type','model_year'])['odometer'].apply(lambda x: x.fillna(x.median()))\n",
    "vehicles.dropna(subset = ['odometer'], inplace = True)\n",
    "vehicles['odometer'].isnull().sum()\n",
    "\n",
    "\n",
    "vehicles['paint_color'] = vehicles['paint_color'].fillna('Unknown')\n",
    "vehicles['paint_color'].isnull().sum()\n",
    "\n",
    "vehicles.info()\n",
    "vehicles.head(10)\n"
   ]
  },
  {
   "cell_type": "markdown",
   "metadata": {},
   "source": [
    "### 2.1 Conclusion\n",
    "\n",
    "There are no duplicated rows.\n",
    "\n",
    "Columns with missing values are model_year, cylinders, odometer, paint_color, and is_4wd. In the column 4_wd, I replace missing values with zeros. Since the data type is boolean and the column only consisted of true values, I assumed the missing values were false. I replaced the values in column paint_color with the string value \"Unknown\". I did this so we can compare the price of vehicles when the color is given and when it is not. For columns odometer and cylinders I replaced missing values with the median value grouped by both type and model year. The missing values in column model_year were removed. The values missing from model_year only made up 7% of data. I felt it was a small enough amount to remove without messing up the data.\n",
    "\n",
    "The data could be missing because the seller did not include it in the ad, such as paint color of the vehicle. It is also possible the seller does not know the value. Such instances would be if the odometer is broke in the vehicle. Other possiblities could be the data went missing when observation took place."
   ]
  },
  {
   "cell_type": "code",
   "execution_count": 3,
   "metadata": {},
   "outputs": [
    {
     "name": "stdout",
     "output_type": "stream",
     "text": [
      "<class 'pandas.core.frame.DataFrame'>\n",
      "Int64Index: 47883 entries, 0 to 51524\n",
      "Data columns (total 13 columns):\n",
      " #   Column        Non-Null Count  Dtype \n",
      "---  ------        --------------  ----- \n",
      " 0   price         47883 non-null  int64 \n",
      " 1   model_year    47883 non-null  int32 \n",
      " 2   model         47883 non-null  object\n",
      " 3   condition     47883 non-null  object\n",
      " 4   cylinders     47883 non-null  int32 \n",
      " 5   fuel          47883 non-null  object\n",
      " 6   odometer      47883 non-null  int32 \n",
      " 7   transmission  47883 non-null  object\n",
      " 8   type          47883 non-null  object\n",
      " 9   paint_color   47883 non-null  object\n",
      " 10  is_4wd        47883 non-null  int32 \n",
      " 11  date_posted   47883 non-null  object\n",
      " 12  days_listed   47883 non-null  int64 \n",
      "dtypes: int32(4), int64(2), object(7)\n",
      "memory usage: 4.4+ MB\n"
     ]
    },
    {
     "data": {
      "text/html": [
       "<div>\n",
       "<style scoped>\n",
       "    .dataframe tbody tr th:only-of-type {\n",
       "        vertical-align: middle;\n",
       "    }\n",
       "\n",
       "    .dataframe tbody tr th {\n",
       "        vertical-align: top;\n",
       "    }\n",
       "\n",
       "    .dataframe thead th {\n",
       "        text-align: right;\n",
       "    }\n",
       "</style>\n",
       "<table border=\"1\" class=\"dataframe\">\n",
       "  <thead>\n",
       "    <tr style=\"text-align: right;\">\n",
       "      <th></th>\n",
       "      <th>price</th>\n",
       "      <th>model_year</th>\n",
       "      <th>model</th>\n",
       "      <th>condition</th>\n",
       "      <th>cylinders</th>\n",
       "      <th>fuel</th>\n",
       "      <th>odometer</th>\n",
       "      <th>transmission</th>\n",
       "      <th>type</th>\n",
       "      <th>paint_color</th>\n",
       "      <th>is_4wd</th>\n",
       "      <th>date_posted</th>\n",
       "      <th>days_listed</th>\n",
       "    </tr>\n",
       "  </thead>\n",
       "  <tbody>\n",
       "    <tr>\n",
       "      <th>0</th>\n",
       "      <td>9400</td>\n",
       "      <td>2011</td>\n",
       "      <td>bmw x5</td>\n",
       "      <td>good</td>\n",
       "      <td>6</td>\n",
       "      <td>gas</td>\n",
       "      <td>145000</td>\n",
       "      <td>automatic</td>\n",
       "      <td>SUV</td>\n",
       "      <td>Unknown</td>\n",
       "      <td>1</td>\n",
       "      <td>2018-06-23</td>\n",
       "      <td>19</td>\n",
       "    </tr>\n",
       "    <tr>\n",
       "      <th>2</th>\n",
       "      <td>5500</td>\n",
       "      <td>2013</td>\n",
       "      <td>hyundai sonata</td>\n",
       "      <td>like new</td>\n",
       "      <td>4</td>\n",
       "      <td>gas</td>\n",
       "      <td>110000</td>\n",
       "      <td>automatic</td>\n",
       "      <td>sedan</td>\n",
       "      <td>red</td>\n",
       "      <td>0</td>\n",
       "      <td>2019-02-07</td>\n",
       "      <td>79</td>\n",
       "    </tr>\n",
       "    <tr>\n",
       "      <th>3</th>\n",
       "      <td>1500</td>\n",
       "      <td>2003</td>\n",
       "      <td>ford f-150</td>\n",
       "      <td>fair</td>\n",
       "      <td>8</td>\n",
       "      <td>gas</td>\n",
       "      <td>165025</td>\n",
       "      <td>automatic</td>\n",
       "      <td>pickup</td>\n",
       "      <td>Unknown</td>\n",
       "      <td>0</td>\n",
       "      <td>2019-03-22</td>\n",
       "      <td>9</td>\n",
       "    </tr>\n",
       "    <tr>\n",
       "      <th>4</th>\n",
       "      <td>14900</td>\n",
       "      <td>2017</td>\n",
       "      <td>chrysler 200</td>\n",
       "      <td>excellent</td>\n",
       "      <td>4</td>\n",
       "      <td>gas</td>\n",
       "      <td>80903</td>\n",
       "      <td>automatic</td>\n",
       "      <td>sedan</td>\n",
       "      <td>black</td>\n",
       "      <td>0</td>\n",
       "      <td>2019-04-02</td>\n",
       "      <td>28</td>\n",
       "    </tr>\n",
       "    <tr>\n",
       "      <th>5</th>\n",
       "      <td>14990</td>\n",
       "      <td>2014</td>\n",
       "      <td>chrysler 300</td>\n",
       "      <td>excellent</td>\n",
       "      <td>6</td>\n",
       "      <td>gas</td>\n",
       "      <td>57954</td>\n",
       "      <td>automatic</td>\n",
       "      <td>sedan</td>\n",
       "      <td>black</td>\n",
       "      <td>1</td>\n",
       "      <td>2018-06-20</td>\n",
       "      <td>15</td>\n",
       "    </tr>\n",
       "    <tr>\n",
       "      <th>6</th>\n",
       "      <td>12990</td>\n",
       "      <td>2015</td>\n",
       "      <td>toyota camry</td>\n",
       "      <td>excellent</td>\n",
       "      <td>4</td>\n",
       "      <td>gas</td>\n",
       "      <td>79212</td>\n",
       "      <td>automatic</td>\n",
       "      <td>sedan</td>\n",
       "      <td>white</td>\n",
       "      <td>0</td>\n",
       "      <td>2018-12-27</td>\n",
       "      <td>73</td>\n",
       "    </tr>\n",
       "    <tr>\n",
       "      <th>7</th>\n",
       "      <td>15990</td>\n",
       "      <td>2013</td>\n",
       "      <td>honda pilot</td>\n",
       "      <td>excellent</td>\n",
       "      <td>6</td>\n",
       "      <td>gas</td>\n",
       "      <td>109473</td>\n",
       "      <td>automatic</td>\n",
       "      <td>SUV</td>\n",
       "      <td>black</td>\n",
       "      <td>1</td>\n",
       "      <td>2019-01-07</td>\n",
       "      <td>68</td>\n",
       "    </tr>\n",
       "    <tr>\n",
       "      <th>8</th>\n",
       "      <td>11500</td>\n",
       "      <td>2012</td>\n",
       "      <td>kia sorento</td>\n",
       "      <td>excellent</td>\n",
       "      <td>4</td>\n",
       "      <td>gas</td>\n",
       "      <td>104174</td>\n",
       "      <td>automatic</td>\n",
       "      <td>SUV</td>\n",
       "      <td>Unknown</td>\n",
       "      <td>1</td>\n",
       "      <td>2018-07-16</td>\n",
       "      <td>19</td>\n",
       "    </tr>\n",
       "    <tr>\n",
       "      <th>9</th>\n",
       "      <td>9200</td>\n",
       "      <td>2008</td>\n",
       "      <td>honda pilot</td>\n",
       "      <td>excellent</td>\n",
       "      <td>6</td>\n",
       "      <td>gas</td>\n",
       "      <td>147191</td>\n",
       "      <td>automatic</td>\n",
       "      <td>SUV</td>\n",
       "      <td>blue</td>\n",
       "      <td>1</td>\n",
       "      <td>2019-02-15</td>\n",
       "      <td>17</td>\n",
       "    </tr>\n",
       "    <tr>\n",
       "      <th>10</th>\n",
       "      <td>19500</td>\n",
       "      <td>2011</td>\n",
       "      <td>chevrolet silverado 1500</td>\n",
       "      <td>excellent</td>\n",
       "      <td>8</td>\n",
       "      <td>gas</td>\n",
       "      <td>128413</td>\n",
       "      <td>automatic</td>\n",
       "      <td>pickup</td>\n",
       "      <td>black</td>\n",
       "      <td>1</td>\n",
       "      <td>2018-09-17</td>\n",
       "      <td>38</td>\n",
       "    </tr>\n",
       "  </tbody>\n",
       "</table>\n",
       "</div>"
      ],
      "text/plain": [
       "    price  model_year                     model  condition  cylinders fuel  \\\n",
       "0    9400        2011                    bmw x5       good          6  gas   \n",
       "2    5500        2013            hyundai sonata   like new          4  gas   \n",
       "3    1500        2003                ford f-150       fair          8  gas   \n",
       "4   14900        2017              chrysler 200  excellent          4  gas   \n",
       "5   14990        2014              chrysler 300  excellent          6  gas   \n",
       "6   12990        2015              toyota camry  excellent          4  gas   \n",
       "7   15990        2013               honda pilot  excellent          6  gas   \n",
       "8   11500        2012               kia sorento  excellent          4  gas   \n",
       "9    9200        2008               honda pilot  excellent          6  gas   \n",
       "10  19500        2011  chevrolet silverado 1500  excellent          8  gas   \n",
       "\n",
       "    odometer transmission    type paint_color  is_4wd date_posted  days_listed  \n",
       "0     145000    automatic     SUV     Unknown       1  2018-06-23           19  \n",
       "2     110000    automatic   sedan         red       0  2019-02-07           79  \n",
       "3     165025    automatic  pickup     Unknown       0  2019-03-22            9  \n",
       "4      80903    automatic   sedan       black       0  2019-04-02           28  \n",
       "5      57954    automatic   sedan       black       1  2018-06-20           15  \n",
       "6      79212    automatic   sedan       white       0  2018-12-27           73  \n",
       "7     109473    automatic     SUV       black       1  2019-01-07           68  \n",
       "8     104174    automatic     SUV     Unknown       1  2018-07-16           19  \n",
       "9     147191    automatic     SUV        blue       1  2019-02-15           17  \n",
       "10    128413    automatic  pickup       black       1  2018-09-17           38  "
      ]
     },
     "execution_count": 3,
     "metadata": {},
     "output_type": "execute_result"
    }
   ],
   "source": [
    "## 2.2\n",
    "\n",
    "#Replace float type with int type in column is_4wd\n",
    "vehicles['is_4wd'] = pd.to_numeric(vehicles['is_4wd']).astype('int')\n",
    "#Replace float type with int type in column odometer\n",
    "vehicles['odometer'] = pd.to_numeric(vehicles['odometer']).astype('int')\n",
    "#Replace float type with int type in column cylinders\n",
    "vehicles['cylinders'] = pd.to_numeric(vehicles['cylinders']).astype('int')\n",
    "#Replace float type with int type in column model_year\n",
    "vehicles['model_year'] = pd.to_numeric(vehicles['model_year']).astype('int')\n",
    "\n",
    "vehicles.info()\n",
    "vehicles.head(10)"
   ]
  },
  {
   "cell_type": "markdown",
   "metadata": {},
   "source": [
    "2.2  Conclusion\n",
    "\n",
    "The columns that had data types changed were is_4wd, odometer, cylinders, and model_year. They were changed from float to string for readability and so I can do calculations on them later."
   ]
  },
  {
   "cell_type": "markdown",
   "metadata": {},
   "source": [
    "## Make calculations and add them to the table"
   ]
  },
  {
   "cell_type": "code",
   "execution_count": 4,
   "metadata": {},
   "outputs": [
    {
     "name": "stdout",
     "output_type": "stream",
     "text": [
      "<class 'pandas.core.frame.DataFrame'>\n",
      "Int64Index: 47883 entries, 0 to 51524\n",
      "Data columns (total 18 columns):\n",
      " #   Column           Non-Null Count  Dtype         \n",
      "---  ------           --------------  -----         \n",
      " 0   price            47883 non-null  int64         \n",
      " 1   model_year       47883 non-null  int32         \n",
      " 2   model            47883 non-null  object        \n",
      " 3   condition        47883 non-null  int32         \n",
      " 4   cylinders        47883 non-null  int32         \n",
      " 5   fuel             47883 non-null  object        \n",
      " 6   odometer         47883 non-null  int32         \n",
      " 7   transmission     47883 non-null  object        \n",
      " 8   type             47883 non-null  object        \n",
      " 9   paint_color      47883 non-null  object        \n",
      " 10  is_4wd           47883 non-null  int32         \n",
      " 11  date_posted      47883 non-null  datetime64[ns]\n",
      " 12  days_listed      47883 non-null  int64         \n",
      " 13  week_day         47883 non-null  int64         \n",
      " 14  month            47883 non-null  int64         \n",
      " 15  year             47883 non-null  int64         \n",
      " 16  vehicle_age      47883 non-null  int64         \n",
      " 17  average_mileage  47883 non-null  object        \n",
      "dtypes: datetime64[ns](1), int32(5), int64(6), object(6)\n",
      "memory usage: 6.0+ MB\n"
     ]
    }
   ],
   "source": [
    "#Day of the week\n",
    "vehicles['date_posted'] = pd.to_datetime(vehicles['date_posted'], format = '%Y-%m-%d')\n",
    "vehicles['week_day'] = vehicles['date_posted'].dt.weekday\n",
    "#Month\n",
    "vehicles['month'] = vehicles['date_posted'].dt.month\n",
    "#Year\n",
    "vehicles['year'] = vehicles['date_posted'].dt.year\n",
    "\n",
    "#Age of vehicle\n",
    "vehicles['vehicle_age'] = vehicles['year'] - vehicles['model_year']\n",
    "\n",
    "#Yearly average mileage\n",
    "vehicles['average_mileage'] = vehicles['odometer'] / vehicles['vehicle_age']\n",
    "#Replace vehicles that were made this year with 0 average miles.\n",
    "vehicles['average_mileage'].replace([np.inf, -np.inf], np.nan, inplace=True)\n",
    "vehicles['average_mileage'] =vehicles['average_mileage'].fillna('0')   \n",
    "    \n",
    "#Change condition column to numerical value\n",
    "vehicles.loc[vehicles['condition'] == 'new', 'condition'] = '5'\n",
    "vehicles.loc[vehicles['condition'] == 'like new', 'condition'] = '4'\n",
    "vehicles.loc[vehicles['condition'] == 'excellent', 'condition'] = '3'\n",
    "vehicles.loc[vehicles['condition'] == 'good', 'condition'] = '2'\n",
    "vehicles.loc[vehicles['condition'] == 'fair', 'condition'] = '1'\n",
    "vehicles.loc[vehicles['condition'] == 'salvage', 'condition'] = '0'\n",
    "vehicles['condition'] = pd.to_numeric(vehicles['condition']).astype('int')\n",
    "vehicles.info()"
   ]
  },
  {
   "cell_type": "markdown",
   "metadata": {},
   "source": [
    "### Conclusion\n",
    "I added columns to the table with the weekday, month and year the ad was placed. I then found the vehicles age in years the add was placed. I used the vehicles year to find the average mileage per year. \n",
    "\n",
    "I changed the values in condition to a numerical scale."
   ]
  },
  {
   "cell_type": "markdown",
   "metadata": {},
   "source": [
    "## Carry out exploratory data analysis"
   ]
  },
  {
   "cell_type": "code",
   "execution_count": 5,
   "metadata": {},
   "outputs": [
    {
     "data": {
      "text/plain": [
       "Text(0, 0.5, 'Number of Ads')"
      ]
     },
     "execution_count": 5,
     "metadata": {},
     "output_type": "execute_result"
    },
    {
     "data": {
      "image/png": "[encoded data removed]",
      "text/plain": [
       "<Figure size 432x288 with 1 Axes>"
      ]
     },
     "metadata": {
      "needs_background": "light"
     },
     "output_type": "display_data"
    },
    {
     "data": {
      "image/png": "[encoded data removed]",
      "text/plain": [
       "<Figure size 432x288 with 1 Axes>"
      ]
     },
     "metadata": {
      "needs_background": "light"
     },
     "output_type": "display_data"
    }
   ],
   "source": [
    "## 4.1\n",
    "\n",
    "#Price\n",
    "vehicles['price'].describe()\n",
    "vehicles.hist('price', bins = 25)\n",
    "plt.title('Price with Outliers')\n",
    "plt.xlabel('Price')\n",
    "plt.ylabel('Number of Ads')\n",
    "filter_price = vehicles.query( 'price <= 70000')\n",
    "filter_price.hist('price', bins = 25)\n",
    "plt.title('Price without Outliers')\n",
    "plt.xlabel('Price')\n",
    "plt.ylabel('Number of Ads')"
   ]
  },
  {
   "cell_type": "markdown",
   "metadata": {},
   "source": [
    "### Conclusion\n",
    "\n",
    "The histogram with the outliers is harder to read. It is clear the greatest number of vehicles are priced around 10000, as shown with the outlier graph. The graph without the outliers gives a better representation of the data. With this graph we can see that the most significant price for a vehicle is around 5000-6000. After 6000 the amount of cars per price steadily drops."
   ]
  },
  {
   "cell_type": "code",
   "execution_count": 6,
   "metadata": {},
   "outputs": [
    {
     "data": {
      "text/plain": [
       "Text(0, 0.5, 'Number of Ads')"
      ]
     },
     "execution_count": 6,
     "metadata": {},
     "output_type": "execute_result"
    },
    {
     "data": {
      "image/png": "[encoded data removed]",
      "text/plain": [
       "<Figure size 432x288 with 1 Axes>"
      ]
     },
     "metadata": {
      "needs_background": "light"
     },
     "output_type": "display_data"
    },
    {
     "data": {
      "image/png": "[encoded data removed]",
      "text/plain": [
       "<Figure size 432x288 with 1 Axes>"
      ]
     },
     "metadata": {
      "needs_background": "light"
     },
     "output_type": "display_data"
    }
   ],
   "source": [
    "## 4.2\n",
    "\n",
    "#Vehicles age\n",
    "vehicles['vehicle_age'].describe()\n",
    "vehicles.hist('vehicle_age', bins = 25)\n",
    "plt.title('Vehicle Age with Outliers')\n",
    "plt.xlabel('Vehicle Age')\n",
    "plt.ylabel('Number of Ads')\n",
    "filter_vehicle_age = vehicles.query( 'vehicle_age <= 55')\n",
    "filter_vehicle_age.hist('vehicle_age', bins = 25)\n",
    "plt.title('Vehicle Age without Outliers')\n",
    "plt.xlabel('Vehicle Age')\n",
    "plt.ylabel('Number of Ads')"
   ]
  },
  {
   "cell_type": "markdown",
   "metadata": {},
   "source": [
    "### Conclusion\n",
    "\n",
    "The graph with outliers does not show the peak around vehicles 10 years old. The graph without outliers is much easier to read. You can clearly see that the vehicle with most ads is around 12 years old. "
   ]
  },
  {
   "cell_type": "code",
   "execution_count": 7,
   "metadata": {},
   "outputs": [
    {
     "data": {
      "text/plain": [
       "Text(0, 0.5, 'Number of Ads')"
      ]
     },
     "execution_count": 7,
     "metadata": {},
     "output_type": "execute_result"
    },
    {
     "data": {
      "image/png": "[encoded data removed]",
      "text/plain": [
       "<Figure size 432x288 with 1 Axes>"
      ]
     },
     "metadata": {
      "needs_background": "light"
     },
     "output_type": "display_data"
    },
    {
     "data": {
      "image/png": "[encoded data removed]",
      "text/plain": [
       "<Figure size 432x288 with 1 Axes>"
      ]
     },
     "metadata": {
      "needs_background": "light"
     },
     "output_type": "display_data"
    }
   ],
   "source": [
    "## 4.3\n",
    "\n",
    "#Mileage\n",
    "vehicles['odometer'].describe()\n",
    "vehicles.hist('odometer', bins = 25)\n",
    "plt.title('Mileage with Outliers')\n",
    "plt.xlabel('Mileage')\n",
    "plt.ylabel('Number of Ads')\n",
    "filter_odometer = vehicles.query( 'odometer <= 400000')\n",
    "filter_odometer.hist('odometer', bins = 25)\n",
    "plt.xlabel('Mileage')\n",
    "plt.ylabel('Number of Ads')"
   ]
  },
  {
   "cell_type": "markdown",
   "metadata": {},
   "source": [
    "### Conclusion\n",
    "\n",
    "Both graphs clearly show that vehicles with 100000 miles have the most ads. One possiblity for this is because vehicle owners want a new car once their vehicle gets to 100000 miles. The graph without outliers shows a steadier decrease with the number of ads as the mileage increases on the vehicles."
   ]
  },
  {
   "cell_type": "code",
   "execution_count": 8,
   "metadata": {},
   "outputs": [
    {
     "data": {
      "text/plain": [
       "Text(0, 0.5, 'Number of Ads')"
      ]
     },
     "execution_count": 8,
     "metadata": {},
     "output_type": "execute_result"
    },
    {
     "data": {
      "image/png": "[encoded data removed]",
      "text/plain": [
       "<Figure size 432x288 with 1 Axes>"
      ]
     },
     "metadata": {
      "needs_background": "light"
     },
     "output_type": "display_data"
    },
    {
     "data": {
      "image/png": "[encoded data removed]",
      "text/plain": [
       "<Figure size 432x288 with 1 Axes>"
      ]
     },
     "metadata": {
      "needs_background": "light"
     },
     "output_type": "display_data"
    }
   ],
   "source": [
    "## 4.4\n",
    "\n",
    "#Cylinders\n",
    "vehicles['cylinders'].describe()\n",
    "vehicles.hist('cylinders', bins = 25)\n",
    "plt.title('Cylinders with Outliers')\n",
    "plt.xlabel('Cylinders')\n",
    "plt.ylabel('Number of Ads')\n",
    "filter_cylinders = vehicles.query( 'cylinders in (\"4\", \"6\", \"8\")')\n",
    "filter_cylinders.hist('cylinders', bins = 25)\n",
    "plt.title('Cylinders without Outliers')\n",
    "plt.xlabel('Cylinders')\n",
    "plt.ylabel('Number of Ads')"
   ]
  },
  {
   "cell_type": "markdown",
   "metadata": {},
   "source": [
    "### Conclusion \n",
    "\n",
    "Outliers do not affect the shape of the graph. Most vehicles have either 4,6, or 8 cylinders. "
   ]
  },
  {
   "cell_type": "code",
   "execution_count": 9,
   "metadata": {},
   "outputs": [
    {
     "data": {
      "text/plain": [
       "Text(0, 0.5, 'Number of Ads')"
      ]
     },
     "execution_count": 9,
     "metadata": {},
     "output_type": "execute_result"
    },
    {
     "data": {
      "image/png": "[encoded data removed]",
      "text/plain": [
       "<Figure size 432x288 with 1 Axes>"
      ]
     },
     "metadata": {
      "needs_background": "light"
     },
     "output_type": "display_data"
    },
    {
     "data": {
      "image/png": "[encoded data removed]",
      "text/plain": [
       "<Figure size 432x288 with 1 Axes>"
      ]
     },
     "metadata": {
      "needs_background": "light"
     },
     "output_type": "display_data"
    }
   ],
   "source": [
    "## 4.5\n",
    "\n",
    "#Condition\n",
    "vehicles['condition'].describe()\n",
    "vehicles.hist('condition', bins = 25)\n",
    "plt.title('Condition with Outliers')\n",
    "plt.xlabel('Condition')\n",
    "plt.ylabel('Number of Ads')\n",
    "filter_condition = vehicles.query( '1 <= condition <= 4')\n",
    "filter_condition.hist('condition', bins = 25)\n",
    "plt.title('Condition without Outliers')\n",
    "plt.xlabel('Condition')\n",
    "plt.ylabel('Number of Ads')"
   ]
  },
  {
   "cell_type": "markdown",
   "metadata": {},
   "source": [
    "### Conclusion\n",
    "\n",
    "Removing the outliers does not change the graph structure. Most vehicles sold are in excellent condition."
   ]
  },
  {
   "cell_type": "code",
   "execution_count": 10,
   "metadata": {},
   "outputs": [
    {
     "data": {
      "text/plain": [
       "33.0"
      ]
     },
     "execution_count": 10,
     "metadata": {},
     "output_type": "execute_result"
    },
    {
     "data": {
      "image/png": "[encoded data removed]",
      "text/plain": [
       "<Figure size 432x288 with 1 Axes>"
      ]
     },
     "metadata": {
      "needs_background": "light"
     },
     "output_type": "display_data"
    }
   ],
   "source": [
    "## 4.6\n",
    "\n",
    "#Days advertised\n",
    "vehicles['days_listed'].describe()\n",
    "vehicles.hist('days_listed', bins = 25)\n",
    "plt.xlabel('Days Listed')\n",
    "plt.ylabel('Number of Ads')\n",
    "vehicles['days_listed'].mean()\n",
    "vehicles['days_listed'].median()"
   ]
  },
  {
   "cell_type": "markdown",
   "metadata": {},
   "source": [
    "### Conclusion\n",
    "\n",
    "Most ads are listed from 10-35 days. The average span of an ad is 38 days. The shortest time for an ad was one day. The ad either sold fast or it was an error in the data. The longest an ad was on the website was 271 days. One reason the car could have been on the website for long is the author never removed the listing.\n",
    "\n",
    "The typical lifetime of an ad is between 15 to 60 days. This is the amount of time most ads were posted on the website. Ads were removed quickly if they spend less than 10 days on the website. Longer running ads stay on the website for about 100 days or more. Not many vehicles are on the website for that long."
   ]
  },
  {
   "cell_type": "code",
   "execution_count": 11,
   "metadata": {},
   "outputs": [
    {
     "data": {
      "text/plain": [
       "Text(0, 0.5, 'Number of Ads')"
      ]
     },
     "execution_count": 11,
     "metadata": {},
     "output_type": "execute_result"
    },
    {
     "data": {
      "image/png": "[encoded data removed]",
      "text/plain": [
       "<Figure size 432x288 with 1 Axes>"
      ]
     },
     "metadata": {
      "needs_background": "light"
     },
     "output_type": "display_data"
    }
   ],
   "source": [
    "## 4.7\n",
    "\n",
    "price_per_vehicle = vehicles.pivot_table(index = 'type', values = 'price', aggfunc = 'mean')\n",
    "vehicles['type'].value_counts()\n",
    "vehicles['type'].value_counts().plot(kind='bar') \n",
    "plt.xlabel('Type of Vehicle')\n",
    "plt.ylabel('Number of Ads')"
   ]
  },
  {
   "cell_type": "markdown",
   "metadata": {},
   "source": [
    "### Conclusion\n",
    "\n",
    "The type of vehicle with the most ads are SUV's and trucks. SUV's, trucks, sedans, and pickups take up a significant amount of ad space on the website."
   ]
  },
  {
   "cell_type": "code",
   "execution_count": 12,
   "metadata": {},
   "outputs": [
    {
     "data": {
      "text/plain": [
       "(0.0, 200000.0)"
      ]
     },
     "execution_count": 12,
     "metadata": {},
     "output_type": "execute_result"
    },
    {
     "data": {
      "image/png": "[encoded data removed]",
      "text/plain": [
       "<Figure size 432x288 with 1 Axes>"
      ]
     },
     "metadata": {
      "needs_background": "light"
     },
     "output_type": "display_data"
    },
    {
     "data": {
      "image/png": "[encoded data removed]",
      "text/plain": [
       "<Figure size 432x288 with 1 Axes>"
      ]
     },
     "metadata": {
      "needs_background": "light"
     },
     "output_type": "display_data"
    },
    {
     "data": {
      "image/png": "[encoded data removed]",
      "text/plain": [
       "<Figure size 432x288 with 1 Axes>"
      ]
     },
     "metadata": {
      "needs_background": "light"
     },
     "output_type": "display_data"
    },
    {
     "data": {
      "image/png": "[encoded data removed]",
      "text/plain": [
       "<Figure size 432x288 with 1 Axes>"
      ]
     },
     "metadata": {
      "needs_background": "light"
     },
     "output_type": "display_data"
    },
    {
     "data": {
      "image/png": "[encoded data removed]",
      "text/plain": [
       "<Figure size 648x360 with 1 Axes>"
      ]
     },
     "metadata": {
      "needs_background": "light"
     },
     "output_type": "display_data"
    }
   ],
   "source": [
    "## 4.8\n",
    "\n",
    "#Age\n",
    "vehicles.plot(x='vehicle_age', y='price', kind='scatter')\n",
    "\n",
    "#Mileage\n",
    "vehicles.plot(x='odometer', y='price', kind='scatter')\n",
    "\n",
    "#Condition\n",
    "vehicles.plot(x='condition', y='price', kind='scatter')\n",
    "\n",
    "#Transmission\n",
    "vehicles['transmission'].value_counts()\n",
    "vehicles.boxplot(column = 'price', by = 'transmission')\n",
    "plt.ylim(0, 200000)\n",
    "\n",
    "#Color\n",
    "vehicles['paint_color'].value_counts()\n",
    "vehicles.boxplot(column = 'price', by = 'paint_color', figsize = (9,5))\n",
    "plt.ylim(0, 200000)"
   ]
  },
  {
   "cell_type": "markdown",
   "metadata": {},
   "source": [
    "### Conclusion\n",
    "\n",
    "Vehicles with an age between 0-20 and 40-60 are higher priced.\n",
    "\n",
    "The highest priced vehicles reads between 150000 and 250000 miles on the odometer.\n",
    "\n",
    "Vehicles with excellent condition are the most expensive.\n",
    "\n",
    "The most expensive vehicles have automatic transmission. \n",
    "\n",
    "The color of the vehicle has no effect on the price. Vehicles with a paint color of unknown are just as expensive as other vehicles. Most vehicles sold are between 25000 and 75000 no matter what color they are. Black and grey vehicles have some prices up in the 175000 range but not enough to impact the analysis. "
   ]
  },
  {
   "cell_type": "markdown",
   "metadata": {},
   "source": [
    "## Overall conclusion"
   ]
  },
  {
   "cell_type": "markdown",
   "metadata": {},
   "source": [
    "The most data missing belonged to paint type and odometer. This is probably because it was not included in the ads by the owners and does not affect the data at all. Most vehicles that sold fastest were lower priced and in excellent condition. The ideal time for an ad to be posted on the website is between 15 to 60 days. Overall, the greatest factor on price is transmission type. The most popular vehicles advertised are automatic transmission that are under 20 years old and between 15000 and 25000 miles. "
   ]
  },
  {
   "cell_type": "markdown",
   "metadata": {},
   "source": [
    "# Project completion checklist\n",
    "\n",
    "Mark the completed tasks with 'x'. Then press Shift+Enter."
   ]
  },
  {
   "cell_type": "markdown",
   "metadata": {},
   "source": [
    "- [x]  file opened\n",
    "- [x]  files explored (first rows printed, info() method)\n",
    "- [x]  missing values determined\n",
    "- [x]  missing values filled in\n",
    "- [x]  clarification of the discovered missing values provided\n",
    "- [x]  data types converted\n",
    "- [x]  explanation of which columns had the data types changed and why\n",
    "- [x]  calculated and added to the table: day of the week, month, and year the ad was placed\n",
    "- [x]  calculated and added to the table: the vehicle's age (in years) when the ad was placed\n",
    "- [x]  calculated and added to the table: the vehicle's average mileage per year\n",
    "- [x]  the following parameters investigated: price, vehicle's age when the ad was placed, mileage, number of cylinders, and condition\n",
    "- [x]  histograms for each parameter created\n",
    "- [x]  task completed: \"Determine the upper limits of outliers, remove the outliers and store them in a separate DataFrame, and continue your work with the filtered data.\"\n",
    "- [x]  task completed: \"Use the filtered data to plot new histograms. Compare them with the earlier histograms (the ones that included outliers). Draw conclusions for each histogram.\"\n",
    "- [x]  task completed: \"Study how many days advertisements were displayed (days_listed). Plot a histogram. Calculate the mean and median. Describe the typical lifetime of an ad. Determine when ads were removed quickly, and when they were listed for an abnormally long time.  \"\n",
    "- [x]  task completed: \"Analyze the number of ads and the average price for each type of vehicle. Plot a graph showing the dependence of the number of ads on the vehicle type. Select the two types with the greatest number of ads. \"\n",
    "- [x]  task completed: \"What factors impact the price most? Take each of the popular types you detected at the previous stage and study whether the price depends on age, mileage, condition, transmission type, and color. For categorical variables (transmission type and color), plot box-and-whisker charts, and create scatterplots for the rest. When analyzing categorical variables, note that the categories must have at least 50 ads; otherwise, their parameters won't be valid for analysis.  \"\n",
    "- [x]  each stage has a conclusion\n",
    "- [x]  overall conclusion drawn"
   ]
  }
 ],
 "metadata": {
  "ExecuteTimeLog": [
   {
    "duration": 1080,
    "start_time": "2021-07-06T02:54:43.725Z"
   },
   {
    "duration": 895,
    "start_time": "2021-07-06T02:54:44.808Z"
   },
   {
    "duration": 186,
    "start_time": "2021-07-06T02:54:45.707Z"
   },
   {
    "duration": 747,
    "start_time": "2021-07-06T02:54:45.896Z"
   },
   {
    "duration": 776,
    "start_time": "2021-07-06T02:54:46.645Z"
   },
   {
    "duration": 736,
    "start_time": "2021-07-06T02:54:47.423Z"
   },
   {
    "duration": 756,
    "start_time": "2021-07-06T02:54:48.161Z"
   },
   {
    "duration": 689,
    "start_time": "2021-07-06T02:54:48.920Z"
   },
   {
    "duration": 358,
    "start_time": "2021-07-06T02:54:49.611Z"
   },
   {
    "duration": 333,
    "start_time": "2021-07-06T02:54:49.972Z"
   },
   {
    "duration": 4173,
    "start_time": "2021-07-06T02:54:50.307Z"
   },
   {
    "duration": 1295,
    "start_time": "2021-07-06T04:44:13.340Z"
   },
   {
    "duration": 931,
    "start_time": "2021-07-06T04:44:14.638Z"
   },
   {
    "duration": 194,
    "start_time": "2021-07-06T04:44:15.573Z"
   },
   {
    "duration": 753,
    "start_time": "2021-07-06T04:44:15.771Z"
   },
   {
    "duration": 784,
    "start_time": "2021-07-06T04:44:16.526Z"
   },
   {
    "duration": 739,
    "start_time": "2021-07-06T04:44:17.312Z"
   },
   {
    "duration": 745,
    "start_time": "2021-07-06T04:44:18.053Z"
   },
   {
    "duration": 707,
    "start_time": "2021-07-06T04:44:18.801Z"
   },
   {
    "duration": 341,
    "start_time": "2021-07-06T04:44:19.511Z"
   },
   {
    "duration": 352,
    "start_time": "2021-07-06T04:44:19.855Z"
   },
   {
    "duration": 4165,
    "start_time": "2021-07-06T04:44:20.209Z"
   },
   {
    "duration": 1086,
    "start_time": "2021-07-06T07:39:29.268Z"
   },
   {
    "duration": 900,
    "start_time": "2021-07-06T07:39:30.357Z"
   },
   {
    "duration": 191,
    "start_time": "2021-07-06T07:39:31.260Z"
   },
   {
    "duration": 766,
    "start_time": "2021-07-06T07:39:31.453Z"
   },
   {
    "duration": 793,
    "start_time": "2021-07-06T07:39:32.222Z"
   },
   {
    "duration": 743,
    "start_time": "2021-07-06T07:39:33.017Z"
   },
   {
    "duration": 755,
    "start_time": "2021-07-06T07:39:33.766Z"
   },
   {
    "duration": 708,
    "start_time": "2021-07-06T07:39:34.526Z"
   },
   {
    "duration": 356,
    "start_time": "2021-07-06T07:39:35.236Z"
   },
   {
    "duration": 359,
    "start_time": "2021-07-06T07:39:35.594Z"
   },
   {
    "duration": 4114,
    "start_time": "2021-07-06T07:39:35.955Z"
   },
   {
    "duration": 4,
    "start_time": "2021-07-06T10:09:03.016Z"
   },
   {
    "duration": 4847,
    "start_time": "2021-07-06T10:09:03.304Z"
   },
   {
    "duration": 1110,
    "start_time": "2021-07-08T21:29:03.129Z"
   },
   {
    "duration": 234,
    "start_time": "2021-07-08T21:29:19.355Z"
   },
   {
    "duration": 226,
    "start_time": "2021-07-08T21:29:27.669Z"
   },
   {
    "duration": 235,
    "start_time": "2021-07-08T21:29:42.953Z"
   },
   {
    "duration": 913,
    "start_time": "2021-07-08T21:32:49.227Z"
   },
   {
    "duration": 1024,
    "start_time": "2021-07-08T21:36:21.970Z"
   },
   {
    "duration": 784,
    "start_time": "2021-07-08T21:37:21.461Z"
   },
   {
    "duration": 728,
    "start_time": "2021-07-08T21:37:48.645Z"
   },
   {
    "duration": 921,
    "start_time": "2021-07-08T21:37:59.173Z"
   },
   {
    "duration": 383,
    "start_time": "2021-07-08T21:38:41.684Z"
   },
   {
    "duration": 507,
    "start_time": "2021-07-08T21:39:04.914Z"
   },
   {
    "duration": 396,
    "start_time": "2021-07-08T21:39:20.911Z"
   },
   {
    "duration": 385,
    "start_time": "2021-07-08T21:39:25.937Z"
   },
   {
    "duration": 67,
    "start_time": "2021-07-08T21:39:36.220Z"
   },
   {
    "duration": 793,
    "start_time": "2021-07-08T21:39:56.969Z"
   },
   {
    "duration": 399,
    "start_time": "2021-07-08T21:59:07.063Z"
   },
   {
    "duration": 347,
    "start_time": "2021-07-08T21:59:30.116Z"
   },
   {
    "duration": 5,
    "start_time": "2021-07-08T22:02:39.641Z"
   },
   {
    "duration": 6288,
    "start_time": "2021-07-08T22:02:48.733Z"
   },
   {
    "duration": 809,
    "start_time": "2021-07-08T22:05:53.308Z"
   },
   {
    "duration": 795,
    "start_time": "2021-07-08T22:06:52.726Z"
   },
   {
    "duration": 742,
    "start_time": "2021-07-08T22:07:29.196Z"
   },
   {
    "duration": 7238,
    "start_time": "2021-07-08T22:08:27.888Z"
   },
   {
    "duration": 217,
    "start_time": "2021-07-08T22:08:42.977Z"
   },
   {
    "duration": 1011,
    "start_time": "2021-07-08T22:08:52.653Z"
   },
   {
    "duration": 173,
    "start_time": "2021-07-08T22:09:04.565Z"
   },
   {
    "duration": 68,
    "start_time": "2021-07-08T22:09:10.841Z"
   },
   {
    "duration": 137,
    "start_time": "2021-07-08T22:09:25.314Z"
   },
   {
    "duration": 749,
    "start_time": "2021-07-08T22:09:36.353Z"
   },
   {
    "duration": 826,
    "start_time": "2021-07-08T22:10:18.984Z"
   },
   {
    "duration": 4233,
    "start_time": "2021-07-08T22:11:24.800Z"
   },
   {
    "duration": 1006,
    "start_time": "2021-07-08T22:14:11.523Z"
   },
   {
    "duration": 709,
    "start_time": "2021-07-08T22:14:24.934Z"
   },
   {
    "duration": 730,
    "start_time": "2021-07-08T22:14:53.432Z"
   },
   {
    "duration": 748,
    "start_time": "2021-07-08T22:15:45.931Z"
   },
   {
    "duration": 318,
    "start_time": "2021-07-08T22:16:46.467Z"
   },
   {
    "duration": 85,
    "start_time": "2021-07-08T22:17:14.312Z"
   },
   {
    "duration": 432,
    "start_time": "2021-07-08T22:17:22.073Z"
   },
   {
    "duration": 193,
    "start_time": "2021-07-08T22:38:59.554Z"
   },
   {
    "duration": 229,
    "start_time": "2021-07-08T22:39:28.478Z"
   },
   {
    "duration": 156,
    "start_time": "2021-07-08T22:48:11.053Z"
   },
   {
    "duration": 1689,
    "start_time": "2021-07-09T13:39:32.092Z"
   },
   {
    "duration": 1037,
    "start_time": "2021-07-09T13:39:33.784Z"
   },
   {
    "duration": 55,
    "start_time": "2021-07-09T13:39:34.824Z"
   },
   {
    "duration": 180,
    "start_time": "2021-07-09T13:39:34.901Z"
   },
   {
    "duration": 582,
    "start_time": "2021-07-09T13:39:35.084Z"
   },
   {
    "duration": 545,
    "start_time": "2021-07-09T13:39:35.668Z"
   },
   {
    "duration": 538,
    "start_time": "2021-07-09T13:39:36.215Z"
   },
   {
    "duration": 581,
    "start_time": "2021-07-09T13:39:36.757Z"
   },
   {
    "duration": 514,
    "start_time": "2021-07-09T13:39:37.341Z"
   },
   {
    "duration": 249,
    "start_time": "2021-07-09T13:39:37.857Z"
   },
   {
    "duration": 339,
    "start_time": "2021-07-09T13:39:38.108Z"
   },
   {
    "duration": 4,
    "start_time": "2021-07-09T13:39:38.449Z"
   },
   {
    "duration": 1640,
    "start_time": "2021-07-09T13:39:38.455Z"
   },
   {
    "duration": 983,
    "start_time": "2021-07-09T13:54:53.456Z"
   },
   {
    "duration": 861,
    "start_time": "2021-07-09T13:54:54.442Z"
   },
   {
    "duration": 49,
    "start_time": "2021-07-09T13:54:55.306Z"
   },
   {
    "duration": 196,
    "start_time": "2021-07-09T13:54:55.357Z"
   },
   {
    "duration": 600,
    "start_time": "2021-07-09T13:54:55.556Z"
   },
   {
    "duration": 537,
    "start_time": "2021-07-09T13:54:56.158Z"
   },
   {
    "duration": 566,
    "start_time": "2021-07-09T13:54:56.701Z"
   },
   {
    "duration": 569,
    "start_time": "2021-07-09T13:54:57.272Z"
   },
   {
    "duration": 505,
    "start_time": "2021-07-09T13:54:57.845Z"
   },
   {
    "duration": 247,
    "start_time": "2021-07-09T13:54:58.353Z"
   },
   {
    "duration": 351,
    "start_time": "2021-07-09T13:54:58.603Z"
   },
   {
    "duration": 4,
    "start_time": "2021-07-09T13:54:58.956Z"
   },
   {
    "duration": 1674,
    "start_time": "2021-07-09T13:54:58.963Z"
   },
   {
    "duration": 1757,
    "start_time": "2021-07-09T20:33:29.338Z"
   },
   {
    "duration": 851,
    "start_time": "2021-07-09T20:33:31.101Z"
   },
   {
    "duration": 67,
    "start_time": "2021-07-09T20:33:31.955Z"
   },
   {
    "duration": 182,
    "start_time": "2021-07-09T20:33:32.025Z"
   },
   {
    "duration": 756,
    "start_time": "2021-07-09T20:33:32.209Z"
   },
   {
    "duration": 770,
    "start_time": "2021-07-09T20:33:32.967Z"
   },
   {
    "duration": 730,
    "start_time": "2021-07-09T20:33:33.739Z"
   },
   {
    "duration": 717,
    "start_time": "2021-07-09T20:33:34.473Z"
   },
   {
    "duration": 692,
    "start_time": "2021-07-09T20:33:35.200Z"
   },
   {
    "duration": 350,
    "start_time": "2021-07-09T20:33:35.895Z"
   },
   {
    "duration": 366,
    "start_time": "2021-07-09T20:33:36.248Z"
   },
   {
    "duration": 5,
    "start_time": "2021-07-09T20:33:36.617Z"
   },
   {
    "duration": 3989,
    "start_time": "2021-07-09T20:33:36.625Z"
   }
  ],
  "kernelspec": {
   "display_name": "Python 3 (ipykernel)",
   "language": "python",
   "name": "python3"
  },
  "language_info": {
   "codemirror_mode": {
    "name": "ipython",
    "version": 3
   },
   "file_extension": ".py",
   "mimetype": "text/x-python",
   "name": "python",
   "nbconvert_exporter": "python",
   "pygments_lexer": "ipython3",
   "version": "3.9.7"
  },
  "toc": {
   "base_numbering": 1,
   "nav_menu": {},
   "number_sections": true,
   "sideBar": true,
   "skip_h1_title": true,
   "title_cell": "Table of Contents",
   "title_sidebar": "Contents",
   "toc_cell": false,
   "toc_position": {},
   "toc_section_display": true,
   "toc_window_display": false
  }
 },
 "nbformat": 4,
 "nbformat_minor": 2
}
