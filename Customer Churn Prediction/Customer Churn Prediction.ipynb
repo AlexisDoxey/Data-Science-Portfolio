{
 "cells": [
  {
   "cell_type": "markdown",
   "metadata": {},
   "source": [
    "# Machine Learning for Customer Churn Prediction"
   ]
  },
  {
   "cell_type": "markdown",
   "metadata": {},
   "source": [
    "Project Description:\n",
    "Beta Bank customers are leaving: little by little, chipping away every month. The bankers figured out it’s cheaper to save the existing customers rather than to attract new ones.\n",
    "We need to predict whether a customer will leave the bank soon. You have the data on clients’ past behavior and termination of contracts with the bank.\n",
    "Build a model with the maximum possible F1 score. To pass the project, you need an F1 score of at least 0.59. Check the F1 for the test set.\n",
    "Additionally, measure the AUC-ROC metric and compare it with the F1.\n",
    "\n",
    "Data Description:\n",
    "The data can be found in /datasets/Churn.csv file. Download the dataset.\n",
    "\n",
    "Features:\n",
    "RowNumber — data string index\n",
    "CustomerId — unique customer identifier\n",
    "Surname — surname\n",
    "CreditScore — credit score\n",
    "Geography — country of residence\n",
    "Gender — gender\n",
    "Age — age\n",
    "Tenure — period of maturation for a customer’s fixed deposit (years)\n",
    "Balance — account balance\n",
    "NumOfProducts — number of banking products used by the customer\n",
    "HasCrCard — customer has a credit card\n",
    "IsActiveMember — customer’s activeness\n",
    "EstimatedSalary — estimated salary\n",
    "\n",
    "Target:\n",
    "Exited — сustomer has left"
   ]
  },
  {
   "cell_type": "markdown",
   "metadata": {},
   "source": [
    "## Download and Prepare the Data"
   ]
  },
  {
   "cell_type": "code",
   "execution_count": 1,
   "metadata": {},
   "outputs": [],
   "source": [
    "import pandas as pd\n",
    "import numpy as np\n",
    "import matplotlib.pyplot as plt\n",
    "import seaborn as sns\n",
    "from sklearn.preprocessing import OrdinalEncoder\n",
    "from sklearn.preprocessing import StandardScaler\n",
    "from sklearn.model_selection import train_test_split\n",
    "from sklearn.tree import DecisionTreeClassifier\n",
    "from sklearn.ensemble import RandomForestClassifier\n",
    "from sklearn.linear_model import LogisticRegression\n",
    "from sklearn.utils import shuffle\n",
    "from sklearn.metrics import accuracy_score\n",
    "from sklearn.metrics import f1_score\n",
    "from sklearn.metrics import roc_auc_score\n",
    "from sklearn.metrics import roc_curve\n",
    "from sklearn.metrics import confusion_matrix\n",
    "import itertools\n",
    "import warnings\n",
    "warnings.filterwarnings('ignore')"
   ]
  },
  {
   "cell_type": "code",
   "execution_count": 2,
   "metadata": {},
   "outputs": [
    {
     "data": {
      "text/html": [
       "<div>\n",
       "<style scoped>\n",
       "    .dataframe tbody tr th:only-of-type {\n",
       "        vertical-align: middle;\n",
       "    }\n",
       "\n",
       "    .dataframe tbody tr th {\n",
       "        vertical-align: top;\n",
       "    }\n",
       "\n",
       "    .dataframe thead th {\n",
       "        text-align: right;\n",
       "    }\n",
       "</style>\n",
       "<table border=\"1\" class=\"dataframe\">\n",
       "  <thead>\n",
       "    <tr style=\"text-align: right;\">\n",
       "      <th></th>\n",
       "      <th>RowNumber</th>\n",
       "      <th>CustomerId</th>\n",
       "      <th>Surname</th>\n",
       "      <th>CreditScore</th>\n",
       "      <th>Geography</th>\n",
       "      <th>Gender</th>\n",
       "      <th>Age</th>\n",
       "      <th>Tenure</th>\n",
       "      <th>Balance</th>\n",
       "      <th>NumOfProducts</th>\n",
       "      <th>HasCrCard</th>\n",
       "      <th>IsActiveMember</th>\n",
       "      <th>EstimatedSalary</th>\n",
       "      <th>Exited</th>\n",
       "    </tr>\n",
       "  </thead>\n",
       "  <tbody>\n",
       "    <tr>\n",
       "      <td>0</td>\n",
       "      <td>1</td>\n",
       "      <td>15634602</td>\n",
       "      <td>Hargrave</td>\n",
       "      <td>619</td>\n",
       "      <td>France</td>\n",
       "      <td>Female</td>\n",
       "      <td>42</td>\n",
       "      <td>2.0</td>\n",
       "      <td>0.00</td>\n",
       "      <td>1</td>\n",
       "      <td>1</td>\n",
       "      <td>1</td>\n",
       "      <td>101348.88</td>\n",
       "      <td>1</td>\n",
       "    </tr>\n",
       "    <tr>\n",
       "      <td>1</td>\n",
       "      <td>2</td>\n",
       "      <td>15647311</td>\n",
       "      <td>Hill</td>\n",
       "      <td>608</td>\n",
       "      <td>Spain</td>\n",
       "      <td>Female</td>\n",
       "      <td>41</td>\n",
       "      <td>1.0</td>\n",
       "      <td>83807.86</td>\n",
       "      <td>1</td>\n",
       "      <td>0</td>\n",
       "      <td>1</td>\n",
       "      <td>112542.58</td>\n",
       "      <td>0</td>\n",
       "    </tr>\n",
       "    <tr>\n",
       "      <td>2</td>\n",
       "      <td>3</td>\n",
       "      <td>15619304</td>\n",
       "      <td>Onio</td>\n",
       "      <td>502</td>\n",
       "      <td>France</td>\n",
       "      <td>Female</td>\n",
       "      <td>42</td>\n",
       "      <td>8.0</td>\n",
       "      <td>159660.80</td>\n",
       "      <td>3</td>\n",
       "      <td>1</td>\n",
       "      <td>0</td>\n",
       "      <td>113931.57</td>\n",
       "      <td>1</td>\n",
       "    </tr>\n",
       "    <tr>\n",
       "      <td>3</td>\n",
       "      <td>4</td>\n",
       "      <td>15701354</td>\n",
       "      <td>Boni</td>\n",
       "      <td>699</td>\n",
       "      <td>France</td>\n",
       "      <td>Female</td>\n",
       "      <td>39</td>\n",
       "      <td>1.0</td>\n",
       "      <td>0.00</td>\n",
       "      <td>2</td>\n",
       "      <td>0</td>\n",
       "      <td>0</td>\n",
       "      <td>93826.63</td>\n",
       "      <td>0</td>\n",
       "    </tr>\n",
       "    <tr>\n",
       "      <td>4</td>\n",
       "      <td>5</td>\n",
       "      <td>15737888</td>\n",
       "      <td>Mitchell</td>\n",
       "      <td>850</td>\n",
       "      <td>Spain</td>\n",
       "      <td>Female</td>\n",
       "      <td>43</td>\n",
       "      <td>2.0</td>\n",
       "      <td>125510.82</td>\n",
       "      <td>1</td>\n",
       "      <td>1</td>\n",
       "      <td>1</td>\n",
       "      <td>79084.10</td>\n",
       "      <td>0</td>\n",
       "    </tr>\n",
       "  </tbody>\n",
       "</table>\n",
       "</div>"
      ],
      "text/plain": [
       "   RowNumber  CustomerId   Surname  CreditScore Geography  Gender  Age  \\\n",
       "0          1    15634602  Hargrave          619    France  Female   42   \n",
       "1          2    15647311      Hill          608     Spain  Female   41   \n",
       "2          3    15619304      Onio          502    France  Female   42   \n",
       "3          4    15701354      Boni          699    France  Female   39   \n",
       "4          5    15737888  Mitchell          850     Spain  Female   43   \n",
       "\n",
       "   Tenure    Balance  NumOfProducts  HasCrCard  IsActiveMember  \\\n",
       "0     2.0       0.00              1          1               1   \n",
       "1     1.0   83807.86              1          0               1   \n",
       "2     8.0  159660.80              3          1               0   \n",
       "3     1.0       0.00              2          0               0   \n",
       "4     2.0  125510.82              1          1               1   \n",
       "\n",
       "   EstimatedSalary  Exited  \n",
       "0        101348.88       1  \n",
       "1        112542.58       0  \n",
       "2        113931.57       1  \n",
       "3         93826.63       0  \n",
       "4         79084.10       0  "
      ]
     },
     "metadata": {},
     "output_type": "display_data"
    },
    {
     "name": "stdout",
     "output_type": "stream",
     "text": [
      "<class 'pandas.core.frame.DataFrame'>\n",
      "RangeIndex: 10000 entries, 0 to 9999\n",
      "Data columns (total 14 columns):\n",
      "RowNumber          10000 non-null int64\n",
      "CustomerId         10000 non-null int64\n",
      "Surname            10000 non-null object\n",
      "CreditScore        10000 non-null int64\n",
      "Geography          10000 non-null object\n",
      "Gender             10000 non-null object\n",
      "Age                10000 non-null int64\n",
      "Tenure             9091 non-null float64\n",
      "Balance            10000 non-null float64\n",
      "NumOfProducts      10000 non-null int64\n",
      "HasCrCard          10000 non-null int64\n",
      "IsActiveMember     10000 non-null int64\n",
      "EstimatedSalary    10000 non-null float64\n",
      "Exited             10000 non-null int64\n",
      "dtypes: float64(3), int64(8), object(3)\n",
      "memory usage: 1.1+ MB\n"
     ]
    },
    {
     "data": {
      "text/plain": [
       "None"
      ]
     },
     "metadata": {},
     "output_type": "display_data"
    }
   ],
   "source": [
    "df = pd.read_csv('/datasets/Churn.csv')\n",
    "\n",
    "display(df.head())\n",
    "display(df.info())"
   ]
  },
  {
   "cell_type": "markdown",
   "metadata": {},
   "source": [
    "### Prepare Data for Model"
   ]
  },
  {
   "cell_type": "code",
   "execution_count": 3,
   "metadata": {},
   "outputs": [
    {
     "data": {
      "text/html": [
       "<div>\n",
       "<style scoped>\n",
       "    .dataframe tbody tr th:only-of-type {\n",
       "        vertical-align: middle;\n",
       "    }\n",
       "\n",
       "    .dataframe tbody tr th {\n",
       "        vertical-align: top;\n",
       "    }\n",
       "\n",
       "    .dataframe thead th {\n",
       "        text-align: right;\n",
       "    }\n",
       "</style>\n",
       "<table border=\"1\" class=\"dataframe\">\n",
       "  <thead>\n",
       "    <tr style=\"text-align: right;\">\n",
       "      <th></th>\n",
       "      <th>CreditScore</th>\n",
       "      <th>Geography</th>\n",
       "      <th>Gender</th>\n",
       "      <th>Age</th>\n",
       "      <th>Tenure</th>\n",
       "      <th>Balance</th>\n",
       "      <th>NumOfProducts</th>\n",
       "      <th>HasCrCard</th>\n",
       "      <th>IsActiveMember</th>\n",
       "      <th>EstimatedSalary</th>\n",
       "      <th>Exited</th>\n",
       "    </tr>\n",
       "  </thead>\n",
       "  <tbody>\n",
       "    <tr>\n",
       "      <td>0</td>\n",
       "      <td>619</td>\n",
       "      <td>France</td>\n",
       "      <td>Female</td>\n",
       "      <td>42</td>\n",
       "      <td>2.0</td>\n",
       "      <td>0.00</td>\n",
       "      <td>1</td>\n",
       "      <td>1</td>\n",
       "      <td>1</td>\n",
       "      <td>101348.88</td>\n",
       "      <td>1</td>\n",
       "    </tr>\n",
       "    <tr>\n",
       "      <td>1</td>\n",
       "      <td>608</td>\n",
       "      <td>Spain</td>\n",
       "      <td>Female</td>\n",
       "      <td>41</td>\n",
       "      <td>1.0</td>\n",
       "      <td>83807.86</td>\n",
       "      <td>1</td>\n",
       "      <td>0</td>\n",
       "      <td>1</td>\n",
       "      <td>112542.58</td>\n",
       "      <td>0</td>\n",
       "    </tr>\n",
       "    <tr>\n",
       "      <td>2</td>\n",
       "      <td>502</td>\n",
       "      <td>France</td>\n",
       "      <td>Female</td>\n",
       "      <td>42</td>\n",
       "      <td>8.0</td>\n",
       "      <td>159660.80</td>\n",
       "      <td>3</td>\n",
       "      <td>1</td>\n",
       "      <td>0</td>\n",
       "      <td>113931.57</td>\n",
       "      <td>1</td>\n",
       "    </tr>\n",
       "    <tr>\n",
       "      <td>3</td>\n",
       "      <td>699</td>\n",
       "      <td>France</td>\n",
       "      <td>Female</td>\n",
       "      <td>39</td>\n",
       "      <td>1.0</td>\n",
       "      <td>0.00</td>\n",
       "      <td>2</td>\n",
       "      <td>0</td>\n",
       "      <td>0</td>\n",
       "      <td>93826.63</td>\n",
       "      <td>0</td>\n",
       "    </tr>\n",
       "    <tr>\n",
       "      <td>4</td>\n",
       "      <td>850</td>\n",
       "      <td>Spain</td>\n",
       "      <td>Female</td>\n",
       "      <td>43</td>\n",
       "      <td>2.0</td>\n",
       "      <td>125510.82</td>\n",
       "      <td>1</td>\n",
       "      <td>1</td>\n",
       "      <td>1</td>\n",
       "      <td>79084.10</td>\n",
       "      <td>0</td>\n",
       "    </tr>\n",
       "  </tbody>\n",
       "</table>\n",
       "</div>"
      ],
      "text/plain": [
       "   CreditScore Geography  Gender  Age  Tenure    Balance  NumOfProducts  \\\n",
       "0          619    France  Female   42     2.0       0.00              1   \n",
       "1          608     Spain  Female   41     1.0   83807.86              1   \n",
       "2          502    France  Female   42     8.0  159660.80              3   \n",
       "3          699    France  Female   39     1.0       0.00              2   \n",
       "4          850     Spain  Female   43     2.0  125510.82              1   \n",
       "\n",
       "   HasCrCard  IsActiveMember  EstimatedSalary  Exited  \n",
       "0          1               1        101348.88       1  \n",
       "1          0               1        112542.58       0  \n",
       "2          1               0        113931.57       1  \n",
       "3          0               0         93826.63       0  \n",
       "4          1               1         79084.10       0  "
      ]
     },
     "execution_count": 3,
     "metadata": {},
     "output_type": "execute_result"
    }
   ],
   "source": [
    "#Drop Columns that do not affect the model\n",
    "df.drop(['RowNumber', 'CustomerId', 'Surname'], axis = 1, inplace=True)\n",
    "\n",
    "df.head()"
   ]
  },
  {
   "cell_type": "code",
   "execution_count": 4,
   "metadata": {},
   "outputs": [
    {
     "data": {
      "text/plain": [
       "0"
      ]
     },
     "execution_count": 4,
     "metadata": {},
     "output_type": "execute_result"
    }
   ],
   "source": [
    "#Check for duplicates\n",
    "df.duplicated().sum()\n"
   ]
  },
  {
   "cell_type": "code",
   "execution_count": 5,
   "metadata": {},
   "outputs": [
    {
     "data": {
      "text/plain": [
       "CreditScore          0\n",
       "Geography            0\n",
       "Gender               0\n",
       "Age                  0\n",
       "Tenure             909\n",
       "Balance              0\n",
       "NumOfProducts        0\n",
       "HasCrCard            0\n",
       "IsActiveMember       0\n",
       "EstimatedSalary      0\n",
       "Exited               0\n",
       "dtype: int64"
      ]
     },
     "execution_count": 5,
     "metadata": {},
     "output_type": "execute_result"
    }
   ],
   "source": [
    "#Check for missing values\n",
    "df.isnull().sum()"
   ]
  },
  {
   "cell_type": "code",
   "execution_count": 6,
   "metadata": {},
   "outputs": [
    {
     "data": {
      "text/plain": [
       "array([ 2.,  1.,  8.,  7.,  4.,  6.,  3., 10.,  5.,  9.,  0., nan])"
      ]
     },
     "metadata": {},
     "output_type": "display_data"
    },
    {
     "data": {
      "text/plain": [
       "CreditScore        0\n",
       "Geography          0\n",
       "Gender             0\n",
       "Age                0\n",
       "Tenure             0\n",
       "Balance            0\n",
       "NumOfProducts      0\n",
       "HasCrCard          0\n",
       "IsActiveMember     0\n",
       "EstimatedSalary    0\n",
       "Exited             0\n",
       "dtype: int64"
      ]
     },
     "execution_count": 6,
     "metadata": {},
     "output_type": "execute_result"
    }
   ],
   "source": [
    "display(df['Tenure'].unique())\n",
    "\n",
    "#Replace missing values with -1\n",
    "df['Tenure'] = df['Tenure'].fillna(-1)\n",
    "\n",
    "df.isnull().sum()"
   ]
  },
  {
   "cell_type": "code",
   "execution_count": 7,
   "metadata": {},
   "outputs": [
    {
     "data": {
      "text/html": [
       "<div>\n",
       "<style scoped>\n",
       "    .dataframe tbody tr th:only-of-type {\n",
       "        vertical-align: middle;\n",
       "    }\n",
       "\n",
       "    .dataframe tbody tr th {\n",
       "        vertical-align: top;\n",
       "    }\n",
       "\n",
       "    .dataframe thead th {\n",
       "        text-align: right;\n",
       "    }\n",
       "</style>\n",
       "<table border=\"1\" class=\"dataframe\">\n",
       "  <thead>\n",
       "    <tr style=\"text-align: right;\">\n",
       "      <th></th>\n",
       "      <th>CreditScore</th>\n",
       "      <th>Geography</th>\n",
       "      <th>Gender</th>\n",
       "      <th>Age</th>\n",
       "      <th>Tenure</th>\n",
       "      <th>Balance</th>\n",
       "      <th>NumOfProducts</th>\n",
       "      <th>HasCrCard</th>\n",
       "      <th>IsActiveMember</th>\n",
       "      <th>EstimatedSalary</th>\n",
       "      <th>Exited</th>\n",
       "    </tr>\n",
       "  </thead>\n",
       "  <tbody>\n",
       "    <tr>\n",
       "      <td>0</td>\n",
       "      <td>228.0</td>\n",
       "      <td>0.0</td>\n",
       "      <td>0.0</td>\n",
       "      <td>24.0</td>\n",
       "      <td>3.0</td>\n",
       "      <td>0.0</td>\n",
       "      <td>0.0</td>\n",
       "      <td>1.0</td>\n",
       "      <td>1.0</td>\n",
       "      <td>5068.0</td>\n",
       "      <td>1.0</td>\n",
       "    </tr>\n",
       "    <tr>\n",
       "      <td>1</td>\n",
       "      <td>217.0</td>\n",
       "      <td>2.0</td>\n",
       "      <td>0.0</td>\n",
       "      <td>23.0</td>\n",
       "      <td>2.0</td>\n",
       "      <td>743.0</td>\n",
       "      <td>0.0</td>\n",
       "      <td>0.0</td>\n",
       "      <td>1.0</td>\n",
       "      <td>5639.0</td>\n",
       "      <td>0.0</td>\n",
       "    </tr>\n",
       "    <tr>\n",
       "      <td>2</td>\n",
       "      <td>111.0</td>\n",
       "      <td>0.0</td>\n",
       "      <td>0.0</td>\n",
       "      <td>24.0</td>\n",
       "      <td>9.0</td>\n",
       "      <td>5793.0</td>\n",
       "      <td>2.0</td>\n",
       "      <td>1.0</td>\n",
       "      <td>0.0</td>\n",
       "      <td>5707.0</td>\n",
       "      <td>1.0</td>\n",
       "    </tr>\n",
       "    <tr>\n",
       "      <td>3</td>\n",
       "      <td>308.0</td>\n",
       "      <td>0.0</td>\n",
       "      <td>0.0</td>\n",
       "      <td>21.0</td>\n",
       "      <td>2.0</td>\n",
       "      <td>0.0</td>\n",
       "      <td>1.0</td>\n",
       "      <td>0.0</td>\n",
       "      <td>0.0</td>\n",
       "      <td>4704.0</td>\n",
       "      <td>0.0</td>\n",
       "    </tr>\n",
       "    <tr>\n",
       "      <td>4</td>\n",
       "      <td>459.0</td>\n",
       "      <td>2.0</td>\n",
       "      <td>0.0</td>\n",
       "      <td>25.0</td>\n",
       "      <td>3.0</td>\n",
       "      <td>3696.0</td>\n",
       "      <td>0.0</td>\n",
       "      <td>1.0</td>\n",
       "      <td>1.0</td>\n",
       "      <td>3925.0</td>\n",
       "      <td>0.0</td>\n",
       "    </tr>\n",
       "  </tbody>\n",
       "</table>\n",
       "</div>"
      ],
      "text/plain": [
       "   CreditScore  Geography  Gender   Age  Tenure  Balance  NumOfProducts  \\\n",
       "0        228.0        0.0     0.0  24.0     3.0      0.0            0.0   \n",
       "1        217.0        2.0     0.0  23.0     2.0    743.0            0.0   \n",
       "2        111.0        0.0     0.0  24.0     9.0   5793.0            2.0   \n",
       "3        308.0        0.0     0.0  21.0     2.0      0.0            1.0   \n",
       "4        459.0        2.0     0.0  25.0     3.0   3696.0            0.0   \n",
       "\n",
       "   HasCrCard  IsActiveMember  EstimatedSalary  Exited  \n",
       "0        1.0             1.0           5068.0     1.0  \n",
       "1        0.0             1.0           5639.0     0.0  \n",
       "2        1.0             0.0           5707.0     1.0  \n",
       "3        0.0             0.0           4704.0     0.0  \n",
       "4        1.0             1.0           3925.0     0.0  "
      ]
     },
     "metadata": {},
     "output_type": "display_data"
    },
    {
     "name": "stdout",
     "output_type": "stream",
     "text": [
      "<class 'pandas.core.frame.DataFrame'>\n",
      "RangeIndex: 10000 entries, 0 to 9999\n",
      "Data columns (total 11 columns):\n",
      "CreditScore        10000 non-null float64\n",
      "Geography          10000 non-null float64\n",
      "Gender             10000 non-null float64\n",
      "Age                10000 non-null float64\n",
      "Tenure             10000 non-null float64\n",
      "Balance            10000 non-null float64\n",
      "NumOfProducts      10000 non-null float64\n",
      "HasCrCard          10000 non-null float64\n",
      "IsActiveMember     10000 non-null float64\n",
      "EstimatedSalary    10000 non-null float64\n",
      "Exited             10000 non-null float64\n",
      "dtypes: float64(11)\n",
      "memory usage: 859.5 KB\n"
     ]
    }
   ],
   "source": [
    "#Tranform categorical features into numerical\n",
    "encoder = OrdinalEncoder()\n",
    "df_ordinal = pd.DataFrame(encoder.fit_transform(df), columns=df.columns)\n",
    "\n",
    "display(df_ordinal.head())\n",
    "df_ordinal.info()"
   ]
  },
  {
   "cell_type": "code",
   "execution_count": 8,
   "metadata": {},
   "outputs": [],
   "source": [
    "#Label target and features for model\n",
    "target = df_ordinal['Exited']\n",
    "features = df_ordinal.drop('Exited', axis=1)"
   ]
  },
  {
   "cell_type": "code",
   "execution_count": 9,
   "metadata": {},
   "outputs": [
    {
     "data": {
      "text/plain": [
       "6000"
      ]
     },
     "metadata": {},
     "output_type": "display_data"
    },
    {
     "data": {
      "text/plain": [
       "2000"
      ]
     },
     "metadata": {},
     "output_type": "display_data"
    },
    {
     "data": {
      "text/plain": [
       "2000"
      ]
     },
     "metadata": {},
     "output_type": "display_data"
    }
   ],
   "source": [
    "#Split data\n",
    "features_train_valid, features_test, target_train_valid, target_test = train_test_split(\n",
    "        features, target, test_size=0.2, random_state=123)\n",
    "features_train, features_valid, target_train, target_valid = train_test_split(\n",
    "        features_train_valid, target_train_valid, test_size=0.25, random_state=123)\n",
    "\n",
    "#Check if data is split correct\n",
    "display(len(features_train))\n",
    "display(len(features_test))\n",
    "display(len(features_valid))"
   ]
  },
  {
   "cell_type": "code",
   "execution_count": 10,
   "metadata": {},
   "outputs": [
    {
     "data": {
      "text/html": [
       "<div>\n",
       "<style scoped>\n",
       "    .dataframe tbody tr th:only-of-type {\n",
       "        vertical-align: middle;\n",
       "    }\n",
       "\n",
       "    .dataframe tbody tr th {\n",
       "        vertical-align: top;\n",
       "    }\n",
       "\n",
       "    .dataframe thead th {\n",
       "        text-align: right;\n",
       "    }\n",
       "</style>\n",
       "<table border=\"1\" class=\"dataframe\">\n",
       "  <thead>\n",
       "    <tr style=\"text-align: right;\">\n",
       "      <th></th>\n",
       "      <th>CreditScore</th>\n",
       "      <th>Geography</th>\n",
       "      <th>Gender</th>\n",
       "      <th>Age</th>\n",
       "      <th>Tenure</th>\n",
       "      <th>Balance</th>\n",
       "      <th>NumOfProducts</th>\n",
       "      <th>HasCrCard</th>\n",
       "      <th>IsActiveMember</th>\n",
       "      <th>EstimatedSalary</th>\n",
       "    </tr>\n",
       "  </thead>\n",
       "  <tbody>\n",
       "    <tr>\n",
       "      <td>8189</td>\n",
       "      <td>0.652823</td>\n",
       "      <td>0.0</td>\n",
       "      <td>1.0</td>\n",
       "      <td>-1.700024</td>\n",
       "      <td>9.0</td>\n",
       "      <td>-0.950460</td>\n",
       "      <td>1.0</td>\n",
       "      <td>1.0</td>\n",
       "      <td>0.0</td>\n",
       "      <td>-0.539820</td>\n",
       "    </tr>\n",
       "    <tr>\n",
       "      <td>8845</td>\n",
       "      <td>0.797391</td>\n",
       "      <td>1.0</td>\n",
       "      <td>0.0</td>\n",
       "      <td>0.002775</td>\n",
       "      <td>2.0</td>\n",
       "      <td>1.025270</td>\n",
       "      <td>0.0</td>\n",
       "      <td>1.0</td>\n",
       "      <td>1.0</td>\n",
       "      <td>1.629777</td>\n",
       "    </tr>\n",
       "    <tr>\n",
       "      <td>1165</td>\n",
       "      <td>0.621844</td>\n",
       "      <td>1.0</td>\n",
       "      <td>0.0</td>\n",
       "      <td>0.948774</td>\n",
       "      <td>6.0</td>\n",
       "      <td>1.692765</td>\n",
       "      <td>1.0</td>\n",
       "      <td>0.0</td>\n",
       "      <td>0.0</td>\n",
       "      <td>1.670968</td>\n",
       "    </tr>\n",
       "    <tr>\n",
       "      <td>1742</td>\n",
       "      <td>-0.699922</td>\n",
       "      <td>1.0</td>\n",
       "      <td>0.0</td>\n",
       "      <td>1.421774</td>\n",
       "      <td>2.0</td>\n",
       "      <td>-0.720451</td>\n",
       "      <td>0.0</td>\n",
       "      <td>0.0</td>\n",
       "      <td>0.0</td>\n",
       "      <td>0.681011</td>\n",
       "    </tr>\n",
       "    <tr>\n",
       "      <td>1139</td>\n",
       "      <td>0.776739</td>\n",
       "      <td>2.0</td>\n",
       "      <td>0.0</td>\n",
       "      <td>1.705574</td>\n",
       "      <td>2.0</td>\n",
       "      <td>0.148889</td>\n",
       "      <td>0.0</td>\n",
       "      <td>0.0</td>\n",
       "      <td>1.0</td>\n",
       "      <td>-1.704923</td>\n",
       "    </tr>\n",
       "  </tbody>\n",
       "</table>\n",
       "</div>"
      ],
      "text/plain": [
       "      CreditScore  Geography  Gender       Age  Tenure   Balance  \\\n",
       "8189     0.652823        0.0     1.0 -1.700024     9.0 -0.950460   \n",
       "8845     0.797391        1.0     0.0  0.002775     2.0  1.025270   \n",
       "1165     0.621844        1.0     0.0  0.948774     6.0  1.692765   \n",
       "1742    -0.699922        1.0     0.0  1.421774     2.0 -0.720451   \n",
       "1139     0.776739        2.0     0.0  1.705574     2.0  0.148889   \n",
       "\n",
       "      NumOfProducts  HasCrCard  IsActiveMember  EstimatedSalary  \n",
       "8189            1.0        1.0             0.0        -0.539820  \n",
       "8845            0.0        1.0             1.0         1.629777  \n",
       "1165            1.0        0.0             0.0         1.670968  \n",
       "1742            0.0        0.0             0.0         0.681011  \n",
       "1139            0.0        0.0             1.0        -1.704923  "
      ]
     },
     "metadata": {},
     "output_type": "display_data"
    },
    {
     "data": {
      "text/html": [
       "<div>\n",
       "<style scoped>\n",
       "    .dataframe tbody tr th:only-of-type {\n",
       "        vertical-align: middle;\n",
       "    }\n",
       "\n",
       "    .dataframe tbody tr th {\n",
       "        vertical-align: top;\n",
       "    }\n",
       "\n",
       "    .dataframe thead th {\n",
       "        text-align: right;\n",
       "    }\n",
       "</style>\n",
       "<table border=\"1\" class=\"dataframe\">\n",
       "  <thead>\n",
       "    <tr style=\"text-align: right;\">\n",
       "      <th></th>\n",
       "      <th>CreditScore</th>\n",
       "      <th>Geography</th>\n",
       "      <th>Gender</th>\n",
       "      <th>Age</th>\n",
       "      <th>Tenure</th>\n",
       "      <th>Balance</th>\n",
       "      <th>NumOfProducts</th>\n",
       "      <th>HasCrCard</th>\n",
       "      <th>IsActiveMember</th>\n",
       "      <th>EstimatedSalary</th>\n",
       "    </tr>\n",
       "  </thead>\n",
       "  <tbody>\n",
       "    <tr>\n",
       "      <td>1361</td>\n",
       "      <td>-0.761879</td>\n",
       "      <td>0.0</td>\n",
       "      <td>1.0</td>\n",
       "      <td>-0.659425</td>\n",
       "      <td>5.0</td>\n",
       "      <td>-0.950460</td>\n",
       "      <td>1.0</td>\n",
       "      <td>1.0</td>\n",
       "      <td>1.0</td>\n",
       "      <td>0.743316</td>\n",
       "    </tr>\n",
       "    <tr>\n",
       "      <td>2739</td>\n",
       "      <td>-0.276543</td>\n",
       "      <td>0.0</td>\n",
       "      <td>1.0</td>\n",
       "      <td>0.570375</td>\n",
       "      <td>8.0</td>\n",
       "      <td>1.228992</td>\n",
       "      <td>0.0</td>\n",
       "      <td>0.0</td>\n",
       "      <td>0.0</td>\n",
       "      <td>0.443560</td>\n",
       "    </tr>\n",
       "    <tr>\n",
       "      <td>1963</td>\n",
       "      <td>-0.761879</td>\n",
       "      <td>1.0</td>\n",
       "      <td>1.0</td>\n",
       "      <td>-0.470225</td>\n",
       "      <td>0.0</td>\n",
       "      <td>1.526596</td>\n",
       "      <td>1.0</td>\n",
       "      <td>1.0</td>\n",
       "      <td>0.0</td>\n",
       "      <td>-0.572703</td>\n",
       "    </tr>\n",
       "    <tr>\n",
       "      <td>9799</td>\n",
       "      <td>0.012593</td>\n",
       "      <td>0.0</td>\n",
       "      <td>1.0</td>\n",
       "      <td>0.664975</td>\n",
       "      <td>1.0</td>\n",
       "      <td>0.533802</td>\n",
       "      <td>0.0</td>\n",
       "      <td>1.0</td>\n",
       "      <td>0.0</td>\n",
       "      <td>-0.376789</td>\n",
       "    </tr>\n",
       "    <tr>\n",
       "      <td>1023</td>\n",
       "      <td>-0.100996</td>\n",
       "      <td>0.0</td>\n",
       "      <td>1.0</td>\n",
       "      <td>-0.659425</td>\n",
       "      <td>4.0</td>\n",
       "      <td>-0.950460</td>\n",
       "      <td>1.0</td>\n",
       "      <td>1.0</td>\n",
       "      <td>1.0</td>\n",
       "      <td>-0.188836</td>\n",
       "    </tr>\n",
       "  </tbody>\n",
       "</table>\n",
       "</div>"
      ],
      "text/plain": [
       "      CreditScore  Geography  Gender       Age  Tenure   Balance  \\\n",
       "1361    -0.761879        0.0     1.0 -0.659425     5.0 -0.950460   \n",
       "2739    -0.276543        0.0     1.0  0.570375     8.0  1.228992   \n",
       "1963    -0.761879        1.0     1.0 -0.470225     0.0  1.526596   \n",
       "9799     0.012593        0.0     1.0  0.664975     1.0  0.533802   \n",
       "1023    -0.100996        0.0     1.0 -0.659425     4.0 -0.950460   \n",
       "\n",
       "      NumOfProducts  HasCrCard  IsActiveMember  EstimatedSalary  \n",
       "1361            1.0        1.0             1.0         0.743316  \n",
       "2739            0.0        0.0             0.0         0.443560  \n",
       "1963            1.0        1.0             0.0        -0.572703  \n",
       "9799            0.0        1.0             0.0        -0.376789  \n",
       "1023            1.0        1.0             1.0        -0.188836  "
      ]
     },
     "metadata": {},
     "output_type": "display_data"
    },
    {
     "data": {
      "text/html": [
       "<div>\n",
       "<style scoped>\n",
       "    .dataframe tbody tr th:only-of-type {\n",
       "        vertical-align: middle;\n",
       "    }\n",
       "\n",
       "    .dataframe tbody tr th {\n",
       "        vertical-align: top;\n",
       "    }\n",
       "\n",
       "    .dataframe thead th {\n",
       "        text-align: right;\n",
       "    }\n",
       "</style>\n",
       "<table border=\"1\" class=\"dataframe\">\n",
       "  <thead>\n",
       "    <tr style=\"text-align: right;\">\n",
       "      <th></th>\n",
       "      <th>CreditScore</th>\n",
       "      <th>Geography</th>\n",
       "      <th>Gender</th>\n",
       "      <th>Age</th>\n",
       "      <th>Tenure</th>\n",
       "      <th>Balance</th>\n",
       "      <th>NumOfProducts</th>\n",
       "      <th>HasCrCard</th>\n",
       "      <th>IsActiveMember</th>\n",
       "      <th>EstimatedSalary</th>\n",
       "    </tr>\n",
       "  </thead>\n",
       "  <tbody>\n",
       "    <tr>\n",
       "      <td>2656</td>\n",
       "      <td>1.313706</td>\n",
       "      <td>2.0</td>\n",
       "      <td>0.0</td>\n",
       "      <td>-0.470225</td>\n",
       "      <td>6.0</td>\n",
       "      <td>-0.950460</td>\n",
       "      <td>1.0</td>\n",
       "      <td>0.0</td>\n",
       "      <td>1.0</td>\n",
       "      <td>0.219608</td>\n",
       "    </tr>\n",
       "    <tr>\n",
       "      <td>445</td>\n",
       "      <td>0.993591</td>\n",
       "      <td>0.0</td>\n",
       "      <td>0.0</td>\n",
       "      <td>-1.227024</td>\n",
       "      <td>2.0</td>\n",
       "      <td>-0.712941</td>\n",
       "      <td>0.0</td>\n",
       "      <td>0.0</td>\n",
       "      <td>1.0</td>\n",
       "      <td>1.453593</td>\n",
       "    </tr>\n",
       "    <tr>\n",
       "      <td>9505</td>\n",
       "      <td>-0.008060</td>\n",
       "      <td>0.0</td>\n",
       "      <td>1.0</td>\n",
       "      <td>-1.037824</td>\n",
       "      <td>11.0</td>\n",
       "      <td>-0.684776</td>\n",
       "      <td>0.0</td>\n",
       "      <td>1.0</td>\n",
       "      <td>1.0</td>\n",
       "      <td>-0.440478</td>\n",
       "    </tr>\n",
       "    <tr>\n",
       "      <td>332</td>\n",
       "      <td>0.115856</td>\n",
       "      <td>1.0</td>\n",
       "      <td>1.0</td>\n",
       "      <td>0.475775</td>\n",
       "      <td>3.0</td>\n",
       "      <td>0.438043</td>\n",
       "      <td>1.0</td>\n",
       "      <td>0.0</td>\n",
       "      <td>1.0</td>\n",
       "      <td>0.795583</td>\n",
       "    </tr>\n",
       "    <tr>\n",
       "      <td>4168</td>\n",
       "      <td>-1.402110</td>\n",
       "      <td>0.0</td>\n",
       "      <td>1.0</td>\n",
       "      <td>-0.186425</td>\n",
       "      <td>9.0</td>\n",
       "      <td>-0.950460</td>\n",
       "      <td>0.0</td>\n",
       "      <td>1.0</td>\n",
       "      <td>0.0</td>\n",
       "      <td>0.043423</td>\n",
       "    </tr>\n",
       "  </tbody>\n",
       "</table>\n",
       "</div>"
      ],
      "text/plain": [
       "      CreditScore  Geography  Gender       Age  Tenure   Balance  \\\n",
       "2656     1.313706        2.0     0.0 -0.470225     6.0 -0.950460   \n",
       "445      0.993591        0.0     0.0 -1.227024     2.0 -0.712941   \n",
       "9505    -0.008060        0.0     1.0 -1.037824    11.0 -0.684776   \n",
       "332      0.115856        1.0     1.0  0.475775     3.0  0.438043   \n",
       "4168    -1.402110        0.0     1.0 -0.186425     9.0 -0.950460   \n",
       "\n",
       "      NumOfProducts  HasCrCard  IsActiveMember  EstimatedSalary  \n",
       "2656            1.0        0.0             1.0         0.219608  \n",
       "445             0.0        0.0             1.0         1.453593  \n",
       "9505            0.0        1.0             1.0        -0.440478  \n",
       "332             1.0        0.0             1.0         0.795583  \n",
       "4168            0.0        1.0             0.0         0.043423  "
      ]
     },
     "metadata": {},
     "output_type": "display_data"
    }
   ],
   "source": [
    "#Equally scale numerical features\n",
    "scaler = StandardScaler()\n",
    "numeric = ['CreditScore', 'Age', 'Balance', 'EstimatedSalary']\n",
    "scaler.fit(features_train[numeric])\n",
    "features_train[numeric] = scaler.transform(features_train[numeric])\n",
    "\n",
    "features_valid[numeric] = scaler.transform(features_valid[numeric])\n",
    "\n",
    "features_test[numeric] = scaler.transform(features_test[numeric])\n",
    "\n",
    "display(features_train.head())\n",
    "display(features_valid.head())\n",
    "display(features_test.head())"
   ]
  },
  {
   "cell_type": "markdown",
   "metadata": {},
   "source": [
    "The data set contains 14 columns and 1000 entries. Columns RowNumber, CustomerId, and Surname have no importance to the model so they were removed. There are three data types: integer, float, and object. There was no duplicate entries in the data. The column 'Tenure' has 909 missing values. The missing values make up 9.09% of data, it is too much to remove. We replaced missing values with -1.\n",
    "\n",
    "We tranformed categorical values to numerical using ordinal encoder. We scaled numerical values using standard scaler. We split the data in to a training set, test set, and validation set. The training set is 60% of data, the test test is 20% of data, and the validation set is 20% of data."
   ]
  },
  {
   "cell_type": "markdown",
   "metadata": {},
   "source": [
    "## Examine the Balance of Classes. Train the Model Without Taking into Account the Imbalance. Briefly Describe Your Findings."
   ]
  },
  {
   "cell_type": "markdown",
   "metadata": {},
   "source": [
    "### Examine the Balance of Classes"
   ]
  },
  {
   "cell_type": "code",
   "execution_count": 11,
   "metadata": {},
   "outputs": [
    {
     "data": {
      "text/plain": [
       "0.0    7963\n",
       "1.0    2037\n",
       "Name: Exited, dtype: int64"
      ]
     },
     "metadata": {},
     "output_type": "display_data"
    },
    {
     "data": {
      "image/png": "[encoded data removed]",
      "text/plain": [
       "<Figure size 432x288 with 1 Axes>"
      ]
     },
     "metadata": {
      "needs_background": "light"
     },
     "output_type": "display_data"
    }
   ],
   "source": [
    "#Examine the balance of classes\n",
    "sns.countplot(df_ordinal['Exited'])\n",
    "\n",
    "display(df_ordinal['Exited'].value_counts())"
   ]
  },
  {
   "cell_type": "markdown",
   "metadata": {},
   "source": [
    "We examined the balance of classes. As you can see from the graph the classes are imbalanced."
   ]
  },
  {
   "cell_type": "markdown",
   "metadata": {},
   "source": [
    "### Train the Model Without Balance"
   ]
  },
  {
   "cell_type": "code",
   "execution_count": 12,
   "metadata": {},
   "outputs": [
    {
     "name": "stdout",
     "output_type": "stream",
     "text": [
      "F1_Score is: 0.5446153846153846\n",
      "Roc-Auc Score: 0.6939421338155516\n"
     ]
    }
   ],
   "source": [
    "#Random Forest Classifier\n",
    "model = RandomForestClassifier(random_state=123)\n",
    "model.fit(features_train, target_train)\n",
    "predicted_valid = model.predict(features_valid)\n",
    "print('F1_Score is:', f1_score(target_valid, predicted_valid))\n",
    "print('Roc-Auc Score:', roc_auc_score(target_valid, predicted_valid))"
   ]
  },
  {
   "cell_type": "code",
   "execution_count": 13,
   "metadata": {},
   "outputs": [
    {
     "name": "stdout",
     "output_type": "stream",
     "text": [
      "F1_Score is: 0.22265625\n",
      "Roc-Auc Score: 0.5567811934900542\n"
     ]
    }
   ],
   "source": [
    "#Logistic Regression \n",
    "model = LogisticRegression(random_state=123)\n",
    "model.fit(features_train, target_train)\n",
    "predicted_valid = model.predict(features_valid)\n",
    "print('F1_Score is:', f1_score(target_valid, predicted_valid))\n",
    "print('Roc-Auc Score:', roc_auc_score(target_valid, predicted_valid))"
   ]
  },
  {
   "cell_type": "code",
   "execution_count": 14,
   "metadata": {},
   "outputs": [
    {
     "name": "stdout",
     "output_type": "stream",
     "text": [
      "F1_Score is: 0.4621026894865526\n",
      "Roc-Auc Score: 0.6588607594936708\n"
     ]
    }
   ],
   "source": [
    "#Decision Tree Classifier\n",
    "model = DecisionTreeClassifier(random_state=123)\n",
    "model.fit(features_train, target_train)\n",
    "predicted_valid = model.predict(features_valid)\n",
    "print('F1_Score is:', f1_score(target_valid, predicted_valid))\n",
    "print('Roc-Auc Score:', roc_auc_score(target_valid, predicted_valid))"
   ]
  },
  {
   "cell_type": "markdown",
   "metadata": {},
   "source": [
    "We trained the model without balancing the data.  The worst is the logistic regression model, with a F1 score of 22.27%. The F1 score is best in the random tree model, a score of 54.62%. This is an okay score but still not good enough lets look at balancing the data next."
   ]
  },
  {
   "cell_type": "markdown",
   "metadata": {},
   "source": [
    "## Improve the Quality of the Model"
   ]
  },
  {
   "cell_type": "markdown",
   "metadata": {},
   "source": [
    "### Upsampling"
   ]
  },
  {
   "cell_type": "code",
   "execution_count": 15,
   "metadata": {},
   "outputs": [
    {
     "data": {
      "text/plain": [
       "1.0    4812\n",
       "0.0    4797\n",
       "Name: Exited, dtype: int64"
      ]
     },
     "execution_count": 15,
     "metadata": {},
     "output_type": "execute_result"
    }
   ],
   "source": [
    "#Function for upsampling\n",
    "def upsample(features, target, repeat):\n",
    "    features_zeros = features[target == 0]\n",
    "    features_ones = features[target == 1]\n",
    "    target_zeros = target[target == 0]\n",
    "    target_ones = target[target == 1]\n",
    "\n",
    "    features_upsampled = pd.concat([features_zeros] + [features_ones] * repeat)\n",
    "    target_upsampled = pd.concat([target_zeros] + [target_ones] * repeat)\n",
    "\n",
    "    features_upsampled, target_upsampled = shuffle(\n",
    "        features_upsampled, target_upsampled, random_state=123)\n",
    "    \n",
    "    return features_upsampled, target_upsampled\n",
    "\n",
    "\n",
    "features_upsampled, target_upsampled = upsample(\n",
    "    features_train, target_train, 4\n",
    ")\n",
    "\n",
    "target_upsampled.value_counts()"
   ]
  },
  {
   "cell_type": "code",
   "execution_count": 16,
   "metadata": {},
   "outputs": [
    {
     "name": "stdout",
     "output_type": "stream",
     "text": [
      "F1 Score: 0.48316498316498313\n",
      "Roc-Auc Score: 0.7508966244725738\n"
     ]
    }
   ],
   "source": [
    "#Logistic Regression\n",
    "model = LogisticRegression(random_state=123)\n",
    "model.fit(features_upsampled,target_upsampled)\n",
    "predicted_valid = model.predict(features_valid)\n",
    "print('F1 Score:', f1_score(target_valid, predicted_valid))\n",
    "\n",
    "#Roc-Auc Score\n",
    "probabilities_valid = model.predict_proba(features_valid)\n",
    "probabilities_one_valid = probabilities_valid[:, 1]\n",
    "print('Roc-Auc Score:', roc_auc_score(target_valid, probabilities_one_valid))"
   ]
  },
  {
   "cell_type": "code",
   "execution_count": 17,
   "metadata": {},
   "outputs": [
    {
     "name": "stdout",
     "output_type": "stream",
     "text": [
      "F1 Score: 0.510948905109489\n",
      "Roc-Auc Score: 0.6892405063291139\n"
     ]
    }
   ],
   "source": [
    "#Decision Tree Classifier\n",
    "model = DecisionTreeClassifier(random_state=123)\n",
    "model.fit(features_upsampled,target_upsampled)\n",
    "predicted_valid = model.predict(features_valid)\n",
    "print('F1 Score:', f1_score(target_valid, predicted_valid))\n",
    "\n",
    "#Roc-Auc Score\n",
    "probabilities_valid = model.predict_proba(features_valid)\n",
    "probabilities_one_valid = probabilities_valid[:, 1]\n",
    "print('Roc-Auc Score:', roc_auc_score(target_valid, probabilities_one_valid))"
   ]
  },
  {
   "cell_type": "code",
   "execution_count": 18,
   "metadata": {},
   "outputs": [
    {
     "name": "stdout",
     "output_type": "stream",
     "text": [
      "F1 Score: 0.5494505494505494\n",
      "Roc-Auc Score: 0.8023131404460517\n"
     ]
    }
   ],
   "source": [
    "#Random Forest Classifier\n",
    "model = RandomForestClassifier(random_state=123)\n",
    "model.fit(features_upsampled,target_upsampled)\n",
    "predicted_valid = model.predict(features_valid)\n",
    "print('F1 Score:', f1_score(target_valid, predicted_valid))\n",
    "\n",
    "#Roc-Auc Score\n",
    "probabilities_valid = model.predict_proba(features_valid)\n",
    "probabilities_one_valid = probabilities_valid[:, 1]\n",
    "print('Roc-Auc Score:', roc_auc_score(target_valid, probabilities_one_valid))"
   ]
  },
  {
   "cell_type": "markdown",
   "metadata": {},
   "source": [
    "### Downsampling"
   ]
  },
  {
   "cell_type": "code",
   "execution_count": 19,
   "metadata": {},
   "outputs": [
    {
     "data": {
      "text/plain": [
       "0.0    1204\n",
       "1.0    1203\n",
       "Name: Exited, dtype: int64"
      ]
     },
     "execution_count": 19,
     "metadata": {},
     "output_type": "execute_result"
    }
   ],
   "source": [
    "def downsample(features, target, fraction):\n",
    "    features_zeros = features[target == 0]\n",
    "    features_ones = features[target == 1]\n",
    "    target_zeros = target[target == 0]\n",
    "    target_ones = target[target == 1]\n",
    "\n",
    "    features_downsampled = pd.concat(\n",
    "        [features_zeros.sample(frac=fraction, random_state=123)]\n",
    "        + [features_ones]\n",
    "    )\n",
    "    target_downsampled = pd.concat(\n",
    "        [target_zeros.sample(frac=fraction, random_state=123)]\n",
    "        + [target_ones]\n",
    "    )\n",
    "\n",
    "    features_downsampled, target_downsampled = shuffle(\n",
    "        features_downsampled, target_downsampled, random_state=123\n",
    "    )\n",
    "\n",
    "    return features_downsampled, target_downsampled\n",
    "\n",
    "\n",
    "features_downsampled, target_downsampled = downsample(\n",
    "    features_train, target_train, 0.251\n",
    ")\n",
    "\n",
    "target_downsampled.value_counts()"
   ]
  },
  {
   "cell_type": "code",
   "execution_count": 20,
   "metadata": {},
   "outputs": [
    {
     "name": "stdout",
     "output_type": "stream",
     "text": [
      "F1 Score: 0.4851569126378286\n",
      "Roc-Auc Score: 0.7527652200120554\n"
     ]
    }
   ],
   "source": [
    "#Logistic Regression\n",
    "model = LogisticRegression(random_state=123)\n",
    "model.fit(features_downsampled,target_downsampled)\n",
    "predicted_valid = model.predict(features_valid)\n",
    "print('F1 Score:', f1_score(target_valid, predicted_valid))\n",
    "\n",
    "#Roc-Auc Score\n",
    "probabilities_valid = model.predict_proba(features_valid)\n",
    "probabilities_one_valid = probabilities_valid[:, 1]\n",
    "print('Roc-Auc Score:', roc_auc_score(target_valid, probabilities_one_valid))"
   ]
  },
  {
   "cell_type": "code",
   "execution_count": 21,
   "metadata": {},
   "outputs": [
    {
     "name": "stdout",
     "output_type": "stream",
     "text": [
      "F1 Score: 0.4816053511705685\n",
      "Roc-Auc Score: 0.6884267631103074\n"
     ]
    }
   ],
   "source": [
    "#Decision Tree Classifier\n",
    "model = DecisionTreeClassifier(random_state=123)\n",
    "model.fit(features_downsampled,target_downsampled)\n",
    "predicted_valid = model.predict(features_valid)\n",
    "print('F1 Score:', f1_score(target_valid, predicted_valid))\n",
    "\n",
    "#Roc-Auc Score\n",
    "probabilities_valid = model.predict_proba(features_valid)\n",
    "probabilities_one_valid = probabilities_valid[:, 1]\n",
    "print('Roc-Auc Score:', roc_auc_score(target_valid, probabilities_one_valid))"
   ]
  },
  {
   "cell_type": "code",
   "execution_count": 22,
   "metadata": {},
   "outputs": [
    {
     "name": "stdout",
     "output_type": "stream",
     "text": [
      "F1 Score: 0.5524193548387096\n",
      "Roc-Auc Score: 0.8116289933694997\n"
     ]
    }
   ],
   "source": [
    "#Random Forest Classifier\n",
    "model = RandomForestClassifier(random_state=123)\n",
    "model.fit(features_downsampled,target_downsampled)\n",
    "predicted_valid = model.predict(features_valid)\n",
    "print('F1 Score:', f1_score(target_valid, predicted_valid))\n",
    "\n",
    "#Roc-Auc Score\n",
    "probabilities_valid = model.predict_proba(features_valid)\n",
    "probabilities_one_valid = probabilities_valid[:, 1]\n",
    "print('Roc-Auc Score:', roc_auc_score(target_valid, probabilities_one_valid))"
   ]
  },
  {
   "cell_type": "markdown",
   "metadata": {},
   "source": [
    "### Class Weight Adjustment"
   ]
  },
  {
   "cell_type": "code",
   "execution_count": 23,
   "metadata": {},
   "outputs": [
    {
     "name": "stdout",
     "output_type": "stream",
     "text": [
      "F1 Score: 0.48316498316498313\n",
      "Roc-Auc Score: 0.7508905967450272\n"
     ]
    }
   ],
   "source": [
    "#Logistic Regression\n",
    "model = LogisticRegression(random_state=123, solver='liblinear', class_weight = 'balanced') \n",
    "model.fit(features_train,target_train)\n",
    "predictions_valid = model.predict(features_valid)\n",
    "print('F1 Score:', f1_score(target_valid,predictions_valid))\n",
    "\n",
    "#Roc-Auc Score\n",
    "probabilities_valid = model.predict_proba(features_valid)\n",
    "probabilities_one_valid = probabilities_valid[:, 1]\n",
    "print('Roc-Auc Score:', roc_auc_score(target_valid, probabilities_one_valid))"
   ]
  },
  {
   "cell_type": "code",
   "execution_count": 24,
   "metadata": {},
   "outputs": [
    {
     "name": "stdout",
     "output_type": "stream",
     "text": [
      "Max Depth = 4 F1 Score: 0.5482456140350878\n",
      "Roc-Auc Score: 0.6993068113321278\n"
     ]
    }
   ],
   "source": [
    "#Decision Tree Classifier\n",
    "best_score = 0\n",
    "best_depth = 0\n",
    "for depth in range(1,100):\n",
    "    model = DecisionTreeClassifier(random_state=123, max_depth = depth, class_weight = 'balanced')\n",
    "    model.fit(features_train,target_train)\n",
    "    predictions_valid = model.predict(features_valid)\n",
    "    score = f1_score(target_valid, predictions_valid)\n",
    "    if score > best_score:\n",
    "        best_score = score\n",
    "        best_depth = depth\n",
    "print('Max Depth =', best_depth, 'F1 Score:', best_score)\n",
    "\n",
    "#Roc-Auc Score\n",
    "probabilities_valid = model.predict_proba(features_valid)\n",
    "probabilities_one_valid = probabilities_valid[:, 1]\n",
    "print('Roc-Auc Score:', roc_auc_score(target_valid, probabilities_one_valid))"
   ]
  },
  {
   "cell_type": "code",
   "execution_count": 25,
   "metadata": {},
   "outputs": [
    {
     "name": "stdout",
     "output_type": "stream",
     "text": [
      "n_estimator = 91 max_depth = 11 F1 Score: 0.5939553219448094\n",
      "Roc-Auc Score: 0.8307278481012659\n"
     ]
    }
   ],
   "source": [
    "#Random Forest Claffifier\n",
    "best_depth = 0\n",
    "best_score = 0\n",
    "best_n_estimator = 0\n",
    "for n, depth in itertools.product(range(1,100,10), range(1,100,10)):\n",
    "    model = RandomForestClassifier(random_state=123, max_depth = depth, n_estimators = n, class_weight = 'balanced')\n",
    "    model.fit(features_train,target_train)\n",
    "    predictions_valid = model.predict(features_valid)\n",
    "    score = f1_score(target_valid, predictions_valid)\n",
    "    if score > best_score:\n",
    "        best_score = score\n",
    "        best_n_estimator = n\n",
    "        best_depth = depth\n",
    "print('n_estimator =', best_n_estimator, 'max_depth =', best_depth, 'F1 Score:', best_score)\n",
    "\n",
    "#Roc-Auc Score\n",
    "probabilities_valid = model.predict_proba(features_valid)\n",
    "probabilities_one_valid = probabilities_valid[:, 1]\n",
    "print('Roc-Auc Score:', roc_auc_score(target_valid, probabilities_one_valid))"
   ]
  },
  {
   "cell_type": "markdown",
   "metadata": {},
   "source": [
    "We used upsampling, downsampling, and class weight adjustment to balance the data. The best F1 score was obtained for the logistic regression model by using downsampling. The F1 Score was 48.52%. The best F1 score for the decision tree classifier model was 54.82%, this was obtained by class weight adjustment. The model that had the best F1 score overall was the Random Forest Classifier with n_estimators=91 and max_depth=11. The model obtained a F1 score of 59.40% by using the class weight adjustment to balance classes. "
   ]
  },
  {
   "cell_type": "markdown",
   "metadata": {},
   "source": [
    "## Perform Final Test"
   ]
  },
  {
   "cell_type": "code",
   "execution_count": 26,
   "metadata": {},
   "outputs": [
    {
     "name": "stdout",
     "output_type": "stream",
     "text": [
      "F1 Score: 0.6313131313131314\n"
     ]
    }
   ],
   "source": [
    "model = RandomForestClassifier(random_state = 123, max_depth = 11, n_estimators = 91, class_weight = 'balanced')\n",
    "model.fit(features_train, target_train)\n",
    "predict_test = model.predict(features_test)\n",
    "f1_score = f1_score(target_test, predict_test)\n",
    "print('F1 Score:', f1_score)"
   ]
  },
  {
   "cell_type": "code",
   "execution_count": 27,
   "metadata": {},
   "outputs": [
    {
     "name": "stdout",
     "output_type": "stream",
     "text": [
      "Roc-Auc Score: 0.8643733513655111\n"
     ]
    },
    {
     "data": {
      "image/png": "[encoded data removed]",
      "text/plain": [
       "<Figure size 432x288 with 1 Axes>"
      ]
     },
     "metadata": {
      "needs_background": "light"
     },
     "output_type": "display_data"
    }
   ],
   "source": [
    "#Roc Curve\n",
    "probabilities_test = model.predict_proba(features_test)\n",
    "probabilities_one_test = probabilities_test[:, 1]\n",
    "\n",
    "fpr, tpr, thresholds = roc_curve(target_test, probabilities_one_test)# < write code here >\n",
    "\n",
    "plt.figure()\n",
    "\n",
    "plt.plot(fpr,tpr)# < plot the graph >\n",
    "\n",
    "# ROC curve for random model (looks like a straight line)\n",
    "plt.plot([0, 1], [0, 1], linestyle='--')\n",
    "\n",
    "plt.xlim([0,1])\n",
    "plt.ylim([0,1])# < use the functions plt.xlim() and plt.ylim() to\n",
    "# set the boundary for the axes from 0 to 1 >\n",
    "\n",
    "plt.xlabel('False Positive Rate')\n",
    "plt.ylabel('True Positive Rate')\n",
    "\n",
    "#Roc-Auc Score\n",
    "print('Roc-Auc Score:', roc_auc_score(target_test, probabilities_one_test))"
   ]
  },
  {
   "cell_type": "markdown",
   "metadata": {},
   "source": [
    "The best model for our data was the random forest classifier with n_estimatores=91 and max_depth=11. We obtained an F1 score of 63.13% and an roc-auc score of 86.44%. The model passed the F1 score threshold of 59%."
   ]
  },
  {
   "cell_type": "markdown",
   "metadata": {},
   "source": [
    "## Conclusion"
   ]
  },
  {
   "cell_type": "markdown",
   "metadata": {},
   "source": [
    "The only missing data was from the column 'Tenure'. The percentage of missing values was too high to remove them. We replaced missing values with -1. We tranformed categorical values to numerical using the ordinal encoder function and we scaled numerical values using the standard scaler function. \n",
    "\n",
    "We obtained a F1 score of 63.13% from our data. To obtain a high F1 score we tested multiple models with different hyperparmeters. The classes were imbalanced for our data. We used upsampling, downsampling, and class weight adjustment to balance the classes out. The best result for balancing classes was by class weight adjustment. We found that the best model for our data ws the random forest tree model with n_estimators=91 and max_depth=11. Based on our finding we have obtained a great model for our data."
   ]
  }
 ],
 "metadata": {
  "ExecuteTimeLog": [
   {
    "duration": 1234,
    "start_time": "2021-10-04T21:35:43.038Z"
   },
   {
    "duration": 155,
    "start_time": "2021-10-04T21:36:45.112Z"
   },
   {
    "duration": 44,
    "start_time": "2021-10-04T21:36:55.815Z"
   },
   {
    "duration": 44,
    "start_time": "2021-10-04T21:37:16.526Z"
   },
   {
    "duration": 423,
    "start_time": "2021-10-04T21:39:14.333Z"
   },
   {
    "duration": 8,
    "start_time": "2021-10-04T21:39:53.289Z"
   },
   {
    "duration": 12,
    "start_time": "2021-10-04T21:40:01.995Z"
   },
   {
    "duration": 43,
    "start_time": "2021-10-04T21:40:31.443Z"
   },
   {
    "duration": 8,
    "start_time": "2021-10-04T21:41:44.969Z"
   },
   {
    "duration": 10,
    "start_time": "2021-10-04T21:56:25.287Z"
   },
   {
    "duration": 7,
    "start_time": "2021-10-04T21:57:11.359Z"
   },
   {
    "duration": 14,
    "start_time": "2021-10-04T21:57:18.191Z"
   },
   {
    "duration": 10,
    "start_time": "2021-10-04T21:57:27.222Z"
   },
   {
    "duration": 328,
    "start_time": "2021-10-04T22:03:45.895Z"
   },
   {
    "duration": 455,
    "start_time": "2021-10-04T22:05:08.531Z"
   },
   {
    "duration": 24,
    "start_time": "2021-10-04T22:05:36.557Z"
   },
   {
    "duration": 10,
    "start_time": "2021-10-04T22:06:07.160Z"
   },
   {
    "duration": 43,
    "start_time": "2021-10-04T22:06:17.819Z"
   },
   {
    "duration": 22,
    "start_time": "2021-10-04T22:06:21.075Z"
   },
   {
    "duration": 23,
    "start_time": "2021-10-04T22:06:45.557Z"
   },
   {
    "duration": 299,
    "start_time": "2021-10-04T22:07:27.986Z"
   },
   {
    "duration": 7,
    "start_time": "2021-10-04T22:09:18.243Z"
   },
   {
    "duration": 11,
    "start_time": "2021-10-04T22:09:49.084Z"
   },
   {
    "duration": 1239,
    "start_time": "2021-10-04T22:10:36.386Z"
   },
   {
    "duration": 1881,
    "start_time": "2021-10-04T22:12:09.512Z"
   },
   {
    "duration": 13,
    "start_time": "2021-10-04T22:16:27.626Z"
   },
   {
    "duration": 12,
    "start_time": "2021-10-04T22:16:51.504Z"
   },
   {
    "duration": 12,
    "start_time": "2021-10-04T22:17:39.273Z"
   },
   {
    "duration": 310,
    "start_time": "2021-10-04T22:18:11.335Z"
   },
   {
    "duration": 11,
    "start_time": "2021-10-04T22:18:18.791Z"
   },
   {
    "duration": 12,
    "start_time": "2021-10-04T22:18:24.582Z"
   },
   {
    "duration": 395,
    "start_time": "2021-10-04T22:18:48.952Z"
   },
   {
    "duration": 13,
    "start_time": "2021-10-04T22:18:51.854Z"
   },
   {
    "duration": 12,
    "start_time": "2021-10-04T22:19:08.435Z"
   },
   {
    "duration": 19,
    "start_time": "2021-10-04T22:19:23.390Z"
   },
   {
    "duration": 11,
    "start_time": "2021-10-04T22:22:20.094Z"
   },
   {
    "duration": 1069,
    "start_time": "2021-10-04T22:23:49.974Z"
   },
   {
    "duration": 316,
    "start_time": "2021-10-04T22:24:32.166Z"
   },
   {
    "duration": 9,
    "start_time": "2021-10-04T22:24:56.555Z"
   },
   {
    "duration": 9,
    "start_time": "2021-10-04T22:25:03.941Z"
   },
   {
    "duration": 11,
    "start_time": "2021-10-04T22:25:15.884Z"
   },
   {
    "duration": 11,
    "start_time": "2021-10-04T22:25:44.698Z"
   },
   {
    "duration": 11,
    "start_time": "2021-10-04T22:25:49.020Z"
   },
   {
    "duration": 12,
    "start_time": "2021-10-04T22:28:00.267Z"
   },
   {
    "duration": 11,
    "start_time": "2021-10-04T22:29:56.268Z"
   },
   {
    "duration": 11,
    "start_time": "2021-10-04T22:30:17.237Z"
   },
   {
    "duration": 42,
    "start_time": "2021-10-04T22:30:20.730Z"
   },
   {
    "duration": 12,
    "start_time": "2021-10-04T22:30:25.057Z"
   },
   {
    "duration": 3845,
    "start_time": "2021-10-04T22:30:54.010Z"
   },
   {
    "duration": 12,
    "start_time": "2021-10-04T22:31:07.650Z"
   },
   {
    "duration": 11,
    "start_time": "2021-10-04T22:31:48.425Z"
   },
   {
    "duration": 11,
    "start_time": "2021-10-04T22:31:54.175Z"
   },
   {
    "duration": 5,
    "start_time": "2021-10-04T22:39:20.533Z"
   },
   {
    "duration": 288,
    "start_time": "2021-10-04T22:39:27.318Z"
   },
   {
    "duration": 292,
    "start_time": "2021-10-04T22:39:53.506Z"
   },
   {
    "duration": 42,
    "start_time": "2021-10-04T22:40:03.857Z"
   },
   {
    "duration": 13,
    "start_time": "2021-10-04T22:40:06.827Z"
   },
   {
    "duration": 303,
    "start_time": "2021-10-04T22:40:12.395Z"
   },
   {
    "duration": 1161,
    "start_time": "2021-10-04T22:40:22.940Z"
   },
   {
    "duration": 46,
    "start_time": "2021-10-04T22:40:24.103Z"
   },
   {
    "duration": 10,
    "start_time": "2021-10-04T22:40:24.151Z"
   },
   {
    "duration": 382,
    "start_time": "2021-10-04T22:40:24.163Z"
   },
   {
    "duration": -419,
    "start_time": "2021-10-04T22:40:24.965Z"
   },
   {
    "duration": 309,
    "start_time": "2021-10-04T22:40:40.581Z"
   },
   {
    "duration": 297,
    "start_time": "2021-10-04T22:40:50.782Z"
   },
   {
    "duration": 352,
    "start_time": "2021-10-04T22:40:54.649Z"
   },
   {
    "duration": 1499,
    "start_time": "2021-10-07T13:33:25.058Z"
   },
   {
    "duration": 65,
    "start_time": "2021-10-07T13:33:26.560Z"
   },
   {
    "duration": 19,
    "start_time": "2021-10-07T13:33:26.628Z"
   },
   {
    "duration": 44,
    "start_time": "2021-10-07T13:33:26.649Z"
   },
   {
    "duration": 21,
    "start_time": "2021-10-07T13:33:26.696Z"
   },
   {
    "duration": 39,
    "start_time": "2021-10-07T13:33:26.722Z"
   },
   {
    "duration": 83,
    "start_time": "2021-10-07T13:33:26.763Z"
   },
   {
    "duration": 28,
    "start_time": "2021-10-07T13:33:26.849Z"
   },
   {
    "duration": 5,
    "start_time": "2021-10-07T13:33:26.881Z"
   },
   {
    "duration": 58,
    "start_time": "2021-10-07T13:33:26.889Z"
   },
   {
    "duration": 242,
    "start_time": "2021-10-07T13:33:26.950Z"
   },
   {
    "duration": 132,
    "start_time": "2021-10-07T13:33:27.194Z"
   },
   {
    "duration": 194,
    "start_time": "2021-10-07T13:33:27.329Z"
   },
   {
    "duration": 106,
    "start_time": "2021-10-07T13:33:27.526Z"
   },
   {
    "duration": 18,
    "start_time": "2021-10-07T13:33:27.635Z"
   },
   {
    "duration": 172,
    "start_time": "2021-10-07T13:33:27.656Z"
   },
   {
    "duration": 176,
    "start_time": "2021-10-07T13:33:27.831Z"
   },
   {
    "duration": 258,
    "start_time": "2021-10-07T13:33:28.009Z"
   },
   {
    "duration": 15,
    "start_time": "2021-10-07T13:33:28.270Z"
   },
   {
    "duration": 46,
    "start_time": "2021-10-07T13:33:28.288Z"
   },
   {
    "duration": 115,
    "start_time": "2021-10-07T13:33:28.423Z"
   },
   {
    "duration": 85,
    "start_time": "2021-10-07T13:33:28.540Z"
   },
   {
    "duration": 106,
    "start_time": "2021-10-07T13:33:28.627Z"
   },
   {
    "duration": 4129,
    "start_time": "2021-10-07T13:33:28.736Z"
   },
   {
    "duration": 42760,
    "start_time": "2021-10-07T13:33:32.868Z"
   },
   {
    "duration": 809,
    "start_time": "2021-10-07T13:34:15.631Z"
   },
   {
    "duration": 386,
    "start_time": "2021-10-08T16:17:26.256Z"
   },
   {
    "duration": 1547,
    "start_time": "2021-10-08T16:17:39.310Z"
   },
   {
    "duration": 64,
    "start_time": "2021-10-08T16:17:40.860Z"
   },
   {
    "duration": 35,
    "start_time": "2021-10-08T16:17:40.928Z"
   },
   {
    "duration": 17,
    "start_time": "2021-10-08T16:17:40.966Z"
   },
   {
    "duration": 8,
    "start_time": "2021-10-08T16:17:40.985Z"
   },
   {
    "duration": 12,
    "start_time": "2021-10-08T16:17:40.995Z"
   },
   {
    "duration": 101,
    "start_time": "2021-10-08T16:17:41.009Z"
   },
   {
    "duration": 5,
    "start_time": "2021-10-08T16:17:41.113Z"
   },
   {
    "duration": 53,
    "start_time": "2021-10-08T16:17:41.121Z"
   },
   {
    "duration": 27,
    "start_time": "2021-10-08T16:17:41.176Z"
   },
   {
    "duration": 264,
    "start_time": "2021-10-08T16:17:41.205Z"
   },
   {
    "duration": 131,
    "start_time": "2021-10-08T16:17:41.471Z"
   },
   {
    "duration": 65,
    "start_time": "2021-10-08T16:17:41.604Z"
   },
   {
    "duration": 130,
    "start_time": "2021-10-08T16:17:41.760Z"
   },
   {
    "duration": 21,
    "start_time": "2021-10-08T16:17:41.893Z"
   },
   {
    "duration": 143,
    "start_time": "2021-10-08T16:17:41.916Z"
   },
   {
    "duration": 197,
    "start_time": "2021-10-08T16:17:42.062Z"
   },
   {
    "duration": 249,
    "start_time": "2021-10-08T16:17:42.261Z"
   },
   {
    "duration": 18,
    "start_time": "2021-10-08T16:17:42.512Z"
   },
   {
    "duration": 127,
    "start_time": "2021-10-08T16:17:42.533Z"
   },
   {
    "duration": 115,
    "start_time": "2021-10-08T16:17:42.664Z"
   },
   {
    "duration": 88,
    "start_time": "2021-10-08T16:17:42.781Z"
   },
   {
    "duration": 85,
    "start_time": "2021-10-08T16:17:42.873Z"
   },
   {
    "duration": 4096,
    "start_time": "2021-10-08T16:17:42.961Z"
   },
   {
    "duration": 43219,
    "start_time": "2021-10-08T16:17:47.060Z"
   },
   {
    "duration": 810,
    "start_time": "2021-10-08T16:18:30.281Z"
   },
   {
    "duration": 23,
    "start_time": "2021-10-08T16:18:31.094Z"
   },
   {
    "duration": 20,
    "start_time": "2021-10-08T16:19:08.197Z"
   },
   {
    "duration": 23,
    "start_time": "2021-10-08T16:19:13.187Z"
   },
   {
    "duration": 27,
    "start_time": "2021-10-08T16:19:19.936Z"
   },
   {
    "duration": 23,
    "start_time": "2021-10-08T16:19:30.735Z"
   },
   {
    "duration": 23,
    "start_time": "2021-10-08T16:19:34.936Z"
   },
   {
    "duration": 21,
    "start_time": "2021-10-08T16:20:10.294Z"
   },
   {
    "duration": 21,
    "start_time": "2021-10-08T16:20:16.685Z"
   },
   {
    "duration": 21,
    "start_time": "2021-10-08T16:20:21.285Z"
   },
   {
    "duration": 22,
    "start_time": "2021-10-08T16:20:26.634Z"
   },
   {
    "duration": 21,
    "start_time": "2021-10-08T16:20:31.843Z"
   },
   {
    "duration": 1107,
    "start_time": "2021-10-08T16:20:47.514Z"
   },
   {
    "duration": 21,
    "start_time": "2021-10-08T16:20:53.414Z"
   },
   {
    "duration": 1539,
    "start_time": "2021-10-08T16:21:03.663Z"
   },
   {
    "duration": 64,
    "start_time": "2021-10-08T16:21:05.205Z"
   },
   {
    "duration": 19,
    "start_time": "2021-10-08T16:21:05.276Z"
   },
   {
    "duration": 21,
    "start_time": "2021-10-08T16:21:05.298Z"
   },
   {
    "duration": 44,
    "start_time": "2021-10-08T16:21:05.321Z"
   },
   {
    "duration": 15,
    "start_time": "2021-10-08T16:21:05.367Z"
   },
   {
    "duration": 92,
    "start_time": "2021-10-08T16:21:05.386Z"
   },
   {
    "duration": 4,
    "start_time": "2021-10-08T16:21:05.482Z"
   },
   {
    "duration": 24,
    "start_time": "2021-10-08T16:21:05.489Z"
   },
   {
    "duration": 62,
    "start_time": "2021-10-08T16:21:05.515Z"
   },
   {
    "duration": 245,
    "start_time": "2021-10-08T16:21:05.580Z"
   },
   {
    "duration": 139,
    "start_time": "2021-10-08T16:21:05.827Z"
   },
   {
    "duration": 95,
    "start_time": "2021-10-08T16:21:05.968Z"
   },
   {
    "duration": 130,
    "start_time": "2021-10-08T16:21:06.067Z"
   },
   {
    "duration": 19,
    "start_time": "2021-10-08T16:21:06.199Z"
   },
   {
    "duration": 139,
    "start_time": "2021-10-08T16:21:06.221Z"
   },
   {
    "duration": 151,
    "start_time": "2021-10-08T16:21:06.364Z"
   },
   {
    "duration": 170,
    "start_time": "2021-10-08T16:21:06.518Z"
   },
   {
    "duration": 23,
    "start_time": "2021-10-08T16:21:06.690Z"
   },
   {
    "duration": 46,
    "start_time": "2021-10-08T16:21:06.715Z"
   },
   {
    "duration": 117,
    "start_time": "2021-10-08T16:21:06.764Z"
   },
   {
    "duration": 114,
    "start_time": "2021-10-08T16:21:06.885Z"
   },
   {
    "duration": 74,
    "start_time": "2021-10-08T16:21:07.002Z"
   },
   {
    "duration": 3932,
    "start_time": "2021-10-08T16:21:07.163Z"
   },
   {
    "duration": 1520,
    "start_time": "2021-10-08T16:21:55.278Z"
   },
   {
    "duration": 63,
    "start_time": "2021-10-08T16:21:56.801Z"
   },
   {
    "duration": 19,
    "start_time": "2021-10-08T16:21:56.867Z"
   },
   {
    "duration": 26,
    "start_time": "2021-10-08T16:21:56.889Z"
   },
   {
    "duration": 40,
    "start_time": "2021-10-08T16:21:56.917Z"
   },
   {
    "duration": 12,
    "start_time": "2021-10-08T16:21:56.960Z"
   },
   {
    "duration": 84,
    "start_time": "2021-10-08T16:21:56.974Z"
   },
   {
    "duration": 5,
    "start_time": "2021-10-08T16:21:57.062Z"
   },
   {
    "duration": 28,
    "start_time": "2021-10-08T16:21:57.069Z"
   },
   {
    "duration": 58,
    "start_time": "2021-10-08T16:21:57.099Z"
   },
   {
    "duration": 230,
    "start_time": "2021-10-08T16:21:57.160Z"
   },
   {
    "duration": 134,
    "start_time": "2021-10-08T16:21:57.392Z"
   },
   {
    "duration": 64,
    "start_time": "2021-10-08T16:21:57.528Z"
   },
   {
    "duration": 137,
    "start_time": "2021-10-08T16:21:57.661Z"
   },
   {
    "duration": 19,
    "start_time": "2021-10-08T16:21:57.800Z"
   },
   {
    "duration": 139,
    "start_time": "2021-10-08T16:21:57.821Z"
   },
   {
    "duration": 150,
    "start_time": "2021-10-08T16:21:57.963Z"
   },
   {
    "duration": 175,
    "start_time": "2021-10-08T16:21:58.115Z"
   },
   {
    "duration": 20,
    "start_time": "2021-10-08T16:21:58.292Z"
   },
   {
    "duration": 51,
    "start_time": "2021-10-08T16:21:58.315Z"
   },
   {
    "duration": 113,
    "start_time": "2021-10-08T16:21:58.460Z"
   },
   {
    "duration": 91,
    "start_time": "2021-10-08T16:21:58.575Z"
   },
   {
    "duration": 87,
    "start_time": "2021-10-08T16:21:58.672Z"
   },
   {
    "duration": 4032,
    "start_time": "2021-10-08T16:21:58.762Z"
   },
   {
    "duration": 41567,
    "start_time": "2021-10-08T16:22:02.797Z"
   },
   {
    "duration": 804,
    "start_time": "2021-10-08T16:22:44.367Z"
   },
   {
    "duration": 27,
    "start_time": "2021-10-08T16:28:48.747Z"
   },
   {
    "duration": 28,
    "start_time": "2021-10-08T16:29:00.616Z"
   },
   {
    "duration": 1561,
    "start_time": "2021-10-08T16:32:22.729Z"
   },
   {
    "duration": 74,
    "start_time": "2021-10-08T16:32:24.293Z"
   },
   {
    "duration": 22,
    "start_time": "2021-10-08T16:32:24.371Z"
   },
   {
    "duration": 60,
    "start_time": "2021-10-08T16:32:24.397Z"
   },
   {
    "duration": 9,
    "start_time": "2021-10-08T16:32:24.460Z"
   },
   {
    "duration": 14,
    "start_time": "2021-10-08T16:32:24.472Z"
   },
   {
    "duration": 95,
    "start_time": "2021-10-08T16:32:24.488Z"
   },
   {
    "duration": 5,
    "start_time": "2021-10-08T16:32:24.587Z"
   },
   {
    "duration": 21,
    "start_time": "2021-10-08T16:32:24.595Z"
   },
   {
    "duration": 106,
    "start_time": "2021-10-08T16:32:24.619Z"
   },
   {
    "duration": 254,
    "start_time": "2021-10-08T16:32:24.728Z"
   },
   {
    "duration": 133,
    "start_time": "2021-10-08T16:32:24.984Z"
   },
   {
    "duration": 54,
    "start_time": "2021-10-08T16:32:25.119Z"
   },
   {
    "duration": 137,
    "start_time": "2021-10-08T16:32:25.262Z"
   },
   {
    "duration": 20,
    "start_time": "2021-10-08T16:32:25.401Z"
   },
   {
    "duration": 139,
    "start_time": "2021-10-08T16:32:25.423Z"
   },
   {
    "duration": 151,
    "start_time": "2021-10-08T16:32:25.564Z"
   },
   {
    "duration": 185,
    "start_time": "2021-10-08T16:32:25.718Z"
   },
   {
    "duration": 20,
    "start_time": "2021-10-08T16:32:25.905Z"
   },
   {
    "duration": 133,
    "start_time": "2021-10-08T16:32:25.927Z"
   },
   {
    "duration": 115,
    "start_time": "2021-10-08T16:32:26.063Z"
   },
   {
    "duration": 88,
    "start_time": "2021-10-08T16:32:26.180Z"
   },
   {
    "duration": 33,
    "start_time": "2021-10-08T16:32:26.272Z"
   },
   {
    "duration": 3983,
    "start_time": "2021-10-08T16:32:26.360Z"
   },
   {
    "duration": 42115,
    "start_time": "2021-10-08T16:32:30.345Z"
   },
   {
    "duration": 915,
    "start_time": "2021-10-08T16:33:12.462Z"
   },
   {
    "duration": 1539,
    "start_time": "2021-10-08T16:40:49.760Z"
   },
   {
    "duration": 63,
    "start_time": "2021-10-08T16:40:51.302Z"
   },
   {
    "duration": 18,
    "start_time": "2021-10-08T16:40:51.368Z"
   },
   {
    "duration": 16,
    "start_time": "2021-10-08T16:40:51.389Z"
   },
   {
    "duration": 53,
    "start_time": "2021-10-08T16:40:51.408Z"
   },
   {
    "duration": 13,
    "start_time": "2021-10-08T16:40:51.464Z"
   },
   {
    "duration": 87,
    "start_time": "2021-10-08T16:40:51.480Z"
   },
   {
    "duration": 4,
    "start_time": "2021-10-08T16:40:51.571Z"
   },
   {
    "duration": 17,
    "start_time": "2021-10-08T16:40:51.579Z"
   },
   {
    "duration": 114,
    "start_time": "2021-10-08T16:40:51.599Z"
   },
   {
    "duration": 242,
    "start_time": "2021-10-08T16:40:51.716Z"
   },
   {
    "duration": 597,
    "start_time": "2021-10-08T16:40:51.960Z"
   },
   {
    "duration": 504,
    "start_time": "2021-10-08T16:40:52.056Z"
   },
   {
    "duration": 491,
    "start_time": "2021-10-08T16:40:52.070Z"
   },
   {
    "duration": 485,
    "start_time": "2021-10-08T16:40:52.078Z"
   },
   {
    "duration": 479,
    "start_time": "2021-10-08T16:40:52.085Z"
   },
   {
    "duration": 472,
    "start_time": "2021-10-08T16:40:52.094Z"
   },
   {
    "duration": 468,
    "start_time": "2021-10-08T16:40:52.099Z"
   },
   {
    "duration": 466,
    "start_time": "2021-10-08T16:40:52.103Z"
   },
   {
    "duration": 464,
    "start_time": "2021-10-08T16:40:52.106Z"
   },
   {
    "duration": 461,
    "start_time": "2021-10-08T16:40:52.110Z"
   },
   {
    "duration": 458,
    "start_time": "2021-10-08T16:40:52.115Z"
   },
   {
    "duration": 456,
    "start_time": "2021-10-08T16:40:52.118Z"
   },
   {
    "duration": 455,
    "start_time": "2021-10-08T16:40:52.121Z"
   },
   {
    "duration": 454,
    "start_time": "2021-10-08T16:40:52.123Z"
   },
   {
    "duration": 452,
    "start_time": "2021-10-08T16:40:52.126Z"
   },
   {
    "duration": 348,
    "start_time": "2021-10-08T16:46:43.899Z"
   },
   {
    "duration": 6,
    "start_time": "2021-10-08T16:47:08.099Z"
   },
   {
    "duration": 334,
    "start_time": "2021-10-08T16:47:14.771Z"
   },
   {
    "duration": 256,
    "start_time": "2021-10-08T16:47:25.870Z"
   },
   {
    "duration": 795,
    "start_time": "2021-10-08T16:47:47.989Z"
   },
   {
    "duration": 291,
    "start_time": "2021-10-08T16:47:50.939Z"
   },
   {
    "duration": 1500,
    "start_time": "2021-10-08T16:49:49.213Z"
   },
   {
    "duration": 62,
    "start_time": "2021-10-08T16:49:50.715Z"
   },
   {
    "duration": 18,
    "start_time": "2021-10-08T16:49:50.780Z"
   },
   {
    "duration": 27,
    "start_time": "2021-10-08T16:49:50.802Z"
   },
   {
    "duration": 29,
    "start_time": "2021-10-08T16:49:50.831Z"
   },
   {
    "duration": 29,
    "start_time": "2021-10-08T16:49:50.862Z"
   },
   {
    "duration": 72,
    "start_time": "2021-10-08T16:49:50.893Z"
   },
   {
    "duration": 4,
    "start_time": "2021-10-08T16:49:50.969Z"
   },
   {
    "duration": 22,
    "start_time": "2021-10-08T16:49:50.976Z"
   },
   {
    "duration": 108,
    "start_time": "2021-10-08T16:49:51.000Z"
   },
   {
    "duration": 247,
    "start_time": "2021-10-08T16:49:51.110Z"
   },
   {
    "duration": 634,
    "start_time": "2021-10-08T16:49:51.360Z"
   },
   {
    "duration": 447,
    "start_time": "2021-10-08T16:49:51.552Z"
   },
   {
    "duration": 439,
    "start_time": "2021-10-08T16:49:51.562Z"
   },
   {
    "duration": 435,
    "start_time": "2021-10-08T16:49:51.568Z"
   },
   {
    "duration": 432,
    "start_time": "2021-10-08T16:49:51.574Z"
   },
   {
    "duration": 430,
    "start_time": "2021-10-08T16:49:51.578Z"
   },
   {
    "duration": 428,
    "start_time": "2021-10-08T16:49:51.582Z"
   },
   {
    "duration": 425,
    "start_time": "2021-10-08T16:49:51.587Z"
   },
   {
    "duration": 422,
    "start_time": "2021-10-08T16:49:51.592Z"
   },
   {
    "duration": 419,
    "start_time": "2021-10-08T16:49:51.596Z"
   },
   {
    "duration": 417,
    "start_time": "2021-10-08T16:49:51.600Z"
   },
   {
    "duration": 413,
    "start_time": "2021-10-08T16:49:51.605Z"
   },
   {
    "duration": 410,
    "start_time": "2021-10-08T16:49:51.609Z"
   },
   {
    "duration": 409,
    "start_time": "2021-10-08T16:49:51.612Z"
   },
   {
    "duration": 407,
    "start_time": "2021-10-08T16:49:51.615Z"
   },
   {
    "duration": 404,
    "start_time": "2021-10-08T16:49:51.619Z"
   },
   {
    "duration": 524,
    "start_time": "2021-10-08T16:50:28.523Z"
   },
   {
    "duration": 114,
    "start_time": "2021-10-08T16:52:03.204Z"
   },
   {
    "duration": 1505,
    "start_time": "2021-10-08T16:53:38.787Z"
   },
   {
    "duration": 68,
    "start_time": "2021-10-08T16:53:40.295Z"
   },
   {
    "duration": 19,
    "start_time": "2021-10-08T16:53:40.366Z"
   },
   {
    "duration": 20,
    "start_time": "2021-10-08T16:53:40.388Z"
   },
   {
    "duration": 51,
    "start_time": "2021-10-08T16:53:40.411Z"
   },
   {
    "duration": 14,
    "start_time": "2021-10-08T16:53:40.464Z"
   },
   {
    "duration": 93,
    "start_time": "2021-10-08T16:53:40.481Z"
   },
   {
    "duration": 5,
    "start_time": "2021-10-08T16:53:40.578Z"
   },
   {
    "duration": 27,
    "start_time": "2021-10-08T16:53:40.586Z"
   },
   {
    "duration": 102,
    "start_time": "2021-10-08T16:53:40.616Z"
   },
   {
    "duration": 341,
    "start_time": "2021-10-08T16:53:40.721Z"
   },
   {
    "duration": 129,
    "start_time": "2021-10-08T16:53:41.065Z"
   },
   {
    "duration": 71,
    "start_time": "2021-10-08T16:53:41.197Z"
   },
   {
    "duration": 49,
    "start_time": "2021-10-08T16:53:41.360Z"
   },
   {
    "duration": 59,
    "start_time": "2021-10-08T16:53:41.411Z"
   },
   {
    "duration": 86,
    "start_time": "2021-10-08T16:53:41.473Z"
   },
   {
    "duration": 154,
    "start_time": "2021-10-08T16:53:41.562Z"
   },
   {
    "duration": 181,
    "start_time": "2021-10-08T16:53:41.719Z"
   },
   {
    "duration": 20,
    "start_time": "2021-10-08T16:53:41.902Z"
   },
   {
    "duration": 137,
    "start_time": "2021-10-08T16:53:41.925Z"
   },
   {
    "duration": 114,
    "start_time": "2021-10-08T16:53:42.064Z"
   },
   {
    "duration": 92,
    "start_time": "2021-10-08T16:53:42.180Z"
   },
   {
    "duration": 85,
    "start_time": "2021-10-08T16:53:42.278Z"
   },
   {
    "duration": 4050,
    "start_time": "2021-10-08T16:53:42.366Z"
   },
   {
    "duration": 42560,
    "start_time": "2021-10-08T16:53:46.419Z"
   },
   {
    "duration": 808,
    "start_time": "2021-10-08T16:54:28.982Z"
   },
   {
    "duration": 320,
    "start_time": "2021-10-08T16:54:29.793Z"
   },
   {
    "duration": 1031,
    "start_time": "2021-10-09T13:17:27.364Z"
   },
   {
    "duration": 48,
    "start_time": "2021-10-09T13:17:28.397Z"
   },
   {
    "duration": 12,
    "start_time": "2021-10-09T13:17:28.448Z"
   },
   {
    "duration": 15,
    "start_time": "2021-10-09T13:17:28.462Z"
   },
   {
    "duration": 21,
    "start_time": "2021-10-09T13:17:28.479Z"
   },
   {
    "duration": 10,
    "start_time": "2021-10-09T13:17:28.502Z"
   },
   {
    "duration": 36,
    "start_time": "2021-10-09T13:17:28.514Z"
   },
   {
    "duration": 4,
    "start_time": "2021-10-09T13:17:28.553Z"
   },
   {
    "duration": 48,
    "start_time": "2021-10-09T13:17:28.560Z"
   },
   {
    "duration": 40,
    "start_time": "2021-10-09T13:17:28.609Z"
   },
   {
    "duration": 163,
    "start_time": "2021-10-09T13:17:28.650Z"
   },
   {
    "duration": 87,
    "start_time": "2021-10-09T13:17:28.815Z"
   },
   {
    "duration": 97,
    "start_time": "2021-10-09T13:17:28.903Z"
   },
   {
    "duration": 128,
    "start_time": "2021-10-09T13:17:29.003Z"
   },
   {
    "duration": 13,
    "start_time": "2021-10-09T13:17:29.132Z"
   },
   {
    "duration": 55,
    "start_time": "2021-10-09T13:17:29.147Z"
   },
   {
    "duration": 129,
    "start_time": "2021-10-09T13:17:29.203Z"
   },
   {
    "duration": 116,
    "start_time": "2021-10-09T13:17:29.334Z"
   },
   {
    "duration": 14,
    "start_time": "2021-10-09T13:17:29.452Z"
   },
   {
    "duration": 37,
    "start_time": "2021-10-09T13:17:29.468Z"
   },
   {
    "duration": 110,
    "start_time": "2021-10-09T13:17:29.507Z"
   },
   {
    "duration": 98,
    "start_time": "2021-10-09T13:17:29.619Z"
   },
   {
    "duration": 80,
    "start_time": "2021-10-09T13:17:29.721Z"
   },
   {
    "duration": 2604,
    "start_time": "2021-10-09T13:17:29.803Z"
   },
   {
    "duration": 26794,
    "start_time": "2021-10-09T13:17:32.409Z"
   },
   {
    "duration": 535,
    "start_time": "2021-10-09T13:17:59.205Z"
   },
   {
    "duration": 203,
    "start_time": "2021-10-09T13:17:59.741Z"
   },
   {
    "duration": 414,
    "start_time": "2021-10-09T13:19:42.201Z"
   },
   {
    "duration": 328,
    "start_time": "2021-10-09T13:22:17.659Z"
   },
   {
    "duration": 270,
    "start_time": "2021-10-09T13:23:35.396Z"
   },
   {
    "duration": 666,
    "start_time": "2021-10-09T13:25:27.167Z"
   },
   {
    "duration": 1081,
    "start_time": "2021-10-09T13:29:06.318Z"
   },
   {
    "duration": 45,
    "start_time": "2021-10-09T13:29:07.401Z"
   },
   {
    "duration": 12,
    "start_time": "2021-10-09T13:29:07.448Z"
   },
   {
    "duration": 10,
    "start_time": "2021-10-09T13:29:07.461Z"
   },
   {
    "duration": 5,
    "start_time": "2021-10-09T13:29:07.472Z"
   },
   {
    "duration": 25,
    "start_time": "2021-10-09T13:29:07.479Z"
   },
   {
    "duration": 36,
    "start_time": "2021-10-09T13:29:07.506Z"
   },
   {
    "duration": 3,
    "start_time": "2021-10-09T13:29:07.544Z"
   },
   {
    "duration": 13,
    "start_time": "2021-10-09T13:29:07.549Z"
   },
   {
    "duration": 65,
    "start_time": "2021-10-09T13:29:07.563Z"
   },
   {
    "duration": 152,
    "start_time": "2021-10-09T13:29:07.630Z"
   },
   {
    "duration": 84,
    "start_time": "2021-10-09T13:29:07.783Z"
   },
   {
    "duration": 33,
    "start_time": "2021-10-09T13:29:07.869Z"
   },
   {
    "duration": 210,
    "start_time": "2021-10-09T13:29:07.904Z"
   },
   {
    "duration": 13,
    "start_time": "2021-10-09T13:29:08.116Z"
   },
   {
    "duration": 73,
    "start_time": "2021-10-09T13:29:08.131Z"
   },
   {
    "duration": 211,
    "start_time": "2021-10-09T13:29:08.207Z"
   },
   {
    "duration": 116,
    "start_time": "2021-10-09T13:29:08.420Z"
   },
   {
    "duration": 14,
    "start_time": "2021-10-09T13:29:08.538Z"
   },
   {
    "duration": 51,
    "start_time": "2021-10-09T13:29:08.554Z"
   },
   {
    "duration": 197,
    "start_time": "2021-10-09T13:29:08.607Z"
   },
   {
    "duration": 47,
    "start_time": "2021-10-09T13:29:08.806Z"
   },
   {
    "duration": 50,
    "start_time": "2021-10-09T13:29:08.856Z"
   },
   {
    "duration": 2664,
    "start_time": "2021-10-09T13:29:08.909Z"
   },
   {
    "duration": 27203,
    "start_time": "2021-10-09T13:29:11.575Z"
   },
   {
    "duration": 516,
    "start_time": "2021-10-09T13:29:38.779Z"
   },
   {
    "duration": 190,
    "start_time": "2021-10-09T13:29:39.296Z"
   },
   {
    "duration": 1095,
    "start_time": "2021-10-09T13:34:13.493Z"
   },
   {
    "duration": 46,
    "start_time": "2021-10-09T13:34:14.590Z"
   },
   {
    "duration": 12,
    "start_time": "2021-10-09T13:34:14.638Z"
   },
   {
    "duration": 9,
    "start_time": "2021-10-09T13:34:14.652Z"
   },
   {
    "duration": 5,
    "start_time": "2021-10-09T13:34:14.662Z"
   },
   {
    "duration": 32,
    "start_time": "2021-10-09T13:34:14.668Z"
   },
   {
    "duration": 36,
    "start_time": "2021-10-09T13:34:14.702Z"
   },
   {
    "duration": 3,
    "start_time": "2021-10-09T13:34:14.740Z"
   },
   {
    "duration": 16,
    "start_time": "2021-10-09T13:34:14.745Z"
   },
   {
    "duration": 63,
    "start_time": "2021-10-09T13:34:14.762Z"
   },
   {
    "duration": 151,
    "start_time": "2021-10-09T13:34:14.827Z"
   },
   {
    "duration": 83,
    "start_time": "2021-10-09T13:34:14.980Z"
   },
   {
    "duration": 38,
    "start_time": "2021-10-09T13:34:15.065Z"
   },
   {
    "duration": 195,
    "start_time": "2021-10-09T13:34:15.105Z"
   },
   {
    "duration": 14,
    "start_time": "2021-10-09T13:34:15.301Z"
   },
   {
    "duration": 86,
    "start_time": "2021-10-09T13:34:15.317Z"
   },
   {
    "duration": 132,
    "start_time": "2021-10-09T13:34:15.405Z"
   },
   {
    "duration": 120,
    "start_time": "2021-10-09T13:34:15.539Z"
   },
   {
    "duration": 15,
    "start_time": "2021-10-09T13:34:15.661Z"
   },
   {
    "duration": 121,
    "start_time": "2021-10-09T13:34:15.678Z"
   },
   {
    "duration": 112,
    "start_time": "2021-10-09T13:34:15.802Z"
   },
   {
    "duration": 47,
    "start_time": "2021-10-09T13:34:15.915Z"
   },
   {
    "duration": 50,
    "start_time": "2021-10-09T13:34:15.965Z"
   },
   {
    "duration": 2610,
    "start_time": "2021-10-09T13:34:16.101Z"
   },
   {
    "duration": 26766,
    "start_time": "2021-10-09T13:34:18.712Z"
   },
   {
    "duration": 533,
    "start_time": "2021-10-09T13:34:45.480Z"
   },
   {
    "duration": 193,
    "start_time": "2021-10-09T13:34:46.014Z"
   }
  ],
  "kernelspec": {
   "display_name": "Python 3 (ipykernel)",
   "language": "python",
   "name": "python3"
  },
  "language_info": {
   "codemirror_mode": {
    "name": "ipython",
    "version": 3
   },
   "file_extension": ".py",
   "mimetype": "text/x-python",
   "name": "python",
   "nbconvert_exporter": "python",
   "pygments_lexer": "ipython3",
   "version": "3.9.7"
  },
  "toc": {
   "base_numbering": 1,
   "nav_menu": {},
   "number_sections": true,
   "sideBar": true,
   "skip_h1_title": true,
   "title_cell": "Table of Contents",
   "title_sidebar": "Contents",
   "toc_cell": false,
   "toc_position": {},
   "toc_section_display": true,
   "toc_window_display": true
  }
 },
 "nbformat": 4,
 "nbformat_minor": 2
}
