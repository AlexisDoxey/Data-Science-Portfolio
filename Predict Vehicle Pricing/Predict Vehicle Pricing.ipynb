{
 "cells": [
  {
   "cell_type": "markdown",
   "metadata": {},
   "source": [
    "# Vehicle Price Prediction with Machine Learning"
   ]
  },
  {
   "cell_type": "markdown",
   "metadata": {},
   "source": [
    "Rusty Bargain used car sales service is developing an app to attract new customers. In that app, you can quickly find out the market value of your car. You have access to historical data: technical specifications, trim versions, and prices. You need to build the model to determine the value. \n",
    "\n",
    "Rusty Bargain is interested in:\n",
    "\n",
    "- the quality of the prediction;\n",
    "- the speed of the prediction;\n",
    "- the time required for training"
   ]
  },
  {
   "cell_type": "code",
   "execution_count": 1,
   "metadata": {},
   "outputs": [],
   "source": [
    "import pandas as pd\n",
    "import numpy as np\n",
    "from scipy import stats\n",
    "import seaborn as sns\n",
    "import matplotlib.pyplot as plt\n",
    "import random\n",
    "import time\n",
    "\n",
    "from sklearn.ensemble import RandomForestRegressor\n",
    "from sklearn.linear_model import LinearRegression\n",
    "from catboost import CatBoostRegressor\n",
    "from lightgbm import LGBMRegressor\n",
    "from xgboost import XGBRegressor\n",
    "\n",
    "from sklearn.model_selection import train_test_split, GridSearchCV\n",
    "from sklearn.preprocessing import OneHotEncoder\n",
    "from sklearn.preprocessing import OrdinalEncoder\n",
    "from sklearn.metrics import mean_squared_error\n",
    "from sklearn.preprocessing import StandardScaler"
   ]
  },
  {
   "cell_type": "markdown",
   "metadata": {},
   "source": [
    "## Data preparation"
   ]
  },
  {
   "cell_type": "markdown",
   "metadata": {},
   "source": [
    "### Upload Data"
   ]
  },
  {
   "cell_type": "code",
   "execution_count": 2,
   "metadata": {},
   "outputs": [],
   "source": [
    "# load data\n",
    "\n",
    "cars = pd.read_csv('/datasets/car_data.csv')"
   ]
  },
  {
   "cell_type": "code",
   "execution_count": 3,
   "metadata": {},
   "outputs": [
    {
     "data": {
      "text/html": [
       "<div>\n",
       "<style scoped>\n",
       "    .dataframe tbody tr th:only-of-type {\n",
       "        vertical-align: middle;\n",
       "    }\n",
       "\n",
       "    .dataframe tbody tr th {\n",
       "        vertical-align: top;\n",
       "    }\n",
       "\n",
       "    .dataframe thead th {\n",
       "        text-align: right;\n",
       "    }\n",
       "</style>\n",
       "<table border=\"1\" class=\"dataframe\">\n",
       "  <thead>\n",
       "    <tr style=\"text-align: right;\">\n",
       "      <th></th>\n",
       "      <th>DateCrawled</th>\n",
       "      <th>Price</th>\n",
       "      <th>VehicleType</th>\n",
       "      <th>RegistrationYear</th>\n",
       "      <th>Gearbox</th>\n",
       "      <th>Power</th>\n",
       "      <th>Model</th>\n",
       "      <th>Mileage</th>\n",
       "      <th>RegistrationMonth</th>\n",
       "      <th>FuelType</th>\n",
       "      <th>Brand</th>\n",
       "      <th>NotRepaired</th>\n",
       "      <th>DateCreated</th>\n",
       "      <th>NumberOfPictures</th>\n",
       "      <th>PostalCode</th>\n",
       "      <th>LastSeen</th>\n",
       "    </tr>\n",
       "  </thead>\n",
       "  <tbody>\n",
       "    <tr>\n",
       "      <td>237850</td>\n",
       "      <td>12/03/2016 18:49</td>\n",
       "      <td>3300</td>\n",
       "      <td>sedan</td>\n",
       "      <td>2003</td>\n",
       "      <td>manual</td>\n",
       "      <td>102</td>\n",
       "      <td>a3</td>\n",
       "      <td>150000</td>\n",
       "      <td>3</td>\n",
       "      <td>petrol</td>\n",
       "      <td>audi</td>\n",
       "      <td>no</td>\n",
       "      <td>12/03/2016 00:00</td>\n",
       "      <td>0</td>\n",
       "      <td>78532</td>\n",
       "      <td>16/03/2016 00:46</td>\n",
       "    </tr>\n",
       "    <tr>\n",
       "      <td>210136</td>\n",
       "      <td>23/03/2016 18:49</td>\n",
       "      <td>2350</td>\n",
       "      <td>wagon</td>\n",
       "      <td>2001</td>\n",
       "      <td>auto</td>\n",
       "      <td>197</td>\n",
       "      <td>e_klasse</td>\n",
       "      <td>150000</td>\n",
       "      <td>0</td>\n",
       "      <td>gasoline</td>\n",
       "      <td>mercedes_benz</td>\n",
       "      <td>NaN</td>\n",
       "      <td>23/03/2016 00:00</td>\n",
       "      <td>0</td>\n",
       "      <td>1458</td>\n",
       "      <td>05/04/2016 23:45</td>\n",
       "    </tr>\n",
       "    <tr>\n",
       "      <td>212888</td>\n",
       "      <td>11/03/2016 17:53</td>\n",
       "      <td>599</td>\n",
       "      <td>sedan</td>\n",
       "      <td>1995</td>\n",
       "      <td>manual</td>\n",
       "      <td>75</td>\n",
       "      <td>colt</td>\n",
       "      <td>150000</td>\n",
       "      <td>6</td>\n",
       "      <td>petrol</td>\n",
       "      <td>mitsubishi</td>\n",
       "      <td>no</td>\n",
       "      <td>11/03/2016 00:00</td>\n",
       "      <td>0</td>\n",
       "      <td>45355</td>\n",
       "      <td>12/03/2016 08:15</td>\n",
       "    </tr>\n",
       "    <tr>\n",
       "      <td>20621</td>\n",
       "      <td>06/03/2016 21:06</td>\n",
       "      <td>3690</td>\n",
       "      <td>NaN</td>\n",
       "      <td>1995</td>\n",
       "      <td>NaN</td>\n",
       "      <td>0</td>\n",
       "      <td>other</td>\n",
       "      <td>150000</td>\n",
       "      <td>0</td>\n",
       "      <td>gasoline</td>\n",
       "      <td>fiat</td>\n",
       "      <td>NaN</td>\n",
       "      <td>06/03/2016 00:00</td>\n",
       "      <td>0</td>\n",
       "      <td>57299</td>\n",
       "      <td>30/03/2016 19:18</td>\n",
       "    </tr>\n",
       "    <tr>\n",
       "      <td>229541</td>\n",
       "      <td>21/03/2016 00:56</td>\n",
       "      <td>2700</td>\n",
       "      <td>NaN</td>\n",
       "      <td>2017</td>\n",
       "      <td>auto</td>\n",
       "      <td>0</td>\n",
       "      <td>fortwo</td>\n",
       "      <td>150000</td>\n",
       "      <td>2</td>\n",
       "      <td>petrol</td>\n",
       "      <td>smart</td>\n",
       "      <td>no</td>\n",
       "      <td>21/03/2016 00:00</td>\n",
       "      <td>0</td>\n",
       "      <td>77656</td>\n",
       "      <td>22/03/2016 12:16</td>\n",
       "    </tr>\n",
       "  </tbody>\n",
       "</table>\n",
       "</div>"
      ],
      "text/plain": [
       "             DateCrawled  Price VehicleType  RegistrationYear Gearbox  Power  \\\n",
       "237850  12/03/2016 18:49   3300       sedan              2003  manual    102   \n",
       "210136  23/03/2016 18:49   2350       wagon              2001    auto    197   \n",
       "212888  11/03/2016 17:53    599       sedan              1995  manual     75   \n",
       "20621   06/03/2016 21:06   3690         NaN              1995     NaN      0   \n",
       "229541  21/03/2016 00:56   2700         NaN              2017    auto      0   \n",
       "\n",
       "           Model  Mileage  RegistrationMonth  FuelType          Brand  \\\n",
       "237850        a3   150000                  3    petrol           audi   \n",
       "210136  e_klasse   150000                  0  gasoline  mercedes_benz   \n",
       "212888      colt   150000                  6    petrol     mitsubishi   \n",
       "20621      other   150000                  0  gasoline           fiat   \n",
       "229541    fortwo   150000                  2    petrol          smart   \n",
       "\n",
       "       NotRepaired       DateCreated  NumberOfPictures  PostalCode  \\\n",
       "237850          no  12/03/2016 00:00                 0       78532   \n",
       "210136         NaN  23/03/2016 00:00                 0        1458   \n",
       "212888          no  11/03/2016 00:00                 0       45355   \n",
       "20621          NaN  06/03/2016 00:00                 0       57299   \n",
       "229541          no  21/03/2016 00:00                 0       77656   \n",
       "\n",
       "                LastSeen  \n",
       "237850  16/03/2016 00:46  \n",
       "210136  05/04/2016 23:45  \n",
       "212888  12/03/2016 08:15  \n",
       "20621   30/03/2016 19:18  \n",
       "229541  22/03/2016 12:16  "
      ]
     },
     "metadata": {},
     "output_type": "display_data"
    },
    {
     "name": "stdout",
     "output_type": "stream",
     "text": [
      "<class 'pandas.core.frame.DataFrame'>\n",
      "RangeIndex: 354369 entries, 0 to 354368\n",
      "Data columns (total 16 columns):\n",
      "DateCrawled          354369 non-null object\n",
      "Price                354369 non-null int64\n",
      "VehicleType          316879 non-null object\n",
      "RegistrationYear     354369 non-null int64\n",
      "Gearbox              334536 non-null object\n",
      "Power                354369 non-null int64\n",
      "Model                334664 non-null object\n",
      "Mileage              354369 non-null int64\n",
      "RegistrationMonth    354369 non-null int64\n",
      "FuelType             321474 non-null object\n",
      "Brand                354369 non-null object\n",
      "NotRepaired          283215 non-null object\n",
      "DateCreated          354369 non-null object\n",
      "NumberOfPictures     354369 non-null int64\n",
      "PostalCode           354369 non-null int64\n",
      "LastSeen             354369 non-null object\n",
      "dtypes: int64(7), object(9)\n",
      "memory usage: 43.3+ MB\n"
     ]
    },
    {
     "data": {
      "text/plain": [
       "None"
      ]
     },
     "metadata": {},
     "output_type": "display_data"
    },
    {
     "data": {
      "text/html": [
       "<div>\n",
       "<style scoped>\n",
       "    .dataframe tbody tr th:only-of-type {\n",
       "        vertical-align: middle;\n",
       "    }\n",
       "\n",
       "    .dataframe tbody tr th {\n",
       "        vertical-align: top;\n",
       "    }\n",
       "\n",
       "    .dataframe thead th {\n",
       "        text-align: right;\n",
       "    }\n",
       "</style>\n",
       "<table border=\"1\" class=\"dataframe\">\n",
       "  <thead>\n",
       "    <tr style=\"text-align: right;\">\n",
       "      <th></th>\n",
       "      <th>Price</th>\n",
       "      <th>RegistrationYear</th>\n",
       "      <th>Power</th>\n",
       "      <th>Mileage</th>\n",
       "      <th>RegistrationMonth</th>\n",
       "      <th>NumberOfPictures</th>\n",
       "      <th>PostalCode</th>\n",
       "    </tr>\n",
       "  </thead>\n",
       "  <tbody>\n",
       "    <tr>\n",
       "      <td>count</td>\n",
       "      <td>354369.000000</td>\n",
       "      <td>354369.000000</td>\n",
       "      <td>354369.000000</td>\n",
       "      <td>354369.000000</td>\n",
       "      <td>354369.000000</td>\n",
       "      <td>354369.0</td>\n",
       "      <td>354369.000000</td>\n",
       "    </tr>\n",
       "    <tr>\n",
       "      <td>mean</td>\n",
       "      <td>4416.656776</td>\n",
       "      <td>2004.234448</td>\n",
       "      <td>110.094337</td>\n",
       "      <td>128211.172535</td>\n",
       "      <td>5.714645</td>\n",
       "      <td>0.0</td>\n",
       "      <td>50508.689087</td>\n",
       "    </tr>\n",
       "    <tr>\n",
       "      <td>std</td>\n",
       "      <td>4514.158514</td>\n",
       "      <td>90.227958</td>\n",
       "      <td>189.850405</td>\n",
       "      <td>37905.341530</td>\n",
       "      <td>3.726421</td>\n",
       "      <td>0.0</td>\n",
       "      <td>25783.096248</td>\n",
       "    </tr>\n",
       "    <tr>\n",
       "      <td>min</td>\n",
       "      <td>0.000000</td>\n",
       "      <td>1000.000000</td>\n",
       "      <td>0.000000</td>\n",
       "      <td>5000.000000</td>\n",
       "      <td>0.000000</td>\n",
       "      <td>0.0</td>\n",
       "      <td>1067.000000</td>\n",
       "    </tr>\n",
       "    <tr>\n",
       "      <td>25%</td>\n",
       "      <td>1050.000000</td>\n",
       "      <td>1999.000000</td>\n",
       "      <td>69.000000</td>\n",
       "      <td>125000.000000</td>\n",
       "      <td>3.000000</td>\n",
       "      <td>0.0</td>\n",
       "      <td>30165.000000</td>\n",
       "    </tr>\n",
       "    <tr>\n",
       "      <td>50%</td>\n",
       "      <td>2700.000000</td>\n",
       "      <td>2003.000000</td>\n",
       "      <td>105.000000</td>\n",
       "      <td>150000.000000</td>\n",
       "      <td>6.000000</td>\n",
       "      <td>0.0</td>\n",
       "      <td>49413.000000</td>\n",
       "    </tr>\n",
       "    <tr>\n",
       "      <td>75%</td>\n",
       "      <td>6400.000000</td>\n",
       "      <td>2008.000000</td>\n",
       "      <td>143.000000</td>\n",
       "      <td>150000.000000</td>\n",
       "      <td>9.000000</td>\n",
       "      <td>0.0</td>\n",
       "      <td>71083.000000</td>\n",
       "    </tr>\n",
       "    <tr>\n",
       "      <td>max</td>\n",
       "      <td>20000.000000</td>\n",
       "      <td>9999.000000</td>\n",
       "      <td>20000.000000</td>\n",
       "      <td>150000.000000</td>\n",
       "      <td>12.000000</td>\n",
       "      <td>0.0</td>\n",
       "      <td>99998.000000</td>\n",
       "    </tr>\n",
       "  </tbody>\n",
       "</table>\n",
       "</div>"
      ],
      "text/plain": [
       "               Price  RegistrationYear          Power        Mileage  \\\n",
       "count  354369.000000     354369.000000  354369.000000  354369.000000   \n",
       "mean     4416.656776       2004.234448     110.094337  128211.172535   \n",
       "std      4514.158514         90.227958     189.850405   37905.341530   \n",
       "min         0.000000       1000.000000       0.000000    5000.000000   \n",
       "25%      1050.000000       1999.000000      69.000000  125000.000000   \n",
       "50%      2700.000000       2003.000000     105.000000  150000.000000   \n",
       "75%      6400.000000       2008.000000     143.000000  150000.000000   \n",
       "max     20000.000000       9999.000000   20000.000000  150000.000000   \n",
       "\n",
       "       RegistrationMonth  NumberOfPictures     PostalCode  \n",
       "count      354369.000000          354369.0  354369.000000  \n",
       "mean            5.714645               0.0   50508.689087  \n",
       "std             3.726421               0.0   25783.096248  \n",
       "min             0.000000               0.0    1067.000000  \n",
       "25%             3.000000               0.0   30165.000000  \n",
       "50%             6.000000               0.0   49413.000000  \n",
       "75%             9.000000               0.0   71083.000000  \n",
       "max            12.000000               0.0   99998.000000  "
      ]
     },
     "metadata": {},
     "output_type": "display_data"
    }
   ],
   "source": [
    "display(cars.sample(5))\n",
    "display(cars.info())\n",
    "display(cars.describe())"
   ]
  },
  {
   "cell_type": "markdown",
   "metadata": {},
   "source": [
    "### Change Column Names"
   ]
  },
  {
   "cell_type": "code",
   "execution_count": 4,
   "metadata": {},
   "outputs": [],
   "source": [
    "# change column names\n",
    "cars = cars.rename(columns={'DateCrawled': 'date_crawled', 'Price': 'price', 'VehicleType': 'vehicle_type', 'RegistrationYear': 'registration_year', 'Gearbox': 'gearbox',\n",
    "       'Power': 'power', 'Model': 'model', 'Mileage': 'mileage', 'RegistrationMonth': 'registration_month', 'FuelType': 'fuel_type', 'Brand': 'brand',\n",
    "       'NotRepaired': 'not_repaired', 'DateCreated': 'date_created', 'NumberOfPictures': 'number_of_pictures', 'PostalCode': 'postal_code', 'LastSeen': 'last_seen'})"
   ]
  },
  {
   "cell_type": "markdown",
   "metadata": {},
   "source": [
    "### Check for Duplicates"
   ]
  },
  {
   "cell_type": "code",
   "execution_count": 5,
   "metadata": {},
   "outputs": [
    {
     "data": {
      "text/plain": [
       "262"
      ]
     },
     "execution_count": 5,
     "metadata": {},
     "output_type": "execute_result"
    }
   ],
   "source": [
    "# check for duplicate data\n",
    "cars.duplicated().sum()"
   ]
  },
  {
   "cell_type": "code",
   "execution_count": 6,
   "metadata": {},
   "outputs": [
    {
     "data": {
      "text/plain": [
       "0"
      ]
     },
     "execution_count": 6,
     "metadata": {},
     "output_type": "execute_result"
    }
   ],
   "source": [
    "# remove duplicates\n",
    "cars = cars.drop_duplicates().reset_index(drop = True)\n",
    "\n",
    "# check duplicates were removed\n",
    "cars.duplicated().sum()"
   ]
  },
  {
   "cell_type": "markdown",
   "metadata": {},
   "source": [
    "### Check for Missing Data"
   ]
  },
  {
   "cell_type": "code",
   "execution_count": 7,
   "metadata": {},
   "outputs": [
    {
     "data": {
      "text/plain": [
       "date_crawled              0\n",
       "price                     0\n",
       "vehicle_type          37484\n",
       "registration_year         0\n",
       "gearbox               19830\n",
       "power                     0\n",
       "model                 19701\n",
       "mileage                   0\n",
       "registration_month        0\n",
       "fuel_type             32889\n",
       "brand                     0\n",
       "not_repaired          71145\n",
       "date_created              0\n",
       "number_of_pictures        0\n",
       "postal_code               0\n",
       "last_seen                 0\n",
       "dtype: int64"
      ]
     },
     "execution_count": 7,
     "metadata": {},
     "output_type": "execute_result"
    }
   ],
   "source": [
    "# check for missing values\n",
    "cars.isnull().sum()"
   ]
  },
  {
   "cell_type": "code",
   "execution_count": 8,
   "metadata": {},
   "outputs": [
    {
     "name": "stdout",
     "output_type": "stream",
     "text": [
      "Missing value percentage in vehicle_type column: 11.84%\n",
      "Missing value percentage in gearbox column: 5.93%\n",
      "Missing value percentage in model column: 5.89%\n",
      "Missing value percentage in fuel_type column: 10.24%\n",
      "Missing value percentage in not_repaired column: 25.14%\n"
     ]
    }
   ],
   "source": [
    "# percentage of missing values\n",
    "\n",
    "print(\"Missing value percentage in vehicle_type column: {:.2%}\".format(cars['vehicle_type'].isnull().sum() / cars['vehicle_type'].count()))\n",
    "\n",
    "print(\"Missing value percentage in gearbox column: {:.2%}\".format(cars['gearbox'].isnull().sum() / cars['gearbox'].count()))\n",
    "\n",
    "print(\"Missing value percentage in model column: {:.2%}\".format(cars['model'].isnull().sum() / cars['model'].count()))\n",
    "\n",
    "print(\"Missing value percentage in fuel_type column: {:.2%}\".format(cars['fuel_type'].isnull().sum() / cars['fuel_type'].count()))\n",
    "\n",
    "print(\"Missing value percentage in not_repaired column: {:.2%}\".format(cars['not_repaired'].isnull().sum() / cars['not_repaired'].count()))"
   ]
  },
  {
   "cell_type": "code",
   "execution_count": 9,
   "metadata": {},
   "outputs": [],
   "source": [
    "# function to replace missing values\n",
    "def replace_missing_value(unique_value_feature, col_to_replace):  \n",
    "    \"\"\"\n",
    "    This function is used to replace a missing value in a column\n",
    "    using possible unique value features for those missing values    \n",
    "    \"\"\"\n",
    "    # get unique value of feature from this dataframe\n",
    "    for value in cars[unique_value_feature].unique().tolist():\n",
    "        # get specific value of features using possible value from column value to replace\n",
    "        specific_value_cars = cars[cars[unique_value_feature] == value].dropna()[col_to_replace]    \n",
    "        value_replacement_list = specific_value_cars.unique().tolist()\n",
    "        # for the missing value, assign a random choice of the replacement value for that unknown value\n",
    "        if value_replacement_list != []:\n",
    "            cars.loc[(cars[unique_value_feature] == value) & (cars[col_to_replace] != cars[col_to_replace]), col_to_replace] = random.choice(value_replacement_list)\n",
    "        else:\n",
    "            cars.loc[(cars[unique_value_feature] == value) & (cars[col_to_replace] != cars[col_to_replace]), col_to_replace] = cars[col_to_replace].mode()"
   ]
  },
  {
   "cell_type": "code",
   "execution_count": 10,
   "metadata": {},
   "outputs": [
    {
     "name": "stdout",
     "output_type": "stream",
     "text": [
      "Missing value percentage in model column: 0.96%\n"
     ]
    }
   ],
   "source": [
    "# replace missing values in model column\n",
    "replace_missing_value('brand', 'model')\n",
    "\n",
    "print(\"Missing value percentage in model column: {:.2%}\".format(cars['model'].isnull().sum() / cars['model'].count()))"
   ]
  },
  {
   "cell_type": "code",
   "execution_count": 11,
   "metadata": {},
   "outputs": [
    {
     "name": "stdout",
     "output_type": "stream",
     "text": [
      "Missing value percentage in vehicle_type column: 0.30%\n"
     ]
    }
   ],
   "source": [
    "# replace missing values in vehicle type\n",
    "replace_missing_value('model', 'vehicle_type')\n",
    "\n",
    "print(\"Missing value percentage in vehicle_type column: {:.2%}\".format(cars['vehicle_type'].isnull().sum() / cars['vehicle_type'].count()))"
   ]
  },
  {
   "cell_type": "code",
   "execution_count": 12,
   "metadata": {},
   "outputs": [
    {
     "name": "stdout",
     "output_type": "stream",
     "text": [
      "Missing value percentage in gearbox column: 0.31%\n"
     ]
    }
   ],
   "source": [
    "replace_missing_value('model', 'gearbox')\n",
    "\n",
    "print(\"Missing value percentage in gearbox column: {:.2%}\".format(cars['gearbox'].isnull().sum() / cars['gearbox'].count()))"
   ]
  },
  {
   "cell_type": "code",
   "execution_count": 13,
   "metadata": {},
   "outputs": [
    {
     "name": "stdout",
     "output_type": "stream",
     "text": [
      "Missing value percentage in fuel_type column: 0.31%\n"
     ]
    }
   ],
   "source": [
    "replace_missing_value('model', 'fuel_type')\n",
    "\n",
    "print(\"Missing value percentage in fuel_type column: {:.2%}\".format(cars['fuel_type'].isnull().sum() / cars['fuel_type'].count()))"
   ]
  },
  {
   "cell_type": "code",
   "execution_count": 14,
   "metadata": {},
   "outputs": [
    {
     "name": "stdout",
     "output_type": "stream",
     "text": [
      "Missing value percentage in not_repaired column: 0.00%\n"
     ]
    }
   ],
   "source": [
    "cars['not_repaired'].fillna('unknown', inplace=True)\n",
    "\n",
    "print(\"Missing value percentage in not_repaired column: {:.2%}\".format(cars['not_repaired'].isnull().sum() / cars['not_repaired'].count()))"
   ]
  },
  {
   "cell_type": "code",
   "execution_count": 15,
   "metadata": {},
   "outputs": [
    {
     "data": {
      "text/plain": [
       "date_crawled             0\n",
       "price                    0\n",
       "vehicle_type          1042\n",
       "registration_year        0\n",
       "gearbox               1104\n",
       "power                    0\n",
       "model                 3373\n",
       "mileage                  0\n",
       "registration_month       0\n",
       "fuel_type             1104\n",
       "brand                    0\n",
       "not_repaired             0\n",
       "date_created             0\n",
       "number_of_pictures       0\n",
       "postal_code              0\n",
       "last_seen                0\n",
       "dtype: int64"
      ]
     },
     "execution_count": 15,
     "metadata": {},
     "output_type": "execute_result"
    }
   ],
   "source": [
    "cars.isnull().sum()"
   ]
  },
  {
   "cell_type": "code",
   "execution_count": 16,
   "metadata": {},
   "outputs": [
    {
     "data": {
      "text/plain": [
       "date_crawled          0\n",
       "price                 0\n",
       "vehicle_type          0\n",
       "registration_year     0\n",
       "gearbox               0\n",
       "power                 0\n",
       "model                 0\n",
       "mileage               0\n",
       "registration_month    0\n",
       "fuel_type             0\n",
       "brand                 0\n",
       "not_repaired          0\n",
       "date_created          0\n",
       "number_of_pictures    0\n",
       "postal_code           0\n",
       "last_seen             0\n",
       "dtype: int64"
      ]
     },
     "execution_count": 16,
     "metadata": {},
     "output_type": "execute_result"
    }
   ],
   "source": [
    "cars.dropna(inplace = True)\n",
    "\n",
    "cars.isnull().sum()"
   ]
  },
  {
   "cell_type": "markdown",
   "metadata": {},
   "source": [
    "### Change Datatypes"
   ]
  },
  {
   "cell_type": "code",
   "execution_count": 17,
   "metadata": {},
   "outputs": [],
   "source": [
    "# change data types to datetime\n",
    "cars['date_crawled'] = pd.to_datetime(cars['date_crawled'])\n",
    "cars['date_created'] = pd.to_datetime(cars['date_created'])\n",
    "cars['last_seen'] = pd.to_datetime(cars['last_seen'])"
   ]
  },
  {
   "cell_type": "code",
   "execution_count": 18,
   "metadata": {},
   "outputs": [
    {
     "name": "stdout",
     "output_type": "stream",
     "text": [
      "<class 'pandas.core.frame.DataFrame'>\n",
      "Int64Index: 350733 entries, 0 to 354106\n",
      "Data columns (total 16 columns):\n",
      "date_crawled          350733 non-null datetime64[ns]\n",
      "price                 350733 non-null int64\n",
      "vehicle_type          350733 non-null object\n",
      "registration_year     350733 non-null int64\n",
      "gearbox               350733 non-null object\n",
      "power                 350733 non-null int64\n",
      "model                 350733 non-null object\n",
      "mileage               350733 non-null int64\n",
      "registration_month    350733 non-null int64\n",
      "fuel_type             350733 non-null object\n",
      "brand                 350733 non-null object\n",
      "not_repaired          350733 non-null object\n",
      "date_created          350733 non-null datetime64[ns]\n",
      "number_of_pictures    350733 non-null int64\n",
      "postal_code           350733 non-null int64\n",
      "last_seen             350733 non-null datetime64[ns]\n",
      "dtypes: datetime64[ns](3), int64(7), object(6)\n",
      "memory usage: 45.5+ MB\n"
     ]
    }
   ],
   "source": [
    "cars.info()"
   ]
  },
  {
   "cell_type": "markdown",
   "metadata": {},
   "source": [
    "### Check for Outliers"
   ]
  },
  {
   "cell_type": "code",
   "execution_count": 19,
   "metadata": {},
   "outputs": [
    {
     "data": {
      "text/plain": [
       "<matplotlib.axes._subplots.AxesSubplot at 0x7fbc1e567550>"
      ]
     },
     "execution_count": 19,
     "metadata": {},
     "output_type": "execute_result"
    },
    {
     "data": {
      "image/png": "[encoded data removed]",
      "text/plain": [
       "<Figure size 432x288 with 1 Axes>"
      ]
     },
     "metadata": {
      "needs_background": "light"
     },
     "output_type": "display_data"
    }
   ],
   "source": [
    "cars['price'].plot(kind='hist')"
   ]
  },
  {
   "cell_type": "code",
   "execution_count": 20,
   "metadata": {},
   "outputs": [
    {
     "data": {
      "text/plain": [
       "<matplotlib.axes._subplots.AxesSubplot at 0x7fbc1be19c10>"
      ]
     },
     "execution_count": 20,
     "metadata": {},
     "output_type": "execute_result"
    },
    {
     "data": {
      "image/png": "[encoded data removed]",
      "text/plain": [
       "<Figure size 432x288 with 1 Axes>"
      ]
     },
     "metadata": {
      "needs_background": "light"
     },
     "output_type": "display_data"
    }
   ],
   "source": [
    "cars['vehicle_type'].value_counts().plot(kind = 'bar')"
   ]
  },
  {
   "cell_type": "code",
   "execution_count": 21,
   "metadata": {},
   "outputs": [
    {
     "data": {
      "text/plain": [
       "<matplotlib.axes._subplots.AxesSubplot at 0x7fbc1beefd10>"
      ]
     },
     "execution_count": 21,
     "metadata": {},
     "output_type": "execute_result"
    },
    {
     "data": {
      "image/png": "[encoded data removed]",
      "text/plain": [
       "<Figure size 432x288 with 1 Axes>"
      ]
     },
     "metadata": {
      "needs_background": "light"
     },
     "output_type": "display_data"
    }
   ],
   "source": [
    "cars['registration_year'].plot(kind='hist')"
   ]
  },
  {
   "cell_type": "code",
   "execution_count": 22,
   "metadata": {},
   "outputs": [
    {
     "data": {
      "text/plain": [
       "<matplotlib.axes._subplots.AxesSubplot at 0x7fbc1be14750>"
      ]
     },
     "execution_count": 22,
     "metadata": {},
     "output_type": "execute_result"
    },
    {
     "data": {
      "image/png": "[encoded data removed]",
      "text/plain": [
       "<Figure size 432x288 with 1 Axes>"
      ]
     },
     "metadata": {
      "needs_background": "light"
     },
     "output_type": "display_data"
    }
   ],
   "source": [
    "cars['power'].plot(kind = 'hist')"
   ]
  },
  {
   "cell_type": "code",
   "execution_count": 23,
   "metadata": {},
   "outputs": [
    {
     "data": {
      "text/plain": [
       "<matplotlib.axes._subplots.AxesSubplot at 0x7fbc1dff33d0>"
      ]
     },
     "execution_count": 23,
     "metadata": {},
     "output_type": "execute_result"
    },
    {
     "data": {
      "image/png": "[encoded data removed]",
      "text/plain": [
       "<Figure size 432x288 with 1 Axes>"
      ]
     },
     "metadata": {
      "needs_background": "light"
     },
     "output_type": "display_data"
    }
   ],
   "source": [
    "cars['mileage'].plot(kind='hist')"
   ]
  },
  {
   "cell_type": "code",
   "execution_count": 24,
   "metadata": {},
   "outputs": [
    {
     "data": {
      "text/plain": [
       "<matplotlib.axes._subplots.AxesSubplot at 0x7fbc1c158250>"
      ]
     },
     "execution_count": 24,
     "metadata": {},
     "output_type": "execute_result"
    },
    {
     "data": {
      "image/png": "[encoded data removed]",
      "text/plain": [
       "<Figure size 432x288 with 1 Axes>"
      ]
     },
     "metadata": {
      "needs_background": "light"
     },
     "output_type": "display_data"
    }
   ],
   "source": [
    "cars['brand'].value_counts().plot(kind = 'bar')"
   ]
  },
  {
   "cell_type": "code",
   "execution_count": 25,
   "metadata": {},
   "outputs": [
    {
     "data": {
      "text/plain": [
       "<matplotlib.axes._subplots.AxesSubplot at 0x7fbc1e649ad0>"
      ]
     },
     "execution_count": 25,
     "metadata": {},
     "output_type": "execute_result"
    },
    {
     "data": {
      "image/png": "[encoded data removed]",
      "text/plain": [
       "<Figure size 432x288 with 1 Axes>"
      ]
     },
     "metadata": {
      "needs_background": "light"
     },
     "output_type": "display_data"
    }
   ],
   "source": [
    "cars['not_repaired'].value_counts().plot(kind = 'bar')"
   ]
  },
  {
   "cell_type": "code",
   "execution_count": 26,
   "metadata": {},
   "outputs": [],
   "source": [
    "# filter out outliers\n",
    "cars_filtered = cars[(cars['registration_year'] <= 2016) & (cars['power'] <= 2500)]"
   ]
  },
  {
   "cell_type": "code",
   "execution_count": 27,
   "metadata": {},
   "outputs": [
    {
     "data": {
      "text/html": [
       "<div>\n",
       "<style scoped>\n",
       "    .dataframe tbody tr th:only-of-type {\n",
       "        vertical-align: middle;\n",
       "    }\n",
       "\n",
       "    .dataframe tbody tr th {\n",
       "        vertical-align: top;\n",
       "    }\n",
       "\n",
       "    .dataframe thead th {\n",
       "        text-align: right;\n",
       "    }\n",
       "</style>\n",
       "<table border=\"1\" class=\"dataframe\">\n",
       "  <thead>\n",
       "    <tr style=\"text-align: right;\">\n",
       "      <th></th>\n",
       "      <th>price</th>\n",
       "      <th>registration_year</th>\n",
       "      <th>power</th>\n",
       "      <th>mileage</th>\n",
       "      <th>registration_month</th>\n",
       "      <th>number_of_pictures</th>\n",
       "      <th>postal_code</th>\n",
       "    </tr>\n",
       "  </thead>\n",
       "  <tbody>\n",
       "    <tr>\n",
       "      <td>count</td>\n",
       "      <td>336279.000000</td>\n",
       "      <td>336279.000000</td>\n",
       "      <td>336279.00000</td>\n",
       "      <td>336279.000000</td>\n",
       "      <td>336279.000000</td>\n",
       "      <td>336279.0</td>\n",
       "      <td>336279.000000</td>\n",
       "    </tr>\n",
       "    <tr>\n",
       "      <td>mean</td>\n",
       "      <td>4464.186527</td>\n",
       "      <td>2002.449074</td>\n",
       "      <td>108.67841</td>\n",
       "      <td>128425.607903</td>\n",
       "      <td>5.767800</td>\n",
       "      <td>0.0</td>\n",
       "      <td>50634.424389</td>\n",
       "    </tr>\n",
       "    <tr>\n",
       "      <td>std</td>\n",
       "      <td>4535.534394</td>\n",
       "      <td>12.486273</td>\n",
       "      <td>72.49573</td>\n",
       "      <td>37500.674009</td>\n",
       "      <td>3.704346</td>\n",
       "      <td>0.0</td>\n",
       "      <td>25788.456948</td>\n",
       "    </tr>\n",
       "    <tr>\n",
       "      <td>min</td>\n",
       "      <td>0.000000</td>\n",
       "      <td>1000.000000</td>\n",
       "      <td>0.00000</td>\n",
       "      <td>5000.000000</td>\n",
       "      <td>0.000000</td>\n",
       "      <td>0.0</td>\n",
       "      <td>1067.000000</td>\n",
       "    </tr>\n",
       "    <tr>\n",
       "      <td>25%</td>\n",
       "      <td>1100.000000</td>\n",
       "      <td>1999.000000</td>\n",
       "      <td>69.00000</td>\n",
       "      <td>125000.000000</td>\n",
       "      <td>3.000000</td>\n",
       "      <td>0.0</td>\n",
       "      <td>30179.000000</td>\n",
       "    </tr>\n",
       "    <tr>\n",
       "      <td>50%</td>\n",
       "      <td>2799.000000</td>\n",
       "      <td>2003.000000</td>\n",
       "      <td>105.00000</td>\n",
       "      <td>150000.000000</td>\n",
       "      <td>6.000000</td>\n",
       "      <td>0.0</td>\n",
       "      <td>49504.000000</td>\n",
       "    </tr>\n",
       "    <tr>\n",
       "      <td>75%</td>\n",
       "      <td>6500.000000</td>\n",
       "      <td>2007.000000</td>\n",
       "      <td>143.00000</td>\n",
       "      <td>150000.000000</td>\n",
       "      <td>9.000000</td>\n",
       "      <td>0.0</td>\n",
       "      <td>71229.000000</td>\n",
       "    </tr>\n",
       "    <tr>\n",
       "      <td>max</td>\n",
       "      <td>20000.000000</td>\n",
       "      <td>2016.000000</td>\n",
       "      <td>2461.00000</td>\n",
       "      <td>150000.000000</td>\n",
       "      <td>12.000000</td>\n",
       "      <td>0.0</td>\n",
       "      <td>99998.000000</td>\n",
       "    </tr>\n",
       "  </tbody>\n",
       "</table>\n",
       "</div>"
      ],
      "text/plain": [
       "               price  registration_year         power        mileage  \\\n",
       "count  336279.000000      336279.000000  336279.00000  336279.000000   \n",
       "mean     4464.186527        2002.449074     108.67841  128425.607903   \n",
       "std      4535.534394          12.486273      72.49573   37500.674009   \n",
       "min         0.000000        1000.000000       0.00000    5000.000000   \n",
       "25%      1100.000000        1999.000000      69.00000  125000.000000   \n",
       "50%      2799.000000        2003.000000     105.00000  150000.000000   \n",
       "75%      6500.000000        2007.000000     143.00000  150000.000000   \n",
       "max     20000.000000        2016.000000    2461.00000  150000.000000   \n",
       "\n",
       "       registration_month  number_of_pictures    postal_code  \n",
       "count       336279.000000            336279.0  336279.000000  \n",
       "mean             5.767800                 0.0   50634.424389  \n",
       "std              3.704346                 0.0   25788.456948  \n",
       "min              0.000000                 0.0    1067.000000  \n",
       "25%              3.000000                 0.0   30179.000000  \n",
       "50%              6.000000                 0.0   49504.000000  \n",
       "75%              9.000000                 0.0   71229.000000  \n",
       "max             12.000000                 0.0   99998.000000  "
      ]
     },
     "metadata": {},
     "output_type": "display_data"
    }
   ],
   "source": [
    "display(cars_filtered.describe())"
   ]
  },
  {
   "cell_type": "markdown",
   "metadata": {},
   "source": [
    "**Conclusion**\n",
    "\n",
    "Our data consists of 16 columns and 354,369 entries. There are 262 duplicate rows. We removed the duplicated rows. There are 5 columns with missing values: vehicle_type, gearbox, model, fuel_type, and not_repaired. We replaced missing values in the columns vehicle_type, gearbox, model, and fuel_type by replacing missing values in a column using possible unique value features for those missing values. We replaced missing values in not_repaired with the value unknown. We removed the remaining missing values because they were less than 1% of our data. We changed the columns date_crawled, date_created, and last_seen to datatype datetime. We notices some cars have a registration_year after the current year. This is an anomaly in the data. We filtered out all data with a registration_year after 2016. We found outliers about 2500 in the column power, this data was removed. The data is now ready for training."
   ]
  },
  {
   "cell_type": "markdown",
   "metadata": {},
   "source": [
    "## Model training"
   ]
  },
  {
   "cell_type": "code",
   "execution_count": 28,
   "metadata": {},
   "outputs": [
    {
     "name": "stdout",
     "output_type": "stream",
     "text": [
      "<class 'pandas.core.frame.DataFrame'>\n",
      "Int64Index: 336279 entries, 0 to 354106\n",
      "Data columns (total 9 columns):\n",
      "price           336279 non-null int64\n",
      "vehicle_type    336279 non-null object\n",
      "gearbox         336279 non-null object\n",
      "power           336279 non-null int64\n",
      "model           336279 non-null object\n",
      "mileage         336279 non-null int64\n",
      "fuel_type       336279 non-null object\n",
      "brand           336279 non-null object\n",
      "not_repaired    336279 non-null object\n",
      "dtypes: int64(3), object(6)\n",
      "memory usage: 25.7+ MB\n"
     ]
    }
   ],
   "source": [
    "#drop unimportant features\n",
    "\n",
    "cars_df = cars_filtered.drop(['date_crawled', 'registration_year', 'registration_month', 'date_created', 'number_of_pictures', 'postal_code', 'last_seen'], axis=1)\n",
    "\n",
    "cars_df.info()"
   ]
  },
  {
   "cell_type": "markdown",
   "metadata": {},
   "source": [
    "### Linear Regression "
   ]
  },
  {
   "cell_type": "code",
   "execution_count": 29,
   "metadata": {},
   "outputs": [
    {
     "name": "stdout",
     "output_type": "stream",
     "text": [
      "<class 'pandas.core.frame.DataFrame'>\n",
      "Int64Index: 336279 entries, 0 to 354106\n",
      "Columns: 306 entries, price to not_repaired_yes\n",
      "dtypes: int64(3), uint8(303)\n",
      "memory usage: 107.4 MB\n"
     ]
    }
   ],
   "source": [
    "#one-hot Encoding for categorical features\n",
    "cars_ohe = pd.get_dummies(cars_df, drop_first = True)\n",
    "\n",
    "cars_ohe.info()"
   ]
  },
  {
   "cell_type": "code",
   "execution_count": 30,
   "metadata": {
    "scrolled": true
   },
   "outputs": [
    {
     "data": {
      "text/plain": [
       "(252209, 305)"
      ]
     },
     "metadata": {},
     "output_type": "display_data"
    },
    {
     "data": {
      "text/plain": [
       "(84070, 305)"
      ]
     },
     "metadata": {},
     "output_type": "display_data"
    },
    {
     "name": "stderr",
     "output_type": "stream",
     "text": [
      "/opt/conda/lib/python3.7/site-packages/ipykernel_launcher.py:14: SettingWithCopyWarning: \n",
      "A value is trying to be set on a copy of a slice from a DataFrame.\n",
      "Try using .loc[row_indexer,col_indexer] = value instead\n",
      "\n",
      "See the caveats in the documentation: http://pandas.pydata.org/pandas-docs/stable/user_guide/indexing.html#returning-a-view-versus-a-copy\n",
      "  \n",
      "/opt/conda/lib/python3.7/site-packages/pandas/core/indexing.py:494: SettingWithCopyWarning: \n",
      "A value is trying to be set on a copy of a slice from a DataFrame.\n",
      "Try using .loc[row_indexer,col_indexer] = value instead\n",
      "\n",
      "See the caveats in the documentation: http://pandas.pydata.org/pandas-docs/stable/user_guide/indexing.html#returning-a-view-versus-a-copy\n",
      "  self.obj[item] = s\n",
      "/opt/conda/lib/python3.7/site-packages/ipykernel_launcher.py:15: SettingWithCopyWarning: \n",
      "A value is trying to be set on a copy of a slice from a DataFrame.\n",
      "Try using .loc[row_indexer,col_indexer] = value instead\n",
      "\n",
      "See the caveats in the documentation: http://pandas.pydata.org/pandas-docs/stable/user_guide/indexing.html#returning-a-view-versus-a-copy\n",
      "  from ipykernel import kernelapp as app\n",
      "/opt/conda/lib/python3.7/site-packages/pandas/core/indexing.py:494: SettingWithCopyWarning: \n",
      "A value is trying to be set on a copy of a slice from a DataFrame.\n",
      "Try using .loc[row_indexer,col_indexer] = value instead\n",
      "\n",
      "See the caveats in the documentation: http://pandas.pydata.org/pandas-docs/stable/user_guide/indexing.html#returning-a-view-versus-a-copy\n",
      "  self.obj[item] = s\n"
     ]
    },
    {
     "data": {
      "text/html": [
       "<div>\n",
       "<style scoped>\n",
       "    .dataframe tbody tr th:only-of-type {\n",
       "        vertical-align: middle;\n",
       "    }\n",
       "\n",
       "    .dataframe tbody tr th {\n",
       "        vertical-align: top;\n",
       "    }\n",
       "\n",
       "    .dataframe thead th {\n",
       "        text-align: right;\n",
       "    }\n",
       "</style>\n",
       "<table border=\"1\" class=\"dataframe\">\n",
       "  <thead>\n",
       "    <tr style=\"text-align: right;\">\n",
       "      <th></th>\n",
       "      <th>power</th>\n",
       "      <th>mileage</th>\n",
       "      <th>vehicle_type_convertible</th>\n",
       "      <th>vehicle_type_coupe</th>\n",
       "      <th>vehicle_type_other</th>\n",
       "      <th>vehicle_type_sedan</th>\n",
       "      <th>vehicle_type_small</th>\n",
       "      <th>vehicle_type_suv</th>\n",
       "      <th>vehicle_type_wagon</th>\n",
       "      <th>gearbox_manual</th>\n",
       "      <th>...</th>\n",
       "      <th>brand_skoda</th>\n",
       "      <th>brand_smart</th>\n",
       "      <th>brand_subaru</th>\n",
       "      <th>brand_suzuki</th>\n",
       "      <th>brand_toyota</th>\n",
       "      <th>brand_trabant</th>\n",
       "      <th>brand_volkswagen</th>\n",
       "      <th>brand_volvo</th>\n",
       "      <th>not_repaired_unknown</th>\n",
       "      <th>not_repaired_yes</th>\n",
       "    </tr>\n",
       "  </thead>\n",
       "  <tbody>\n",
       "    <tr>\n",
       "      <td>174905</td>\n",
       "      <td>-0.743679</td>\n",
       "      <td>0.575104</td>\n",
       "      <td>0</td>\n",
       "      <td>0</td>\n",
       "      <td>0</td>\n",
       "      <td>0</td>\n",
       "      <td>1</td>\n",
       "      <td>0</td>\n",
       "      <td>0</td>\n",
       "      <td>1</td>\n",
       "      <td>...</td>\n",
       "      <td>0</td>\n",
       "      <td>0</td>\n",
       "      <td>0</td>\n",
       "      <td>0</td>\n",
       "      <td>0</td>\n",
       "      <td>0</td>\n",
       "      <td>0</td>\n",
       "      <td>0</td>\n",
       "      <td>0</td>\n",
       "      <td>0</td>\n",
       "    </tr>\n",
       "    <tr>\n",
       "      <td>309773</td>\n",
       "      <td>0.099475</td>\n",
       "      <td>0.575104</td>\n",
       "      <td>0</td>\n",
       "      <td>0</td>\n",
       "      <td>0</td>\n",
       "      <td>0</td>\n",
       "      <td>0</td>\n",
       "      <td>0</td>\n",
       "      <td>0</td>\n",
       "      <td>0</td>\n",
       "      <td>...</td>\n",
       "      <td>0</td>\n",
       "      <td>0</td>\n",
       "      <td>0</td>\n",
       "      <td>0</td>\n",
       "      <td>0</td>\n",
       "      <td>0</td>\n",
       "      <td>1</td>\n",
       "      <td>0</td>\n",
       "      <td>0</td>\n",
       "      <td>0</td>\n",
       "    </tr>\n",
       "    <tr>\n",
       "      <td>142945</td>\n",
       "      <td>-1.503899</td>\n",
       "      <td>-0.757889</td>\n",
       "      <td>0</td>\n",
       "      <td>0</td>\n",
       "      <td>0</td>\n",
       "      <td>1</td>\n",
       "      <td>0</td>\n",
       "      <td>0</td>\n",
       "      <td>0</td>\n",
       "      <td>0</td>\n",
       "      <td>...</td>\n",
       "      <td>0</td>\n",
       "      <td>0</td>\n",
       "      <td>0</td>\n",
       "      <td>0</td>\n",
       "      <td>0</td>\n",
       "      <td>0</td>\n",
       "      <td>0</td>\n",
       "      <td>0</td>\n",
       "      <td>1</td>\n",
       "      <td>0</td>\n",
       "    </tr>\n",
       "    <tr>\n",
       "      <td>92111</td>\n",
       "      <td>-0.163146</td>\n",
       "      <td>0.575104</td>\n",
       "      <td>0</td>\n",
       "      <td>0</td>\n",
       "      <td>0</td>\n",
       "      <td>1</td>\n",
       "      <td>0</td>\n",
       "      <td>0</td>\n",
       "      <td>0</td>\n",
       "      <td>1</td>\n",
       "      <td>...</td>\n",
       "      <td>0</td>\n",
       "      <td>0</td>\n",
       "      <td>0</td>\n",
       "      <td>0</td>\n",
       "      <td>1</td>\n",
       "      <td>0</td>\n",
       "      <td>0</td>\n",
       "      <td>0</td>\n",
       "      <td>0</td>\n",
       "      <td>0</td>\n",
       "    </tr>\n",
       "    <tr>\n",
       "      <td>261144</td>\n",
       "      <td>-0.370479</td>\n",
       "      <td>0.575104</td>\n",
       "      <td>0</td>\n",
       "      <td>0</td>\n",
       "      <td>0</td>\n",
       "      <td>0</td>\n",
       "      <td>1</td>\n",
       "      <td>0</td>\n",
       "      <td>0</td>\n",
       "      <td>1</td>\n",
       "      <td>...</td>\n",
       "      <td>0</td>\n",
       "      <td>0</td>\n",
       "      <td>0</td>\n",
       "      <td>0</td>\n",
       "      <td>0</td>\n",
       "      <td>0</td>\n",
       "      <td>0</td>\n",
       "      <td>0</td>\n",
       "      <td>0</td>\n",
       "      <td>0</td>\n",
       "    </tr>\n",
       "  </tbody>\n",
       "</table>\n",
       "<p>5 rows × 305 columns</p>\n",
       "</div>"
      ],
      "text/plain": [
       "           power   mileage  vehicle_type_convertible  vehicle_type_coupe  \\\n",
       "174905 -0.743679  0.575104                         0                   0   \n",
       "309773  0.099475  0.575104                         0                   0   \n",
       "142945 -1.503899 -0.757889                         0                   0   \n",
       "92111  -0.163146  0.575104                         0                   0   \n",
       "261144 -0.370479  0.575104                         0                   0   \n",
       "\n",
       "        vehicle_type_other  vehicle_type_sedan  vehicle_type_small  \\\n",
       "174905                   0                   0                   1   \n",
       "309773                   0                   0                   0   \n",
       "142945                   0                   1                   0   \n",
       "92111                    0                   1                   0   \n",
       "261144                   0                   0                   1   \n",
       "\n",
       "        vehicle_type_suv  vehicle_type_wagon  gearbox_manual  ...  \\\n",
       "174905                 0                   0               1  ...   \n",
       "309773                 0                   0               0  ...   \n",
       "142945                 0                   0               0  ...   \n",
       "92111                  0                   0               1  ...   \n",
       "261144                 0                   0               1  ...   \n",
       "\n",
       "        brand_skoda  brand_smart  brand_subaru  brand_suzuki  brand_toyota  \\\n",
       "174905            0            0             0             0             0   \n",
       "309773            0            0             0             0             0   \n",
       "142945            0            0             0             0             0   \n",
       "92111             0            0             0             0             1   \n",
       "261144            0            0             0             0             0   \n",
       "\n",
       "        brand_trabant  brand_volkswagen  brand_volvo  not_repaired_unknown  \\\n",
       "174905              0                 0            0                     0   \n",
       "309773              0                 1            0                     0   \n",
       "142945              0                 0            0                     1   \n",
       "92111               0                 0            0                     0   \n",
       "261144              0                 0            0                     0   \n",
       "\n",
       "        not_repaired_yes  \n",
       "174905                 0  \n",
       "309773                 0  \n",
       "142945                 0  \n",
       "92111                  0  \n",
       "261144                 0  \n",
       "\n",
       "[5 rows x 305 columns]"
      ]
     },
     "execution_count": 30,
     "metadata": {},
     "output_type": "execute_result"
    }
   ],
   "source": [
    "\n",
    "lr_target = cars_ohe['price']\n",
    "lr_features = cars_ohe.drop('price', axis=1)\n",
    "\n",
    "lr_features_train, lr_features_test, lr_target_train, lr_target_test = train_test_split(lr_features, lr_target, test_size=0.25, random_state=12345)\n",
    "\n",
    "display(lr_features_train.shape)\n",
    "display(lr_features_test.shape)\n",
    "\n",
    "numerical = [column for column in lr_features_train.columns if lr_features_train[column].dtype in ['int64', 'int32']]\n",
    "\n",
    "scaler = StandardScaler()\n",
    "scaler.fit(lr_features_train[numerical])\n",
    "\n",
    "lr_features_train[numerical] = scaler.transform(lr_features_train[numerical])\n",
    "lr_features_test[numerical] = scaler.transform(lr_features_test[numerical])\n",
    "\n",
    "lr_features_train.sample(5)"
   ]
  },
  {
   "cell_type": "code",
   "execution_count": null,
   "metadata": {},
   "outputs": [],
   "source": [
    "%%time\n",
    "\n",
    "lr_model = LinearRegression(random_state=12345)\n",
    "lr_model.fit(lr_features_train, lr_target_train)\n",
    "lr_predict = lr_model.predict(lr_features_test)\n",
    "lr_rmse = np.sqrt(mean_squared_error(lr_target_test, lr_predict))\n",
    "\n",
    "print('RMSE Linear Regression Model: {:.2f}'.format(lr_rmse))"
   ]
  },
  {
   "cell_type": "markdown",
   "metadata": {},
   "source": [
    "### Random Forest Regressor"
   ]
  },
  {
   "cell_type": "code",
   "execution_count": 32,
   "metadata": {
    "scrolled": true
   },
   "outputs": [
    {
     "data": {
      "text/plain": [
       "(252209, 8)"
      ]
     },
     "metadata": {},
     "output_type": "display_data"
    },
    {
     "data": {
      "text/plain": [
       "(84070, 8)"
      ]
     },
     "metadata": {},
     "output_type": "display_data"
    },
    {
     "name": "stderr",
     "output_type": "stream",
     "text": [
      "/opt/conda/lib/python3.7/site-packages/ipykernel_launcher.py:14: SettingWithCopyWarning: \n",
      "A value is trying to be set on a copy of a slice from a DataFrame.\n",
      "Try using .loc[row_indexer,col_indexer] = value instead\n",
      "\n",
      "See the caveats in the documentation: http://pandas.pydata.org/pandas-docs/stable/user_guide/indexing.html#returning-a-view-versus-a-copy\n",
      "  \n",
      "/opt/conda/lib/python3.7/site-packages/pandas/core/indexing.py:494: SettingWithCopyWarning: \n",
      "A value is trying to be set on a copy of a slice from a DataFrame.\n",
      "Try using .loc[row_indexer,col_indexer] = value instead\n",
      "\n",
      "See the caveats in the documentation: http://pandas.pydata.org/pandas-docs/stable/user_guide/indexing.html#returning-a-view-versus-a-copy\n",
      "  self.obj[item] = s\n",
      "/opt/conda/lib/python3.7/site-packages/ipykernel_launcher.py:15: SettingWithCopyWarning: \n",
      "A value is trying to be set on a copy of a slice from a DataFrame.\n",
      "Try using .loc[row_indexer,col_indexer] = value instead\n",
      "\n",
      "See the caveats in the documentation: http://pandas.pydata.org/pandas-docs/stable/user_guide/indexing.html#returning-a-view-versus-a-copy\n",
      "  from ipykernel import kernelapp as app\n",
      "/opt/conda/lib/python3.7/site-packages/pandas/core/indexing.py:494: SettingWithCopyWarning: \n",
      "A value is trying to be set on a copy of a slice from a DataFrame.\n",
      "Try using .loc[row_indexer,col_indexer] = value instead\n",
      "\n",
      "See the caveats in the documentation: http://pandas.pydata.org/pandas-docs/stable/user_guide/indexing.html#returning-a-view-versus-a-copy\n",
      "  self.obj[item] = s\n"
     ]
    }
   ],
   "source": [
    "rf_target = cars_df['price']\n",
    "rf_features = cars_df.drop('price', axis=1)\n",
    "\n",
    "# split data\n",
    "rf_features_train, rf_features_test, rf_target_train, rf_target_test = train_test_split(rf_features, rf_target, test_size=0.25, random_state=12345)\n",
    "\n",
    "display(rf_features_train.shape)\n",
    "display(rf_features_test.shape)\n",
    "\n",
    "categorical_cols = [cname for cname in rf_features.columns if rf_features[cname].dtype == 'object']\n",
    "\n",
    "encoder = OrdinalEncoder()\n",
    "\n",
    "rf_features_train[categorical_cols] = encoder.fit_transform(rf_features_train[categorical_cols])\n",
    "rf_features_test[categorical_cols] = encoder.transform(rf_features_test[categorical_cols])"
   ]
  },
  {
   "cell_type": "code",
   "execution_count": 33,
   "metadata": {},
   "outputs": [
    {
     "name": "stdout",
     "output_type": "stream",
     "text": [
      "The best hyperparameters are: {'max_depth': None, 'min_samples_leaf': 2, 'n_estimators': 100}\n",
      "CPU times: user 15min 10s, sys: 2.64 s, total: 15min 12s\n",
      "Wall time: 15min 19s\n"
     ]
    }
   ],
   "source": [
    "%%time\n",
    "# hyperparameter optimization\n",
    "\n",
    "# define hyperparameters to tune\n",
    "grid = {\n",
    "    \"n_estimators\" : [50, 100],\n",
    "    \"max_depth\" : [None, 5, 10],\n",
    "    \"min_samples_leaf\" : [2, 4]\n",
    "}\n",
    "# define the model \n",
    "regressor = RandomForestRegressor(random_state = 12345)\n",
    "# define the grid search\n",
    "grid_search_rf = GridSearchCV(estimator = regressor, param_grid = grid, scoring=\"neg_mean_squared_error\", cv=5)\n",
    "# execute search\n",
    "grid_search_rf.fit(rf_features_train, rf_target_train)\n",
    "# summarize result\n",
    "print('The best hyperparameters are: {}'.format(grid_search_rf.best_params_))"
   ]
  },
  {
   "cell_type": "code",
   "execution_count": 34,
   "metadata": {},
   "outputs": [
    {
     "name": "stdout",
     "output_type": "stream",
     "text": [
      "RMSE Random Forest Regression Model: 2199.54\n",
      "CPU times: user 39.4 s, sys: 244 ms, total: 39.7 s\n",
      "Wall time: 40.1 s\n"
     ]
    }
   ],
   "source": [
    "%%time\n",
    "\n",
    "rf_model = RandomForestRegressor(**grid_search_rf.best_params_)\n",
    "rf_model.fit(rf_features_train, rf_target_train)\n",
    "rf_predict = rf_model.predict(rf_features_test)\n",
    "rf_rmse = np.sqrt(mean_squared_error(rf_target_test, rf_predict))\n",
    "\n",
    "print('RMSE Random Forest Regression Model: {:.2f}'.format(rf_rmse))"
   ]
  },
  {
   "cell_type": "markdown",
   "metadata": {},
   "source": [
    "### LightGBM"
   ]
  },
  {
   "cell_type": "code",
   "execution_count": null,
   "metadata": {},
   "outputs": [],
   "source": [
    "lgbm_features = rf_features.copy()\n",
    "lgbm_target = rf_target.copy()\n",
    "\n",
    "for c in lgbm_features.columns:\n",
    "    col_type = lgbm_features[c].dtype\n",
    "    if col_type == 'object' or col_type.name == 'category':\n",
    "        lgbm_features[c] = lgbm_features[c].astype('category')\n",
    "\n",
    "lgbm_features_train, lgbm_features_test, lgbm_target_train, lgbm_target_test = train_test_split(lgbm_features, lgbm_target, test_size=0.25, random_state=12345)\n",
    "\n",
    "display(lgbm_features_train.shape)\n",
    "display(lgbm_features_test.shape)"
   ]
  },
  {
   "cell_type": "code",
   "execution_count": null,
   "metadata": {},
   "outputs": [],
   "source": [
    "%%time\n",
    "# hyperparameter optimization for LightGBM regression\n",
    "\n",
    "# define hyperparameters to tune\n",
    "lgbm_grid = {'learning_rate': [ 0.01, 0.1],\n",
    "             'n_estimators': [50, 100],\n",
    "             'num_leaves': [5, 10]\n",
    "            }\n",
    "# define the model \n",
    "lgbm_regr = LGBMRegressor(random_state = 12345)\n",
    "\n",
    "# define the grid search\n",
    "grid_search_lgbm = GridSearchCV(\n",
    "    estimator = lgbm_regr, \n",
    "    param_grid = lgbm_grid, \n",
    "    scoring = \"neg_mean_squared_error\", \n",
    "    cv = 3, \n",
    "    n_jobs = 1\n",
    ")\n",
    "# execute search\n",
    "grid_search_lgbm.fit(lgbm_features_train, lgbm_target_train, categorical_feature = 'auto', feature_name = 'auto')\n",
    "# summarize result\n",
    "print('The best hyperparameters are: {}'.format(grid_search_lgbm.best_params_))"
   ]
  },
  {
   "cell_type": "code",
   "execution_count": null,
   "metadata": {},
   "outputs": [],
   "source": [
    "%%time\n",
    "\n",
    "lgbm_model = LGBMRegressor(**grid_search_lgbm.best_params_)\n",
    "lgbm_model.fit(lgbm_features_train, lgbm_target_train)\n",
    "lgbm_predict = lgbm_model.predict(lgbm_features_test)\n",
    "lgbm_rmse = np.sqrt(mean_squared_error(lgbm_target_test, lgbm_predict))\n",
    "\n",
    "print('RMSE LightGBM Regression Model: {:.2f}'.format(lgbm_rmse))"
   ]
  },
  {
   "cell_type": "markdown",
   "metadata": {},
   "source": [
    "### CatBoost Regressor"
   ]
  },
  {
   "cell_type": "code",
   "execution_count": 38,
   "metadata": {},
   "outputs": [],
   "source": [
    "cb_features = rf_features.copy()\n",
    "cb_target = rf_target.copy()\n",
    "\n",
    "cb_features_train, cb_features_test, cb_target_train, cb_target_test = train_test_split(cb_features, cb_target, test_size=0.25, random_state=12345)\n",
    "\n",
    "cat_features = [\n",
    "    'vehicle_type', \n",
    "    'gearbox', \n",
    "    'model', \n",
    "    'fuel_type', \n",
    "    'brand', \n",
    "    'not_repaired'\n",
    "]"
   ]
  },
  {
   "cell_type": "code",
   "execution_count": 39,
   "metadata": {},
   "outputs": [
    {
     "name": "stdout",
     "output_type": "stream",
     "text": [
      "The best hyperparameters are: {'depth': 10, 'l2_leaf_reg': 1, 'learning_rate': 0.1}\n",
      "CPU times: user 7min 10s, sys: 50.6 s, total: 8min 1s\n",
      "Wall time: 8min 25s\n"
     ]
    }
   ],
   "source": [
    "%%time\n",
    "# hyperparameter optimization\n",
    "\n",
    "# define hyperparameters to tune\n",
    "grid = {'learning_rate': [0.01, 0.1],\n",
    "        'depth': [5, 10],\n",
    "        'l2_leaf_reg': [1, 5]\n",
    "       }\n",
    "# define the model \n",
    "cb_regr = CatBoostRegressor(\n",
    "    iterations=100,\n",
    "    cat_features=cat_features,\n",
    "    logging_level = 'Silent',\n",
    "    loss_function='RMSE',\n",
    "    early_stopping_rounds = 50,\n",
    "    random_state = 12345)\n",
    "# define the grid search\n",
    "grid_search_cb = GridSearchCV(estimator = cb_regr, param_grid = grid, scoring=\"neg_mean_squared_error\", cv=3)\n",
    "# execute search\n",
    "grid_search_cb.fit(cb_features_train, cb_target_train)\n",
    "# summarize result\n",
    "print('The best hyperparameters are: {}'.format(grid_search_cb.best_params_))"
   ]
  },
  {
   "cell_type": "code",
   "execution_count": 40,
   "metadata": {},
   "outputs": [
    {
     "name": "stdout",
     "output_type": "stream",
     "text": [
      "RMSE CatBoost Regression Model: 2131.77\n",
      "CPU times: user 15min 5s, sys: 1min 9s, total: 16min 14s\n",
      "Wall time: 16min 17s\n"
     ]
    }
   ],
   "source": [
    "%%time\n",
    "\n",
    "cb_model = CatBoostRegressor(**grid_search_cb.best_params_)\n",
    "cb_model.fit(cb_features_train, cb_target_train, eval_set=(cb_features_test,cb_target_test), cat_features=cat_features, verbose = False)\n",
    "cb_predict = cb_model.predict(cb_features_test)\n",
    "cb_rmse = np.sqrt(mean_squared_error(cb_target_test, cb_predict))\n",
    "\n",
    "print('RMSE CatBoost Regression Model: {:.2f}'.format(cb_rmse))"
   ]
  },
  {
   "cell_type": "markdown",
   "metadata": {},
   "source": [
    "**Conclusion**\n",
    "\n",
    "We trained different models with various hyperparameters. We compared multiple gradient boost models with a tree based algorithm and and linear regression approach, as well as the speed it took to train them. We used the linear regression model as a sanity check since it does not work well with hyperparameters. The other models we trained were random forest regressor, catboost regressor, and lightGBM regressor. The goal was to see which model, after hyperparmeter tuning, obtained the lowest RMSE score with the best time."
   ]
  },
  {
   "cell_type": "markdown",
   "metadata": {},
   "source": [
    "## Model analysis"
   ]
  },
  {
   "cell_type": "code",
   "execution_count": 41,
   "metadata": {},
   "outputs": [
    {
     "data": {
      "text/html": [
       "<div>\n",
       "<style scoped>\n",
       "    .dataframe tbody tr th:only-of-type {\n",
       "        vertical-align: middle;\n",
       "    }\n",
       "\n",
       "    .dataframe tbody tr th {\n",
       "        vertical-align: top;\n",
       "    }\n",
       "\n",
       "    .dataframe thead th {\n",
       "        text-align: right;\n",
       "    }\n",
       "</style>\n",
       "<table border=\"1\" class=\"dataframe\">\n",
       "  <thead>\n",
       "    <tr style=\"text-align: right;\">\n",
       "      <th></th>\n",
       "      <th>model</th>\n",
       "      <th>RMSE Score</th>\n",
       "      <th>Hyperparameter Tuning Time</th>\n",
       "      <th>Model Run Time</th>\n",
       "    </tr>\n",
       "  </thead>\n",
       "  <tbody>\n",
       "    <tr>\n",
       "      <td>0</td>\n",
       "      <td>LinearRegressor</td>\n",
       "      <td>3093.29</td>\n",
       "      <td>0s</td>\n",
       "      <td>20s</td>\n",
       "    </tr>\n",
       "    <tr>\n",
       "      <td>1</td>\n",
       "      <td>RandomForest</td>\n",
       "      <td>2206.24</td>\n",
       "      <td>15min 37s</td>\n",
       "      <td>41s</td>\n",
       "    </tr>\n",
       "    <tr>\n",
       "      <td>2</td>\n",
       "      <td>LightGBM</td>\n",
       "      <td>2473.80</td>\n",
       "      <td>2min</td>\n",
       "      <td>8s</td>\n",
       "    </tr>\n",
       "    <tr>\n",
       "      <td>3</td>\n",
       "      <td>CatBoost</td>\n",
       "      <td>2129.41</td>\n",
       "      <td>8min 15s</td>\n",
       "      <td>16min 4s</td>\n",
       "    </tr>\n",
       "  </tbody>\n",
       "</table>\n",
       "</div>"
      ],
      "text/plain": [
       "             model  RMSE Score Hyperparameter Tuning Time Model Run Time\n",
       "0  LinearRegressor     3093.29                         0s            20s\n",
       "1     RandomForest     2206.24                  15min 37s            41s\n",
       "2         LightGBM     2473.80                       2min             8s\n",
       "3         CatBoost     2129.41                   8min 15s       16min 4s"
      ]
     },
     "metadata": {},
     "output_type": "display_data"
    }
   ],
   "source": [
    "# performance comparison of different models \n",
    "model = ['LinearRegressor', 'RandomForest', 'LightGBM', ' CatBoost']\n",
    "rmse = [3093.29, 2206.24, 2473.80, 2129.41]\n",
    "tune_time = ['0s', '15min 37s', '2min', '8min 15s']\n",
    "pred_time = ['20s', '41s', '8s', '16min 4s']\n",
    "\n",
    "models = pd.DataFrame(data = zip(model, rmse, tune_time, pred_time), columns = ['model', 'RMSE Score', 'Hyperparameter Tuning Time', 'Model Run Time'])\n",
    "\n",
    "display(models)"
   ]
  },
  {
   "cell_type": "markdown",
   "metadata": {},
   "source": [
    "**Conclusion**\n",
    "\n",
    "From the model analysis we can see that the linear regressor model has the highest RMSE which is expected from our sanity check model. The model with the lowest RMSE score is the catboost model. The catboost model has the highest model run time. The lightGBM model has the lowest for both hyperparater tuning and model run time. "
   ]
  },
  {
   "cell_type": "markdown",
   "metadata": {},
   "source": [
    "## Conclusion"
   ]
  },
  {
   "cell_type": "markdown",
   "metadata": {},
   "source": [
    "Our data contained 16 columns with 354,369 entries. To prepare our data for training, we removed duplicated rows. We found 5 columns with missing values. We filled in missing values by using unique value features for the missing values. We replaced missing values in the column not_repaired with 'unknown'. Any extra missing values were removed.We changed date features to the datatype datetime. We filtered out any cars with the registration_year after the year 2016 and with power above 2500. \n",
    "\n",
    "We compared gradient boost models with a tree based algorithm and a linear regression model to see which model worked best and had the fastest time. We trained our models with numerous hyperparmeters to find the best model with the lowest RMSE score. The linear regression model was used as our sanity check. The model obtained a RMSE score of 3093.29 and had a model runtime of 20s. We found that the catboost model has the lowest RMSE score of 2129.41 but is also the slowest of the models. The fastest model was the LightGBM model but it has the highest RMSE score of 2473.80. "
   ]
  },
  {
   "cell_type": "markdown",
   "metadata": {},
   "source": [
    "Checklist"
   ]
  },
  {
   "cell_type": "markdown",
   "metadata": {},
   "source": [
    "Type 'x' to check. Then press Shift+Enter."
   ]
  },
  {
   "cell_type": "markdown",
   "metadata": {},
   "source": [
    "- [x]  Jupyter Notebook is open\n",
    "- [ ]  Code is error free\n",
    "- [ ]  The cells with the code have been arranged in order of execution\n",
    "- [ ]  The data has been downloaded and prepared\n",
    "- [ ]  The models have been trained\n",
    "- [ ]  The analysis of speed and quality of the models has been performed"
   ]
  }
 ],
 "metadata": {
  "ExecuteTimeLog": [
   {
    "duration": 1583,
    "start_time": "2021-11-10T15:47:00.245Z"
   },
   {
    "duration": 908,
    "start_time": "2021-11-10T15:48:15.277Z"
   },
   {
    "duration": 51,
    "start_time": "2021-11-10T15:48:56.036Z"
   },
   {
    "duration": 42,
    "start_time": "2021-11-10T15:49:02.748Z"
   },
   {
    "duration": 193,
    "start_time": "2021-11-10T15:49:21.012Z"
   },
   {
    "duration": 188,
    "start_time": "2021-11-10T15:49:57.050Z"
   },
   {
    "duration": 441,
    "start_time": "2021-11-10T15:50:58.975Z"
   },
   {
    "duration": 440,
    "start_time": "2021-11-10T15:51:04.160Z"
   },
   {
    "duration": 1041,
    "start_time": "2021-11-10T15:58:33.583Z"
   },
   {
    "duration": 159,
    "start_time": "2021-11-10T15:59:23.784Z"
   },
   {
    "duration": 23,
    "start_time": "2021-11-10T16:00:16.553Z"
   },
   {
    "duration": 525,
    "start_time": "2021-11-10T16:00:30.694Z"
   },
   {
    "duration": 336,
    "start_time": "2021-11-10T16:00:51.618Z"
   },
   {
    "duration": 43,
    "start_time": "2021-11-10T16:00:59.088Z"
   },
   {
    "duration": 37,
    "start_time": "2021-11-10T16:01:11.457Z"
   },
   {
    "duration": 1367,
    "start_time": "2021-11-10T16:13:18.872Z"
   },
   {
    "duration": 138,
    "start_time": "2021-11-10T16:13:30.734Z"
   },
   {
    "duration": 441,
    "start_time": "2021-11-10T16:13:35.514Z"
   },
   {
    "duration": 1045,
    "start_time": "2021-11-10T16:13:36.322Z"
   },
   {
    "duration": 152,
    "start_time": "2021-11-10T16:13:39.815Z"
   },
   {
    "duration": 38,
    "start_time": "2021-11-10T16:14:10.648Z"
   },
   {
    "duration": 55,
    "start_time": "2021-11-10T16:19:45.109Z"
   },
   {
    "duration": 36,
    "start_time": "2021-11-10T16:20:15.508Z"
   },
   {
    "duration": 37,
    "start_time": "2021-11-10T16:22:26.604Z"
   },
   {
    "duration": 192,
    "start_time": "2021-11-10T16:22:37.294Z"
   },
   {
    "duration": 96,
    "start_time": "2021-11-10T16:22:51.974Z"
   },
   {
    "duration": 39,
    "start_time": "2021-11-10T16:23:22.785Z"
   },
   {
    "duration": 326,
    "start_time": "2021-11-10T16:23:53.832Z"
   },
   {
    "duration": 331,
    "start_time": "2021-11-10T16:24:02.914Z"
   },
   {
    "duration": 316,
    "start_time": "2021-11-10T16:24:10.834Z"
   },
   {
    "duration": 38,
    "start_time": "2021-11-10T16:24:35.821Z"
   },
   {
    "duration": 74,
    "start_time": "2021-11-10T16:25:04.828Z"
   },
   {
    "duration": 66,
    "start_time": "2021-11-10T16:25:50.740Z"
   },
   {
    "duration": 104,
    "start_time": "2021-11-10T16:26:17.849Z"
   },
   {
    "duration": 127,
    "start_time": "2021-11-10T16:27:40.815Z"
   },
   {
    "duration": 168,
    "start_time": "2021-11-10T16:28:15.965Z"
   },
   {
    "duration": 7,
    "start_time": "2021-11-10T16:32:03.119Z"
   },
   {
    "duration": 750,
    "start_time": "2021-11-10T16:33:52.873Z"
   },
   {
    "duration": 621,
    "start_time": "2021-11-10T16:34:08.482Z"
   },
   {
    "duration": 7,
    "start_time": "2021-11-10T16:34:18.436Z"
   },
   {
    "duration": 711,
    "start_time": "2021-11-10T16:34:23.170Z"
   },
   {
    "duration": 6,
    "start_time": "2021-11-10T16:35:16.023Z"
   },
   {
    "duration": 2586,
    "start_time": "2021-11-10T16:35:21.384Z"
   },
   {
    "duration": 6,
    "start_time": "2021-11-10T16:35:38.063Z"
   },
   {
    "duration": 3738,
    "start_time": "2021-11-10T16:35:41.968Z"
   },
   {
    "duration": 3825,
    "start_time": "2021-11-10T16:36:03.399Z"
   },
   {
    "duration": 3812,
    "start_time": "2021-11-10T16:36:57.900Z"
   },
   {
    "duration": 152,
    "start_time": "2021-11-10T16:37:33.785Z"
   },
   {
    "duration": 21403,
    "start_time": "2021-11-10T16:39:00.220Z"
   },
   {
    "duration": 23033,
    "start_time": "2021-11-10T16:41:06.724Z"
   },
   {
    "duration": 21517,
    "start_time": "2021-11-10T16:42:47.182Z"
   },
   {
    "duration": 21689,
    "start_time": "2021-11-10T16:44:07.373Z"
   },
   {
    "duration": 23,
    "start_time": "2021-11-10T16:49:25.004Z"
   },
   {
    "duration": 36,
    "start_time": "2021-11-10T16:49:49.934Z"
   },
   {
    "duration": 53,
    "start_time": "2021-11-10T16:50:07.753Z"
   },
   {
    "duration": 149,
    "start_time": "2021-11-10T16:50:21.800Z"
   },
   {
    "duration": 252,
    "start_time": "2021-11-10T16:59:48.841Z"
   },
   {
    "duration": 370,
    "start_time": "2021-11-10T17:00:03.564Z"
   },
   {
    "duration": 288,
    "start_time": "2021-11-10T17:00:21.454Z"
   },
   {
    "duration": 288,
    "start_time": "2021-11-10T17:00:41.561Z"
   },
   {
    "duration": 281,
    "start_time": "2021-11-10T17:06:04.349Z"
   },
   {
    "duration": 293,
    "start_time": "2021-11-10T17:06:15.328Z"
   },
   {
    "duration": 1587,
    "start_time": "2021-11-10T17:06:28.092Z"
   },
   {
    "duration": 922,
    "start_time": "2021-11-10T17:06:29.681Z"
   },
   {
    "duration": 206,
    "start_time": "2021-11-10T17:06:30.606Z"
   },
   {
    "duration": 166,
    "start_time": "2021-11-10T17:06:30.823Z"
   },
   {
    "duration": 487,
    "start_time": "2021-11-10T17:06:30.992Z"
   },
   {
    "duration": 1272,
    "start_time": "2021-11-10T17:06:31.481Z"
   },
   {
    "duration": 229,
    "start_time": "2021-11-10T17:06:32.755Z"
   },
   {
    "duration": 183,
    "start_time": "2021-11-10T17:06:32.988Z"
   },
   {
    "duration": 6,
    "start_time": "2021-11-10T17:06:33.174Z"
   },
   {
    "duration": 4266,
    "start_time": "2021-11-10T17:06:33.183Z"
   },
   {
    "duration": 22426,
    "start_time": "2021-11-10T17:06:37.452Z"
   },
   {
    "duration": 21890,
    "start_time": "2021-11-10T17:06:59.881Z"
   },
   {
    "duration": 21372,
    "start_time": "2021-11-10T17:07:21.773Z"
   },
   {
    "duration": 54,
    "start_time": "2021-11-10T17:07:43.148Z"
   },
   {
    "duration": 156,
    "start_time": "2021-11-10T17:07:43.221Z"
   },
   {
    "duration": 430,
    "start_time": "2021-11-10T17:07:43.379Z"
   },
   {
    "duration": 279,
    "start_time": "2021-11-10T17:07:56.446Z"
   },
   {
    "duration": 484,
    "start_time": "2021-11-10T17:08:32.555Z"
   },
   {
    "duration": 306,
    "start_time": "2021-11-10T17:08:40.175Z"
   },
   {
    "duration": 48,
    "start_time": "2021-11-10T17:09:21.273Z"
   },
   {
    "duration": 150,
    "start_time": "2021-11-10T17:09:28.107Z"
   },
   {
    "duration": 306,
    "start_time": "2021-11-10T17:09:46.948Z"
   },
   {
    "duration": 276,
    "start_time": "2021-11-10T17:12:52.048Z"
   },
   {
    "duration": 163,
    "start_time": "2021-11-10T17:38:26.587Z"
   },
   {
    "duration": 283,
    "start_time": "2021-11-10T17:38:37.260Z"
   },
   {
    "duration": 197,
    "start_time": "2021-11-10T17:38:42.744Z"
   },
   {
    "duration": 313,
    "start_time": "2021-11-10T17:39:03.868Z"
   },
   {
    "duration": 30,
    "start_time": "2021-11-10T17:39:20.900Z"
   },
   {
    "duration": 1538,
    "start_time": "2021-11-10T17:39:31.353Z"
   },
   {
    "duration": 909,
    "start_time": "2021-11-10T17:39:32.894Z"
   },
   {
    "duration": 222,
    "start_time": "2021-11-10T17:39:33.806Z"
   },
   {
    "duration": 169,
    "start_time": "2021-11-10T17:39:34.032Z"
   },
   {
    "duration": 447,
    "start_time": "2021-11-10T17:39:34.205Z"
   },
   {
    "duration": 966,
    "start_time": "2021-11-10T17:39:34.656Z"
   },
   {
    "duration": 166,
    "start_time": "2021-11-10T17:39:35.624Z"
   },
   {
    "duration": 186,
    "start_time": "2021-11-10T17:39:35.795Z"
   },
   {
    "duration": 7,
    "start_time": "2021-11-10T17:39:35.983Z"
   },
   {
    "duration": 3753,
    "start_time": "2021-11-10T17:39:35.992Z"
   },
   {
    "duration": 21276,
    "start_time": "2021-11-10T17:39:39.747Z"
   },
   {
    "duration": 20928,
    "start_time": "2021-11-10T17:40:01.026Z"
   },
   {
    "duration": 22366,
    "start_time": "2021-11-10T17:40:21.957Z"
   },
   {
    "duration": 55,
    "start_time": "2021-11-10T17:40:44.326Z"
   },
   {
    "duration": 179,
    "start_time": "2021-11-10T17:40:44.383Z"
   },
   {
    "duration": 69,
    "start_time": "2021-11-10T17:40:44.564Z"
   },
   {
    "duration": 289,
    "start_time": "2021-11-10T17:40:44.635Z"
   },
   {
    "duration": 280,
    "start_time": "2021-11-10T17:40:44.926Z"
   },
   {
    "duration": 347,
    "start_time": "2021-11-10T17:42:53.553Z"
   },
   {
    "duration": 368,
    "start_time": "2021-11-10T17:44:23.312Z"
   },
   {
    "duration": 1552,
    "start_time": "2021-11-10T17:44:38.031Z"
   },
   {
    "duration": 930,
    "start_time": "2021-11-10T17:44:39.586Z"
   },
   {
    "duration": 212,
    "start_time": "2021-11-10T17:44:40.519Z"
   },
   {
    "duration": 177,
    "start_time": "2021-11-10T17:44:40.735Z"
   },
   {
    "duration": 465,
    "start_time": "2021-11-10T17:44:40.915Z"
   },
   {
    "duration": 1292,
    "start_time": "2021-11-10T17:44:41.383Z"
   },
   {
    "duration": 234,
    "start_time": "2021-11-10T17:44:42.678Z"
   },
   {
    "duration": 187,
    "start_time": "2021-11-10T17:44:42.921Z"
   },
   {
    "duration": 12,
    "start_time": "2021-11-10T17:44:43.110Z"
   },
   {
    "duration": 3814,
    "start_time": "2021-11-10T17:44:43.125Z"
   },
   {
    "duration": 21269,
    "start_time": "2021-11-10T17:44:46.942Z"
   },
   {
    "duration": 22661,
    "start_time": "2021-11-10T17:45:08.214Z"
   },
   {
    "duration": 21075,
    "start_time": "2021-11-10T17:45:30.878Z"
   },
   {
    "duration": 69,
    "start_time": "2021-11-10T17:45:51.955Z"
   },
   {
    "duration": 162,
    "start_time": "2021-11-10T17:45:52.027Z"
   },
   {
    "duration": 63,
    "start_time": "2021-11-10T17:45:52.191Z"
   },
   {
    "duration": 410,
    "start_time": "2021-11-10T17:45:52.256Z"
   },
   {
    "duration": 280,
    "start_time": "2021-11-10T17:45:52.669Z"
   },
   {
    "duration": 716,
    "start_time": "2021-11-10T17:58:25.986Z"
   },
   {
    "duration": 371,
    "start_time": "2021-11-10T18:01:42.581Z"
   },
   {
    "duration": 289,
    "start_time": "2021-11-10T18:07:44.158Z"
   },
   {
    "duration": 47493,
    "start_time": "2021-11-10T18:08:28.501Z"
   },
   {
    "duration": 105,
    "start_time": "2021-11-10T18:09:17.238Z"
   },
   {
    "duration": 47717,
    "start_time": "2021-11-10T18:10:13.685Z"
   },
   {
    "duration": 118,
    "start_time": "2021-11-10T18:11:01.404Z"
   },
   {
    "duration": 242,
    "start_time": "2021-11-10T18:13:15.168Z"
   },
   {
    "duration": 501,
    "start_time": "2021-11-10T18:16:35.246Z"
   },
   {
    "duration": 295,
    "start_time": "2021-11-10T18:17:24.859Z"
   },
   {
    "duration": 329,
    "start_time": "2021-11-10T18:17:30.104Z"
   },
   {
    "duration": 10,
    "start_time": "2021-11-10T18:18:00.813Z"
   },
   {
    "duration": 10,
    "start_time": "2021-11-10T18:18:57.863Z"
   },
   {
    "duration": 287,
    "start_time": "2021-11-10T18:19:02.900Z"
   },
   {
    "duration": 10,
    "start_time": "2021-11-10T18:19:09.972Z"
   },
   {
    "duration": 281,
    "start_time": "2021-11-10T18:19:20.652Z"
   },
   {
    "duration": 314,
    "start_time": "2021-11-10T18:20:48.056Z"
   },
   {
    "duration": 164,
    "start_time": "2021-11-10T18:23:33.728Z"
   },
   {
    "duration": 71,
    "start_time": "2021-11-10T18:24:56.565Z"
   },
   {
    "duration": 14,
    "start_time": "2021-11-10T18:25:10.313Z"
   },
   {
    "duration": 29,
    "start_time": "2021-11-10T18:25:45.080Z"
   },
   {
    "duration": 13,
    "start_time": "2021-11-10T18:29:34.190Z"
   },
   {
    "duration": 18,
    "start_time": "2021-11-10T19:04:55.112Z"
   },
   {
    "duration": 322,
    "start_time": "2021-11-10T19:05:32.732Z"
   },
   {
    "duration": 309,
    "start_time": "2021-11-10T19:06:13.739Z"
   },
   {
    "duration": 341,
    "start_time": "2021-11-10T19:06:34.139Z"
   },
   {
    "duration": 406,
    "start_time": "2021-11-10T19:07:16.680Z"
   },
   {
    "duration": 9,
    "start_time": "2021-11-10T19:10:09.581Z"
   },
   {
    "duration": 15,
    "start_time": "2021-11-10T19:10:41.154Z"
   },
   {
    "duration": 1132,
    "start_time": "2021-11-10T22:55:16.585Z"
   },
   {
    "duration": 709,
    "start_time": "2021-11-10T22:55:17.719Z"
   },
   {
    "duration": 246,
    "start_time": "2021-11-10T22:55:18.430Z"
   },
   {
    "duration": 118,
    "start_time": "2021-11-10T22:55:18.678Z"
   },
   {
    "duration": 292,
    "start_time": "2021-11-10T22:55:18.798Z"
   },
   {
    "duration": 666,
    "start_time": "2021-11-10T22:55:19.091Z"
   },
   {
    "duration": 117,
    "start_time": "2021-11-10T22:55:19.759Z"
   },
   {
    "duration": 137,
    "start_time": "2021-11-10T22:55:19.877Z"
   },
   {
    "duration": 4,
    "start_time": "2021-11-10T22:55:20.017Z"
   },
   {
    "duration": 2876,
    "start_time": "2021-11-10T22:55:20.023Z"
   },
   {
    "duration": 15579,
    "start_time": "2021-11-10T22:55:22.902Z"
   },
   {
    "duration": 15220,
    "start_time": "2021-11-10T22:55:38.484Z"
   },
   {
    "duration": 15400,
    "start_time": "2021-11-10T22:55:53.706Z"
   },
   {
    "duration": 50,
    "start_time": "2021-11-10T22:56:09.108Z"
   },
   {
    "duration": 119,
    "start_time": "2021-11-10T22:56:09.160Z"
   },
   {
    "duration": 263,
    "start_time": "2021-11-10T22:56:09.281Z"
   },
   {
    "duration": 21,
    "start_time": "2021-11-10T22:56:09.546Z"
   },
   {
    "duration": 48210,
    "start_time": "2021-11-10T22:56:09.569Z"
   },
   {
    "duration": 91,
    "start_time": "2021-11-10T22:56:57.781Z"
   },
   {
    "duration": 1073,
    "start_time": "2021-11-10T22:56:57.874Z"
   },
   {
    "duration": -824,
    "start_time": "2021-11-10T22:56:59.773Z"
   },
   {
    "duration": -826,
    "start_time": "2021-11-10T22:56:59.776Z"
   },
   {
    "duration": -827,
    "start_time": "2021-11-10T22:56:59.778Z"
   },
   {
    "duration": -828,
    "start_time": "2021-11-10T22:56:59.780Z"
   },
   {
    "duration": -834,
    "start_time": "2021-11-10T22:56:59.787Z"
   },
   {
    "duration": 212,
    "start_time": "2021-11-10T22:57:37.828Z"
   },
   {
    "duration": 196,
    "start_time": "2021-11-10T22:58:30.636Z"
   },
   {
    "duration": 214,
    "start_time": "2021-11-10T22:58:33.603Z"
   },
   {
    "duration": 188,
    "start_time": "2021-11-10T22:58:41.253Z"
   },
   {
    "duration": 230,
    "start_time": "2021-11-10T23:01:03.280Z"
   },
   {
    "duration": 2391,
    "start_time": "2021-11-10T23:01:39.889Z"
   },
   {
    "duration": 349,
    "start_time": "2021-11-10T23:02:03.333Z"
   },
   {
    "duration": 157,
    "start_time": "2021-11-10T23:03:14.389Z"
   },
   {
    "duration": 280,
    "start_time": "2021-11-10T23:05:18.817Z"
   },
   {
    "duration": 37,
    "start_time": "2021-11-10T23:05:23.838Z"
   },
   {
    "duration": 23,
    "start_time": "2021-11-10T23:05:50.690Z"
   },
   {
    "duration": 96,
    "start_time": "2021-11-10T23:06:11.168Z"
   },
   {
    "duration": 233,
    "start_time": "2021-11-10T23:06:48.727Z"
   },
   {
    "duration": 153,
    "start_time": "2021-11-10T23:07:23.120Z"
   },
   {
    "duration": 84,
    "start_time": "2021-11-10T23:07:33.504Z"
   },
   {
    "duration": 2313,
    "start_time": "2021-11-12T17:12:00.528Z"
   },
   {
    "duration": 5461,
    "start_time": "2021-11-12T17:12:02.845Z"
   },
   {
    "duration": 325,
    "start_time": "2021-11-12T17:12:08.310Z"
   },
   {
    "duration": 173,
    "start_time": "2021-11-12T17:12:08.639Z"
   },
   {
    "duration": 504,
    "start_time": "2021-11-12T17:12:08.815Z"
   },
   {
    "duration": 1016,
    "start_time": "2021-11-12T17:12:09.321Z"
   },
   {
    "duration": 165,
    "start_time": "2021-11-12T17:12:10.339Z"
   },
   {
    "duration": 171,
    "start_time": "2021-11-12T17:12:10.508Z"
   },
   {
    "duration": 6,
    "start_time": "2021-11-12T17:12:10.683Z"
   },
   {
    "duration": 3843,
    "start_time": "2021-11-12T17:12:10.692Z"
   },
   {
    "duration": 21513,
    "start_time": "2021-11-12T17:12:14.537Z"
   },
   {
    "duration": 21400,
    "start_time": "2021-11-12T17:12:36.060Z"
   },
   {
    "duration": 21454,
    "start_time": "2021-11-12T17:12:57.463Z"
   },
   {
    "duration": 65,
    "start_time": "2021-11-12T17:13:18.920Z"
   },
   {
    "duration": 162,
    "start_time": "2021-11-12T17:13:18.988Z"
   },
   {
    "duration": 364,
    "start_time": "2021-11-12T17:13:19.152Z"
   },
   {
    "duration": 44,
    "start_time": "2021-11-12T17:13:19.518Z"
   },
   {
    "duration": 89795,
    "start_time": "2021-11-12T17:13:19.564Z"
   },
   {
    "duration": 116,
    "start_time": "2021-11-12T17:14:49.362Z"
   },
   {
    "duration": 366,
    "start_time": "2021-11-12T17:14:49.481Z"
   },
   {
    "duration": 284,
    "start_time": "2021-11-12T17:14:49.850Z"
   },
   {
    "duration": 320,
    "start_time": "2021-11-12T17:14:50.136Z"
   },
   {
    "duration": 354,
    "start_time": "2021-11-12T17:14:50.462Z"
   },
   {
    "duration": 398,
    "start_time": "2021-11-12T17:14:50.819Z"
   },
   {
    "duration": 589,
    "start_time": "2021-11-12T17:14:51.220Z"
   },
   {
    "duration": 252,
    "start_time": "2021-11-12T17:14:51.811Z"
   },
   {
    "duration": 59,
    "start_time": "2021-11-12T17:14:52.067Z"
   },
   {
    "duration": 238,
    "start_time": "2021-11-12T17:14:52.129Z"
   },
   {
    "duration": 200,
    "start_time": "2021-11-12T17:15:17.686Z"
   },
   {
    "duration": 130,
    "start_time": "2021-11-12T17:15:32.840Z"
   },
   {
    "duration": 29,
    "start_time": "2021-11-12T17:15:59.749Z"
   },
   {
    "duration": 36,
    "start_time": "2021-11-12T17:26:34.600Z"
   },
   {
    "duration": 82,
    "start_time": "2021-11-12T17:26:40.388Z"
   },
   {
    "duration": 16,
    "start_time": "2021-11-12T17:30:17.757Z"
   },
   {
    "duration": 7,
    "start_time": "2021-11-12T17:30:55.954Z"
   },
   {
    "duration": 41,
    "start_time": "2021-11-12T17:31:20.766Z"
   },
   {
    "duration": 55,
    "start_time": "2021-11-12T17:31:47.706Z"
   },
   {
    "duration": 57,
    "start_time": "2021-11-12T17:33:09.704Z"
   },
   {
    "duration": 43,
    "start_time": "2021-11-12T17:34:31.796Z"
   },
   {
    "duration": 72,
    "start_time": "2021-11-12T17:34:41.525Z"
   },
   {
    "duration": 942,
    "start_time": "2021-11-12T17:40:16.415Z"
   },
   {
    "duration": 162,
    "start_time": "2021-11-12T17:40:25.436Z"
   },
   {
    "duration": 200,
    "start_time": "2021-11-12T17:41:00.503Z"
   },
   {
    "duration": 1641,
    "start_time": "2021-11-15T16:20:37.630Z"
   },
   {
    "duration": 943,
    "start_time": "2021-11-15T16:20:39.274Z"
   },
   {
    "duration": 321,
    "start_time": "2021-11-15T16:20:40.220Z"
   },
   {
    "duration": 167,
    "start_time": "2021-11-15T16:20:40.544Z"
   },
   {
    "duration": 429,
    "start_time": "2021-11-15T16:20:40.714Z"
   },
   {
    "duration": 906,
    "start_time": "2021-11-15T16:20:41.146Z"
   },
   {
    "duration": 157,
    "start_time": "2021-11-15T16:20:42.060Z"
   },
   {
    "duration": 173,
    "start_time": "2021-11-15T16:20:42.221Z"
   },
   {
    "duration": 7,
    "start_time": "2021-11-15T16:20:42.397Z"
   },
   {
    "duration": 3852,
    "start_time": "2021-11-15T16:20:42.407Z"
   },
   {
    "duration": 21193,
    "start_time": "2021-11-15T16:20:46.261Z"
   },
   {
    "duration": 1739,
    "start_time": "2021-11-15T16:23:44.546Z"
   },
   {
    "duration": 938,
    "start_time": "2021-11-15T16:23:46.288Z"
   },
   {
    "duration": 325,
    "start_time": "2021-11-15T16:23:47.229Z"
   },
   {
    "duration": 164,
    "start_time": "2021-11-15T16:23:47.560Z"
   },
   {
    "duration": 416,
    "start_time": "2021-11-15T16:23:47.727Z"
   },
   {
    "duration": 946,
    "start_time": "2021-11-15T16:23:48.146Z"
   },
   {
    "duration": 179,
    "start_time": "2021-11-15T16:23:49.094Z"
   },
   {
    "duration": 172,
    "start_time": "2021-11-15T16:23:49.277Z"
   },
   {
    "duration": 10,
    "start_time": "2021-11-15T16:23:49.452Z"
   },
   {
    "duration": 3710,
    "start_time": "2021-11-15T16:23:49.464Z"
   },
   {
    "duration": 21650,
    "start_time": "2021-11-15T16:23:53.177Z"
   },
   {
    "duration": 21489,
    "start_time": "2021-11-15T16:24:14.830Z"
   },
   {
    "duration": 21911,
    "start_time": "2021-11-15T16:24:36.322Z"
   },
   {
    "duration": 64,
    "start_time": "2021-11-15T16:24:58.236Z"
   },
   {
    "duration": 177,
    "start_time": "2021-11-15T16:24:58.303Z"
   },
   {
    "duration": 386,
    "start_time": "2021-11-15T16:24:58.482Z"
   },
   {
    "duration": 92651,
    "start_time": "2021-11-15T16:24:58.871Z"
   },
   {
    "duration": 119,
    "start_time": "2021-11-15T16:26:31.525Z"
   },
   {
    "duration": 353,
    "start_time": "2021-11-15T16:26:31.647Z"
   },
   {
    "duration": 308,
    "start_time": "2021-11-15T16:26:32.002Z"
   },
   {
    "duration": 339,
    "start_time": "2021-11-15T16:26:32.312Z"
   },
   {
    "duration": 358,
    "start_time": "2021-11-15T16:26:32.658Z"
   },
   {
    "duration": 401,
    "start_time": "2021-11-15T16:26:33.021Z"
   },
   {
    "duration": 592,
    "start_time": "2021-11-15T16:26:33.425Z"
   },
   {
    "duration": 266,
    "start_time": "2021-11-15T16:26:34.020Z"
   },
   {
    "duration": 71,
    "start_time": "2021-11-15T16:26:34.289Z"
   },
   {
    "duration": 125,
    "start_time": "2021-11-15T16:26:34.363Z"
   },
   {
    "duration": 35,
    "start_time": "2021-11-15T16:26:34.491Z"
   },
   {
    "duration": 211,
    "start_time": "2021-11-15T16:26:34.529Z"
   },
   {
    "duration": 1431,
    "start_time": "2021-11-15T16:37:30.498Z"
   },
   {
    "duration": 230,
    "start_time": "2021-11-15T16:37:32.890Z"
   },
   {
    "duration": 1092,
    "start_time": "2021-11-15T16:37:34.619Z"
   },
   {
    "duration": 1355,
    "start_time": "2021-11-15T16:40:27.408Z"
   },
   {
    "duration": 538,
    "start_time": "2021-11-15T16:48:16.003Z"
   },
   {
    "duration": 6881,
    "start_time": "2021-11-15T16:48:26.272Z"
   },
   {
    "duration": 371,
    "start_time": "2021-11-15T16:50:36.653Z"
   },
   {
    "duration": 376,
    "start_time": "2021-11-15T16:51:36.249Z"
   },
   {
    "duration": 6648,
    "start_time": "2021-11-15T16:51:58.719Z"
   },
   {
    "duration": 418,
    "start_time": "2021-11-15T16:53:21.897Z"
   },
   {
    "duration": 25,
    "start_time": "2021-11-15T17:02:51.722Z"
   },
   {
    "duration": 1449,
    "start_time": "2021-11-15T17:03:01.145Z"
   },
   {
    "duration": 115,
    "start_time": "2021-11-15T17:03:09.222Z"
   },
   {
    "duration": 1067,
    "start_time": "2021-11-15T17:03:12.503Z"
   },
   {
    "duration": 146,
    "start_time": "2021-11-15T17:03:15.974Z"
   },
   {
    "duration": 394,
    "start_time": "2021-11-15T17:04:22.990Z"
   },
   {
    "duration": 3119,
    "start_time": "2021-11-15T17:04:49.610Z"
   },
   {
    "duration": 369,
    "start_time": "2021-11-15T17:05:11.109Z"
   },
   {
    "duration": 3139,
    "start_time": "2021-11-15T17:05:21.790Z"
   },
   {
    "duration": 2750,
    "start_time": "2021-11-15T17:05:41.236Z"
   },
   {
    "duration": 381,
    "start_time": "2021-11-15T17:20:17.285Z"
   },
   {
    "duration": 1518,
    "start_time": "2021-11-15T17:20:36.194Z"
   },
   {
    "duration": 879,
    "start_time": "2021-11-15T17:20:37.714Z"
   },
   {
    "duration": 326,
    "start_time": "2021-11-15T17:20:38.596Z"
   },
   {
    "duration": 168,
    "start_time": "2021-11-15T17:20:38.925Z"
   },
   {
    "duration": 405,
    "start_time": "2021-11-15T17:20:39.095Z"
   },
   {
    "duration": 893,
    "start_time": "2021-11-15T17:20:39.502Z"
   },
   {
    "duration": 165,
    "start_time": "2021-11-15T17:20:40.397Z"
   },
   {
    "duration": 180,
    "start_time": "2021-11-15T17:20:40.565Z"
   },
   {
    "duration": 12,
    "start_time": "2021-11-15T17:20:40.748Z"
   },
   {
    "duration": 3815,
    "start_time": "2021-11-15T17:20:40.762Z"
   },
   {
    "duration": 20773,
    "start_time": "2021-11-15T17:20:44.580Z"
   },
   {
    "duration": 20821,
    "start_time": "2021-11-15T17:21:05.359Z"
   },
   {
    "duration": 21384,
    "start_time": "2021-11-15T17:21:26.183Z"
   },
   {
    "duration": 52,
    "start_time": "2021-11-15T17:21:47.570Z"
   },
   {
    "duration": 171,
    "start_time": "2021-11-15T17:21:47.625Z"
   },
   {
    "duration": 371,
    "start_time": "2021-11-15T17:21:47.798Z"
   },
   {
    "duration": 93829,
    "start_time": "2021-11-15T17:21:48.171Z"
   },
   {
    "duration": 123,
    "start_time": "2021-11-15T17:23:22.002Z"
   },
   {
    "duration": 370,
    "start_time": "2021-11-15T17:23:22.127Z"
   },
   {
    "duration": 314,
    "start_time": "2021-11-15T17:23:22.500Z"
   },
   {
    "duration": 334,
    "start_time": "2021-11-15T17:23:22.817Z"
   },
   {
    "duration": 357,
    "start_time": "2021-11-15T17:23:23.154Z"
   },
   {
    "duration": 406,
    "start_time": "2021-11-15T17:23:23.518Z"
   },
   {
    "duration": 581,
    "start_time": "2021-11-15T17:23:23.928Z"
   },
   {
    "duration": 269,
    "start_time": "2021-11-15T17:23:24.513Z"
   },
   {
    "duration": 77,
    "start_time": "2021-11-15T17:23:24.785Z"
   },
   {
    "duration": 130,
    "start_time": "2021-11-15T17:23:24.864Z"
   },
   {
    "duration": 27,
    "start_time": "2021-11-15T17:23:24.996Z"
   },
   {
    "duration": 1346,
    "start_time": "2021-11-15T17:23:25.025Z"
   },
   {
    "duration": 137,
    "start_time": "2021-11-15T17:23:26.375Z"
   },
   {
    "duration": 1092,
    "start_time": "2021-11-15T17:23:26.515Z"
   },
   {
    "duration": 200,
    "start_time": "2021-11-15T17:23:27.610Z"
   },
   {
    "duration": 542,
    "start_time": "2021-11-15T17:26:02.798Z"
   },
   {
    "duration": 403,
    "start_time": "2021-11-15T17:26:51.969Z"
   },
   {
    "duration": 1408,
    "start_time": "2021-11-15T17:26:58.325Z"
   },
   {
    "duration": 122,
    "start_time": "2021-11-15T17:27:01.175Z"
   },
   {
    "duration": 1049,
    "start_time": "2021-11-15T17:27:02.995Z"
   },
   {
    "duration": 162,
    "start_time": "2021-11-15T17:27:05.446Z"
   },
   {
    "duration": 27086,
    "start_time": "2021-11-15T17:32:01.744Z"
   },
   {
    "duration": 5,
    "start_time": "2021-11-15T17:33:55.904Z"
   },
   {
    "duration": 5,
    "start_time": "2021-11-15T17:35:14.306Z"
   },
   {
    "duration": 5,
    "start_time": "2021-11-15T17:35:29.634Z"
   },
   {
    "duration": 27492,
    "start_time": "2021-11-15T17:35:39.668Z"
   },
   {
    "duration": 27871,
    "start_time": "2021-11-15T17:40:09.697Z"
   },
   {
    "duration": 27776,
    "start_time": "2021-11-15T17:41:08.894Z"
   },
   {
    "duration": 27746,
    "start_time": "2021-11-15T17:44:34.419Z"
   },
   {
    "duration": 27888,
    "start_time": "2021-11-15T17:45:34.671Z"
   },
   {
    "duration": 27865,
    "start_time": "2021-11-15T17:46:35.497Z"
   },
   {
    "duration": 28223,
    "start_time": "2021-11-15T17:47:39.238Z"
   },
   {
    "duration": 375,
    "start_time": "2021-11-15T18:27:46.311Z"
   },
   {
    "duration": 86532,
    "start_time": "2021-11-15T18:28:26.202Z"
   },
   {
    "duration": 26453,
    "start_time": "2021-11-15T18:31:08.562Z"
   },
   {
    "duration": 84122,
    "start_time": "2021-11-15T18:31:47.461Z"
   },
   {
    "duration": 85050,
    "start_time": "2021-11-15T18:33:35.337Z"
   },
   {
    "duration": 297,
    "start_time": "2021-11-15T18:37:02.742Z"
   },
   {
    "duration": 5,
    "start_time": "2021-11-15T18:38:42.978Z"
   },
   {
    "duration": 6,
    "start_time": "2021-11-15T18:39:07.107Z"
   },
   {
    "duration": 307,
    "start_time": "2021-11-15T18:39:18.657Z"
   },
   {
    "duration": 337871,
    "start_time": "2021-11-15T18:41:31.984Z"
   },
   {
    "duration": 404,
    "start_time": "2021-11-15T18:52:50.252Z"
   },
   {
    "duration": 639,
    "start_time": "2021-11-15T18:52:53.784Z"
   },
   {
    "duration": 25,
    "start_time": "2021-11-15T18:53:00.814Z"
   },
   {
    "duration": 1279,
    "start_time": "2021-11-15T18:53:08.055Z"
   },
   {
    "duration": 134,
    "start_time": "2021-11-15T18:53:11.843Z"
   },
   {
    "duration": 30767,
    "start_time": "2021-11-15T18:55:14.774Z"
   },
   {
    "duration": 680,
    "start_time": "2021-11-15T18:55:45.548Z"
   },
   {
    "duration": -562,
    "start_time": "2021-11-15T18:55:46.793Z"
   },
   {
    "duration": 1339,
    "start_time": "2021-11-15T18:55:48.620Z"
   },
   {
    "duration": 209,
    "start_time": "2021-11-15T18:55:51.672Z"
   },
   {
    "duration": 30215,
    "start_time": "2021-11-15T18:55:55.551Z"
   },
   {
    "duration": 50,
    "start_time": "2021-11-15T19:05:19.388Z"
   },
   {
    "duration": 1129733,
    "start_time": "2021-11-15T19:05:25.801Z"
   },
   {
    "duration": 25,
    "start_time": "2021-11-15T19:27:55.636Z"
   },
   {
    "duration": 24169,
    "start_time": "2021-11-15T19:27:55.664Z"
   },
   {
    "duration": 175,
    "start_time": "2021-11-15T19:28:19.839Z"
   },
   {
    "duration": 192,
    "start_time": "2021-11-15T19:28:26.450Z"
   },
   {
    "duration": 389,
    "start_time": "2021-11-15T19:28:30.748Z"
   },
   {
    "duration": 341,
    "start_time": "2021-11-15T19:33:38.787Z"
   },
   {
    "duration": 195,
    "start_time": "2021-11-15T19:33:42.848Z"
   },
   {
    "duration": 351,
    "start_time": "2021-11-15T19:33:44.949Z"
   },
   {
    "duration": 923,
    "start_time": "2021-11-15T19:36:03.986Z"
   },
   {
    "duration": 356,
    "start_time": "2021-11-15T19:37:19.283Z"
   },
   {
    "duration": 1690,
    "start_time": "2021-11-16T00:31:38.233Z"
   },
   {
    "duration": 942,
    "start_time": "2021-11-16T00:31:39.925Z"
   },
   {
    "duration": 305,
    "start_time": "2021-11-16T00:31:40.870Z"
   },
   {
    "duration": 159,
    "start_time": "2021-11-16T00:31:43.721Z"
   },
   {
    "duration": 390,
    "start_time": "2021-11-16T00:31:45.260Z"
   },
   {
    "duration": 914,
    "start_time": "2021-11-16T00:31:45.786Z"
   },
   {
    "duration": 150,
    "start_time": "2021-11-16T00:31:48.743Z"
   },
   {
    "duration": 168,
    "start_time": "2021-11-16T00:31:50.011Z"
   },
   {
    "duration": 6,
    "start_time": "2021-11-16T00:31:50.991Z"
   },
   {
    "duration": 3740,
    "start_time": "2021-11-16T00:31:53.781Z"
   },
   {
    "duration": 20711,
    "start_time": "2021-11-16T00:31:57.524Z"
   },
   {
    "duration": 20774,
    "start_time": "2021-11-16T00:32:18.238Z"
   },
   {
    "duration": 21205,
    "start_time": "2021-11-16T00:32:39.015Z"
   },
   {
    "duration": 53,
    "start_time": "2021-11-16T00:33:00.229Z"
   },
   {
    "duration": 160,
    "start_time": "2021-11-16T00:33:00.284Z"
   },
   {
    "duration": 371,
    "start_time": "2021-11-16T00:33:00.447Z"
   },
   {
    "duration": 93728,
    "start_time": "2021-11-16T00:33:00.821Z"
   },
   {
    "duration": 121,
    "start_time": "2021-11-16T00:34:34.552Z"
   },
   {
    "duration": 347,
    "start_time": "2021-11-16T00:34:34.675Z"
   },
   {
    "duration": 288,
    "start_time": "2021-11-16T00:34:35.024Z"
   },
   {
    "duration": 317,
    "start_time": "2021-11-16T00:34:35.314Z"
   },
   {
    "duration": 415,
    "start_time": "2021-11-16T00:34:35.634Z"
   },
   {
    "duration": 322,
    "start_time": "2021-11-16T00:34:36.051Z"
   },
   {
    "duration": 571,
    "start_time": "2021-11-16T00:34:36.376Z"
   },
   {
    "duration": 258,
    "start_time": "2021-11-16T00:34:36.949Z"
   },
   {
    "duration": 69,
    "start_time": "2021-11-16T00:34:37.209Z"
   },
   {
    "duration": 122,
    "start_time": "2021-11-16T00:34:37.280Z"
   },
   {
    "duration": 40,
    "start_time": "2021-11-16T00:34:37.404Z"
   },
   {
    "duration": 1485,
    "start_time": "2021-11-16T00:34:37.446Z"
   },
   {
    "duration": 132,
    "start_time": "2021-11-16T00:34:38.933Z"
   },
   {
    "duration": 1080,
    "start_time": "2021-11-16T00:34:39.068Z"
   },
   {
    "duration": 182,
    "start_time": "2021-11-16T00:34:40.152Z"
   },
   {
    "duration": 27592,
    "start_time": "2021-11-16T00:34:40.337Z"
   },
   {
    "duration": 283,
    "start_time": "2021-11-16T00:35:07.933Z"
   },
   {
    "duration": 190,
    "start_time": "2021-11-16T00:35:32.410Z"
   },
   {
    "duration": 421,
    "start_time": "2021-11-16T00:35:42.619Z"
   },
   {
    "duration": 214,
    "start_time": "2021-11-16T00:39:58.659Z"
   },
   {
    "duration": 209,
    "start_time": "2021-11-16T00:40:31.159Z"
   },
   {
    "duration": 117,
    "start_time": "2021-11-16T00:40:40.638Z"
   },
   {
    "duration": 107,
    "start_time": "2021-11-16T00:41:08.269Z"
   },
   {
    "duration": 35,
    "start_time": "2021-11-16T00:42:15.686Z"
   },
   {
    "duration": 40,
    "start_time": "2021-11-16T00:42:24.527Z"
   },
   {
    "duration": 35,
    "start_time": "2021-11-16T00:42:40.917Z"
   },
   {
    "duration": 120,
    "start_time": "2021-11-16T00:43:26.188Z"
   },
   {
    "duration": 182,
    "start_time": "2021-11-16T00:43:51.603Z"
   },
   {
    "duration": 317,
    "start_time": "2021-11-16T00:44:08.594Z"
   },
   {
    "duration": 7,
    "start_time": "2021-11-16T00:45:04.732Z"
   },
   {
    "duration": 184,
    "start_time": "2021-11-16T00:45:11.783Z"
   },
   {
    "duration": 298,
    "start_time": "2021-11-16T00:45:15.963Z"
   },
   {
    "duration": 192,
    "start_time": "2021-11-16T00:49:18.056Z"
   },
   {
    "duration": 287,
    "start_time": "2021-11-16T00:49:45.948Z"
   },
   {
    "duration": 280,
    "start_time": "2021-11-16T00:49:58.729Z"
   },
   {
    "duration": 301,
    "start_time": "2021-11-16T00:50:45.046Z"
   },
   {
    "duration": 100,
    "start_time": "2021-11-16T00:58:01.202Z"
   },
   {
    "duration": 363,
    "start_time": "2021-11-16T00:58:21.685Z"
   },
   {
    "duration": 284,
    "start_time": "2021-11-16T00:58:29.754Z"
   },
   {
    "duration": 281,
    "start_time": "2021-11-16T00:59:10.112Z"
   },
   {
    "duration": 288,
    "start_time": "2021-11-16T01:01:13.407Z"
   },
   {
    "duration": 264,
    "start_time": "2021-11-16T01:05:14.011Z"
   },
   {
    "duration": 255,
    "start_time": "2021-11-16T01:05:22.953Z"
   },
   {
    "duration": 55784,
    "start_time": "2021-11-16T01:05:25.373Z"
   },
   {
    "duration": 163668,
    "start_time": "2021-11-16T01:06:30.468Z"
   },
   {
    "duration": 211,
    "start_time": "2021-11-16T01:14:57.212Z"
   },
   {
    "duration": 102291,
    "start_time": "2021-11-16T01:16:48.501Z"
   },
   {
    "duration": 1549,
    "start_time": "2021-11-16T01:19:48.068Z"
   },
   {
    "duration": 920,
    "start_time": "2021-11-16T01:19:49.619Z"
   },
   {
    "duration": 328,
    "start_time": "2021-11-16T01:19:50.542Z"
   },
   {
    "duration": 171,
    "start_time": "2021-11-16T01:19:50.873Z"
   },
   {
    "duration": 551,
    "start_time": "2021-11-16T01:19:51.047Z"
   },
   {
    "duration": 947,
    "start_time": "2021-11-16T01:19:51.600Z"
   },
   {
    "duration": 159,
    "start_time": "2021-11-16T01:19:52.550Z"
   },
   {
    "duration": 166,
    "start_time": "2021-11-16T01:19:52.711Z"
   },
   {
    "duration": 7,
    "start_time": "2021-11-16T01:19:52.881Z"
   },
   {
    "duration": 3950,
    "start_time": "2021-11-16T01:19:52.891Z"
   },
   {
    "duration": 21158,
    "start_time": "2021-11-16T01:19:56.843Z"
   },
   {
    "duration": 21007,
    "start_time": "2021-11-16T01:20:18.004Z"
   },
   {
    "duration": 20830,
    "start_time": "2021-11-16T01:20:39.013Z"
   },
   {
    "duration": 53,
    "start_time": "2021-11-16T01:20:59.845Z"
   },
   {
    "duration": 174,
    "start_time": "2021-11-16T01:20:59.900Z"
   },
   {
    "duration": 381,
    "start_time": "2021-11-16T01:21:00.077Z"
   },
   {
    "duration": 92081,
    "start_time": "2021-11-16T01:21:00.461Z"
   },
   {
    "duration": 126,
    "start_time": "2021-11-16T01:22:32.544Z"
   },
   {
    "duration": 347,
    "start_time": "2021-11-16T01:22:32.673Z"
   },
   {
    "duration": 293,
    "start_time": "2021-11-16T01:22:33.022Z"
   },
   {
    "duration": 325,
    "start_time": "2021-11-16T01:22:33.318Z"
   },
   {
    "duration": 441,
    "start_time": "2021-11-16T01:22:33.646Z"
   },
   {
    "duration": 318,
    "start_time": "2021-11-16T01:22:34.090Z"
   },
   {
    "duration": 573,
    "start_time": "2021-11-16T01:22:34.410Z"
   },
   {
    "duration": 264,
    "start_time": "2021-11-16T01:22:34.986Z"
   },
   {
    "duration": 50,
    "start_time": "2021-11-16T01:22:35.252Z"
   },
   {
    "duration": 135,
    "start_time": "2021-11-16T01:22:35.307Z"
   },
   {
    "duration": 127,
    "start_time": "2021-11-16T01:22:35.445Z"
   },
   {
    "duration": 1573,
    "start_time": "2021-11-16T01:22:35.575Z"
   },
   {
    "duration": 131,
    "start_time": "2021-11-16T01:22:37.151Z"
   },
   {
    "duration": 1073,
    "start_time": "2021-11-16T01:22:37.285Z"
   },
   {
    "duration": 190,
    "start_time": "2021-11-16T01:22:38.361Z"
   },
   {
    "duration": 26278,
    "start_time": "2021-11-16T01:22:38.554Z"
   },
   {
    "duration": 16582283,
    "start_time": "2021-11-16T01:23:04.835Z"
   },
   {
    "duration": 351,
    "start_time": "2021-11-16T05:59:27.121Z"
   },
   {
    "duration": 267,
    "start_time": "2021-11-16T05:59:27.474Z"
   },
   {
    "duration": 107397,
    "start_time": "2021-11-16T05:59:27.744Z"
   },
   {
    "duration": 275,
    "start_time": "2021-11-16T06:01:15.144Z"
   },
   {
    "duration": 795145,
    "start_time": "2021-11-16T06:01:15.421Z"
   },
   {
    "duration": 1721,
    "start_time": "2021-11-16T16:06:20.166Z"
   },
   {
    "duration": 2234,
    "start_time": "2021-11-16T16:17:18.468Z"
   },
   {
    "duration": 1343,
    "start_time": "2021-11-16T16:17:20.705Z"
   },
   {
    "duration": 526,
    "start_time": "2021-11-16T16:17:22.052Z"
   },
   {
    "duration": 165,
    "start_time": "2021-11-16T16:17:22.582Z"
   },
   {
    "duration": 701,
    "start_time": "2021-11-16T16:17:22.749Z"
   },
   {
    "duration": 1831,
    "start_time": "2021-11-16T16:17:23.453Z"
   },
   {
    "duration": 158,
    "start_time": "2021-11-16T16:17:25.286Z"
   },
   {
    "duration": 188,
    "start_time": "2021-11-16T16:17:25.449Z"
   },
   {
    "duration": 7,
    "start_time": "2021-11-16T16:17:25.641Z"
   },
   {
    "duration": 4408,
    "start_time": "2021-11-16T16:17:25.651Z"
   },
   {
    "duration": 22485,
    "start_time": "2021-11-16T16:17:30.062Z"
   },
   {
    "duration": 24150,
    "start_time": "2021-11-16T16:17:52.550Z"
   },
   {
    "duration": 23833,
    "start_time": "2021-11-16T16:18:16.703Z"
   },
   {
    "duration": 69,
    "start_time": "2021-11-16T16:18:40.539Z"
   },
   {
    "duration": 162,
    "start_time": "2021-11-16T16:18:40.610Z"
   },
   {
    "duration": 378,
    "start_time": "2021-11-16T16:18:40.782Z"
   },
   {
    "duration": 101658,
    "start_time": "2021-11-16T16:18:41.163Z"
   },
   {
    "duration": 124,
    "start_time": "2021-11-16T16:20:22.824Z"
   },
   {
    "duration": 366,
    "start_time": "2021-11-16T16:20:22.950Z"
   },
   {
    "duration": 407,
    "start_time": "2021-11-16T16:20:23.319Z"
   },
   {
    "duration": 330,
    "start_time": "2021-11-16T16:20:23.729Z"
   },
   {
    "duration": 427,
    "start_time": "2021-11-16T16:20:24.062Z"
   },
   {
    "duration": 509,
    "start_time": "2021-11-16T16:20:24.496Z"
   },
   {
    "duration": 948,
    "start_time": "2021-11-16T16:20:25.008Z"
   },
   {
    "duration": 388,
    "start_time": "2021-11-16T16:20:25.960Z"
   },
   {
    "duration": 69,
    "start_time": "2021-11-16T16:20:26.350Z"
   },
   {
    "duration": 121,
    "start_time": "2021-11-16T16:20:26.421Z"
   },
   {
    "duration": 129,
    "start_time": "2021-11-16T16:20:26.545Z"
   },
   {
    "duration": 7,
    "start_time": "2021-11-16T16:20:26.676Z"
   },
   {
    "duration": 6,
    "start_time": "2021-11-16T16:20:26.686Z"
   },
   {
    "duration": 521,
    "start_time": "2021-11-16T16:20:26.694Z"
   },
   {
    "duration": -1799,
    "start_time": "2021-11-16T16:20:29.018Z"
   },
   {
    "duration": -1812,
    "start_time": "2021-11-16T16:20:29.033Z"
   },
   {
    "duration": -1817,
    "start_time": "2021-11-16T16:20:29.040Z"
   },
   {
    "duration": -1820,
    "start_time": "2021-11-16T16:20:29.045Z"
   },
   {
    "duration": -1824,
    "start_time": "2021-11-16T16:20:29.051Z"
   },
   {
    "duration": -1827,
    "start_time": "2021-11-16T16:20:29.055Z"
   },
   {
    "duration": -1832,
    "start_time": "2021-11-16T16:20:29.062Z"
   },
   {
    "duration": -1834,
    "start_time": "2021-11-16T16:20:29.066Z"
   },
   {
    "duration": 1397,
    "start_time": "2021-11-16T16:21:40.097Z"
   },
   {
    "duration": 3,
    "start_time": "2021-11-16T16:21:44.934Z"
   },
   {
    "duration": 255,
    "start_time": "2021-11-16T16:21:47.927Z"
   },
   {
    "duration": 154,
    "start_time": "2021-11-16T16:22:10.033Z"
   },
   {
    "duration": 1455205,
    "start_time": "2021-11-16T16:22:24.679Z"
   },
   {
    "duration": 211,
    "start_time": "2021-11-16T16:46:39.887Z"
   },
   {
    "duration": 366,
    "start_time": "2021-11-16T16:46:40.102Z"
   },
   {
    "duration": 143343,
    "start_time": "2021-11-16T16:46:40.471Z"
   },
   {
    "duration": 178,
    "start_time": "2021-11-16T16:49:03.817Z"
   },
   {
    "duration": 258,
    "start_time": "2021-11-16T17:02:11.133Z"
   },
   {
    "duration": 284,
    "start_time": "2021-11-16T17:02:11.394Z"
   },
   {
    "duration": 854,
    "start_time": "2021-11-16T17:02:11.681Z"
   },
   {
    "duration": 168,
    "start_time": "2021-11-16T17:02:12.537Z"
   },
   {
    "duration": 167312,
    "start_time": "2021-11-16T17:02:12.708Z"
   },
   {
    "duration": 356,
    "start_time": "2021-11-16T17:05:00.028Z"
   },
   {
    "duration": 944,
    "start_time": "2021-11-16T17:06:39.985Z"
   },
   {
    "duration": 1064,
    "start_time": "2021-11-16T17:07:05.042Z"
   },
   {
    "duration": 950,
    "start_time": "2021-11-16T17:07:20.833Z"
   },
   {
    "duration": 930,
    "start_time": "2021-11-16T17:07:32.032Z"
   },
   {
    "duration": 267,
    "start_time": "2021-11-16T17:08:45.178Z"
   },
   {
    "duration": 127129,
    "start_time": "2021-11-16T17:08:55.034Z"
   },
   {
    "duration": 934,
    "start_time": "2021-11-16T17:12:03.963Z"
   },
   {
    "duration": 12229,
    "start_time": "2021-11-16T17:15:41.240Z"
   },
   {
    "duration": 177,
    "start_time": "2021-11-16T17:23:07.833Z"
   },
   {
    "duration": 24288,
    "start_time": "2021-11-16T17:23:09.719Z"
   },
   {
    "duration": 237,
    "start_time": "2021-11-16T17:23:34.010Z"
   },
   {
    "duration": 301,
    "start_time": "2021-11-16T17:23:39.981Z"
   },
   {
    "duration": 672602,
    "start_time": "2021-11-16T17:23:40.827Z"
   },
   {
    "duration": 220,
    "start_time": "2021-11-16T17:34:53.432Z"
   },
   {
    "duration": 166,
    "start_time": "2021-11-16T17:35:11.432Z"
   },
   {
    "duration": 119899,
    "start_time": "2021-11-16T17:35:12.264Z"
   },
   {
    "duration": 228,
    "start_time": "2021-11-16T17:37:12.166Z"
   },
   {
    "duration": 1810,
    "start_time": "2021-11-16T17:37:22.489Z"
   },
   {
    "duration": 975,
    "start_time": "2021-11-16T17:37:24.302Z"
   },
   {
    "duration": 333,
    "start_time": "2021-11-16T17:37:25.280Z"
   },
   {
    "duration": 170,
    "start_time": "2021-11-16T17:37:25.617Z"
   },
   {
    "duration": 422,
    "start_time": "2021-11-16T17:37:25.790Z"
   },
   {
    "duration": 1049,
    "start_time": "2021-11-16T17:37:26.215Z"
   },
   {
    "duration": 160,
    "start_time": "2021-11-16T17:37:27.267Z"
   },
   {
    "duration": 178,
    "start_time": "2021-11-16T17:37:27.431Z"
   },
   {
    "duration": 7,
    "start_time": "2021-11-16T17:37:27.612Z"
   },
   {
    "duration": 4036,
    "start_time": "2021-11-16T17:37:27.621Z"
   },
   {
    "duration": 22679,
    "start_time": "2021-11-16T17:37:31.659Z"
   },
   {
    "duration": 21455,
    "start_time": "2021-11-16T17:37:54.341Z"
   },
   {
    "duration": 21383,
    "start_time": "2021-11-16T17:38:15.799Z"
   },
   {
    "duration": 58,
    "start_time": "2021-11-16T17:38:37.185Z"
   },
   {
    "duration": 283,
    "start_time": "2021-11-16T17:38:37.246Z"
   },
   {
    "duration": 397,
    "start_time": "2021-11-16T17:38:37.532Z"
   },
   {
    "duration": 99738,
    "start_time": "2021-11-16T17:38:37.932Z"
   },
   {
    "duration": 127,
    "start_time": "2021-11-16T17:40:17.673Z"
   },
   {
    "duration": 371,
    "start_time": "2021-11-16T17:40:17.802Z"
   },
   {
    "duration": 303,
    "start_time": "2021-11-16T17:40:18.183Z"
   },
   {
    "duration": 448,
    "start_time": "2021-11-16T17:40:18.488Z"
   },
   {
    "duration": 435,
    "start_time": "2021-11-16T17:40:18.940Z"
   },
   {
    "duration": 335,
    "start_time": "2021-11-16T17:40:19.380Z"
   },
   {
    "duration": 895,
    "start_time": "2021-11-16T17:40:19.718Z"
   },
   {
    "duration": 394,
    "start_time": "2021-11-16T17:40:20.616Z"
   },
   {
    "duration": 68,
    "start_time": "2021-11-16T17:40:21.014Z"
   },
   {
    "duration": 129,
    "start_time": "2021-11-16T17:40:21.084Z"
   },
   {
    "duration": 134,
    "start_time": "2021-11-16T17:40:21.216Z"
   },
   {
    "duration": 3,
    "start_time": "2021-11-16T17:40:21.352Z"
   },
   {
    "duration": 24,
    "start_time": "2021-11-16T17:40:21.357Z"
   },
   {
    "duration": 936,
    "start_time": "2021-11-16T17:40:21.384Z"
   },
   {
    "duration": 4,
    "start_time": "2021-11-16T17:40:22.322Z"
   },
   {
    "duration": 159,
    "start_time": "2021-11-16T17:40:22.328Z"
   },
   {
    "duration": 1490724,
    "start_time": "2021-11-16T17:40:22.491Z"
   },
   {
    "duration": 62235,
    "start_time": "2021-11-16T18:05:13.218Z"
   },
   {
    "duration": 368,
    "start_time": "2021-11-16T18:06:15.455Z"
   },
   {
    "duration": 1761363,
    "start_time": "2021-11-16T18:06:15.826Z"
   },
   {
    "duration": 103393,
    "start_time": "2021-11-16T18:35:37.191Z"
   },
   {
    "duration": 199,
    "start_time": "2021-11-16T18:37:20.587Z"
   },
   {
    "duration": 805923,
    "start_time": "2021-11-16T18:37:20.789Z"
   },
   {
    "duration": 11010,
    "start_time": "2021-11-16T18:50:46.715Z"
   },
   {
    "duration": 896145,
    "start_time": "2021-11-16T19:02:29.631Z"
   },
   {
    "duration": 335,
    "start_time": "2021-11-16T19:25:01.638Z"
   },
   {
    "duration": 1010,
    "start_time": "2021-11-16T19:25:11.490Z"
   },
   {
    "duration": 328,
    "start_time": "2021-11-16T19:25:15.820Z"
   },
   {
    "duration": 315,
    "start_time": "2021-11-16T19:25:31.816Z"
   },
   {
    "duration": 45,
    "start_time": "2021-11-16T19:25:56.558Z"
   },
   {
    "duration": 1489,
    "start_time": "2021-11-16T19:26:13.834Z"
   },
   {
    "duration": 111,
    "start_time": "2021-11-16T19:27:19.027Z"
   },
   {
    "duration": 1618,
    "start_time": "2021-11-16T19:33:32.996Z"
   },
   {
    "duration": 1004,
    "start_time": "2021-11-16T19:33:34.617Z"
   },
   {
    "duration": 349,
    "start_time": "2021-11-16T19:33:35.625Z"
   },
   {
    "duration": 178,
    "start_time": "2021-11-16T19:33:35.977Z"
   },
   {
    "duration": 466,
    "start_time": "2021-11-16T19:33:36.157Z"
   },
   {
    "duration": 1063,
    "start_time": "2021-11-16T19:33:36.626Z"
   },
   {
    "duration": 205,
    "start_time": "2021-11-16T19:33:37.693Z"
   },
   {
    "duration": 220,
    "start_time": "2021-11-16T19:33:37.902Z"
   },
   {
    "duration": 7,
    "start_time": "2021-11-16T19:33:38.128Z"
   },
   {
    "duration": 4423,
    "start_time": "2021-11-16T19:33:38.139Z"
   },
   {
    "duration": 24083,
    "start_time": "2021-11-16T19:33:42.564Z"
   },
   {
    "duration": 26294,
    "start_time": "2021-11-16T19:34:06.650Z"
   },
   {
    "duration": 23134,
    "start_time": "2021-11-16T19:34:32.947Z"
   },
   {
    "duration": 66,
    "start_time": "2021-11-16T19:34:56.084Z"
   },
   {
    "duration": 198,
    "start_time": "2021-11-16T19:34:56.152Z"
   },
   {
    "duration": 408,
    "start_time": "2021-11-16T19:34:56.353Z"
   },
   {
    "duration": 104345,
    "start_time": "2021-11-16T19:34:56.764Z"
   },
   {
    "duration": 193,
    "start_time": "2021-11-16T19:36:41.112Z"
   },
   {
    "duration": 396,
    "start_time": "2021-11-16T19:36:41.308Z"
   },
   {
    "duration": 323,
    "start_time": "2021-11-16T19:36:41.707Z"
   },
   {
    "duration": 340,
    "start_time": "2021-11-16T19:36:42.032Z"
   },
   {
    "duration": 431,
    "start_time": "2021-11-16T19:36:42.382Z"
   },
   {
    "duration": 425,
    "start_time": "2021-11-16T19:36:42.816Z"
   },
   {
    "duration": 615,
    "start_time": "2021-11-16T19:36:43.243Z"
   },
   {
    "duration": 268,
    "start_time": "2021-11-16T19:36:43.861Z"
   },
   {
    "duration": 70,
    "start_time": "2021-11-16T19:36:44.131Z"
   },
   {
    "duration": 132,
    "start_time": "2021-11-16T19:36:44.208Z"
   },
   {
    "duration": 135,
    "start_time": "2021-11-16T19:36:44.344Z"
   },
   {
    "duration": 3,
    "start_time": "2021-11-16T19:36:44.488Z"
   },
   {
    "duration": 6,
    "start_time": "2021-11-16T19:36:44.496Z"
   },
   {
    "duration": 5,
    "start_time": "2021-11-16T19:36:44.504Z"
   },
   {
    "duration": 1001,
    "start_time": "2021-11-16T19:36:44.511Z"
   },
   {
    "duration": 275,
    "start_time": "2021-11-16T19:36:45.514Z"
   },
   {
    "duration": 95,
    "start_time": "2021-11-16T19:36:45.792Z"
   },
   {
    "duration": 1487942,
    "start_time": "2021-11-16T19:36:45.891Z"
   },
   {
    "duration": 70242,
    "start_time": "2021-11-16T20:01:33.836Z"
   },
   {
    "duration": 300,
    "start_time": "2021-11-16T20:02:44.083Z"
   },
   {
    "duration": 1926328,
    "start_time": "2021-11-16T20:02:44.386Z"
   },
   {
    "duration": 118279,
    "start_time": "2021-11-16T20:34:50.716Z"
   },
   {
    "duration": 93,
    "start_time": "2021-11-16T20:36:48.998Z"
   },
   {
    "duration": 830447,
    "start_time": "2021-11-16T20:36:49.094Z"
   },
   {
    "duration": 1598146,
    "start_time": "2021-11-16T20:50:39.544Z"
   },
   {
    "duration": 174,
    "start_time": "2021-11-16T21:35:58.948Z"
   },
   {
    "duration": 8,
    "start_time": "2021-11-16T21:36:26.786Z"
   },
   {
    "duration": 911,
    "start_time": "2021-11-16T21:36:26.797Z"
   },
   {
    "duration": 308,
    "start_time": "2021-11-16T21:36:27.711Z"
   },
   {
    "duration": 131,
    "start_time": "2021-11-16T21:36:28.021Z"
   },
   {
    "duration": 397,
    "start_time": "2021-11-16T21:36:28.154Z"
   },
   {
    "duration": 905,
    "start_time": "2021-11-16T21:36:28.554Z"
   },
   {
    "duration": 170,
    "start_time": "2021-11-16T21:36:29.462Z"
   },
   {
    "duration": 169,
    "start_time": "2021-11-16T21:36:29.635Z"
   },
   {
    "duration": 7,
    "start_time": "2021-11-16T21:36:29.808Z"
   },
   {
    "duration": 4006,
    "start_time": "2021-11-16T21:36:29.818Z"
   },
   {
    "duration": 21455,
    "start_time": "2021-11-16T21:36:33.827Z"
   },
   {
    "duration": 21278,
    "start_time": "2021-11-16T21:36:55.285Z"
   },
   {
    "duration": 22349,
    "start_time": "2021-11-16T21:37:16.565Z"
   },
   {
    "duration": 72,
    "start_time": "2021-11-16T21:37:38.917Z"
   },
   {
    "duration": 162,
    "start_time": "2021-11-16T21:37:38.992Z"
   },
   {
    "duration": 393,
    "start_time": "2021-11-16T21:37:39.158Z"
   },
   {
    "duration": 100804,
    "start_time": "2021-11-16T21:37:39.553Z"
   },
   {
    "duration": 120,
    "start_time": "2021-11-16T21:39:20.360Z"
   },
   {
    "duration": 353,
    "start_time": "2021-11-16T21:39:20.482Z"
   },
   {
    "duration": 306,
    "start_time": "2021-11-16T21:39:20.838Z"
   },
   {
    "duration": 339,
    "start_time": "2021-11-16T21:39:21.146Z"
   },
   {
    "duration": 400,
    "start_time": "2021-11-16T21:39:21.487Z"
   },
   {
    "duration": 329,
    "start_time": "2021-11-16T21:39:21.890Z"
   },
   {
    "duration": 670,
    "start_time": "2021-11-16T21:39:22.221Z"
   },
   {
    "duration": 263,
    "start_time": "2021-11-16T21:39:22.893Z"
   },
   {
    "duration": 66,
    "start_time": "2021-11-16T21:39:23.158Z"
   },
   {
    "duration": 122,
    "start_time": "2021-11-16T21:39:23.229Z"
   },
   {
    "duration": 138,
    "start_time": "2021-11-16T21:39:23.354Z"
   },
   {
    "duration": 3,
    "start_time": "2021-11-16T21:39:23.494Z"
   },
   {
    "duration": 8,
    "start_time": "2021-11-16T21:39:23.500Z"
   },
   {
    "duration": 8,
    "start_time": "2021-11-16T21:39:23.510Z"
   },
   {
    "duration": 218,
    "start_time": "2021-11-16T21:39:23.520Z"
   },
   {
    "duration": 425,
    "start_time": "2021-11-16T21:39:23.741Z"
   },
   {
    "duration": 361,
    "start_time": "2021-11-16T21:41:37.009Z"
   },
   {
    "duration": 1323,
    "start_time": "2021-11-16T21:41:43.064Z"
   },
   {
    "duration": 6,
    "start_time": "2021-11-16T21:41:54.019Z"
   },
   {
    "duration": 868,
    "start_time": "2021-11-16T21:41:54.028Z"
   },
   {
    "duration": 327,
    "start_time": "2021-11-16T21:41:54.899Z"
   },
   {
    "duration": 128,
    "start_time": "2021-11-16T21:41:55.229Z"
   },
   {
    "duration": 398,
    "start_time": "2021-11-16T21:41:55.359Z"
   },
   {
    "duration": 952,
    "start_time": "2021-11-16T21:41:55.759Z"
   },
   {
    "duration": 279,
    "start_time": "2021-11-16T21:41:56.716Z"
   },
   {
    "duration": 191,
    "start_time": "2021-11-16T21:41:56.999Z"
   },
   {
    "duration": 6,
    "start_time": "2021-11-16T21:41:57.193Z"
   },
   {
    "duration": 3848,
    "start_time": "2021-11-16T21:41:57.202Z"
   },
   {
    "duration": 21671,
    "start_time": "2021-11-16T21:42:01.053Z"
   },
   {
    "duration": 22667,
    "start_time": "2021-11-16T21:42:22.726Z"
   },
   {
    "duration": 21665,
    "start_time": "2021-11-16T21:42:45.396Z"
   },
   {
    "duration": 59,
    "start_time": "2021-11-16T21:43:07.063Z"
   },
   {
    "duration": 166,
    "start_time": "2021-11-16T21:43:07.124Z"
   },
   {
    "duration": 377,
    "start_time": "2021-11-16T21:43:07.292Z"
   },
   {
    "duration": 94154,
    "start_time": "2021-11-16T21:43:07.672Z"
   },
   {
    "duration": 115,
    "start_time": "2021-11-16T21:44:41.829Z"
   },
   {
    "duration": 362,
    "start_time": "2021-11-16T21:44:41.949Z"
   },
   {
    "duration": 446,
    "start_time": "2021-11-16T21:44:42.314Z"
   },
   {
    "duration": 485,
    "start_time": "2021-11-16T21:44:42.762Z"
   },
   {
    "duration": 528,
    "start_time": "2021-11-16T21:44:43.250Z"
   },
   {
    "duration": 329,
    "start_time": "2021-11-16T21:44:43.780Z"
   },
   {
    "duration": 571,
    "start_time": "2021-11-16T21:44:44.111Z"
   },
   {
    "duration": 264,
    "start_time": "2021-11-16T21:44:44.684Z"
   },
   {
    "duration": 61,
    "start_time": "2021-11-16T21:44:44.950Z"
   },
   {
    "duration": 131,
    "start_time": "2021-11-16T21:44:45.014Z"
   },
   {
    "duration": 135,
    "start_time": "2021-11-16T21:44:45.147Z"
   },
   {
    "duration": 1455,
    "start_time": "2021-11-16T21:44:45.284Z"
   },
   {
    "duration": 3,
    "start_time": "2021-11-16T21:44:46.742Z"
   },
   {
    "duration": 1603,
    "start_time": "2021-11-16T21:44:46.747Z"
   },
   {
    "duration": -332,
    "start_time": "2021-11-16T21:44:48.685Z"
   },
   {
    "duration": 1635,
    "start_time": "2021-11-16T21:46:04.430Z"
   },
   {
    "duration": 33454,
    "start_time": "2021-11-16T21:46:12.229Z"
   },
   {
    "duration": 7,
    "start_time": "2021-11-16T21:52:54.588Z"
   },
   {
    "duration": 991,
    "start_time": "2021-11-16T21:52:54.598Z"
   },
   {
    "duration": 301,
    "start_time": "2021-11-16T21:52:55.593Z"
   },
   {
    "duration": 153,
    "start_time": "2021-11-16T21:52:55.896Z"
   },
   {
    "duration": 405,
    "start_time": "2021-11-16T21:52:56.052Z"
   },
   {
    "duration": 1052,
    "start_time": "2021-11-16T21:52:56.460Z"
   },
   {
    "duration": 175,
    "start_time": "2021-11-16T21:52:57.515Z"
   },
   {
    "duration": 174,
    "start_time": "2021-11-16T21:52:57.693Z"
   },
   {
    "duration": 15,
    "start_time": "2021-11-16T21:52:57.871Z"
   },
   {
    "duration": 3897,
    "start_time": "2021-11-16T21:52:57.889Z"
   },
   {
    "duration": 28194,
    "start_time": "2021-11-16T21:53:01.790Z"
   },
   {
    "duration": 21786,
    "start_time": "2021-11-16T21:53:29.987Z"
   },
   {
    "duration": 22589,
    "start_time": "2021-11-16T21:53:51.782Z"
   },
   {
    "duration": 58,
    "start_time": "2021-11-16T21:54:14.373Z"
   },
   {
    "duration": 175,
    "start_time": "2021-11-16T21:54:14.434Z"
   },
   {
    "duration": 387,
    "start_time": "2021-11-16T21:54:14.611Z"
   },
   {
    "duration": 93917,
    "start_time": "2021-11-16T21:54:15.001Z"
   },
   {
    "duration": 115,
    "start_time": "2021-11-16T21:55:48.921Z"
   },
   {
    "duration": 468,
    "start_time": "2021-11-16T21:55:49.039Z"
   },
   {
    "duration": 296,
    "start_time": "2021-11-16T21:55:49.511Z"
   },
   {
    "duration": 327,
    "start_time": "2021-11-16T21:55:49.809Z"
   },
   {
    "duration": 364,
    "start_time": "2021-11-16T21:55:50.139Z"
   },
   {
    "duration": 328,
    "start_time": "2021-11-16T21:55:50.506Z"
   },
   {
    "duration": 580,
    "start_time": "2021-11-16T21:55:50.836Z"
   },
   {
    "duration": 258,
    "start_time": "2021-11-16T21:55:51.418Z"
   },
   {
    "duration": 52,
    "start_time": "2021-11-16T21:55:51.682Z"
   },
   {
    "duration": 144,
    "start_time": "2021-11-16T21:55:51.739Z"
   },
   {
    "duration": 137,
    "start_time": "2021-11-16T21:55:51.887Z"
   },
   {
    "duration": 1422,
    "start_time": "2021-11-16T21:55:52.026Z"
   },
   {
    "duration": 1354,
    "start_time": "2021-11-16T21:55:53.451Z"
   },
   {
    "duration": 31276,
    "start_time": "2021-11-16T21:55:54.808Z"
   },
   {
    "duration": 1211,
    "start_time": "2021-11-16T21:56:26.088Z"
   },
   {
    "duration": 1173815,
    "start_time": "2021-11-16T21:56:27.301Z"
   },
   {
    "duration": 505,
    "start_time": "2021-11-16T22:16:01.119Z"
   },
   {
    "duration": 2038,
    "start_time": "2021-11-16T22:17:53.292Z"
   },
   {
    "duration": 1345,
    "start_time": "2021-11-16T22:17:55.333Z"
   },
   {
    "duration": 490,
    "start_time": "2021-11-16T22:17:56.682Z"
   },
   {
    "duration": 197,
    "start_time": "2021-11-16T22:17:57.175Z"
   },
   {
    "duration": 773,
    "start_time": "2021-11-16T22:17:57.375Z"
   },
   {
    "duration": 1394,
    "start_time": "2021-11-16T22:17:58.151Z"
   },
   {
    "duration": 274,
    "start_time": "2021-11-16T22:17:59.548Z"
   },
   {
    "duration": 197,
    "start_time": "2021-11-16T22:17:59.825Z"
   },
   {
    "duration": 7,
    "start_time": "2021-11-16T22:18:00.025Z"
   },
   {
    "duration": 4163,
    "start_time": "2021-11-16T22:18:00.035Z"
   },
   {
    "duration": 23489,
    "start_time": "2021-11-16T22:18:04.200Z"
   },
   {
    "duration": 21805,
    "start_time": "2021-11-16T22:18:27.691Z"
   },
   {
    "duration": 21469,
    "start_time": "2021-11-16T22:18:49.498Z"
   },
   {
    "duration": 57,
    "start_time": "2021-11-16T22:19:10.969Z"
   },
   {
    "duration": 169,
    "start_time": "2021-11-16T22:19:11.028Z"
   },
   {
    "duration": 386,
    "start_time": "2021-11-16T22:19:11.200Z"
   },
   {
    "duration": 155120,
    "start_time": "2021-11-16T22:19:11.589Z"
   },
   {
    "duration": 193,
    "start_time": "2021-11-16T22:21:46.712Z"
   },
   {
    "duration": 568,
    "start_time": "2021-11-16T22:21:46.908Z"
   },
   {
    "duration": 319,
    "start_time": "2021-11-16T22:21:47.482Z"
   },
   {
    "duration": 330,
    "start_time": "2021-11-16T22:21:47.804Z"
   },
   {
    "duration": 428,
    "start_time": "2021-11-16T22:21:48.136Z"
   },
   {
    "duration": 336,
    "start_time": "2021-11-16T22:21:48.569Z"
   },
   {
    "duration": 593,
    "start_time": "2021-11-16T22:21:48.909Z"
   },
   {
    "duration": 267,
    "start_time": "2021-11-16T22:21:49.505Z"
   },
   {
    "duration": 62,
    "start_time": "2021-11-16T22:21:49.774Z"
   },
   {
    "duration": 132,
    "start_time": "2021-11-16T22:21:49.838Z"
   },
   {
    "duration": 136,
    "start_time": "2021-11-16T22:21:49.973Z"
   },
   {
    "duration": 1502,
    "start_time": "2021-11-16T22:21:50.111Z"
   },
   {
    "duration": 1407,
    "start_time": "2021-11-16T22:21:51.615Z"
   },
   {
    "duration": 29260,
    "start_time": "2021-11-16T22:21:53.024Z"
   },
   {
    "duration": 2162,
    "start_time": "2021-11-16T22:22:22.287Z"
   },
   {
    "duration": 1453124,
    "start_time": "2021-11-16T22:22:24.452Z"
   },
   {
    "duration": 61608,
    "start_time": "2021-11-16T22:46:37.581Z"
   },
   {
    "duration": 292,
    "start_time": "2021-11-16T22:47:39.191Z"
   },
   {
    "duration": 1286101,
    "start_time": "2021-11-16T22:47:39.485Z"
   },
   {
    "duration": 109861,
    "start_time": "2021-11-16T23:09:05.588Z"
   },
   {
    "duration": 87,
    "start_time": "2021-11-16T23:10:55.451Z"
   },
   {
    "duration": 790491,
    "start_time": "2021-11-16T23:10:55.540Z"
   },
   {
    "duration": 1575477,
    "start_time": "2021-11-16T23:24:06.033Z"
   },
   {
    "duration": 1752,
    "start_time": "2021-11-16T23:54:28.249Z"
   },
   {
    "duration": 1053,
    "start_time": "2021-11-16T23:54:30.005Z"
   },
   {
    "duration": 334,
    "start_time": "2021-11-16T23:54:31.062Z"
   },
   {
    "duration": 170,
    "start_time": "2021-11-16T23:54:31.398Z"
   },
   {
    "duration": 440,
    "start_time": "2021-11-16T23:54:31.570Z"
   },
   {
    "duration": 1036,
    "start_time": "2021-11-16T23:54:32.013Z"
   },
   {
    "duration": 163,
    "start_time": "2021-11-16T23:54:33.051Z"
   },
   {
    "duration": 170,
    "start_time": "2021-11-16T23:54:33.217Z"
   },
   {
    "duration": 7,
    "start_time": "2021-11-16T23:54:33.390Z"
   },
   {
    "duration": 6113,
    "start_time": "2021-11-16T23:54:33.400Z"
   },
   {
    "duration": 35226,
    "start_time": "2021-11-16T23:54:39.516Z"
   },
   {
    "duration": 21098,
    "start_time": "2021-11-16T23:55:14.745Z"
   },
   {
    "duration": 21129,
    "start_time": "2021-11-16T23:55:35.846Z"
   },
   {
    "duration": 56,
    "start_time": "2021-11-16T23:55:56.977Z"
   },
   {
    "duration": 177,
    "start_time": "2021-11-16T23:55:57.035Z"
   },
   {
    "duration": 375,
    "start_time": "2021-11-16T23:55:57.215Z"
   },
   {
    "duration": 91464,
    "start_time": "2021-11-16T23:55:57.593Z"
   },
   {
    "duration": 116,
    "start_time": "2021-11-16T23:57:29.059Z"
   },
   {
    "duration": 371,
    "start_time": "2021-11-16T23:57:29.177Z"
   },
   {
    "duration": 297,
    "start_time": "2021-11-16T23:57:29.550Z"
   },
   {
    "duration": 335,
    "start_time": "2021-11-16T23:57:29.849Z"
   },
   {
    "duration": 428,
    "start_time": "2021-11-16T23:57:30.186Z"
   },
   {
    "duration": 344,
    "start_time": "2021-11-16T23:57:30.618Z"
   },
   {
    "duration": 584,
    "start_time": "2021-11-16T23:57:30.966Z"
   },
   {
    "duration": 376,
    "start_time": "2021-11-16T23:57:31.553Z"
   },
   {
    "duration": 79,
    "start_time": "2021-11-16T23:57:31.933Z"
   },
   {
    "duration": 124,
    "start_time": "2021-11-16T23:57:32.014Z"
   },
   {
    "duration": 123,
    "start_time": "2021-11-16T23:57:32.140Z"
   },
   {
    "duration": 1292,
    "start_time": "2021-11-16T23:57:32.265Z"
   },
   {
    "duration": 1372,
    "start_time": "2021-11-16T23:57:33.559Z"
   },
   {
    "duration": 33050,
    "start_time": "2021-11-16T23:57:34.934Z"
   },
   {
    "duration": 1528,
    "start_time": "2021-11-16T23:58:07.987Z"
   },
   {
    "duration": 1445200,
    "start_time": "2021-11-16T23:58:09.518Z"
   },
   {
    "duration": 61531,
    "start_time": "2021-11-17T00:22:14.721Z"
   },
   {
    "duration": 297,
    "start_time": "2021-11-17T00:23:16.255Z"
   },
   {
    "duration": 1498636,
    "start_time": "2021-11-17T00:23:16.555Z"
   },
   {
    "duration": 96046,
    "start_time": "2021-11-17T00:48:15.194Z"
   },
   {
    "duration": 91,
    "start_time": "2021-11-17T00:49:51.243Z"
   },
   {
    "duration": 796508,
    "start_time": "2021-11-17T00:49:51.336Z"
   },
   {
    "duration": 1126,
    "start_time": "2021-11-17T02:51:19.965Z"
   },
   {
    "duration": 638,
    "start_time": "2021-11-17T02:51:21.093Z"
   },
   {
    "duration": 224,
    "start_time": "2021-11-17T02:51:21.733Z"
   },
   {
    "duration": 127,
    "start_time": "2021-11-17T02:51:21.959Z"
   },
   {
    "duration": 261,
    "start_time": "2021-11-17T02:51:22.092Z"
   },
   {
    "duration": 577,
    "start_time": "2021-11-17T02:51:22.354Z"
   },
   {
    "duration": 116,
    "start_time": "2021-11-17T02:51:22.933Z"
   },
   {
    "duration": 130,
    "start_time": "2021-11-17T02:51:23.050Z"
   },
   {
    "duration": 9,
    "start_time": "2021-11-17T02:51:23.183Z"
   },
   {
    "duration": 2723,
    "start_time": "2021-11-17T02:51:23.193Z"
   },
   {
    "duration": 14502,
    "start_time": "2021-11-17T02:51:25.918Z"
   },
   {
    "duration": 14781,
    "start_time": "2021-11-17T02:51:40.422Z"
   },
   {
    "duration": 14622,
    "start_time": "2021-11-17T02:51:55.204Z"
   },
   {
    "duration": 38,
    "start_time": "2021-11-17T02:52:09.828Z"
   },
   {
    "duration": 116,
    "start_time": "2021-11-17T02:52:09.867Z"
   },
   {
    "duration": 257,
    "start_time": "2021-11-17T02:52:09.992Z"
   },
   {
    "duration": 45842,
    "start_time": "2021-11-17T02:52:10.251Z"
   },
   {
    "duration": 78,
    "start_time": "2021-11-17T02:52:56.095Z"
   },
   {
    "duration": 245,
    "start_time": "2021-11-17T02:52:56.175Z"
   },
   {
    "duration": 192,
    "start_time": "2021-11-17T02:52:56.422Z"
   },
   {
    "duration": 224,
    "start_time": "2021-11-17T02:52:56.616Z"
   },
   {
    "duration": 301,
    "start_time": "2021-11-17T02:52:56.841Z"
   },
   {
    "duration": 212,
    "start_time": "2021-11-17T02:52:57.144Z"
   },
   {
    "duration": 359,
    "start_time": "2021-11-17T02:52:57.357Z"
   },
   {
    "duration": 156,
    "start_time": "2021-11-17T02:52:57.718Z"
   },
   {
    "duration": 34,
    "start_time": "2021-11-17T02:52:57.876Z"
   },
   {
    "duration": 93,
    "start_time": "2021-11-17T02:52:57.913Z"
   },
   {
    "duration": 100,
    "start_time": "2021-11-17T02:52:58.008Z"
   },
   {
    "duration": 833,
    "start_time": "2021-11-17T02:52:58.109Z"
   },
   {
    "duration": 910,
    "start_time": "2021-11-17T02:52:58.943Z"
   },
   {
    "duration": 21738,
    "start_time": "2021-11-17T02:52:59.855Z"
   },
   {
    "duration": 1067,
    "start_time": "2021-11-17T02:53:21.596Z"
   },
   {
    "duration": 965013,
    "start_time": "2021-11-17T02:53:22.664Z"
   },
   {
    "duration": 41867,
    "start_time": "2021-11-17T03:09:27.679Z"
   },
   {
    "duration": 191,
    "start_time": "2021-11-17T03:10:09.548Z"
   },
   {
    "duration": 80858,
    "start_time": "2021-11-17T03:10:09.741Z"
   },
   {
    "duration": 5691,
    "start_time": "2021-11-17T03:11:30.601Z"
   },
   {
    "duration": 45,
    "start_time": "2021-11-17T03:11:36.294Z"
   },
   {
    "duration": 538606,
    "start_time": "2021-11-17T03:11:36.340Z"
   },
   {
    "duration": 1080966,
    "start_time": "2021-11-17T03:20:34.948Z"
   },
   {
    "duration": 1631,
    "start_time": "2021-11-18T15:31:24.291Z"
   },
   {
    "duration": 859,
    "start_time": "2021-11-18T15:31:25.924Z"
   },
   {
    "duration": 212,
    "start_time": "2021-11-18T15:31:26.785Z"
   },
   {
    "duration": 100,
    "start_time": "2021-11-18T15:31:26.999Z"
   },
   {
    "duration": 246,
    "start_time": "2021-11-18T15:31:27.101Z"
   },
   {
    "duration": 523,
    "start_time": "2021-11-18T15:31:27.349Z"
   },
   {
    "duration": 104,
    "start_time": "2021-11-18T15:31:27.874Z"
   },
   {
    "duration": 114,
    "start_time": "2021-11-18T15:31:27.989Z"
   },
   {
    "duration": 5,
    "start_time": "2021-11-18T15:31:28.104Z"
   },
   {
    "duration": 2755,
    "start_time": "2021-11-18T15:31:28.110Z"
   },
   {
    "duration": 13980,
    "start_time": "2021-11-18T15:31:30.867Z"
   },
   {
    "duration": 15402,
    "start_time": "2021-11-18T15:31:44.849Z"
   },
   {
    "duration": 15363,
    "start_time": "2021-11-18T15:32:00.253Z"
   },
   {
    "duration": 38,
    "start_time": "2021-11-18T15:32:15.618Z"
   },
   {
    "duration": 120,
    "start_time": "2021-11-18T15:32:15.658Z"
   },
   {
    "duration": 343,
    "start_time": "2021-11-18T15:32:15.780Z"
   },
   {
    "duration": 46503,
    "start_time": "2021-11-18T15:32:16.125Z"
   },
   {
    "duration": 88,
    "start_time": "2021-11-18T15:33:02.630Z"
   },
   {
    "duration": 220,
    "start_time": "2021-11-18T15:33:02.721Z"
   },
   {
    "duration": 176,
    "start_time": "2021-11-18T15:33:02.943Z"
   },
   {
    "duration": 201,
    "start_time": "2021-11-18T15:33:03.121Z"
   },
   {
    "duration": 276,
    "start_time": "2021-11-18T15:33:03.324Z"
   },
   {
    "duration": 201,
    "start_time": "2021-11-18T15:33:03.604Z"
   },
   {
    "duration": 340,
    "start_time": "2021-11-18T15:33:03.807Z"
   },
   {
    "duration": 158,
    "start_time": "2021-11-18T15:33:04.149Z"
   },
   {
    "duration": 32,
    "start_time": "2021-11-18T15:33:04.309Z"
   },
   {
    "duration": 97,
    "start_time": "2021-11-18T15:33:04.343Z"
   },
   {
    "duration": 95,
    "start_time": "2021-11-18T15:33:04.442Z"
   },
   {
    "duration": 943,
    "start_time": "2021-11-18T15:33:04.538Z"
   },
   {
    "duration": 870,
    "start_time": "2021-11-18T15:33:05.482Z"
   },
   {
    "duration": 20142,
    "start_time": "2021-11-18T15:33:06.354Z"
   },
   {
    "duration": 941,
    "start_time": "2021-11-18T15:33:26.588Z"
   },
   {
    "duration": 993707,
    "start_time": "2021-11-18T15:33:27.531Z"
   },
   {
    "duration": 43794,
    "start_time": "2021-11-18T15:50:01.240Z"
   },
   {
    "duration": 179,
    "start_time": "2021-11-18T15:50:45.035Z"
   },
   {
    "duration": 112673,
    "start_time": "2021-11-18T15:50:45.216Z"
   },
   {
    "duration": 4803,
    "start_time": "2021-11-18T15:52:37.891Z"
   },
   {
    "duration": 44,
    "start_time": "2021-11-18T15:52:42.695Z"
   },
   {
    "duration": 517980,
    "start_time": "2021-11-18T15:52:42.740Z"
   },
   {
    "duration": 966677,
    "start_time": "2021-11-18T16:01:20.722Z"
   },
   {
    "duration": 1155,
    "start_time": "2021-11-18T20:03:17.498Z"
   },
   {
    "duration": 562,
    "start_time": "2021-11-18T20:03:18.654Z"
   },
   {
    "duration": 213,
    "start_time": "2021-11-18T20:03:19.218Z"
   },
   {
    "duration": 110,
    "start_time": "2021-11-18T20:03:19.433Z"
   },
   {
    "duration": 257,
    "start_time": "2021-11-18T20:03:19.544Z"
   },
   {
    "duration": 527,
    "start_time": "2021-11-18T20:03:19.803Z"
   },
   {
    "duration": 110,
    "start_time": "2021-11-18T20:03:20.332Z"
   },
   {
    "duration": 112,
    "start_time": "2021-11-18T20:03:20.444Z"
   },
   {
    "duration": 4,
    "start_time": "2021-11-18T20:03:20.558Z"
   },
   {
    "duration": 2513,
    "start_time": "2021-11-18T20:03:20.564Z"
   },
   {
    "duration": 14853,
    "start_time": "2021-11-18T20:03:23.078Z"
   },
   {
    "duration": 13929,
    "start_time": "2021-11-18T20:03:37.932Z"
   },
   {
    "duration": 14238,
    "start_time": "2021-11-18T20:03:51.863Z"
   },
   {
    "duration": 37,
    "start_time": "2021-11-18T20:04:06.102Z"
   },
   {
    "duration": 112,
    "start_time": "2021-11-18T20:04:06.141Z"
   },
   {
    "duration": 243,
    "start_time": "2021-11-18T20:04:06.254Z"
   },
   {
    "duration": 45137,
    "start_time": "2021-11-18T20:04:06.499Z"
   },
   {
    "duration": 80,
    "start_time": "2021-11-18T20:04:51.638Z"
   },
   {
    "duration": 204,
    "start_time": "2021-11-18T20:04:51.720Z"
   },
   {
    "duration": 169,
    "start_time": "2021-11-18T20:04:51.925Z"
   },
   {
    "duration": 190,
    "start_time": "2021-11-18T20:04:52.096Z"
   },
   {
    "duration": 257,
    "start_time": "2021-11-18T20:04:52.288Z"
   },
   {
    "duration": 188,
    "start_time": "2021-11-18T20:04:52.548Z"
   },
   {
    "duration": 346,
    "start_time": "2021-11-18T20:04:52.738Z"
   },
   {
    "duration": 173,
    "start_time": "2021-11-18T20:04:53.088Z"
   },
   {
    "duration": 43,
    "start_time": "2021-11-18T20:04:53.263Z"
   },
   {
    "duration": 94,
    "start_time": "2021-11-18T20:04:53.308Z"
   },
   {
    "duration": 100,
    "start_time": "2021-11-18T20:04:53.404Z"
   },
   {
    "duration": 689,
    "start_time": "2021-11-18T20:04:53.506Z"
   },
   {
    "duration": 900,
    "start_time": "2021-11-18T20:04:54.196Z"
   },
   {
    "duration": 19390,
    "start_time": "2021-11-18T20:04:55.097Z"
   },
   {
    "duration": 1067,
    "start_time": "2021-11-18T20:05:14.490Z"
   },
   {
    "duration": 937606,
    "start_time": "2021-11-18T20:05:15.558Z"
   },
   {
    "duration": 40930,
    "start_time": "2021-11-18T20:20:53.166Z"
   },
   {
    "duration": 167,
    "start_time": "2021-11-18T20:21:34.097Z"
   },
   {
    "duration": 120028,
    "start_time": "2021-11-18T20:21:34.266Z"
   },
   {
    "duration": 7498,
    "start_time": "2021-11-18T20:23:34.295Z"
   },
   {
    "duration": 39,
    "start_time": "2021-11-18T20:23:41.795Z"
   },
   {
    "duration": 495620,
    "start_time": "2021-11-18T20:23:41.836Z"
   },
   {
    "duration": 964949,
    "start_time": "2021-11-18T20:31:57.458Z"
   },
   {
    "duration": 113,
    "start_time": "2021-11-18T20:58:08.937Z"
   },
   {
    "duration": 306,
    "start_time": "2021-11-18T20:58:46.224Z"
   },
   {
    "duration": 8,
    "start_time": "2021-11-18T20:59:17.223Z"
   },
   {
    "duration": 1084,
    "start_time": "2021-11-19T17:44:45.527Z"
   },
   {
    "duration": 536,
    "start_time": "2021-11-19T17:44:46.613Z"
   },
   {
    "duration": 209,
    "start_time": "2021-11-19T17:44:47.151Z"
   },
   {
    "duration": 103,
    "start_time": "2021-11-19T17:44:47.362Z"
   },
   {
    "duration": 238,
    "start_time": "2021-11-19T17:44:47.466Z"
   },
   {
    "duration": 519,
    "start_time": "2021-11-19T17:44:47.705Z"
   },
   {
    "duration": 110,
    "start_time": "2021-11-19T17:44:48.225Z"
   },
   {
    "duration": 123,
    "start_time": "2021-11-19T17:44:48.337Z"
   },
   {
    "duration": 4,
    "start_time": "2021-11-19T17:44:48.462Z"
   },
   {
    "duration": 2471,
    "start_time": "2021-11-19T17:44:48.467Z"
   },
   {
    "duration": 15759,
    "start_time": "2021-11-19T17:44:50.939Z"
   },
   {
    "duration": 13805,
    "start_time": "2021-11-19T17:45:06.700Z"
   },
   {
    "duration": 13846,
    "start_time": "2021-11-19T17:45:20.506Z"
   },
   {
    "duration": 44,
    "start_time": "2021-11-19T17:45:34.354Z"
   },
   {
    "duration": 125,
    "start_time": "2021-11-19T17:45:34.400Z"
   },
   {
    "duration": 244,
    "start_time": "2021-11-19T17:45:34.526Z"
   },
   {
    "duration": 44997,
    "start_time": "2021-11-19T17:45:34.772Z"
   },
   {
    "duration": 80,
    "start_time": "2021-11-19T17:46:19.770Z"
   },
   {
    "duration": 205,
    "start_time": "2021-11-19T17:46:19.851Z"
   },
   {
    "duration": 163,
    "start_time": "2021-11-19T17:46:20.058Z"
   },
   {
    "duration": 187,
    "start_time": "2021-11-19T17:46:20.223Z"
   },
   {
    "duration": 245,
    "start_time": "2021-11-19T17:46:20.412Z"
   },
   {
    "duration": 181,
    "start_time": "2021-11-19T17:46:20.660Z"
   },
   {
    "duration": 324,
    "start_time": "2021-11-19T17:46:20.844Z"
   },
   {
    "duration": 146,
    "start_time": "2021-11-19T17:46:21.169Z"
   },
   {
    "duration": 30,
    "start_time": "2021-11-19T17:46:21.317Z"
   },
   {
    "duration": 95,
    "start_time": "2021-11-19T17:46:21.348Z"
   },
   {
    "duration": 80,
    "start_time": "2021-11-19T17:46:21.445Z"
   },
   {
    "duration": 643,
    "start_time": "2021-11-19T17:46:21.527Z"
   },
   {
    "duration": 820,
    "start_time": "2021-11-19T17:46:22.172Z"
   },
   {
    "duration": 255,
    "start_time": "2021-11-19T17:46:22.994Z"
   },
   {
    "duration": 800,
    "start_time": "2021-11-19T17:46:23.250Z"
   },
   {
    "duration": 919809,
    "start_time": "2021-11-19T17:46:24.052Z"
   },
   {
    "duration": 40098,
    "start_time": "2021-11-19T18:01:43.862Z"
   },
   {
    "duration": 221,
    "start_time": "2021-11-19T18:02:23.961Z"
   },
   {
    "duration": 237,
    "start_time": "2021-11-19T18:02:24.183Z"
   },
   {
    "duration": 781,
    "start_time": "2021-11-19T18:02:24.422Z"
   },
   {
    "duration": 67,
    "start_time": "2021-11-19T18:02:25.205Z"
   },
   {
    "duration": 505037,
    "start_time": "2021-11-19T18:02:25.274Z"
   },
   {
    "duration": 977886,
    "start_time": "2021-11-19T18:10:50.313Z"
   },
   {
    "duration": 9,
    "start_time": "2021-11-19T18:27:08.201Z"
   }
  ],
  "kernelspec": {
   "display_name": "Python 3 (ipykernel)",
   "language": "python",
   "name": "python3"
  },
  "language_info": {
   "codemirror_mode": {
    "name": "ipython",
    "version": 3
   },
   "file_extension": ".py",
   "mimetype": "text/x-python",
   "name": "python",
   "nbconvert_exporter": "python",
   "pygments_lexer": "ipython3",
   "version": "3.9.7"
  },
  "toc": {
   "base_numbering": 1,
   "nav_menu": {},
   "number_sections": true,
   "sideBar": true,
   "skip_h1_title": true,
   "title_cell": "Table of Contents",
   "title_sidebar": "Contents",
   "toc_cell": false,
   "toc_position": {},
   "toc_section_display": true,
   "toc_window_display": true
  }
 },
 "nbformat": 4,
 "nbformat_minor": 2
}
