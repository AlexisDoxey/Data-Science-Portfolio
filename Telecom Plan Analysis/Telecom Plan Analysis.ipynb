{
 "cells": [
  {
   "cell_type": "markdown",
   "metadata": {},
   "source": [
    "# Telecom Plan Analysis"
   ]
  },
  {
   "cell_type": "raw",
   "metadata": {},
   "source": [
    "Project description:\n",
    "ou work as an analyst for the telecom operator Megaline. The company offers its clients two prepaid plans, Surf and Ultimate. The commercial department wants to know which of the plans brings in more revenue in order to adjust the advertising budget.\n",
    "You are going to carry out a preliminary analysis of the plans based on a relatively small client selection. You'll have the data on 500 Megaline clients: who the clients are, where they're from, which plan they use, and the number of calls they made and text messages they sent in 2018. Your job is to analyze clients' behavior and determine which prepaid plan brings in more revenue.\n",
    "\n",
    "Description of the plans:\n",
    "Note: Megaline rounds seconds up to minutes, and megabytes to gigabytes. For calls, each individual call is rounded up: even if the call lasted just one second, it will be counted as one minute. For web traffic, individual web sessions are not rounded up. Instead, the total for the month is rounded up. If someone uses 1025 megabytes this month, they will be charged for 2 gigabytes.\n",
    "\n",
    "Surf-\n",
    "Monthly charge: $20\n",
    "500 monthly minutes, 50 texts, and 15 GB of data\n",
    "After exceeding the package limits:\n",
    "1 minute: 3 cents\n",
    "1 text message: 3 cents\n",
    "1 GB of data: $10\n",
    "\n",
    "Ultimate-\n",
    "Monthly charge: $70\n",
    "3000 monthly minutes, 1000 text messages, and 30 GB of data\n",
    "After exceeding the package limits:\n",
    "1 minute: 1 cent\n",
    "1 text message: 1 cent\n",
    "1 GB of data: $7"
   ]
  },
  {
   "cell_type": "markdown",
   "metadata": {},
   "source": [
    "## Open the Data File"
   ]
  },
  {
   "cell_type": "code",
   "execution_count": 1,
   "metadata": {},
   "outputs": [
    {
     "data": {
      "text/html": [
       "<div>\n",
       "<style scoped>\n",
       "    .dataframe tbody tr th:only-of-type {\n",
       "        vertical-align: middle;\n",
       "    }\n",
       "\n",
       "    .dataframe tbody tr th {\n",
       "        vertical-align: top;\n",
       "    }\n",
       "\n",
       "    .dataframe thead th {\n",
       "        text-align: right;\n",
       "    }\n",
       "</style>\n",
       "<table border=\"1\" class=\"dataframe\">\n",
       "  <thead>\n",
       "    <tr style=\"text-align: right;\">\n",
       "      <th></th>\n",
       "      <th>id</th>\n",
       "      <th>user_id</th>\n",
       "      <th>call_date</th>\n",
       "      <th>duration</th>\n",
       "    </tr>\n",
       "  </thead>\n",
       "  <tbody>\n",
       "    <tr>\n",
       "      <td>0</td>\n",
       "      <td>1000_93</td>\n",
       "      <td>1000</td>\n",
       "      <td>2018-12-27</td>\n",
       "      <td>8.52</td>\n",
       "    </tr>\n",
       "    <tr>\n",
       "      <td>1</td>\n",
       "      <td>1000_145</td>\n",
       "      <td>1000</td>\n",
       "      <td>2018-12-27</td>\n",
       "      <td>13.66</td>\n",
       "    </tr>\n",
       "    <tr>\n",
       "      <td>2</td>\n",
       "      <td>1000_247</td>\n",
       "      <td>1000</td>\n",
       "      <td>2018-12-27</td>\n",
       "      <td>14.48</td>\n",
       "    </tr>\n",
       "    <tr>\n",
       "      <td>3</td>\n",
       "      <td>1000_309</td>\n",
       "      <td>1000</td>\n",
       "      <td>2018-12-28</td>\n",
       "      <td>5.76</td>\n",
       "    </tr>\n",
       "    <tr>\n",
       "      <td>4</td>\n",
       "      <td>1000_380</td>\n",
       "      <td>1000</td>\n",
       "      <td>2018-12-30</td>\n",
       "      <td>4.22</td>\n",
       "    </tr>\n",
       "  </tbody>\n",
       "</table>\n",
       "</div>"
      ],
      "text/plain": [
       "         id  user_id   call_date  duration\n",
       "0   1000_93     1000  2018-12-27      8.52\n",
       "1  1000_145     1000  2018-12-27     13.66\n",
       "2  1000_247     1000  2018-12-27     14.48\n",
       "3  1000_309     1000  2018-12-28      5.76\n",
       "4  1000_380     1000  2018-12-30      4.22"
      ]
     },
     "metadata": {},
     "output_type": "display_data"
    },
    {
     "name": "stdout",
     "output_type": "stream",
     "text": [
      "<class 'pandas.core.frame.DataFrame'>\n",
      "RangeIndex: 137735 entries, 0 to 137734\n",
      "Data columns (total 4 columns):\n",
      "id           137735 non-null object\n",
      "user_id      137735 non-null int64\n",
      "call_date    137735 non-null object\n",
      "duration     137735 non-null float64\n",
      "dtypes: float64(1), int64(1), object(2)\n",
      "memory usage: 4.2+ MB\n"
     ]
    },
    {
     "data": {
      "text/plain": [
       "None"
      ]
     },
     "metadata": {},
     "output_type": "display_data"
    },
    {
     "data": {
      "text/html": [
       "<div>\n",
       "<style scoped>\n",
       "    .dataframe tbody tr th:only-of-type {\n",
       "        vertical-align: middle;\n",
       "    }\n",
       "\n",
       "    .dataframe tbody tr th {\n",
       "        vertical-align: top;\n",
       "    }\n",
       "\n",
       "    .dataframe thead th {\n",
       "        text-align: right;\n",
       "    }\n",
       "</style>\n",
       "<table border=\"1\" class=\"dataframe\">\n",
       "  <thead>\n",
       "    <tr style=\"text-align: right;\">\n",
       "      <th></th>\n",
       "      <th>id</th>\n",
       "      <th>user_id</th>\n",
       "      <th>session_date</th>\n",
       "      <th>mb_used</th>\n",
       "    </tr>\n",
       "  </thead>\n",
       "  <tbody>\n",
       "    <tr>\n",
       "      <td>0</td>\n",
       "      <td>1000_13</td>\n",
       "      <td>1000</td>\n",
       "      <td>2018-12-29</td>\n",
       "      <td>89.86</td>\n",
       "    </tr>\n",
       "    <tr>\n",
       "      <td>1</td>\n",
       "      <td>1000_204</td>\n",
       "      <td>1000</td>\n",
       "      <td>2018-12-31</td>\n",
       "      <td>0.00</td>\n",
       "    </tr>\n",
       "    <tr>\n",
       "      <td>2</td>\n",
       "      <td>1000_379</td>\n",
       "      <td>1000</td>\n",
       "      <td>2018-12-28</td>\n",
       "      <td>660.40</td>\n",
       "    </tr>\n",
       "    <tr>\n",
       "      <td>3</td>\n",
       "      <td>1000_413</td>\n",
       "      <td>1000</td>\n",
       "      <td>2018-12-26</td>\n",
       "      <td>270.99</td>\n",
       "    </tr>\n",
       "    <tr>\n",
       "      <td>4</td>\n",
       "      <td>1000_442</td>\n",
       "      <td>1000</td>\n",
       "      <td>2018-12-27</td>\n",
       "      <td>880.22</td>\n",
       "    </tr>\n",
       "  </tbody>\n",
       "</table>\n",
       "</div>"
      ],
      "text/plain": [
       "         id  user_id session_date  mb_used\n",
       "0   1000_13     1000   2018-12-29    89.86\n",
       "1  1000_204     1000   2018-12-31     0.00\n",
       "2  1000_379     1000   2018-12-28   660.40\n",
       "3  1000_413     1000   2018-12-26   270.99\n",
       "4  1000_442     1000   2018-12-27   880.22"
      ]
     },
     "metadata": {},
     "output_type": "display_data"
    },
    {
     "name": "stdout",
     "output_type": "stream",
     "text": [
      "<class 'pandas.core.frame.DataFrame'>\n",
      "RangeIndex: 104825 entries, 0 to 104824\n",
      "Data columns (total 4 columns):\n",
      "id              104825 non-null object\n",
      "user_id         104825 non-null int64\n",
      "session_date    104825 non-null object\n",
      "mb_used         104825 non-null float64\n",
      "dtypes: float64(1), int64(1), object(2)\n",
      "memory usage: 3.2+ MB\n"
     ]
    },
    {
     "data": {
      "text/plain": [
       "None"
      ]
     },
     "metadata": {},
     "output_type": "display_data"
    },
    {
     "data": {
      "text/html": [
       "<div>\n",
       "<style scoped>\n",
       "    .dataframe tbody tr th:only-of-type {\n",
       "        vertical-align: middle;\n",
       "    }\n",
       "\n",
       "    .dataframe tbody tr th {\n",
       "        vertical-align: top;\n",
       "    }\n",
       "\n",
       "    .dataframe thead th {\n",
       "        text-align: right;\n",
       "    }\n",
       "</style>\n",
       "<table border=\"1\" class=\"dataframe\">\n",
       "  <thead>\n",
       "    <tr style=\"text-align: right;\">\n",
       "      <th></th>\n",
       "      <th>id</th>\n",
       "      <th>user_id</th>\n",
       "      <th>message_date</th>\n",
       "    </tr>\n",
       "  </thead>\n",
       "  <tbody>\n",
       "    <tr>\n",
       "      <td>0</td>\n",
       "      <td>1000_125</td>\n",
       "      <td>1000</td>\n",
       "      <td>2018-12-27</td>\n",
       "    </tr>\n",
       "    <tr>\n",
       "      <td>1</td>\n",
       "      <td>1000_160</td>\n",
       "      <td>1000</td>\n",
       "      <td>2018-12-31</td>\n",
       "    </tr>\n",
       "    <tr>\n",
       "      <td>2</td>\n",
       "      <td>1000_223</td>\n",
       "      <td>1000</td>\n",
       "      <td>2018-12-31</td>\n",
       "    </tr>\n",
       "    <tr>\n",
       "      <td>3</td>\n",
       "      <td>1000_251</td>\n",
       "      <td>1000</td>\n",
       "      <td>2018-12-27</td>\n",
       "    </tr>\n",
       "    <tr>\n",
       "      <td>4</td>\n",
       "      <td>1000_255</td>\n",
       "      <td>1000</td>\n",
       "      <td>2018-12-26</td>\n",
       "    </tr>\n",
       "  </tbody>\n",
       "</table>\n",
       "</div>"
      ],
      "text/plain": [
       "         id  user_id message_date\n",
       "0  1000_125     1000   2018-12-27\n",
       "1  1000_160     1000   2018-12-31\n",
       "2  1000_223     1000   2018-12-31\n",
       "3  1000_251     1000   2018-12-27\n",
       "4  1000_255     1000   2018-12-26"
      ]
     },
     "metadata": {},
     "output_type": "display_data"
    },
    {
     "name": "stdout",
     "output_type": "stream",
     "text": [
      "<class 'pandas.core.frame.DataFrame'>\n",
      "RangeIndex: 76051 entries, 0 to 76050\n",
      "Data columns (total 3 columns):\n",
      "id              76051 non-null object\n",
      "user_id         76051 non-null int64\n",
      "message_date    76051 non-null object\n",
      "dtypes: int64(1), object(2)\n",
      "memory usage: 1.7+ MB\n"
     ]
    },
    {
     "data": {
      "text/plain": [
       "None"
      ]
     },
     "metadata": {},
     "output_type": "display_data"
    },
    {
     "data": {
      "text/html": [
       "<div>\n",
       "<style scoped>\n",
       "    .dataframe tbody tr th:only-of-type {\n",
       "        vertical-align: middle;\n",
       "    }\n",
       "\n",
       "    .dataframe tbody tr th {\n",
       "        vertical-align: top;\n",
       "    }\n",
       "\n",
       "    .dataframe thead th {\n",
       "        text-align: right;\n",
       "    }\n",
       "</style>\n",
       "<table border=\"1\" class=\"dataframe\">\n",
       "  <thead>\n",
       "    <tr style=\"text-align: right;\">\n",
       "      <th></th>\n",
       "      <th>messages_included</th>\n",
       "      <th>mb_per_month_included</th>\n",
       "      <th>minutes_included</th>\n",
       "      <th>usd_monthly_pay</th>\n",
       "      <th>usd_per_gb</th>\n",
       "      <th>usd_per_message</th>\n",
       "      <th>usd_per_minute</th>\n",
       "      <th>plan_name</th>\n",
       "    </tr>\n",
       "  </thead>\n",
       "  <tbody>\n",
       "    <tr>\n",
       "      <td>0</td>\n",
       "      <td>50</td>\n",
       "      <td>15360</td>\n",
       "      <td>500</td>\n",
       "      <td>20</td>\n",
       "      <td>10</td>\n",
       "      <td>0.03</td>\n",
       "      <td>0.03</td>\n",
       "      <td>surf</td>\n",
       "    </tr>\n",
       "    <tr>\n",
       "      <td>1</td>\n",
       "      <td>1000</td>\n",
       "      <td>30720</td>\n",
       "      <td>3000</td>\n",
       "      <td>70</td>\n",
       "      <td>7</td>\n",
       "      <td>0.01</td>\n",
       "      <td>0.01</td>\n",
       "      <td>ultimate</td>\n",
       "    </tr>\n",
       "  </tbody>\n",
       "</table>\n",
       "</div>"
      ],
      "text/plain": [
       "   messages_included  mb_per_month_included  minutes_included  \\\n",
       "0                 50                  15360               500   \n",
       "1               1000                  30720              3000   \n",
       "\n",
       "   usd_monthly_pay  usd_per_gb  usd_per_message  usd_per_minute plan_name  \n",
       "0               20          10             0.03            0.03      surf  \n",
       "1               70           7             0.01            0.01  ultimate  "
      ]
     },
     "metadata": {},
     "output_type": "display_data"
    },
    {
     "name": "stdout",
     "output_type": "stream",
     "text": [
      "<class 'pandas.core.frame.DataFrame'>\n",
      "RangeIndex: 2 entries, 0 to 1\n",
      "Data columns (total 8 columns):\n",
      "messages_included        2 non-null int64\n",
      "mb_per_month_included    2 non-null int64\n",
      "minutes_included         2 non-null int64\n",
      "usd_monthly_pay          2 non-null int64\n",
      "usd_per_gb               2 non-null int64\n",
      "usd_per_message          2 non-null float64\n",
      "usd_per_minute           2 non-null float64\n",
      "plan_name                2 non-null object\n",
      "dtypes: float64(2), int64(5), object(1)\n",
      "memory usage: 256.0+ bytes\n"
     ]
    },
    {
     "data": {
      "text/plain": [
       "None"
      ]
     },
     "metadata": {},
     "output_type": "display_data"
    },
    {
     "data": {
      "text/html": [
       "<div>\n",
       "<style scoped>\n",
       "    .dataframe tbody tr th:only-of-type {\n",
       "        vertical-align: middle;\n",
       "    }\n",
       "\n",
       "    .dataframe tbody tr th {\n",
       "        vertical-align: top;\n",
       "    }\n",
       "\n",
       "    .dataframe thead th {\n",
       "        text-align: right;\n",
       "    }\n",
       "</style>\n",
       "<table border=\"1\" class=\"dataframe\">\n",
       "  <thead>\n",
       "    <tr style=\"text-align: right;\">\n",
       "      <th></th>\n",
       "      <th>user_id</th>\n",
       "      <th>first_name</th>\n",
       "      <th>last_name</th>\n",
       "      <th>age</th>\n",
       "      <th>city</th>\n",
       "      <th>reg_date</th>\n",
       "      <th>plan</th>\n",
       "      <th>churn_date</th>\n",
       "    </tr>\n",
       "  </thead>\n",
       "  <tbody>\n",
       "    <tr>\n",
       "      <td>0</td>\n",
       "      <td>1000</td>\n",
       "      <td>Anamaria</td>\n",
       "      <td>Bauer</td>\n",
       "      <td>45</td>\n",
       "      <td>Atlanta-Sandy Springs-Roswell, GA MSA</td>\n",
       "      <td>2018-12-24</td>\n",
       "      <td>ultimate</td>\n",
       "      <td>NaN</td>\n",
       "    </tr>\n",
       "    <tr>\n",
       "      <td>1</td>\n",
       "      <td>1001</td>\n",
       "      <td>Mickey</td>\n",
       "      <td>Wilkerson</td>\n",
       "      <td>28</td>\n",
       "      <td>Seattle-Tacoma-Bellevue, WA MSA</td>\n",
       "      <td>2018-08-13</td>\n",
       "      <td>surf</td>\n",
       "      <td>NaN</td>\n",
       "    </tr>\n",
       "    <tr>\n",
       "      <td>2</td>\n",
       "      <td>1002</td>\n",
       "      <td>Carlee</td>\n",
       "      <td>Hoffman</td>\n",
       "      <td>36</td>\n",
       "      <td>Las Vegas-Henderson-Paradise, NV MSA</td>\n",
       "      <td>2018-10-21</td>\n",
       "      <td>surf</td>\n",
       "      <td>NaN</td>\n",
       "    </tr>\n",
       "    <tr>\n",
       "      <td>3</td>\n",
       "      <td>1003</td>\n",
       "      <td>Reynaldo</td>\n",
       "      <td>Jenkins</td>\n",
       "      <td>52</td>\n",
       "      <td>Tulsa, OK MSA</td>\n",
       "      <td>2018-01-28</td>\n",
       "      <td>surf</td>\n",
       "      <td>NaN</td>\n",
       "    </tr>\n",
       "    <tr>\n",
       "      <td>4</td>\n",
       "      <td>1004</td>\n",
       "      <td>Leonila</td>\n",
       "      <td>Thompson</td>\n",
       "      <td>40</td>\n",
       "      <td>Seattle-Tacoma-Bellevue, WA MSA</td>\n",
       "      <td>2018-05-23</td>\n",
       "      <td>surf</td>\n",
       "      <td>NaN</td>\n",
       "    </tr>\n",
       "  </tbody>\n",
       "</table>\n",
       "</div>"
      ],
      "text/plain": [
       "   user_id first_name  last_name  age                                   city  \\\n",
       "0     1000   Anamaria      Bauer   45  Atlanta-Sandy Springs-Roswell, GA MSA   \n",
       "1     1001     Mickey  Wilkerson   28        Seattle-Tacoma-Bellevue, WA MSA   \n",
       "2     1002     Carlee    Hoffman   36   Las Vegas-Henderson-Paradise, NV MSA   \n",
       "3     1003   Reynaldo    Jenkins   52                          Tulsa, OK MSA   \n",
       "4     1004    Leonila   Thompson   40        Seattle-Tacoma-Bellevue, WA MSA   \n",
       "\n",
       "     reg_date      plan churn_date  \n",
       "0  2018-12-24  ultimate        NaN  \n",
       "1  2018-08-13      surf        NaN  \n",
       "2  2018-10-21      surf        NaN  \n",
       "3  2018-01-28      surf        NaN  \n",
       "4  2018-05-23      surf        NaN  "
      ]
     },
     "metadata": {},
     "output_type": "display_data"
    },
    {
     "name": "stdout",
     "output_type": "stream",
     "text": [
      "<class 'pandas.core.frame.DataFrame'>\n",
      "RangeIndex: 500 entries, 0 to 499\n",
      "Data columns (total 8 columns):\n",
      "user_id       500 non-null int64\n",
      "first_name    500 non-null object\n",
      "last_name     500 non-null object\n",
      "age           500 non-null int64\n",
      "city          500 non-null object\n",
      "reg_date      500 non-null object\n",
      "plan          500 non-null object\n",
      "churn_date    34 non-null object\n",
      "dtypes: int64(2), object(6)\n",
      "memory usage: 31.4+ KB\n"
     ]
    },
    {
     "data": {
      "text/plain": [
       "None"
      ]
     },
     "metadata": {},
     "output_type": "display_data"
    },
    {
     "data": {
      "text/plain": [
       "0"
      ]
     },
     "metadata": {},
     "output_type": "display_data"
    },
    {
     "data": {
      "text/plain": [
       "0"
      ]
     },
     "metadata": {},
     "output_type": "display_data"
    },
    {
     "data": {
      "text/plain": [
       "0"
      ]
     },
     "metadata": {},
     "output_type": "display_data"
    },
    {
     "data": {
      "text/plain": [
       "0"
      ]
     },
     "metadata": {},
     "output_type": "display_data"
    }
   ],
   "source": [
    "import pandas as pd\n",
    "import numpy as np\n",
    "import matplotlib.pyplot as plt\n",
    "from scipy import stats as st\n",
    "from datetime import time\n",
    "import seaborn as sns\n",
    "\n",
    "calls = pd.read_csv('/datasets/megaline_calls.csv')\n",
    "internet = pd.read_csv('/datasets/megaline_internet.csv')\n",
    "messages = pd.read_csv('/datasets/megaline_messages.csv')\n",
    "plans = pd.read_csv('/datasets/megaline_plans.csv')\n",
    "users = pd.read_csv('/datasets/megaline_users.csv')\n",
    "\n",
    "display(calls.head())\n",
    "display(calls.info())\n",
    "display(internet.head())\n",
    "display(internet.info())\n",
    "display(messages.head())\n",
    "display(messages.info())\n",
    "display(plans.head())\n",
    "display(plans.info())\n",
    "display(users.head())\n",
    "display(users.info())\n",
    "\n",
    "#Search for duplicates\n",
    "display(calls.duplicated().sum())\n",
    "display(internet.duplicated().sum())\n",
    "display(messages.duplicated().sum())\n",
    "display(users.duplicated().sum())"
   ]
  },
  {
   "cell_type": "markdown",
   "metadata": {},
   "source": [
    "### Conclusion \n",
    "There are two types of plans in the company surf and ultimate. There are data tables for user and plan data as well as messages, calls, and data usage throughout the year of 2018. We will use these tables to find which plan makes the company more profit.\n",
    "\n",
    "The churn_date column of users table has 466 missing values. The churn date is the date the user stopped using service. The missing values in the column are due to user accounts still active when the data was analyzed. We replaced values with the date 2018-12-31. This will not affect the data since the churn date is not needed for analysis."
   ]
  },
  {
   "cell_type": "markdown",
   "metadata": {},
   "source": [
    "## Prepare the Data"
   ]
  },
  {
   "cell_type": "code",
   "execution_count": 2,
   "metadata": {},
   "outputs": [
    {
     "data": {
      "text/html": [
       "<div>\n",
       "<style scoped>\n",
       "    .dataframe tbody tr th:only-of-type {\n",
       "        vertical-align: middle;\n",
       "    }\n",
       "\n",
       "    .dataframe tbody tr th {\n",
       "        vertical-align: top;\n",
       "    }\n",
       "\n",
       "    .dataframe thead th {\n",
       "        text-align: right;\n",
       "    }\n",
       "</style>\n",
       "<table border=\"1\" class=\"dataframe\">\n",
       "  <thead>\n",
       "    <tr style=\"text-align: right;\">\n",
       "      <th></th>\n",
       "      <th>user_id</th>\n",
       "      <th>first_name</th>\n",
       "      <th>last_name</th>\n",
       "      <th>age</th>\n",
       "      <th>city</th>\n",
       "      <th>reg_date</th>\n",
       "      <th>plan</th>\n",
       "      <th>churn_date</th>\n",
       "    </tr>\n",
       "  </thead>\n",
       "  <tbody>\n",
       "    <tr>\n",
       "      <td>0</td>\n",
       "      <td>1000</td>\n",
       "      <td>Anamaria</td>\n",
       "      <td>Bauer</td>\n",
       "      <td>45</td>\n",
       "      <td>Atlanta-Sandy Springs-Roswell, GA MSA</td>\n",
       "      <td>2018-12-24</td>\n",
       "      <td>ultimate</td>\n",
       "      <td>2018-12-31</td>\n",
       "    </tr>\n",
       "    <tr>\n",
       "      <td>1</td>\n",
       "      <td>1001</td>\n",
       "      <td>Mickey</td>\n",
       "      <td>Wilkerson</td>\n",
       "      <td>28</td>\n",
       "      <td>Seattle-Tacoma-Bellevue, WA MSA</td>\n",
       "      <td>2018-08-13</td>\n",
       "      <td>surf</td>\n",
       "      <td>2018-12-31</td>\n",
       "    </tr>\n",
       "    <tr>\n",
       "      <td>2</td>\n",
       "      <td>1002</td>\n",
       "      <td>Carlee</td>\n",
       "      <td>Hoffman</td>\n",
       "      <td>36</td>\n",
       "      <td>Las Vegas-Henderson-Paradise, NV MSA</td>\n",
       "      <td>2018-10-21</td>\n",
       "      <td>surf</td>\n",
       "      <td>2018-12-31</td>\n",
       "    </tr>\n",
       "    <tr>\n",
       "      <td>3</td>\n",
       "      <td>1003</td>\n",
       "      <td>Reynaldo</td>\n",
       "      <td>Jenkins</td>\n",
       "      <td>52</td>\n",
       "      <td>Tulsa, OK MSA</td>\n",
       "      <td>2018-01-28</td>\n",
       "      <td>surf</td>\n",
       "      <td>2018-12-31</td>\n",
       "    </tr>\n",
       "    <tr>\n",
       "      <td>4</td>\n",
       "      <td>1004</td>\n",
       "      <td>Leonila</td>\n",
       "      <td>Thompson</td>\n",
       "      <td>40</td>\n",
       "      <td>Seattle-Tacoma-Bellevue, WA MSA</td>\n",
       "      <td>2018-05-23</td>\n",
       "      <td>surf</td>\n",
       "      <td>2018-12-31</td>\n",
       "    </tr>\n",
       "  </tbody>\n",
       "</table>\n",
       "</div>"
      ],
      "text/plain": [
       "   user_id first_name  last_name  age                                   city  \\\n",
       "0     1000   Anamaria      Bauer   45  Atlanta-Sandy Springs-Roswell, GA MSA   \n",
       "1     1001     Mickey  Wilkerson   28        Seattle-Tacoma-Bellevue, WA MSA   \n",
       "2     1002     Carlee    Hoffman   36   Las Vegas-Henderson-Paradise, NV MSA   \n",
       "3     1003   Reynaldo    Jenkins   52                          Tulsa, OK MSA   \n",
       "4     1004    Leonila   Thompson   40        Seattle-Tacoma-Bellevue, WA MSA   \n",
       "\n",
       "     reg_date      plan  churn_date  \n",
       "0  2018-12-24  ultimate  2018-12-31  \n",
       "1  2018-08-13      surf  2018-12-31  \n",
       "2  2018-10-21      surf  2018-12-31  \n",
       "3  2018-01-28      surf  2018-12-31  \n",
       "4  2018-05-23      surf  2018-12-31  "
      ]
     },
     "metadata": {},
     "output_type": "display_data"
    },
    {
     "data": {
      "text/html": [
       "<div>\n",
       "<style scoped>\n",
       "    .dataframe tbody tr th:only-of-type {\n",
       "        vertical-align: middle;\n",
       "    }\n",
       "\n",
       "    .dataframe tbody tr th {\n",
       "        vertical-align: top;\n",
       "    }\n",
       "\n",
       "    .dataframe thead th {\n",
       "        text-align: right;\n",
       "    }\n",
       "</style>\n",
       "<table border=\"1\" class=\"dataframe\">\n",
       "  <thead>\n",
       "    <tr style=\"text-align: right;\">\n",
       "      <th></th>\n",
       "      <th>id</th>\n",
       "      <th>user_id</th>\n",
       "      <th>call_date</th>\n",
       "      <th>duration</th>\n",
       "      <th>month</th>\n",
       "    </tr>\n",
       "  </thead>\n",
       "  <tbody>\n",
       "    <tr>\n",
       "      <td>0</td>\n",
       "      <td>1000_93</td>\n",
       "      <td>1000</td>\n",
       "      <td>2018-12-27</td>\n",
       "      <td>9</td>\n",
       "      <td>12</td>\n",
       "    </tr>\n",
       "    <tr>\n",
       "      <td>1</td>\n",
       "      <td>1000_145</td>\n",
       "      <td>1000</td>\n",
       "      <td>2018-12-27</td>\n",
       "      <td>14</td>\n",
       "      <td>12</td>\n",
       "    </tr>\n",
       "    <tr>\n",
       "      <td>2</td>\n",
       "      <td>1000_247</td>\n",
       "      <td>1000</td>\n",
       "      <td>2018-12-27</td>\n",
       "      <td>15</td>\n",
       "      <td>12</td>\n",
       "    </tr>\n",
       "    <tr>\n",
       "      <td>3</td>\n",
       "      <td>1000_309</td>\n",
       "      <td>1000</td>\n",
       "      <td>2018-12-28</td>\n",
       "      <td>6</td>\n",
       "      <td>12</td>\n",
       "    </tr>\n",
       "    <tr>\n",
       "      <td>4</td>\n",
       "      <td>1000_380</td>\n",
       "      <td>1000</td>\n",
       "      <td>2018-12-30</td>\n",
       "      <td>5</td>\n",
       "      <td>12</td>\n",
       "    </tr>\n",
       "  </tbody>\n",
       "</table>\n",
       "</div>"
      ],
      "text/plain": [
       "         id  user_id   call_date  duration  month\n",
       "0   1000_93     1000  2018-12-27         9     12\n",
       "1  1000_145     1000  2018-12-27        14     12\n",
       "2  1000_247     1000  2018-12-27        15     12\n",
       "3  1000_309     1000  2018-12-28         6     12\n",
       "4  1000_380     1000  2018-12-30         5     12"
      ]
     },
     "metadata": {},
     "output_type": "display_data"
    },
    {
     "data": {
      "text/html": [
       "<div>\n",
       "<style scoped>\n",
       "    .dataframe tbody tr th:only-of-type {\n",
       "        vertical-align: middle;\n",
       "    }\n",
       "\n",
       "    .dataframe tbody tr th {\n",
       "        vertical-align: top;\n",
       "    }\n",
       "\n",
       "    .dataframe thead th {\n",
       "        text-align: right;\n",
       "    }\n",
       "</style>\n",
       "<table border=\"1\" class=\"dataframe\">\n",
       "  <thead>\n",
       "    <tr style=\"text-align: right;\">\n",
       "      <th></th>\n",
       "      <th>id</th>\n",
       "      <th>user_id</th>\n",
       "      <th>session_date</th>\n",
       "      <th>mb_used</th>\n",
       "      <th>month</th>\n",
       "    </tr>\n",
       "  </thead>\n",
       "  <tbody>\n",
       "    <tr>\n",
       "      <td>0</td>\n",
       "      <td>1000_13</td>\n",
       "      <td>1000</td>\n",
       "      <td>2018-12-29</td>\n",
       "      <td>90</td>\n",
       "      <td>12</td>\n",
       "    </tr>\n",
       "    <tr>\n",
       "      <td>1</td>\n",
       "      <td>1000_204</td>\n",
       "      <td>1000</td>\n",
       "      <td>2018-12-31</td>\n",
       "      <td>0</td>\n",
       "      <td>12</td>\n",
       "    </tr>\n",
       "    <tr>\n",
       "      <td>2</td>\n",
       "      <td>1000_379</td>\n",
       "      <td>1000</td>\n",
       "      <td>2018-12-28</td>\n",
       "      <td>661</td>\n",
       "      <td>12</td>\n",
       "    </tr>\n",
       "    <tr>\n",
       "      <td>3</td>\n",
       "      <td>1000_413</td>\n",
       "      <td>1000</td>\n",
       "      <td>2018-12-26</td>\n",
       "      <td>271</td>\n",
       "      <td>12</td>\n",
       "    </tr>\n",
       "    <tr>\n",
       "      <td>4</td>\n",
       "      <td>1000_442</td>\n",
       "      <td>1000</td>\n",
       "      <td>2018-12-27</td>\n",
       "      <td>881</td>\n",
       "      <td>12</td>\n",
       "    </tr>\n",
       "  </tbody>\n",
       "</table>\n",
       "</div>"
      ],
      "text/plain": [
       "         id  user_id session_date  mb_used  month\n",
       "0   1000_13     1000   2018-12-29       90     12\n",
       "1  1000_204     1000   2018-12-31        0     12\n",
       "2  1000_379     1000   2018-12-28      661     12\n",
       "3  1000_413     1000   2018-12-26      271     12\n",
       "4  1000_442     1000   2018-12-27      881     12"
      ]
     },
     "metadata": {},
     "output_type": "display_data"
    },
    {
     "data": {
      "text/html": [
       "<div>\n",
       "<style scoped>\n",
       "    .dataframe tbody tr th:only-of-type {\n",
       "        vertical-align: middle;\n",
       "    }\n",
       "\n",
       "    .dataframe tbody tr th {\n",
       "        vertical-align: top;\n",
       "    }\n",
       "\n",
       "    .dataframe thead th {\n",
       "        text-align: right;\n",
       "    }\n",
       "</style>\n",
       "<table border=\"1\" class=\"dataframe\">\n",
       "  <thead>\n",
       "    <tr style=\"text-align: right;\">\n",
       "      <th></th>\n",
       "      <th>id</th>\n",
       "      <th>user_id</th>\n",
       "      <th>message_date</th>\n",
       "    </tr>\n",
       "  </thead>\n",
       "  <tbody>\n",
       "    <tr>\n",
       "      <td>0</td>\n",
       "      <td>1000_125</td>\n",
       "      <td>1000</td>\n",
       "      <td>2018-12-27</td>\n",
       "    </tr>\n",
       "    <tr>\n",
       "      <td>1</td>\n",
       "      <td>1000_160</td>\n",
       "      <td>1000</td>\n",
       "      <td>2018-12-31</td>\n",
       "    </tr>\n",
       "    <tr>\n",
       "      <td>2</td>\n",
       "      <td>1000_223</td>\n",
       "      <td>1000</td>\n",
       "      <td>2018-12-31</td>\n",
       "    </tr>\n",
       "    <tr>\n",
       "      <td>3</td>\n",
       "      <td>1000_251</td>\n",
       "      <td>1000</td>\n",
       "      <td>2018-12-27</td>\n",
       "    </tr>\n",
       "    <tr>\n",
       "      <td>4</td>\n",
       "      <td>1000_255</td>\n",
       "      <td>1000</td>\n",
       "      <td>2018-12-26</td>\n",
       "    </tr>\n",
       "  </tbody>\n",
       "</table>\n",
       "</div>"
      ],
      "text/plain": [
       "         id  user_id message_date\n",
       "0  1000_125     1000   2018-12-27\n",
       "1  1000_160     1000   2018-12-31\n",
       "2  1000_223     1000   2018-12-31\n",
       "3  1000_251     1000   2018-12-27\n",
       "4  1000_255     1000   2018-12-26"
      ]
     },
     "metadata": {},
     "output_type": "display_data"
    }
   ],
   "source": [
    "#Fill in missing values in column churn_date for table users.\n",
    "users['churn_date'] = users['churn_date'].fillna('2018-12-31')\n",
    "users.isnull().sum()\n",
    "\n",
    "#Change data types in users table\n",
    "users['churn_date'] = pd.to_datetime(users['churn_date']).dt.date\n",
    "display(users.head())\n",
    "\n",
    "#Change data types in calls table\n",
    "calls['duration'] = np.ceil(calls['duration']).astype(int) \n",
    "calls['call_date'] = pd.to_datetime(calls['call_date']).dt.date\n",
    "calls['month'] = pd.to_datetime(calls['call_date']).dt.month\n",
    "calls['month'] = calls['month'].astype(int)\n",
    "display(calls.head())\n",
    "\n",
    "#Change data types in internet table\n",
    "internet['mb_used'] = np.ceil(internet['mb_used']).astype(int)\n",
    "internet['session_date'] = pd.to_datetime(internet['session_date']).dt.date\n",
    "internet['month'] = pd.to_datetime(internet['session_date']).dt.month\n",
    "display(internet.head())\n",
    "\n",
    "#Change data types in messages table\n",
    "messages['message_date'] = pd.to_datetime(messages['message_date']).dt.date\n",
    "display(messages.head())\n",
    "messages['month'] = pd.to_datetime(messages['message_date']).dt.month"
   ]
  },
  {
   "cell_type": "markdown",
   "metadata": {},
   "source": [
    "Data Preprocessing:\n",
    "\n",
    "In the 'users' table we changed the missing values in the column 'churn_date' table to 2018-12-31, since it is the last date in the year. We converted the data in column 'churn_date' to a Datetime object.\n",
    "\n",
    "In 'calls' table we converted the column 'call_date' to a Datetime object. We added the column 'month' to the 'calls' table from abstracting the month from the 'call_date' column. We converted columns 'month' and 'duration' to integer type.\n",
    "\n",
    "We converted the column 'session_date' in the 'internet' column to a Datetime object. We added the column 'month' to the 'internet' table from abstracting the month from the 'session_date' column.\n",
    "\n",
    "In 'message' table we converted the column 'message_date' to a Datetime object. We added the column 'month' to the 'messag' table from abstracting the month from the 'message_date' column."
   ]
  },
  {
   "cell_type": "code",
   "execution_count": 3,
   "metadata": {},
   "outputs": [],
   "source": [
    "#Process errors in data\n",
    "for index, row in users.iterrows():\n",
    "    user_id = row['user_id']\n",
    "    churn_date = row['churn_date']\n",
    "    \n",
    "    calls.drop(calls.index[(calls['user_id'] == user_id) &(calls['call_date'] > churn_date)], inplace=True)\n",
    "    messages.drop(messages.index[(messages['user_id'] == user_id) &(messages['message_date'] > churn_date)], inplace=True)\n",
    "    internet.drop(internet.index[(internet['user_id'] == user_id) &(internet['session_date'] > churn_date)], inplace=True)\n"
   ]
  },
  {
   "cell_type": "code",
   "execution_count": 4,
   "metadata": {},
   "outputs": [
    {
     "data": {
      "text/plain": [
       "-10.716277361872603"
      ]
     },
     "metadata": {},
     "output_type": "display_data"
    },
    {
     "data": {
      "text/plain": [
       "25.004953219233816"
      ]
     },
     "metadata": {},
     "output_type": "display_data"
    },
    {
     "name": "stdout",
     "output_type": "stream",
     "text": [
      "<class 'pandas.core.frame.DataFrame'>\n",
      "Int64Index: 134093 entries, 0 to 137734\n",
      "Data columns (total 5 columns):\n",
      "id           134093 non-null object\n",
      "user_id      134093 non-null int64\n",
      "call_date    134093 non-null object\n",
      "duration     134093 non-null int64\n",
      "month        134093 non-null int64\n",
      "dtypes: int64(3), object(2)\n",
      "memory usage: 6.1+ MB\n"
     ]
    },
    {
     "data": {
      "text/plain": [
       "None"
      ]
     },
     "metadata": {},
     "output_type": "display_data"
    },
    {
     "data": {
      "text/html": [
       "<div>\n",
       "<style scoped>\n",
       "    .dataframe tbody tr th:only-of-type {\n",
       "        vertical-align: middle;\n",
       "    }\n",
       "\n",
       "    .dataframe tbody tr th {\n",
       "        vertical-align: top;\n",
       "    }\n",
       "\n",
       "    .dataframe thead th {\n",
       "        text-align: right;\n",
       "    }\n",
       "</style>\n",
       "<table border=\"1\" class=\"dataframe\">\n",
       "  <thead>\n",
       "    <tr style=\"text-align: right;\">\n",
       "      <th></th>\n",
       "      <th>user_id</th>\n",
       "      <th>duration</th>\n",
       "      <th>month</th>\n",
       "    </tr>\n",
       "  </thead>\n",
       "  <tbody>\n",
       "    <tr>\n",
       "      <td>count</td>\n",
       "      <td>134093.000000</td>\n",
       "      <td>134093.000000</td>\n",
       "      <td>134093.000000</td>\n",
       "    </tr>\n",
       "    <tr>\n",
       "      <td>mean</td>\n",
       "      <td>1247.361577</td>\n",
       "      <td>7.044439</td>\n",
       "      <td>9.282170</td>\n",
       "    </tr>\n",
       "    <tr>\n",
       "      <td>std</td>\n",
       "      <td>138.881057</td>\n",
       "      <td>5.798964</td>\n",
       "      <td>2.418258</td>\n",
       "    </tr>\n",
       "    <tr>\n",
       "      <td>min</td>\n",
       "      <td>1000.000000</td>\n",
       "      <td>0.000000</td>\n",
       "      <td>1.000000</td>\n",
       "    </tr>\n",
       "    <tr>\n",
       "      <td>25%</td>\n",
       "      <td>1130.000000</td>\n",
       "      <td>2.000000</td>\n",
       "      <td>8.000000</td>\n",
       "    </tr>\n",
       "    <tr>\n",
       "      <td>50%</td>\n",
       "      <td>1247.000000</td>\n",
       "      <td>6.000000</td>\n",
       "      <td>10.000000</td>\n",
       "    </tr>\n",
       "    <tr>\n",
       "      <td>75%</td>\n",
       "      <td>1365.000000</td>\n",
       "      <td>11.000000</td>\n",
       "      <td>11.000000</td>\n",
       "    </tr>\n",
       "    <tr>\n",
       "      <td>max</td>\n",
       "      <td>1499.000000</td>\n",
       "      <td>24.000000</td>\n",
       "      <td>12.000000</td>\n",
       "    </tr>\n",
       "  </tbody>\n",
       "</table>\n",
       "</div>"
      ],
      "text/plain": [
       "             user_id       duration          month\n",
       "count  134093.000000  134093.000000  134093.000000\n",
       "mean     1247.361577       7.044439       9.282170\n",
       "std       138.881057       5.798964       2.418258\n",
       "min      1000.000000       0.000000       1.000000\n",
       "25%      1130.000000       2.000000       8.000000\n",
       "50%      1247.000000       6.000000      10.000000\n",
       "75%      1365.000000      11.000000      11.000000\n",
       "max      1499.000000      24.000000      12.000000"
      ]
     },
     "metadata": {},
     "output_type": "display_data"
    },
    {
     "data": {
      "text/plain": [
       "-464.57537676604056"
      ]
     },
     "metadata": {},
     "output_type": "display_data"
    },
    {
     "data": {
      "text/plain": [
       "1200.5523799508162"
      ]
     },
     "metadata": {},
     "output_type": "display_data"
    },
    {
     "name": "stdout",
     "output_type": "stream",
     "text": [
      "<class 'pandas.core.frame.DataFrame'>\n",
      "Int64Index: 101997 entries, 0 to 104824\n",
      "Data columns (total 5 columns):\n",
      "id              101997 non-null object\n",
      "user_id         101997 non-null int64\n",
      "session_date    101997 non-null object\n",
      "mb_used         101997 non-null int64\n",
      "month           101997 non-null int64\n",
      "dtypes: int64(3), object(2)\n",
      "memory usage: 4.7+ MB\n"
     ]
    },
    {
     "data": {
      "text/plain": [
       "None"
      ]
     },
     "metadata": {},
     "output_type": "display_data"
    },
    {
     "data": {
      "text/html": [
       "<div>\n",
       "<style scoped>\n",
       "    .dataframe tbody tr th:only-of-type {\n",
       "        vertical-align: middle;\n",
       "    }\n",
       "\n",
       "    .dataframe tbody tr th {\n",
       "        vertical-align: top;\n",
       "    }\n",
       "\n",
       "    .dataframe thead th {\n",
       "        text-align: right;\n",
       "    }\n",
       "</style>\n",
       "<table border=\"1\" class=\"dataframe\">\n",
       "  <thead>\n",
       "    <tr style=\"text-align: right;\">\n",
       "      <th></th>\n",
       "      <th>user_id</th>\n",
       "      <th>mb_used</th>\n",
       "      <th>month</th>\n",
       "    </tr>\n",
       "  </thead>\n",
       "  <tbody>\n",
       "    <tr>\n",
       "      <td>count</td>\n",
       "      <td>101997.000000</td>\n",
       "      <td>101997.000000</td>\n",
       "      <td>101997.000000</td>\n",
       "    </tr>\n",
       "    <tr>\n",
       "      <td>mean</td>\n",
       "      <td>1241.999265</td>\n",
       "      <td>364.658892</td>\n",
       "      <td>9.300342</td>\n",
       "    </tr>\n",
       "    <tr>\n",
       "      <td>std</td>\n",
       "      <td>141.314113</td>\n",
       "      <td>272.307486</td>\n",
       "      <td>2.407045</td>\n",
       "    </tr>\n",
       "    <tr>\n",
       "      <td>min</td>\n",
       "      <td>1000.000000</td>\n",
       "      <td>0.000000</td>\n",
       "      <td>1.000000</td>\n",
       "    </tr>\n",
       "    <tr>\n",
       "      <td>25%</td>\n",
       "      <td>1122.000000</td>\n",
       "      <td>137.000000</td>\n",
       "      <td>8.000000</td>\n",
       "    </tr>\n",
       "    <tr>\n",
       "      <td>50%</td>\n",
       "      <td>1236.000000</td>\n",
       "      <td>344.000000</td>\n",
       "      <td>10.000000</td>\n",
       "    </tr>\n",
       "    <tr>\n",
       "      <td>75%</td>\n",
       "      <td>1366.000000</td>\n",
       "      <td>554.000000</td>\n",
       "      <td>11.000000</td>\n",
       "    </tr>\n",
       "    <tr>\n",
       "      <td>max</td>\n",
       "      <td>1499.000000</td>\n",
       "      <td>1198.000000</td>\n",
       "      <td>12.000000</td>\n",
       "    </tr>\n",
       "  </tbody>\n",
       "</table>\n",
       "</div>"
      ],
      "text/plain": [
       "             user_id        mb_used          month\n",
       "count  101997.000000  101997.000000  101997.000000\n",
       "mean     1241.999265     364.658892       9.300342\n",
       "std       141.314113     272.307486       2.407045\n",
       "min      1000.000000       0.000000       1.000000\n",
       "25%      1122.000000     137.000000       8.000000\n",
       "50%      1236.000000     344.000000      10.000000\n",
       "75%      1366.000000     554.000000      11.000000\n",
       "max      1499.000000    1198.000000      12.000000"
      ]
     },
     "metadata": {},
     "output_type": "display_data"
    }
   ],
   "source": [
    "#Find anomalies in \"calls\" table\n",
    "std_calls = np.std(calls['duration'])\n",
    "mean_calls = np.mean(calls['duration'])\n",
    "anomaly_cut_off_calls = std_calls * 3\n",
    "lower_limit_calls =  mean_calls - anomaly_cut_off_calls\n",
    "display(lower_limit_calls)\n",
    "upper_limit_calls = mean_calls + anomaly_cut_off_calls\n",
    "display(upper_limit_calls)\n",
    "\n",
    "calls.drop(calls.index[(calls['duration'] > 24)], inplace = True)\n",
    "display(calls.info())\n",
    "display(calls.describe())\n",
    "\n",
    "#Find anomalies in \"internet\" table\n",
    "std_internet = np.std(internet['mb_used'])\n",
    "mean_internet = np.mean(internet['mb_used'])\n",
    "anomaly_cut_off_internet = std_internet * 3\n",
    "lower_limit_internet =  mean_internet - anomaly_cut_off_internet\n",
    "display(lower_limit_internet)\n",
    "upper_limit_internet = mean_internet + anomaly_cut_off_internet\n",
    "display(upper_limit_internet)\n",
    "\n",
    "internet.drop(internet.index[(internet['mb_used'] > 1198)], inplace = True)\n",
    "display(internet.info())\n",
    "display(internet.describe())\n",
    "\n"
   ]
  },
  {
   "cell_type": "markdown",
   "metadata": {},
   "source": [
    "Process Errors and Anomalies:\n",
    "\n",
    "We notice there were errors for calls, messages, and internet sessions. Some of the dates for these sessions are posted after the churn date(date service ends) for the client. We assumed this was just a mistake and removed the rows that have the date for calls/messages/interent sessions beyond the churn date.\n",
    "\n",
    "We checked the data for anomalies and noticed the 'internet' table and 'calls' table had outliers. The mean and median of the data are close which means the data is normally distributed. We can use the 3 sigmas rule to find lower and upper outliers. There are no lower outliers for the 'internet' and 'calls' table. By using the 3 sigmas rule we found that any data above 1198 in the column 'mb_used' from the 'internet' table is considered an outlier. We also found any data above 24 in the 'duration' column of the 'calls' table to be an outlier. We have dropped any outliers from both tables.\n",
    "\n",
    "Other anomalies from the 'duration' and 'mg_used' column were zero values. We could not remove these values since they were a significant amount of the data. This could be an error in the data. It is possible the client did not use the internet service for a month. A possibility for zeros in the 'duration' column could be that the call only lasted a few seconds."
   ]
  },
  {
   "cell_type": "markdown",
   "metadata": {},
   "source": [
    "### Calls Per User"
   ]
  },
  {
   "cell_type": "code",
   "execution_count": 5,
   "metadata": {},
   "outputs": [
    {
     "data": {
      "text/plain": [
       "user_id       0\n",
       "first_name    0\n",
       "last_name     0\n",
       "age           0\n",
       "city          0\n",
       "reg_date      0\n",
       "plan          0\n",
       "churn_date    0\n",
       "id            0\n",
       "call_date     0\n",
       "duration      0\n",
       "month         0\n",
       "dtype: int64"
      ]
     },
     "execution_count": 5,
     "metadata": {},
     "output_type": "execute_result"
    }
   ],
   "source": [
    "#Merge users table and calls table\n",
    "calls_plan = users.merge(calls, on = 'user_id', how = 'outer')\n",
    "calls_plan.head()\n",
    "calls_plan.isnull().sum()\n",
    "\n",
    "calls_plan.dropna(subset = ['id'], inplace = True)\n",
    "calls_plan.isnull().sum()"
   ]
  },
  {
   "cell_type": "code",
   "execution_count": 6,
   "metadata": {},
   "outputs": [
    {
     "data": {
      "text/html": [
       "<div>\n",
       "<style scoped>\n",
       "    .dataframe tbody tr th:only-of-type {\n",
       "        vertical-align: middle;\n",
       "    }\n",
       "\n",
       "    .dataframe tbody tr th {\n",
       "        vertical-align: top;\n",
       "    }\n",
       "\n",
       "    .dataframe thead th {\n",
       "        text-align: right;\n",
       "    }\n",
       "</style>\n",
       "<table border=\"1\" class=\"dataframe\">\n",
       "  <thead>\n",
       "    <tr style=\"text-align: right;\">\n",
       "      <th></th>\n",
       "      <th>user_id</th>\n",
       "      <th>month</th>\n",
       "      <th>calls_per_month</th>\n",
       "      <th>minutes_used_per_month</th>\n",
       "    </tr>\n",
       "  </thead>\n",
       "  <tbody>\n",
       "    <tr>\n",
       "      <td>0</td>\n",
       "      <td>1000</td>\n",
       "      <td>12.0</td>\n",
       "      <td>16</td>\n",
       "      <td>124.0</td>\n",
       "    </tr>\n",
       "    <tr>\n",
       "      <td>1</td>\n",
       "      <td>1006</td>\n",
       "      <td>11.0</td>\n",
       "      <td>2</td>\n",
       "      <td>10.0</td>\n",
       "    </tr>\n",
       "    <tr>\n",
       "      <td>2</td>\n",
       "      <td>1006</td>\n",
       "      <td>12.0</td>\n",
       "      <td>7</td>\n",
       "      <td>36.0</td>\n",
       "    </tr>\n",
       "    <tr>\n",
       "      <td>3</td>\n",
       "      <td>1008</td>\n",
       "      <td>10.0</td>\n",
       "      <td>71</td>\n",
       "      <td>476.0</td>\n",
       "    </tr>\n",
       "    <tr>\n",
       "      <td>4</td>\n",
       "      <td>1008</td>\n",
       "      <td>11.0</td>\n",
       "      <td>61</td>\n",
       "      <td>393.0</td>\n",
       "    </tr>\n",
       "  </tbody>\n",
       "</table>\n",
       "</div>"
      ],
      "text/plain": [
       "   user_id  month  calls_per_month  minutes_used_per_month\n",
       "0     1000   12.0               16                   124.0\n",
       "1     1006   11.0                2                    10.0\n",
       "2     1006   12.0                7                    36.0\n",
       "3     1008   10.0               71                   476.0\n",
       "4     1008   11.0               61                   393.0"
      ]
     },
     "execution_count": 6,
     "metadata": {},
     "output_type": "execute_result"
    }
   ],
   "source": [
    "#Calls per month for ultimate plan\n",
    "calls_ultimate = calls_plan.query('plan == \"ultimate\"')\n",
    "calls_ultimate_per_user = calls_ultimate.pivot_table(index = ['user_id', 'month'], values = 'duration', aggfunc = ['count','sum'])\n",
    "calls_ultimate_per_user.columns = ['calls_per_month', 'minutes_used_per_month']\n",
    "calls_ultimate_per_user.reset_index(inplace = True)\n",
    "calls_ultimate_per_user.head()"
   ]
  },
  {
   "cell_type": "code",
   "execution_count": 7,
   "metadata": {},
   "outputs": [
    {
     "data": {
      "text/html": [
       "<div>\n",
       "<style scoped>\n",
       "    .dataframe tbody tr th:only-of-type {\n",
       "        vertical-align: middle;\n",
       "    }\n",
       "\n",
       "    .dataframe tbody tr th {\n",
       "        vertical-align: top;\n",
       "    }\n",
       "\n",
       "    .dataframe thead th {\n",
       "        text-align: right;\n",
       "    }\n",
       "</style>\n",
       "<table border=\"1\" class=\"dataframe\">\n",
       "  <thead>\n",
       "    <tr style=\"text-align: right;\">\n",
       "      <th></th>\n",
       "      <th>user_id</th>\n",
       "      <th>month</th>\n",
       "      <th>calls_per_month</th>\n",
       "      <th>minutes_used_per_month</th>\n",
       "    </tr>\n",
       "  </thead>\n",
       "  <tbody>\n",
       "    <tr>\n",
       "      <td>0</td>\n",
       "      <td>1001</td>\n",
       "      <td>8.0</td>\n",
       "      <td>27</td>\n",
       "      <td>182.0</td>\n",
       "    </tr>\n",
       "    <tr>\n",
       "      <td>1</td>\n",
       "      <td>1001</td>\n",
       "      <td>9.0</td>\n",
       "      <td>49</td>\n",
       "      <td>315.0</td>\n",
       "    </tr>\n",
       "    <tr>\n",
       "      <td>2</td>\n",
       "      <td>1001</td>\n",
       "      <td>10.0</td>\n",
       "      <td>65</td>\n",
       "      <td>393.0</td>\n",
       "    </tr>\n",
       "    <tr>\n",
       "      <td>3</td>\n",
       "      <td>1001</td>\n",
       "      <td>11.0</td>\n",
       "      <td>63</td>\n",
       "      <td>396.0</td>\n",
       "    </tr>\n",
       "    <tr>\n",
       "      <td>4</td>\n",
       "      <td>1001</td>\n",
       "      <td>12.0</td>\n",
       "      <td>54</td>\n",
       "      <td>358.0</td>\n",
       "    </tr>\n",
       "  </tbody>\n",
       "</table>\n",
       "</div>"
      ],
      "text/plain": [
       "   user_id  month  calls_per_month  minutes_used_per_month\n",
       "0     1001    8.0               27                   182.0\n",
       "1     1001    9.0               49                   315.0\n",
       "2     1001   10.0               65                   393.0\n",
       "3     1001   11.0               63                   396.0\n",
       "4     1001   12.0               54                   358.0"
      ]
     },
     "execution_count": 7,
     "metadata": {},
     "output_type": "execute_result"
    }
   ],
   "source": [
    "#Calls per month for surf plan\n",
    "calls_surf = calls_plan.query('plan == \"surf\"')\n",
    "calls_surf_per_user = calls_surf.pivot_table(index = ['user_id', 'month'], values = 'duration', aggfunc = ['count','sum'])\n",
    "calls_surf_per_user.columns = ['calls_per_month', 'minutes_used_per_month']\n",
    "calls_surf_per_user.reset_index(inplace = True)\n",
    "calls_surf_per_user.head()"
   ]
  },
  {
   "cell_type": "markdown",
   "metadata": {},
   "source": [
    "### Messages Per User"
   ]
  },
  {
   "cell_type": "code",
   "execution_count": 8,
   "metadata": {},
   "outputs": [
    {
     "data": {
      "text/plain": [
       "user_id         0\n",
       "first_name      0\n",
       "last_name       0\n",
       "age             0\n",
       "city            0\n",
       "reg_date        0\n",
       "plan            0\n",
       "churn_date      0\n",
       "id              0\n",
       "message_date    0\n",
       "month           0\n",
       "dtype: int64"
      ]
     },
     "execution_count": 8,
     "metadata": {},
     "output_type": "execute_result"
    }
   ],
   "source": [
    "#Merge messages table and users table\n",
    "messages_plan = users.merge(messages, on = 'user_id', how = 'outer')\n",
    "messages_plan.head()\n",
    "messages_plan.isnull().sum()\n",
    "\n",
    "messages_plan.dropna(subset = ['id'], inplace = True)\n",
    "messages_plan.isnull().sum()"
   ]
  },
  {
   "cell_type": "code",
   "execution_count": 9,
   "metadata": {},
   "outputs": [
    {
     "data": {
      "text/html": [
       "<div>\n",
       "<style scoped>\n",
       "    .dataframe tbody tr th:only-of-type {\n",
       "        vertical-align: middle;\n",
       "    }\n",
       "\n",
       "    .dataframe tbody tr th {\n",
       "        vertical-align: top;\n",
       "    }\n",
       "\n",
       "    .dataframe thead th {\n",
       "        text-align: right;\n",
       "    }\n",
       "</style>\n",
       "<table border=\"1\" class=\"dataframe\">\n",
       "  <thead>\n",
       "    <tr style=\"text-align: right;\">\n",
       "      <th></th>\n",
       "      <th>user_id</th>\n",
       "      <th>month</th>\n",
       "      <th>messages_used_per_month</th>\n",
       "    </tr>\n",
       "  </thead>\n",
       "  <tbody>\n",
       "    <tr>\n",
       "      <td>0</td>\n",
       "      <td>1000</td>\n",
       "      <td>12.0</td>\n",
       "      <td>11</td>\n",
       "    </tr>\n",
       "    <tr>\n",
       "      <td>1</td>\n",
       "      <td>1006</td>\n",
       "      <td>11.0</td>\n",
       "      <td>15</td>\n",
       "    </tr>\n",
       "    <tr>\n",
       "      <td>2</td>\n",
       "      <td>1006</td>\n",
       "      <td>12.0</td>\n",
       "      <td>89</td>\n",
       "    </tr>\n",
       "    <tr>\n",
       "      <td>3</td>\n",
       "      <td>1008</td>\n",
       "      <td>10.0</td>\n",
       "      <td>21</td>\n",
       "    </tr>\n",
       "    <tr>\n",
       "      <td>4</td>\n",
       "      <td>1008</td>\n",
       "      <td>11.0</td>\n",
       "      <td>37</td>\n",
       "    </tr>\n",
       "  </tbody>\n",
       "</table>\n",
       "</div>"
      ],
      "text/plain": [
       "   user_id  month  messages_used_per_month\n",
       "0     1000   12.0                       11\n",
       "1     1006   11.0                       15\n",
       "2     1006   12.0                       89\n",
       "3     1008   10.0                       21\n",
       "4     1008   11.0                       37"
      ]
     },
     "execution_count": 9,
     "metadata": {},
     "output_type": "execute_result"
    }
   ],
   "source": [
    "#Messages per month for ultimate plan\n",
    "messages_ultimate = messages_plan.query('plan == \"ultimate\"')\n",
    "messages_ultimate.head()\n",
    "messages_ultimate_per_user = messages_ultimate.pivot_table(index = ['user_id','month'], values = 'message_date', aggfunc = ['count'])\n",
    "messages_ultimate_per_user.columns = ['messages_used_per_month']\n",
    "messages_ultimate_per_user.reset_index(inplace = True)\n",
    "messages_ultimate_per_user.head()"
   ]
  },
  {
   "cell_type": "code",
   "execution_count": 10,
   "metadata": {},
   "outputs": [
    {
     "data": {
      "text/html": [
       "<div>\n",
       "<style scoped>\n",
       "    .dataframe tbody tr th:only-of-type {\n",
       "        vertical-align: middle;\n",
       "    }\n",
       "\n",
       "    .dataframe tbody tr th {\n",
       "        vertical-align: top;\n",
       "    }\n",
       "\n",
       "    .dataframe thead th {\n",
       "        text-align: right;\n",
       "    }\n",
       "</style>\n",
       "<table border=\"1\" class=\"dataframe\">\n",
       "  <thead>\n",
       "    <tr style=\"text-align: right;\">\n",
       "      <th></th>\n",
       "      <th>user_id</th>\n",
       "      <th>month</th>\n",
       "      <th>messages_used_per_month</th>\n",
       "    </tr>\n",
       "  </thead>\n",
       "  <tbody>\n",
       "    <tr>\n",
       "      <td>0</td>\n",
       "      <td>1001</td>\n",
       "      <td>8.0</td>\n",
       "      <td>30</td>\n",
       "    </tr>\n",
       "    <tr>\n",
       "      <td>1</td>\n",
       "      <td>1001</td>\n",
       "      <td>9.0</td>\n",
       "      <td>44</td>\n",
       "    </tr>\n",
       "    <tr>\n",
       "      <td>2</td>\n",
       "      <td>1001</td>\n",
       "      <td>10.0</td>\n",
       "      <td>53</td>\n",
       "    </tr>\n",
       "    <tr>\n",
       "      <td>3</td>\n",
       "      <td>1001</td>\n",
       "      <td>11.0</td>\n",
       "      <td>36</td>\n",
       "    </tr>\n",
       "    <tr>\n",
       "      <td>4</td>\n",
       "      <td>1001</td>\n",
       "      <td>12.0</td>\n",
       "      <td>44</td>\n",
       "    </tr>\n",
       "  </tbody>\n",
       "</table>\n",
       "</div>"
      ],
      "text/plain": [
       "   user_id  month  messages_used_per_month\n",
       "0     1001    8.0                       30\n",
       "1     1001    9.0                       44\n",
       "2     1001   10.0                       53\n",
       "3     1001   11.0                       36\n",
       "4     1001   12.0                       44"
      ]
     },
     "execution_count": 10,
     "metadata": {},
     "output_type": "execute_result"
    }
   ],
   "source": [
    "#Messages per month for surf plan\n",
    "messages_surf = messages_plan.query('plan == \"surf\"')\n",
    "messages_surf.head()\n",
    "messages_surf_per_user = messages_surf.pivot_table(index = ['user_id','month'], values = 'message_date', aggfunc = ['count'])\n",
    "messages_surf_per_user.columns = ['messages_used_per_month']\n",
    "messages_surf_per_user.reset_index(inplace = True)\n",
    "messages_surf_per_user.head()"
   ]
  },
  {
   "cell_type": "markdown",
   "metadata": {},
   "source": [
    "### Usage Per User"
   ]
  },
  {
   "cell_type": "code",
   "execution_count": 11,
   "metadata": {},
   "outputs": [
    {
     "data": {
      "text/plain": [
       "user_id         0\n",
       "first_name      0\n",
       "last_name       0\n",
       "age             0\n",
       "city            0\n",
       "reg_date        0\n",
       "plan            0\n",
       "churn_date      0\n",
       "id              0\n",
       "session_date    0\n",
       "mb_used         0\n",
       "month           0\n",
       "dtype: int64"
      ]
     },
     "execution_count": 11,
     "metadata": {},
     "output_type": "execute_result"
    }
   ],
   "source": [
    "#Merge internet table and users table\n",
    "internet_plan = users.merge(internet, on = 'user_id', how = 'outer')\n",
    "internet_plan.head()\n",
    "internet_plan.isnull().sum()\n",
    "\n",
    "internet_plan.dropna(subset = ['id'], inplace = True)\n",
    "internet_plan.isnull().sum()"
   ]
  },
  {
   "cell_type": "code",
   "execution_count": 12,
   "metadata": {},
   "outputs": [
    {
     "data": {
      "text/html": [
       "<div>\n",
       "<style scoped>\n",
       "    .dataframe tbody tr th:only-of-type {\n",
       "        vertical-align: middle;\n",
       "    }\n",
       "\n",
       "    .dataframe tbody tr th {\n",
       "        vertical-align: top;\n",
       "    }\n",
       "\n",
       "    .dataframe thead th {\n",
       "        text-align: right;\n",
       "    }\n",
       "</style>\n",
       "<table border=\"1\" class=\"dataframe\">\n",
       "  <thead>\n",
       "    <tr style=\"text-align: right;\">\n",
       "      <th></th>\n",
       "      <th>user_id</th>\n",
       "      <th>month</th>\n",
       "      <th>mb_used_per_month</th>\n",
       "      <th>gb_used_per_month</th>\n",
       "    </tr>\n",
       "  </thead>\n",
       "  <tbody>\n",
       "    <tr>\n",
       "      <td>0</td>\n",
       "      <td>1000</td>\n",
       "      <td>12.0</td>\n",
       "      <td>1903.0</td>\n",
       "      <td>2.0</td>\n",
       "    </tr>\n",
       "    <tr>\n",
       "      <td>1</td>\n",
       "      <td>1006</td>\n",
       "      <td>11.0</td>\n",
       "      <td>2072.0</td>\n",
       "      <td>3.0</td>\n",
       "    </tr>\n",
       "    <tr>\n",
       "      <td>2</td>\n",
       "      <td>1006</td>\n",
       "      <td>12.0</td>\n",
       "      <td>17720.0</td>\n",
       "      <td>18.0</td>\n",
       "    </tr>\n",
       "    <tr>\n",
       "      <td>3</td>\n",
       "      <td>1008</td>\n",
       "      <td>10.0</td>\n",
       "      <td>17131.0</td>\n",
       "      <td>17.0</td>\n",
       "    </tr>\n",
       "    <tr>\n",
       "      <td>4</td>\n",
       "      <td>1008</td>\n",
       "      <td>11.0</td>\n",
       "      <td>23706.0</td>\n",
       "      <td>24.0</td>\n",
       "    </tr>\n",
       "  </tbody>\n",
       "</table>\n",
       "</div>"
      ],
      "text/plain": [
       "   user_id  month  mb_used_per_month  gb_used_per_month\n",
       "0     1000   12.0             1903.0                2.0\n",
       "1     1006   11.0             2072.0                3.0\n",
       "2     1006   12.0            17720.0               18.0\n",
       "3     1008   10.0            17131.0               17.0\n",
       "4     1008   11.0            23706.0               24.0"
      ]
     },
     "execution_count": 12,
     "metadata": {},
     "output_type": "execute_result"
    }
   ],
   "source": [
    "#Internet usage per month for ultimate plan\n",
    "internet_ultimate = internet_plan.query('plan == \"ultimate\"')\n",
    "internet_ultimate_per_user = internet_ultimate.pivot_table(index = ['user_id','month'], values = 'mb_used', aggfunc = ['sum'])\n",
    "internet_ultimate_per_user.columns = ['mb_used_per_month']\n",
    "internet_ultimate_per_user.reset_index(inplace = True)\n",
    "\n",
    "#Add gb per month to table\n",
    "internet_ultimate_per_user['gb_used_per_month'] = np.ceil(internet_ultimate_per_user['mb_used_per_month'] / 1024)\n",
    "internet_ultimate_per_user.head()"
   ]
  },
  {
   "cell_type": "code",
   "execution_count": 13,
   "metadata": {},
   "outputs": [
    {
     "data": {
      "text/html": [
       "<div>\n",
       "<style scoped>\n",
       "    .dataframe tbody tr th:only-of-type {\n",
       "        vertical-align: middle;\n",
       "    }\n",
       "\n",
       "    .dataframe tbody tr th {\n",
       "        vertical-align: top;\n",
       "    }\n",
       "\n",
       "    .dataframe thead th {\n",
       "        text-align: right;\n",
       "    }\n",
       "</style>\n",
       "<table border=\"1\" class=\"dataframe\">\n",
       "  <thead>\n",
       "    <tr style=\"text-align: right;\">\n",
       "      <th></th>\n",
       "      <th>user_id</th>\n",
       "      <th>month</th>\n",
       "      <th>mb_used_per_month</th>\n",
       "      <th>gb_used_per_month</th>\n",
       "    </tr>\n",
       "  </thead>\n",
       "  <tbody>\n",
       "    <tr>\n",
       "      <td>0</td>\n",
       "      <td>1001</td>\n",
       "      <td>8.0</td>\n",
       "      <td>6929.0</td>\n",
       "      <td>7.0</td>\n",
       "    </tr>\n",
       "    <tr>\n",
       "      <td>1</td>\n",
       "      <td>1001</td>\n",
       "      <td>9.0</td>\n",
       "      <td>13333.0</td>\n",
       "      <td>14.0</td>\n",
       "    </tr>\n",
       "    <tr>\n",
       "      <td>2</td>\n",
       "      <td>1001</td>\n",
       "      <td>10.0</td>\n",
       "      <td>22356.0</td>\n",
       "      <td>22.0</td>\n",
       "    </tr>\n",
       "    <tr>\n",
       "      <td>3</td>\n",
       "      <td>1001</td>\n",
       "      <td>11.0</td>\n",
       "      <td>18524.0</td>\n",
       "      <td>19.0</td>\n",
       "    </tr>\n",
       "    <tr>\n",
       "      <td>4</td>\n",
       "      <td>1001</td>\n",
       "      <td>12.0</td>\n",
       "      <td>19398.0</td>\n",
       "      <td>19.0</td>\n",
       "    </tr>\n",
       "  </tbody>\n",
       "</table>\n",
       "</div>"
      ],
      "text/plain": [
       "   user_id  month  mb_used_per_month  gb_used_per_month\n",
       "0     1001    8.0             6929.0                7.0\n",
       "1     1001    9.0            13333.0               14.0\n",
       "2     1001   10.0            22356.0               22.0\n",
       "3     1001   11.0            18524.0               19.0\n",
       "4     1001   12.0            19398.0               19.0"
      ]
     },
     "execution_count": 13,
     "metadata": {},
     "output_type": "execute_result"
    }
   ],
   "source": [
    "#Internet usage per month for surf plan\n",
    "internet_surf = internet_plan.query('plan == \"surf\"')\n",
    "internet_surf_per_user = internet_surf.pivot_table(index = ['user_id','month'], values = 'mb_used', aggfunc = ['sum'])\n",
    "internet_surf_per_user.columns = ['mb_used_per_month']\n",
    "internet_surf_per_user.reset_index(inplace = True)\n",
    "\n",
    "#Add gb per month to table\n",
    "internet_surf_per_user['gb_used_per_month'] = np.ceil(internet_surf_per_user['mb_used_per_month'] / 1024)\n",
    "internet_surf_per_user.head()"
   ]
  },
  {
   "cell_type": "markdown",
   "metadata": {},
   "source": [
    "We seperated the data based on which plan the user is paying for. Both surf and ultimate plan has a pivot table that counts the calls per month and sums up the minutes/messages/internet usage per month."
   ]
  },
  {
   "cell_type": "markdown",
   "metadata": {},
   "source": [
    "### Revenue Per User"
   ]
  },
  {
   "cell_type": "code",
   "execution_count": 14,
   "metadata": {},
   "outputs": [
    {
     "name": "stdout",
     "output_type": "stream",
     "text": [
      "<class 'pandas.core.frame.DataFrame'>\n",
      "Int64Index: 569 entries, 0 to 573\n",
      "Data columns (total 8 columns):\n",
      "user_id                    569 non-null int64\n",
      "month                      569 non-null float64\n",
      "messages_used_per_month    569 non-null float64\n",
      "calls_per_month            569 non-null float64\n",
      "minutes_used_per_month     569 non-null float64\n",
      "mb_used_per_month          569 non-null float64\n",
      "gb_used_per_month          569 non-null float64\n",
      "monthly_cost               569 non-null float64\n",
      "dtypes: float64(7), int64(1)\n",
      "memory usage: 40.0 KB\n"
     ]
    }
   ],
   "source": [
    "#Pivot table for ultimate plan\n",
    "ultimate = messages_ultimate_per_user.merge(calls_ultimate_per_user, on = ['user_id', 'month'], how = 'outer')\n",
    "ultimate.head()\n",
    "ultimate_plan = ultimate.merge(internet_ultimate_per_user, on = ['user_id', 'month'], how = 'outer')\n",
    "ultimate_plan.isnull().sum()\n",
    "\n",
    "ultimate_plan.dropna(inplace = True)\n",
    "ultimate_plan.isnull().sum()\n",
    "\n",
    "# Monthly profit per user for ultimate plan\n",
    "def profit(row):\n",
    "    user_id = row['user_id']\n",
    "    gb_used = row['gb_used_per_month']\n",
    "    messages_used = row['messages_used_per_month']\n",
    "    minutes_used = row['minutes_used_per_month']\n",
    "\n",
    "    remaining_gb = gb_used - 30\n",
    "    remaining_messages = messages_used - 1000\n",
    "    remaining_minutes = minutes_used - 3000\n",
    "    \n",
    "    data_cost = 0\n",
    "    message_cost = 0\n",
    "    minute_cost = 0\n",
    "    \n",
    "    if remaining_gb > 0:\n",
    "        data_cost = remaining_gb * 7\n",
    "        \n",
    "    if remaining_messages > 0:\n",
    "        message_cost = remaining_messages * 0.01\n",
    "        \n",
    "    if remaining_minutes > 0:\n",
    "        minute_cost = remaining_minutes * 0.01\n",
    "        \n",
    "    profit = data_cost + message_cost + minute_cost + 70\n",
    "    \n",
    "    return profit\n",
    "\n",
    "ultimate_plan['monthly_cost'] = ultimate_plan.apply(profit, axis = 1)\n",
    "ultimate_plan.head()\n",
    "ultimate_plan.info()"
   ]
  },
  {
   "cell_type": "code",
   "execution_count": 15,
   "metadata": {},
   "outputs": [
    {
     "name": "stdout",
     "output_type": "stream",
     "text": [
      "<class 'pandas.core.frame.DataFrame'>\n",
      "Int64Index: 1161 entries, 0 to 1202\n",
      "Data columns (total 8 columns):\n",
      "user_id                    1161 non-null int64\n",
      "month                      1161 non-null float64\n",
      "messages_used_per_month    1161 non-null float64\n",
      "calls_per_month            1161 non-null float64\n",
      "minutes_used_per_month     1161 non-null float64\n",
      "mb_used_per_month          1161 non-null float64\n",
      "gb_used_per_month          1161 non-null float64\n",
      "monthly_cost               1161 non-null float64\n",
      "dtypes: float64(7), int64(1)\n",
      "memory usage: 81.6 KB\n"
     ]
    }
   ],
   "source": [
    "#Pivot table for surf plan\n",
    "surf = messages_surf_per_user.merge(calls_surf_per_user, on = ['user_id', 'month'], how = 'outer')\n",
    "\n",
    "surf_plan = surf.merge(internet_surf_per_user, on = ['user_id', 'month'], how = 'outer')\n",
    "surf_plan.isnull().sum()\n",
    "\n",
    "surf_plan.dropna(inplace = True)\n",
    "surf_plan.isnull().sum()\n",
    "surf_plan.head()\n",
    "\n",
    "#Monthly profit per user for surf plan\n",
    "def profit(row):\n",
    "    user_id = row['user_id']\n",
    "    gb_used = row['gb_used_per_month']\n",
    "    messages_used = row['messages_used_per_month']\n",
    "    minutes_used = row['minutes_used_per_month']\n",
    "\n",
    "    remaining_gb = gb_used - 15\n",
    "    remaining_messages = messages_used - 50\n",
    "    remaining_minutes = minutes_used - 500\n",
    "    \n",
    "    data_cost = 0\n",
    "    message_cost = 0\n",
    "    minute_cost = 0\n",
    "    \n",
    "    if remaining_gb > 0:\n",
    "        data_cost = remaining_gb * 10\n",
    "        \n",
    "    if remaining_messages > 0:\n",
    "        message_cost = remaining_messages * 0.03\n",
    "        \n",
    "    if remaining_minutes > 0:\n",
    "        minute_cost = remaining_minutes * 0.03\n",
    "        \n",
    "    profit = data_cost + message_cost + minute_cost + 20\n",
    "    \n",
    "    return profit\n",
    "\n",
    "surf_plan['monthly_cost'] = surf_plan.apply(profit, axis = 1)\n",
    "surf_plan.head()\n",
    "surf_plan.info()"
   ]
  },
  {
   "cell_type": "markdown",
   "metadata": {},
   "source": [
    "We combined all pivot table for calls/messages/internet together to find the revenue per plan.\n",
    "\n",
    "To find the revenue per month for both plans we made a function for profit. We calculated the monthly cost bysubtracting the package limit from the total number of minutes/calls/data used per month. If the remaining calls/minutes/data is greater than zero, multiply the result by the calling plan value and add the monthly charge. "
   ]
  },
  {
   "cell_type": "markdown",
   "metadata": {},
   "source": [
    "## Analyze the Data"
   ]
  },
  {
   "cell_type": "markdown",
   "metadata": {},
   "source": [
    "### Calculate mean, variance, and standard deviation"
   ]
  },
  {
   "cell_type": "code",
   "execution_count": 16,
   "metadata": {},
   "outputs": [
    {
     "name": "stdout",
     "output_type": "stream",
     "text": [
      "Surf Plan:\n",
      "Minutes Used: Mean = 434.97 Variance = 53920.3 Standard Deviation = 232.21\n",
      "Messages Used: Mean = 39.12 Variance = 1044.77 Standard Deviation = 32.32\n",
      "GB Used: Mean = 16.48 Variance = 54.95 Standard Deviation = 7.41\n",
      "\n",
      "Ultimate Plan:\n",
      "Minutes Used: Mean = 431.91 Variance = 60901.03 Standard Deviation = 246.78\n",
      "Messages Used: Mean = 46.55 Variance = 1077.97 Standard Deviation = 32.83\n",
      "GB Used: Mean = 17.09 Variance = 53.52 Standard Deviation = 7.32\n"
     ]
    }
   ],
   "source": [
    "#Surf plan mean, variance, standard deviation\n",
    "\n",
    "surf_mean_minutes = surf_plan['minutes_used_per_month'].mean().round(decimals = 2)\n",
    "surf_variance_minutes = np.var(surf_plan['minutes_used_per_month']).round(decimals = 2)\n",
    "surf_standard_deviation_minutes = np.std(surf_plan['minutes_used_per_month']).round(decimals = 2)\n",
    "\n",
    "print('Surf Plan:')\n",
    "print('Minutes Used:', 'Mean =', surf_mean_minutes, 'Variance =', surf_variance_minutes, 'Standard Deviation =', surf_standard_deviation_minutes)\n",
    "\n",
    "surf_mean_messages = surf_plan['messages_used_per_month'].mean().round(decimals = 2)\n",
    "surf_variance_messages = np.var(surf_plan['messages_used_per_month']).round(decimals = 2)\n",
    "surf_standard_deviation_messages = np.std(surf_plan['messages_used_per_month']).round(decimals = 2)\n",
    "\n",
    "print('Messages Used:', 'Mean =', surf_mean_messages, 'Variance =', surf_variance_messages, 'Standard Deviation =', surf_standard_deviation_messages)\n",
    "\n",
    "surf_mean_gb = surf_plan['gb_used_per_month'].mean().round(decimals = 2)\n",
    "surf_variance_gb = np.var(surf_plan['gb_used_per_month']).round(decimals = 2)\n",
    "surf_standard_deviation_gb = np.std(surf_plan['gb_used_per_month']).round(decimals = 2)\n",
    "\n",
    "print('GB Used:', 'Mean =', surf_mean_gb, 'Variance =', surf_variance_gb, 'Standard Deviation =', surf_standard_deviation_gb)\n",
    "print()\n",
    "\n",
    "#Ultimate plan mean, variance, standard deviation\n",
    "\n",
    "ultimate_mean_minutes = ultimate_plan['minutes_used_per_month'].mean().round(decimals = 2)\n",
    "ultimate_variance_minutes = np.var(ultimate_plan['minutes_used_per_month']).round(decimals = 2)\n",
    "ultimate_standard_deviation_minutes = np.std(ultimate_plan['minutes_used_per_month']).round(decimals = 2)\n",
    "\n",
    "print('Ultimate Plan:')\n",
    "print('Minutes Used:', 'Mean =', ultimate_mean_minutes, 'Variance =', ultimate_variance_minutes, 'Standard Deviation =', ultimate_standard_deviation_minutes)\n",
    "\n",
    "ultimate_mean_messages = ultimate_plan['messages_used_per_month'].mean().round(decimals = 2)\n",
    "ultimate_variance_messages = np.var(ultimate_plan['messages_used_per_month']).round(decimals = 2)\n",
    "ultimate_standard_deviation_messages = np.std(ultimate_plan['messages_used_per_month']).round(decimals = 2)\n",
    "\n",
    "print('Messages Used:', 'Mean =', ultimate_mean_messages, 'Variance =', ultimate_variance_messages, 'Standard Deviation =', ultimate_standard_deviation_messages)\n",
    "\n",
    "ultimate_mean_gb = ultimate_plan['gb_used_per_month'].mean().round(decimals = 2)\n",
    "ultimate_variance_gb = np.var(ultimate_plan['gb_used_per_month']).round(decimals = 2)\n",
    "ultimate_standard_deviation_gb = np.std(ultimate_plan['gb_used_per_month']).round(decimals = 2)\n",
    "\n",
    "print('GB Used:', 'Mean =', ultimate_mean_gb, 'Variance =', ultimate_variance_gb, 'Standard Deviation =', ultimate_standard_deviation_gb)\n"
   ]
  },
  {
   "cell_type": "markdown",
   "metadata": {},
   "source": [
    "To analyze the data we found the mean, variance, and standard deviation of minutes/messages/gb used per month for both the ultimate and surf plans. The mean value is the average of minutes/messages/gb/ used per month for users. The variance is the dispersion of the data. The standard deviation is the dispursment of data relative to the mean. The mean, variance, and standard deviation for minutes/messages/gb used per month are close in value with both plans."
   ]
  },
  {
   "cell_type": "markdown",
   "metadata": {},
   "source": [
    "### Plot Histograms"
   ]
  },
  {
   "cell_type": "code",
   "execution_count": 17,
   "metadata": {},
   "outputs": [
    {
     "data": {
      "text/plain": [
       "user_id                     1236.0\n",
       "month                         10.0\n",
       "messages_used_per_month       35.0\n",
       "calls_per_month               59.0\n",
       "minutes_used_per_month       405.5\n",
       "mb_used_per_month          16039.0\n",
       "gb_used_per_month             16.0\n",
       "monthly_cost                  70.0\n",
       "dtype: float64"
      ]
     },
     "metadata": {},
     "output_type": "display_data"
    },
    {
     "data": {
      "text/plain": [
       "user_id                     1245.00\n",
       "month                         10.00\n",
       "messages_used_per_month       30.00\n",
       "calls_per_month               58.00\n",
       "minutes_used_per_month       410.00\n",
       "mb_used_per_month          16318.00\n",
       "gb_used_per_month             16.00\n",
       "monthly_cost                  37.35\n",
       "dtype: float64"
      ]
     },
     "metadata": {},
     "output_type": "display_data"
    },
    {
     "data": {
      "image/png": "[encoded data removed]",
      "text/plain": [
       "<Figure size 432x288 with 1 Axes>"
      ]
     },
     "metadata": {
      "needs_background": "light"
     },
     "output_type": "display_data"
    },
    {
     "data": {
      "image/png": "[encoded data removed]",
      "text/plain": [
       "<Figure size 432x288 with 1 Axes>"
      ]
     },
     "metadata": {
      "needs_background": "light"
     },
     "output_type": "display_data"
    },
    {
     "data": {
      "image/png": "[encoded data removed]",
      "text/plain": [
       "<Figure size 432x288 with 1 Axes>"
      ]
     },
     "metadata": {
      "needs_background": "light"
     },
     "output_type": "display_data"
    },
    {
     "data": {
      "image/png": "[encoded data removed]",
      "text/plain": [
       "<Figure size 432x288 with 1 Axes>"
      ]
     },
     "metadata": {
      "needs_background": "light"
     },
     "output_type": "display_data"
    }
   ],
   "source": [
    "#Plot boxplots to find outliers\n",
    "surf_plan.boxplot(column = ['minutes_used_per_month', 'messages_used_per_month', 'gb_used_per_month'])\n",
    "ultimate_plan.boxplot(column = ['minutes_used_per_month','messages_used_per_month', 'gb_used_per_month'])\n",
    "\n",
    "#Drop outliers\n",
    "surf_plan.drop(surf_plan.index[(surf_plan['minutes_used_per_month'] > 1000)], inplace = True)\n",
    "ultimate_plan.drop(ultimate_plan.index[(ultimate_plan['minutes_used_per_month'] > 1000)], inplace = True)\n",
    "\n",
    "surf_plan.drop(surf_plan.index[(surf_plan['messages_used_per_month'] > 100)], inplace = True)\n",
    "ultimate_plan.drop(ultimate_plan.index[(ultimate_plan['messages_used_per_month'] > 100)], inplace = True)\n",
    "\n",
    "surf_plan.drop(surf_plan.index[(surf_plan['gb_used_per_month'] > 30)], inplace = True)\n",
    "ultimate_plan.drop(ultimate_plan.index[(ultimate_plan['gb_used_per_month'] > 30)], inplace = True)\n",
    "\n",
    "#Average minutes per month per plan\n",
    "plt.figure()\n",
    "plt.hist(surf_plan['minutes_used_per_month'], bins = 50, alpha = 0.5, label = 'surf')\n",
    "plt.hist(ultimate_plan['minutes_used_per_month'], bins = 50, alpha = 0.5, label = 'ultimate')\n",
    "plt.xlabel('Average Minutes Used')\n",
    "plt.ylabel('Number of Users')\n",
    "plt.title('Ultimate vs Surf: Average Minutes Per Month')\n",
    "plt.legend()\n",
    "\n",
    "#Average messages per month per plan\n",
    "plt.figure()\n",
    "plt.hist(surf_plan['messages_used_per_month'], bins = 50, alpha = 0.5, label = 'surf')\n",
    "plt.hist(ultimate_plan['messages_used_per_month'], bins = 50, alpha = 0.5, label = 'ultimate')\n",
    "plt.xlabel('Average Messages Used')\n",
    "plt.ylabel('Number of Users')\n",
    "plt.title('Ultimate vs Surf: Average Messages Per Month')\n",
    "plt.legend()\n",
    "\n",
    "#Average gigabytes per month per plan\n",
    "plt.figure()\n",
    "plt.hist(surf_plan['gb_used_per_month'], bins = 30, alpha = 0.5, label = 'surf')\n",
    "plt.hist(ultimate_plan['gb_used_per_month'], bins = 30, alpha = 0.5, label = 'ultimate')\n",
    "plt.xlabel('Average GB Used')\n",
    "plt.ylabel('Number of Users')\n",
    "plt.title('Ultimate vs Surf: Average GB Per Month')\n",
    "plt.legend()\n",
    "\n",
    "display(ultimate_plan.median())\n",
    "display(surf_plan.median())"
   ]
  },
  {
   "cell_type": "markdown",
   "metadata": {},
   "source": [
    "We created histograms for the average minutes, messages, and gigabytes and compared the data for both plans.\n",
    "\n",
    "Average Minutes per Month:\n",
    "Both plans are positive skewed. The surf plan peaks right around 350 where as, the ultimate plan peaks at about 450. The ultimate plan's peak is right about where the mean is located. The ultimate plan reaches a low point at about 700 minutes. The surf plan declines drastically around 625.\n",
    "\n",
    "Average Messages per Month:\n",
    "Both graphs are positive skewed. the most common value of surf plan is at 5 messages per month and the ultimate plan is at 30. Based on the graph surf plan users send few messages per month on average than ultimate users.\n",
    "\n",
    "Average GB per Month:\n",
    "Both graphs are positive skewed. The highest number of users for both plans used between 13 and 22 gigabytes. The highest point of both graphs is around 17 gigabytes. The lowest point for ultimate users is at 28 gigabytes. The lowest point for surf users is at 6 gigabytes."
   ]
  },
  {
   "cell_type": "markdown",
   "metadata": {},
   "source": [
    "## Test the Hypotheses"
   ]
  },
  {
   "cell_type": "markdown",
   "metadata": {},
   "source": [
    "### Compare Average Profit for Both Plans"
   ]
  },
  {
   "cell_type": "code",
   "execution_count": 18,
   "metadata": {},
   "outputs": [
    {
     "name": "stdout",
     "output_type": "stream",
     "text": [
      "The average monthly profit of ultimate plan is: 70.0\n",
      "The average monthly profit of surf plan is: 50.55367269267364\n",
      "p-value:  1.0463667021377375e-57\n",
      "We reject the null hypothesis\n"
     ]
    }
   ],
   "source": [
    "#Find average profit from filtered ultimate plan\n",
    "print(\"The average monthly profit of ultimate plan is:\", ultimate_plan['monthly_cost'].mean())\n",
    "\n",
    "\n",
    "#Find average profit from filtered surf plan\n",
    "print(\"The average monthly profit of surf plan is:\", surf_plan['monthly_cost'].mean())\n",
    "\n",
    "#Perform a t-test\n",
    "alpha = 0.05\n",
    "results = st.ttest_ind(ultimate_plan['monthly_cost'], surf_plan['monthly_cost'], equal_var = False)\n",
    "print('p-value: ', results.pvalue)\n",
    "\n",
    "if results.pvalue < alpha:\n",
    "    print('We reject the null hypothesis')\n",
    "else:\n",
    "    print(\"We can't reject the null hypothesis\")"
   ]
  },
  {
   "cell_type": "markdown",
   "metadata": {},
   "source": [
    "We want to test the hypotheses that the average revenue from users of ultimate and surf calling plans differs. By filtering outliers, the data is normally distributes so we can use the t-test to compare the average profit for both plans.\n",
    "\n",
    "The null hypothesis H0 is, the average profit from users of ultimate plan does not differ from the average profit from users of surf plan. The alternative hypothesis is, the average profit from users of ultimate does differ from the average profit from users of surf.\n",
    "\n",
    "The value obtained from the p-value states that we can reject the null hypothesis. The average profit from users of ultimate does differ from the average profit for users of surf."
   ]
  },
  {
   "cell_type": "markdown",
   "metadata": {},
   "source": [
    "### Compare Average Revenue from Users in NY-NJ Area to Other Users"
   ]
  },
  {
   "cell_type": "code",
   "execution_count": 19,
   "metadata": {},
   "outputs": [
    {
     "name": "stdout",
     "output_type": "stream",
     "text": [
      "51.89334630350194\n",
      "57.76381395348838\n",
      "p-value:  0.0061037235315793865\n",
      "We reject the null hypothesis\n"
     ]
    }
   ],
   "source": [
    "#Merge both plans\n",
    "both_plans = ultimate_plan.append(surf_plan)\n",
    "\n",
    "#Filter out users from NY-NJ\n",
    "NYNJ = users[users['city'].str.contains('NY-NJ')]\n",
    "users_NYNJ = NYNJ['user_id']\n",
    "filtered_NYNJ_users = both_plans.query('user_id in @users_NYNJ')\n",
    "filtered_NYNJ_users.head()\n",
    "\n",
    "#Average profit of NY-NJ users\n",
    "average_profit_NYNJ = filtered_NYNJ_users['monthly_cost'].mean()\n",
    "print(average_profit_NYNJ)\n",
    "\n",
    "#Filter out non NY-NJ users\n",
    "non_NYNJ = users[~users['city'].str.contains('NY-NJ')]\n",
    "non_users_NYNJ = non_NYNJ['user_id']\n",
    "filtered_non_NYNJ_users = both_plans.query('user_id in @non_users_NYNJ')\n",
    "filtered_non_NYNJ_users.head()\n",
    "\n",
    "#Average profit of NY-NJ users\n",
    "average_profit_non_NYNJ = filtered_non_NYNJ_users['monthly_cost'].mean()\n",
    "print(average_profit_non_NYNJ)\n",
    "\n",
    "#Perform a t-test\n",
    "alpha = 0.05\n",
    "results = st.ttest_ind(filtered_NYNJ_users['monthly_cost'], filtered_non_NYNJ_users['monthly_cost'], equal_var = False)\n",
    "print('p-value: ', results.pvalue)\n",
    "\n",
    "if results.pvalue < alpha:\n",
    "    print('We reject the null hypothesis')\n",
    "else:\n",
    "    print(\"We can't reject the null hypothesis\")"
   ]
  },
  {
   "cell_type": "markdown",
   "metadata": {},
   "source": [
    "We compared the average revenue from users in New York and New Jersey area to other users. We did this again by using a individual t-tests.\n",
    "\n",
    "The null hypothesis H0: The average profit from users in the New York and New Jersey does not differ from the average profit from other users. The alternate hypothesis is the average profit from users in New York and New Jersey differ from the average profit from other users.\n",
    "\n",
    "We found that we can reject the null hypothesis. The average profit from users in New York and New Jersey does not differ from the average profit from other users."
   ]
  },
  {
   "cell_type": "markdown",
   "metadata": {},
   "source": [
    "## Overall Conclusion"
   ]
  },
  {
   "cell_type": "markdown",
   "metadata": {},
   "source": [
    "The only missing data was from the 'churn_date' (the date the user left the company) in the 'users' table. The data was missing because the user was still active with the company. We replace missing values with the date December, 31th 2018. Errors in dates that were posted after the churn date and outliers were removed from the data. \n",
    "\n",
    "We used t-test to find if the average profit per month differs from plan to plan. The data suggested that the plans do differ.\n",
    "\n",
    "Findings from the data suggest that more profit is made from the ultimate plan. The average monthly profit of the ultimate plan is 70.58 and the average monthly profit of the surf plan is 55.07. Based on this knowledge Megaline should adjust advertise such that the ultimate plan gets more advertisement. "
   ]
  },
  {
   "cell_type": "code",
   "execution_count": null,
   "metadata": {},
   "outputs": [],
   "source": []
  }
 ],
 "metadata": {
  "ExecuteTimeLog": [
   {
    "duration": 1596,
    "start_time": "2021-07-29T12:11:57.637Z"
   },
   {
    "duration": 1379,
    "start_time": "2021-07-29T12:35:29.278Z"
   },
   {
    "duration": 264,
    "start_time": "2021-07-29T12:35:30.659Z"
   },
   {
    "duration": 27186,
    "start_time": "2021-07-29T12:35:30.925Z"
   },
   {
    "duration": 179,
    "start_time": "2021-07-29T12:35:58.113Z"
   },
   {
    "duration": 40,
    "start_time": "2021-07-29T12:35:58.293Z"
   },
   {
    "duration": 58,
    "start_time": "2021-07-29T12:35:58.334Z"
   },
   {
    "duration": 106,
    "start_time": "2021-07-29T12:35:58.394Z"
   },
   {
    "duration": 27,
    "start_time": "2021-07-29T12:35:58.502Z"
   },
   {
    "duration": 29,
    "start_time": "2021-07-29T12:35:58.531Z"
   },
   {
    "duration": 162,
    "start_time": "2021-07-29T12:35:58.562Z"
   },
   {
    "duration": 26,
    "start_time": "2021-07-29T12:35:58.726Z"
   },
   {
    "duration": 43,
    "start_time": "2021-07-29T12:35:58.753Z"
   },
   {
    "duration": 41,
    "start_time": "2021-07-29T12:35:58.797Z"
   },
   {
    "duration": 71,
    "start_time": "2021-07-29T12:35:58.840Z"
   },
   {
    "duration": 16,
    "start_time": "2021-07-29T12:35:58.912Z"
   },
   {
    "duration": 1047,
    "start_time": "2021-07-29T12:35:58.930Z"
   },
   {
    "duration": 17,
    "start_time": "2021-07-29T12:35:59.978Z"
   },
   {
    "duration": 19,
    "start_time": "2021-07-29T12:35:59.997Z"
   },
   {
    "duration": 2639,
    "start_time": "2021-07-30T09:43:17.287Z"
   },
   {
    "duration": 600,
    "start_time": "2021-07-30T09:43:19.930Z"
   },
   {
    "duration": 63509,
    "start_time": "2021-07-30T09:43:20.534Z"
   },
   {
    "duration": 385,
    "start_time": "2021-07-30T09:44:24.047Z"
   },
   {
    "duration": 96,
    "start_time": "2021-07-30T09:44:24.435Z"
   },
   {
    "duration": 121,
    "start_time": "2021-07-30T09:44:24.534Z"
   },
   {
    "duration": 216,
    "start_time": "2021-07-30T09:44:24.659Z"
   },
   {
    "duration": 69,
    "start_time": "2021-07-30T09:44:24.881Z"
   },
   {
    "duration": 77,
    "start_time": "2021-07-30T09:44:24.954Z"
   },
   {
    "duration": 296,
    "start_time": "2021-07-30T09:44:25.034Z"
   },
   {
    "duration": 74,
    "start_time": "2021-07-30T09:44:25.333Z"
   },
   {
    "duration": 71,
    "start_time": "2021-07-30T09:44:25.410Z"
   },
   {
    "duration": 139,
    "start_time": "2021-07-30T09:44:25.500Z"
   },
   {
    "duration": 198,
    "start_time": "2021-07-30T09:44:25.642Z"
   },
   {
    "duration": 63,
    "start_time": "2021-07-30T09:44:25.844Z"
   },
   {
    "duration": 2303,
    "start_time": "2021-07-30T09:44:25.910Z"
   },
   {
    "duration": 17,
    "start_time": "2021-07-30T09:44:28.216Z"
   },
   {
    "duration": 31,
    "start_time": "2021-07-30T09:44:28.236Z"
   },
   {
    "duration": 1788,
    "start_time": "2021-07-30T13:08:26.993Z"
   },
   {
    "duration": 362,
    "start_time": "2021-07-30T13:08:28.784Z"
   },
   {
    "duration": 44320,
    "start_time": "2021-07-30T13:08:29.156Z"
   },
   {
    "duration": -1239,
    "start_time": "2021-07-30T13:09:14.719Z"
   },
   {
    "duration": -1258,
    "start_time": "2021-07-30T13:09:14.739Z"
   },
   {
    "duration": -1381,
    "start_time": "2021-07-30T13:09:14.864Z"
   },
   {
    "duration": -1397,
    "start_time": "2021-07-30T13:09:14.881Z"
   },
   {
    "duration": -1405,
    "start_time": "2021-07-30T13:09:14.891Z"
   },
   {
    "duration": -1414,
    "start_time": "2021-07-30T13:09:14.901Z"
   },
   {
    "duration": -1420,
    "start_time": "2021-07-30T13:09:14.909Z"
   },
   {
    "duration": -1427,
    "start_time": "2021-07-30T13:09:14.918Z"
   },
   {
    "duration": -1431,
    "start_time": "2021-07-30T13:09:14.923Z"
   },
   {
    "duration": -1436,
    "start_time": "2021-07-30T13:09:14.929Z"
   },
   {
    "duration": -1440,
    "start_time": "2021-07-30T13:09:14.935Z"
   },
   {
    "duration": -1444,
    "start_time": "2021-07-30T13:09:14.941Z"
   },
   {
    "duration": -1448,
    "start_time": "2021-07-30T13:09:14.946Z"
   },
   {
    "duration": -1450,
    "start_time": "2021-07-30T13:09:14.950Z"
   },
   {
    "duration": -1452,
    "start_time": "2021-07-30T13:09:14.953Z"
   },
   {
    "duration": 44561,
    "start_time": "2021-07-30T13:12:23.063Z"
   },
   {
    "duration": 45030,
    "start_time": "2021-07-30T13:14:28.581Z"
   },
   {
    "duration": 686,
    "start_time": "2021-07-30T13:15:58.429Z"
   },
   {
    "duration": 731,
    "start_time": "2021-07-30T13:16:53.245Z"
   },
   {
    "duration": 734,
    "start_time": "2021-07-30T13:16:58.065Z"
   },
   {
    "duration": 1824,
    "start_time": "2021-07-30T13:17:17.653Z"
   },
   {
    "duration": 375,
    "start_time": "2021-07-30T13:17:19.480Z"
   },
   {
    "duration": 45098,
    "start_time": "2021-07-30T13:17:19.858Z"
   },
   {
    "duration": 494,
    "start_time": "2021-07-30T13:18:04.960Z"
   },
   {
    "duration": -1251,
    "start_time": "2021-07-30T13:18:06.709Z"
   },
   {
    "duration": -1259,
    "start_time": "2021-07-30T13:18:06.718Z"
   },
   {
    "duration": -1485,
    "start_time": "2021-07-30T13:18:06.945Z"
   },
   {
    "duration": -1502,
    "start_time": "2021-07-30T13:18:06.964Z"
   },
   {
    "duration": -1510,
    "start_time": "2021-07-30T13:18:06.973Z"
   },
   {
    "duration": -1517,
    "start_time": "2021-07-30T13:18:06.982Z"
   },
   {
    "duration": -1527,
    "start_time": "2021-07-30T13:18:06.993Z"
   },
   {
    "duration": -1533,
    "start_time": "2021-07-30T13:18:07.001Z"
   },
   {
    "duration": -1541,
    "start_time": "2021-07-30T13:18:07.010Z"
   },
   {
    "duration": -1548,
    "start_time": "2021-07-30T13:18:07.018Z"
   },
   {
    "duration": -1556,
    "start_time": "2021-07-30T13:18:07.028Z"
   },
   {
    "duration": -1565,
    "start_time": "2021-07-30T13:18:07.038Z"
   },
   {
    "duration": -1572,
    "start_time": "2021-07-30T13:18:07.047Z"
   },
   {
    "duration": -1579,
    "start_time": "2021-07-30T13:18:07.055Z"
   },
   {
    "duration": -1596,
    "start_time": "2021-07-30T13:18:07.073Z"
   },
   {
    "duration": 19938,
    "start_time": "2021-07-30T13:18:15.801Z"
   },
   {
    "duration": 20348,
    "start_time": "2021-07-30T13:20:04.630Z"
   },
   {
    "duration": 279,
    "start_time": "2021-07-30T13:27:24.621Z"
   },
   {
    "duration": 367,
    "start_time": "2021-07-30T13:27:53.031Z"
   },
   {
    "duration": 399,
    "start_time": "2021-07-30T13:30:36.980Z"
   },
   {
    "duration": 609,
    "start_time": "2021-07-30T13:30:46.251Z"
   },
   {
    "duration": 4010,
    "start_time": "2021-07-30T13:30:56.527Z"
   },
   {
    "duration": 221,
    "start_time": "2021-07-30T13:31:25.142Z"
   },
   {
    "duration": 587,
    "start_time": "2021-07-30T13:35:53.983Z"
   },
   {
    "duration": 831,
    "start_time": "2021-07-30T13:36:21.446Z"
   },
   {
    "duration": 542,
    "start_time": "2021-07-30T13:37:15.163Z"
   },
   {
    "duration": 615,
    "start_time": "2021-07-30T13:37:52.650Z"
   },
   {
    "duration": 654,
    "start_time": "2021-07-30T13:38:26.605Z"
   },
   {
    "duration": 201,
    "start_time": "2021-07-30T13:40:31.771Z"
   },
   {
    "duration": 204,
    "start_time": "2021-07-30T13:40:46.328Z"
   },
   {
    "duration": 261,
    "start_time": "2021-07-30T13:44:30.606Z"
   },
   {
    "duration": 592,
    "start_time": "2021-07-30T13:49:50.784Z"
   },
   {
    "duration": 607,
    "start_time": "2021-07-30T13:50:23.856Z"
   },
   {
    "duration": 246,
    "start_time": "2021-07-30T13:51:40.027Z"
   },
   {
    "duration": 261,
    "start_time": "2021-07-30T13:51:51.658Z"
   },
   {
    "duration": 256,
    "start_time": "2021-07-30T13:52:53.072Z"
   },
   {
    "duration": 263,
    "start_time": "2021-07-30T13:53:01.840Z"
   },
   {
    "duration": 301,
    "start_time": "2021-07-30T13:53:57.026Z"
   },
   {
    "duration": 130,
    "start_time": "2021-07-30T13:54:59.943Z"
   },
   {
    "duration": 265,
    "start_time": "2021-07-30T13:55:09.164Z"
   },
   {
    "duration": 268,
    "start_time": "2021-07-30T13:55:18.901Z"
   },
   {
    "duration": 258,
    "start_time": "2021-07-30T13:55:38.284Z"
   },
   {
    "duration": 252,
    "start_time": "2021-07-30T13:55:48.387Z"
   },
   {
    "duration": 124,
    "start_time": "2021-07-30T13:56:41.659Z"
   },
   {
    "duration": 253,
    "start_time": "2021-07-30T13:57:04.730Z"
   },
   {
    "duration": 338,
    "start_time": "2021-07-30T13:57:26.321Z"
   },
   {
    "duration": 243,
    "start_time": "2021-07-30T13:57:42.848Z"
   },
   {
    "duration": 238,
    "start_time": "2021-07-30T13:58:11.681Z"
   },
   {
    "duration": 252,
    "start_time": "2021-07-30T13:58:37.175Z"
   },
   {
    "duration": 256,
    "start_time": "2021-07-30T13:58:45.616Z"
   },
   {
    "duration": 284,
    "start_time": "2021-07-30T13:59:10.185Z"
   },
   {
    "duration": 253,
    "start_time": "2021-07-30T13:59:23.079Z"
   },
   {
    "duration": 278,
    "start_time": "2021-07-30T13:59:33.237Z"
   },
   {
    "duration": 249,
    "start_time": "2021-07-30T14:01:30.972Z"
   },
   {
    "duration": 257,
    "start_time": "2021-07-30T14:02:02.098Z"
   },
   {
    "duration": 212,
    "start_time": "2021-07-30T14:03:51.263Z"
   },
   {
    "duration": 217,
    "start_time": "2021-07-30T14:05:37.445Z"
   },
   {
    "duration": 324,
    "start_time": "2021-07-30T14:06:09.552Z"
   },
   {
    "duration": 319,
    "start_time": "2021-07-30T14:06:24.075Z"
   },
   {
    "duration": 587,
    "start_time": "2021-07-30T14:07:08.883Z"
   },
   {
    "duration": 243,
    "start_time": "2021-07-30T14:08:35.526Z"
   },
   {
    "duration": 252,
    "start_time": "2021-07-30T14:08:45.904Z"
   },
   {
    "duration": 280,
    "start_time": "2021-07-30T14:09:14.845Z"
   },
   {
    "duration": 193,
    "start_time": "2021-07-30T14:14:23.443Z"
   },
   {
    "duration": 129,
    "start_time": "2021-07-30T14:15:55.172Z"
   },
   {
    "duration": 176,
    "start_time": "2021-07-30T14:25:01.533Z"
   },
   {
    "duration": 2120,
    "start_time": "2021-07-30T14:36:36.474Z"
   },
   {
    "duration": 379,
    "start_time": "2021-07-30T14:36:38.598Z"
   },
   {
    "duration": 43737,
    "start_time": "2021-07-30T14:36:38.980Z"
   },
   {
    "duration": 183,
    "start_time": "2021-07-30T14:37:22.720Z"
   },
   {
    "duration": 256,
    "start_time": "2021-07-30T14:37:22.905Z"
   },
   {
    "duration": 55,
    "start_time": "2021-07-30T14:37:23.163Z"
   },
   {
    "duration": 97,
    "start_time": "2021-07-30T14:37:23.221Z"
   },
   {
    "duration": 143,
    "start_time": "2021-07-30T14:37:23.321Z"
   },
   {
    "duration": 35,
    "start_time": "2021-07-30T14:37:23.467Z"
   },
   {
    "duration": 69,
    "start_time": "2021-07-30T14:37:23.504Z"
   },
   {
    "duration": 189,
    "start_time": "2021-07-30T14:37:23.575Z"
   },
   {
    "duration": 39,
    "start_time": "2021-07-30T14:37:23.767Z"
   },
   {
    "duration": 74,
    "start_time": "2021-07-30T14:37:23.809Z"
   },
   {
    "duration": 87,
    "start_time": "2021-07-30T14:37:23.886Z"
   },
   {
    "duration": 109,
    "start_time": "2021-07-30T14:37:23.975Z"
   },
   {
    "duration": 29,
    "start_time": "2021-07-30T14:37:24.086Z"
   },
   {
    "duration": 1971,
    "start_time": "2021-07-30T14:37:24.117Z"
   },
   {
    "duration": 16,
    "start_time": "2021-07-30T14:37:26.090Z"
   },
   {
    "duration": 53,
    "start_time": "2021-07-30T14:37:26.108Z"
   },
   {
    "duration": 2049,
    "start_time": "2021-07-30T15:00:48.644Z"
   },
   {
    "duration": 544,
    "start_time": "2021-07-30T15:02:18.887Z"
   },
   {
    "duration": 2008,
    "start_time": "2021-07-30T15:03:17.694Z"
   },
   {
    "duration": 2202,
    "start_time": "2021-07-30T15:04:13.723Z"
   },
   {
    "duration": 2182,
    "start_time": "2021-07-30T15:05:12.731Z"
   },
   {
    "duration": 2250,
    "start_time": "2021-07-30T15:05:25.027Z"
   },
   {
    "duration": 2208,
    "start_time": "2021-07-30T15:05:51.768Z"
   },
   {
    "duration": 2229,
    "start_time": "2021-07-30T15:09:25.891Z"
   },
   {
    "duration": 2411,
    "start_time": "2021-07-30T15:10:22.203Z"
   },
   {
    "duration": 122,
    "start_time": "2021-07-30T15:13:22.853Z"
   },
   {
    "duration": 2192,
    "start_time": "2021-07-30T15:13:28.428Z"
   },
   {
    "duration": 2398,
    "start_time": "2021-07-30T15:18:32.153Z"
   },
   {
    "duration": 3182,
    "start_time": "2021-07-30T15:22:23.780Z"
   },
   {
    "duration": 2583,
    "start_time": "2021-07-30T15:22:37.146Z"
   },
   {
    "duration": 2579,
    "start_time": "2021-07-30T15:22:47.385Z"
   },
   {
    "duration": 778,
    "start_time": "2021-07-30T15:23:55.354Z"
   },
   {
    "duration": 803,
    "start_time": "2021-07-30T15:24:02.084Z"
   },
   {
    "duration": 2442,
    "start_time": "2021-07-30T15:24:15.890Z"
   },
   {
    "duration": 2884,
    "start_time": "2021-07-30T15:25:13.565Z"
   },
   {
    "duration": 2529,
    "start_time": "2021-07-30T15:26:45.666Z"
   },
   {
    "duration": 2245,
    "start_time": "2021-07-30T15:31:38.429Z"
   },
   {
    "duration": 2457,
    "start_time": "2021-07-30T15:32:34.055Z"
   },
   {
    "duration": 2280,
    "start_time": "2021-07-30T15:33:43.727Z"
   },
   {
    "duration": 2437,
    "start_time": "2021-07-30T15:51:08.394Z"
   },
   {
    "duration": 2122,
    "start_time": "2021-07-30T15:51:19.476Z"
   },
   {
    "duration": 2063,
    "start_time": "2021-07-30T15:51:29.491Z"
   },
   {
    "duration": 2496,
    "start_time": "2021-07-30T15:56:50.497Z"
   },
   {
    "duration": 2204,
    "start_time": "2021-07-30T15:59:42.729Z"
   },
   {
    "duration": 2426,
    "start_time": "2021-07-30T16:00:03.261Z"
   },
   {
    "duration": 1442,
    "start_time": "2021-07-31T16:00:37.219Z"
   },
   {
    "duration": 238,
    "start_time": "2021-07-31T16:00:38.663Z"
   },
   {
    "duration": 28018,
    "start_time": "2021-07-31T16:00:38.903Z"
   },
   {
    "duration": 111,
    "start_time": "2021-07-31T16:01:06.923Z"
   },
   {
    "duration": 186,
    "start_time": "2021-07-31T16:01:07.035Z"
   },
   {
    "duration": 36,
    "start_time": "2021-07-31T16:01:07.222Z"
   },
   {
    "duration": 54,
    "start_time": "2021-07-31T16:01:07.259Z"
   },
   {
    "duration": 103,
    "start_time": "2021-07-31T16:01:07.316Z"
   },
   {
    "duration": 24,
    "start_time": "2021-07-31T16:01:07.421Z"
   },
   {
    "duration": 25,
    "start_time": "2021-07-31T16:01:07.446Z"
   },
   {
    "duration": 151,
    "start_time": "2021-07-31T16:01:07.472Z"
   },
   {
    "duration": 26,
    "start_time": "2021-07-31T16:01:07.624Z"
   },
   {
    "duration": 45,
    "start_time": "2021-07-31T16:01:07.651Z"
   },
   {
    "duration": 42,
    "start_time": "2021-07-31T16:01:07.698Z"
   },
   {
    "duration": 69,
    "start_time": "2021-07-31T16:01:07.742Z"
   },
   {
    "duration": 19,
    "start_time": "2021-07-31T16:01:07.813Z"
   },
   {
    "duration": 1147,
    "start_time": "2021-07-31T16:01:07.834Z"
   },
   {
    "duration": 322,
    "start_time": "2021-07-31T16:01:08.982Z"
   },
   {
    "duration": 374,
    "start_time": "2021-07-31T16:01:08.932Z"
   },
   {
    "duration": 1497,
    "start_time": "2021-07-31T16:04:44.871Z"
   },
   {
    "duration": 232,
    "start_time": "2021-07-31T16:04:46.370Z"
   },
   {
    "duration": 27475,
    "start_time": "2021-07-31T16:04:46.605Z"
   },
   {
    "duration": 116,
    "start_time": "2021-07-31T16:05:14.082Z"
   },
   {
    "duration": 179,
    "start_time": "2021-07-31T16:05:14.199Z"
   },
   {
    "duration": 43,
    "start_time": "2021-07-31T16:05:14.380Z"
   },
   {
    "duration": 43,
    "start_time": "2021-07-31T16:05:14.425Z"
   },
   {
    "duration": 102,
    "start_time": "2021-07-31T16:05:14.470Z"
   },
   {
    "duration": 30,
    "start_time": "2021-07-31T16:05:14.574Z"
   },
   {
    "duration": 26,
    "start_time": "2021-07-31T16:05:14.606Z"
   },
   {
    "duration": 140,
    "start_time": "2021-07-31T16:05:14.634Z"
   },
   {
    "duration": 29,
    "start_time": "2021-07-31T16:05:14.775Z"
   },
   {
    "duration": 29,
    "start_time": "2021-07-31T16:05:14.806Z"
   },
   {
    "duration": 58,
    "start_time": "2021-07-31T16:05:14.836Z"
   },
   {
    "duration": 57,
    "start_time": "2021-07-31T16:05:14.895Z"
   },
   {
    "duration": 16,
    "start_time": "2021-07-31T16:05:14.953Z"
   },
   {
    "duration": 1135,
    "start_time": "2021-07-31T16:05:14.970Z"
   },
   {
    "duration": 756,
    "start_time": "2021-07-31T16:05:16.107Z"
   },
   {
    "duration": 367,
    "start_time": "2021-07-31T16:05:16.498Z"
   },
   {
    "duration": 2634,
    "start_time": "2021-08-01T12:07:35.795Z"
   },
   {
    "duration": 405,
    "start_time": "2021-08-01T12:07:38.432Z"
   },
   {
    "duration": 49692,
    "start_time": "2021-08-01T12:07:38.840Z"
   },
   {
    "duration": 195,
    "start_time": "2021-08-01T12:08:28.535Z"
   },
   {
    "duration": 268,
    "start_time": "2021-08-01T12:08:28.733Z"
   },
   {
    "duration": 62,
    "start_time": "2021-08-01T12:08:29.004Z"
   },
   {
    "duration": 95,
    "start_time": "2021-08-01T12:08:29.069Z"
   },
   {
    "duration": 161,
    "start_time": "2021-08-01T12:08:29.168Z"
   },
   {
    "duration": 37,
    "start_time": "2021-08-01T12:08:29.332Z"
   },
   {
    "duration": 67,
    "start_time": "2021-08-01T12:08:29.372Z"
   },
   {
    "duration": 211,
    "start_time": "2021-08-01T12:08:29.441Z"
   },
   {
    "duration": 56,
    "start_time": "2021-08-01T12:08:29.654Z"
   },
   {
    "duration": 50,
    "start_time": "2021-08-01T12:08:29.713Z"
   },
   {
    "duration": 105,
    "start_time": "2021-08-01T12:08:29.766Z"
   },
   {
    "duration": 120,
    "start_time": "2021-08-01T12:08:29.873Z"
   },
   {
    "duration": 38,
    "start_time": "2021-08-01T12:08:30.000Z"
   },
   {
    "duration": 2295,
    "start_time": "2021-08-01T12:08:30.040Z"
   },
   {
    "duration": 517,
    "start_time": "2021-08-01T12:08:32.338Z"
   },
   {
    "duration": -35,
    "start_time": "2021-08-01T12:08:32.893Z"
   },
   {
    "duration": 144,
    "start_time": "2021-08-01T12:09:04.829Z"
   },
   {
    "duration": 65,
    "start_time": "2021-08-01T12:11:47.153Z"
   },
   {
    "duration": 2248,
    "start_time": "2021-08-01T12:13:10.113Z"
   },
   {
    "duration": 374,
    "start_time": "2021-08-01T12:13:12.364Z"
   },
   {
    "duration": 45594,
    "start_time": "2021-08-01T12:13:12.741Z"
   },
   {
    "duration": 181,
    "start_time": "2021-08-01T12:13:58.338Z"
   },
   {
    "duration": 260,
    "start_time": "2021-08-01T12:13:58.522Z"
   },
   {
    "duration": 66,
    "start_time": "2021-08-01T12:13:58.784Z"
   },
   {
    "duration": 88,
    "start_time": "2021-08-01T12:13:58.853Z"
   },
   {
    "duration": 156,
    "start_time": "2021-08-01T12:13:58.946Z"
   },
   {
    "duration": 37,
    "start_time": "2021-08-01T12:13:59.105Z"
   },
   {
    "duration": 66,
    "start_time": "2021-08-01T12:13:59.145Z"
   },
   {
    "duration": 202,
    "start_time": "2021-08-01T12:13:59.214Z"
   },
   {
    "duration": 41,
    "start_time": "2021-08-01T12:13:59.419Z"
   },
   {
    "duration": 76,
    "start_time": "2021-08-01T12:13:59.463Z"
   },
   {
    "duration": 121,
    "start_time": "2021-08-01T12:13:59.541Z"
   },
   {
    "duration": 131,
    "start_time": "2021-08-01T12:13:59.665Z"
   },
   {
    "duration": 29,
    "start_time": "2021-08-01T12:13:59.801Z"
   },
   {
    "duration": 2573,
    "start_time": "2021-08-01T12:13:59.833Z"
   },
   {
    "duration": 631,
    "start_time": "2021-08-01T12:14:02.409Z"
   },
   {
    "duration": 40,
    "start_time": "2021-08-01T12:14:03.013Z"
   },
   {
    "duration": 437,
    "start_time": "2021-08-01T12:14:47.756Z"
   },
   {
    "duration": 70,
    "start_time": "2021-08-01T12:15:39.681Z"
   },
   {
    "duration": 27,
    "start_time": "2021-08-01T12:17:02.416Z"
   },
   {
    "duration": 17,
    "start_time": "2021-08-01T12:17:41.582Z"
   },
   {
    "duration": 15,
    "start_time": "2021-08-01T12:17:51.192Z"
   },
   {
    "duration": 2121,
    "start_time": "2021-08-01T12:18:33.687Z"
   },
   {
    "duration": 389,
    "start_time": "2021-08-01T12:18:35.811Z"
   },
   {
    "duration": 48108,
    "start_time": "2021-08-01T12:18:36.204Z"
   },
   {
    "duration": 164,
    "start_time": "2021-08-01T12:19:24.315Z"
   },
   {
    "duration": 255,
    "start_time": "2021-08-01T12:19:24.501Z"
   },
   {
    "duration": 74,
    "start_time": "2021-08-01T12:19:24.758Z"
   },
   {
    "duration": 84,
    "start_time": "2021-08-01T12:19:24.834Z"
   },
   {
    "duration": 149,
    "start_time": "2021-08-01T12:19:24.922Z"
   },
   {
    "duration": 50,
    "start_time": "2021-08-01T12:19:25.074Z"
   },
   {
    "duration": 43,
    "start_time": "2021-08-01T12:19:25.127Z"
   },
   {
    "duration": 215,
    "start_time": "2021-08-01T12:19:25.172Z"
   },
   {
    "duration": 49,
    "start_time": "2021-08-01T12:19:25.389Z"
   },
   {
    "duration": 71,
    "start_time": "2021-08-01T12:19:25.440Z"
   },
   {
    "duration": 67,
    "start_time": "2021-08-01T12:19:25.514Z"
   },
   {
    "duration": 145,
    "start_time": "2021-08-01T12:19:25.600Z"
   },
   {
    "duration": 31,
    "start_time": "2021-08-01T12:19:25.748Z"
   },
   {
    "duration": 2384,
    "start_time": "2021-08-01T12:19:25.801Z"
   },
   {
    "duration": 543,
    "start_time": "2021-08-01T12:19:28.187Z"
   },
   {
    "duration": 3,
    "start_time": "2021-08-01T12:19:28.729Z"
   },
   {
    "duration": 17,
    "start_time": "2021-08-01T12:20:43.459Z"
   },
   {
    "duration": 15,
    "start_time": "2021-08-01T12:21:23.315Z"
   },
   {
    "duration": 16,
    "start_time": "2021-08-01T12:21:41.167Z"
   },
   {
    "duration": 2231,
    "start_time": "2021-08-01T12:21:50.174Z"
   },
   {
    "duration": 392,
    "start_time": "2021-08-01T12:21:52.409Z"
   },
   {
    "duration": 48623,
    "start_time": "2021-08-01T12:21:52.810Z"
   },
   {
    "duration": 208,
    "start_time": "2021-08-01T12:22:41.436Z"
   },
   {
    "duration": 294,
    "start_time": "2021-08-01T12:22:41.646Z"
   },
   {
    "duration": 67,
    "start_time": "2021-08-01T12:22:41.942Z"
   },
   {
    "duration": 71,
    "start_time": "2021-08-01T12:22:42.013Z"
   },
   {
    "duration": 171,
    "start_time": "2021-08-01T12:22:42.101Z"
   },
   {
    "duration": 52,
    "start_time": "2021-08-01T12:22:42.275Z"
   },
   {
    "duration": 43,
    "start_time": "2021-08-01T12:22:42.329Z"
   },
   {
    "duration": 229,
    "start_time": "2021-08-01T12:22:42.374Z"
   },
   {
    "duration": 42,
    "start_time": "2021-08-01T12:22:42.605Z"
   },
   {
    "duration": 83,
    "start_time": "2021-08-01T12:22:42.650Z"
   },
   {
    "duration": 91,
    "start_time": "2021-08-01T12:22:42.736Z"
   },
   {
    "duration": 109,
    "start_time": "2021-08-01T12:22:42.830Z"
   },
   {
    "duration": 32,
    "start_time": "2021-08-01T12:22:42.942Z"
   },
   {
    "duration": 2246,
    "start_time": "2021-08-01T12:22:42.976Z"
   },
   {
    "duration": 16,
    "start_time": "2021-08-01T12:22:45.225Z"
   },
   {
    "duration": 64,
    "start_time": "2021-08-01T12:22:45.243Z"
   },
   {
    "duration": 513,
    "start_time": "2021-08-01T12:23:19.610Z"
   },
   {
    "duration": 357,
    "start_time": "2021-08-01T12:24:03.716Z"
   },
   {
    "duration": 418,
    "start_time": "2021-08-01T12:24:16.274Z"
   },
   {
    "duration": 101,
    "start_time": "2021-08-01T12:25:11.374Z"
   },
   {
    "duration": 124,
    "start_time": "2021-08-01T12:27:54.508Z"
   },
   {
    "duration": 101,
    "start_time": "2021-08-01T12:28:01.010Z"
   },
   {
    "duration": 74,
    "start_time": "2021-08-01T12:30:02.737Z"
   },
   {
    "duration": 2294,
    "start_time": "2021-08-01T12:30:46.860Z"
   },
   {
    "duration": 408,
    "start_time": "2021-08-01T12:30:49.157Z"
   },
   {
    "duration": 47547,
    "start_time": "2021-08-01T12:30:49.568Z"
   },
   {
    "duration": 165,
    "start_time": "2021-08-01T12:31:37.118Z"
   },
   {
    "duration": 283,
    "start_time": "2021-08-01T12:31:37.306Z"
   },
   {
    "duration": 68,
    "start_time": "2021-08-01T12:31:37.591Z"
   },
   {
    "duration": 92,
    "start_time": "2021-08-01T12:31:37.663Z"
   },
   {
    "duration": 161,
    "start_time": "2021-08-01T12:31:37.760Z"
   },
   {
    "duration": 35,
    "start_time": "2021-08-01T12:31:37.924Z"
   },
   {
    "duration": 70,
    "start_time": "2021-08-01T12:31:37.962Z"
   },
   {
    "duration": 229,
    "start_time": "2021-08-01T12:31:38.034Z"
   },
   {
    "duration": 59,
    "start_time": "2021-08-01T12:31:38.266Z"
   },
   {
    "duration": 47,
    "start_time": "2021-08-01T12:31:38.328Z"
   },
   {
    "duration": 91,
    "start_time": "2021-08-01T12:31:38.378Z"
   },
   {
    "duration": 123,
    "start_time": "2021-08-01T12:31:38.472Z"
   },
   {
    "duration": 35,
    "start_time": "2021-08-01T12:31:38.602Z"
   },
   {
    "duration": 2417,
    "start_time": "2021-08-01T12:31:38.639Z"
   },
   {
    "duration": 527,
    "start_time": "2021-08-01T12:31:41.059Z"
   },
   {
    "duration": 33,
    "start_time": "2021-08-01T12:31:41.555Z"
   },
   {
    "duration": 351,
    "start_time": "2021-08-01T12:32:36.364Z"
   },
   {
    "duration": 11,
    "start_time": "2021-08-01T12:32:54.935Z"
   },
   {
    "duration": 16,
    "start_time": "2021-08-01T12:33:46.635Z"
   },
   {
    "duration": 2185,
    "start_time": "2021-08-01T12:34:38.611Z"
   },
   {
    "duration": 94,
    "start_time": "2021-08-01T12:35:35.374Z"
   },
   {
    "duration": 65,
    "start_time": "2021-08-01T12:35:53.051Z"
   },
   {
    "duration": 18,
    "start_time": "2021-08-01T12:36:03.999Z"
   },
   {
    "duration": 2194,
    "start_time": "2021-08-01T12:36:29.921Z"
   },
   {
    "duration": 374,
    "start_time": "2021-08-01T12:36:32.117Z"
   },
   {
    "duration": 46625,
    "start_time": "2021-08-01T12:36:32.494Z"
   },
   {
    "duration": 180,
    "start_time": "2021-08-01T12:37:19.122Z"
   },
   {
    "duration": 263,
    "start_time": "2021-08-01T12:37:19.304Z"
   },
   {
    "duration": 70,
    "start_time": "2021-08-01T12:37:19.570Z"
   },
   {
    "duration": 102,
    "start_time": "2021-08-01T12:37:19.643Z"
   },
   {
    "duration": 220,
    "start_time": "2021-08-01T12:37:19.751Z"
   },
   {
    "duration": 63,
    "start_time": "2021-08-01T12:37:19.976Z"
   },
   {
    "duration": 75,
    "start_time": "2021-08-01T12:37:20.042Z"
   },
   {
    "duration": 284,
    "start_time": "2021-08-01T12:37:20.121Z"
   },
   {
    "duration": 61,
    "start_time": "2021-08-01T12:37:20.408Z"
   },
   {
    "duration": 90,
    "start_time": "2021-08-01T12:37:20.473Z"
   },
   {
    "duration": 115,
    "start_time": "2021-08-01T12:37:20.566Z"
   },
   {
    "duration": 163,
    "start_time": "2021-08-01T12:37:20.685Z"
   },
   {
    "duration": 54,
    "start_time": "2021-08-01T12:37:20.851Z"
   },
   {
    "duration": 3410,
    "start_time": "2021-08-01T12:37:20.908Z"
   },
   {
    "duration": 22,
    "start_time": "2021-08-01T12:37:24.322Z"
   },
   {
    "duration": 57,
    "start_time": "2021-08-01T12:37:24.347Z"
   },
   {
    "duration": 2420,
    "start_time": "2021-08-01T12:38:28.288Z"
   },
   {
    "duration": 370,
    "start_time": "2021-08-01T12:38:30.710Z"
   },
   {
    "duration": 1676,
    "start_time": "2021-08-02T11:03:01.257Z"
   },
   {
    "duration": 336,
    "start_time": "2021-08-02T11:03:02.935Z"
   },
   {
    "duration": 35279,
    "start_time": "2021-08-02T11:03:03.273Z"
   },
   {
    "duration": 122,
    "start_time": "2021-08-02T11:03:38.555Z"
   },
   {
    "duration": 207,
    "start_time": "2021-08-02T11:03:38.693Z"
   },
   {
    "duration": 60,
    "start_time": "2021-08-02T11:03:38.902Z"
   },
   {
    "duration": 81,
    "start_time": "2021-08-02T11:03:38.964Z"
   },
   {
    "duration": 152,
    "start_time": "2021-08-02T11:03:39.048Z"
   },
   {
    "duration": 28,
    "start_time": "2021-08-02T11:03:39.203Z"
   },
   {
    "duration": 28,
    "start_time": "2021-08-02T11:03:39.233Z"
   },
   {
    "duration": 167,
    "start_time": "2021-08-02T11:03:39.262Z"
   },
   {
    "duration": 26,
    "start_time": "2021-08-02T11:03:39.430Z"
   },
   {
    "duration": 54,
    "start_time": "2021-08-02T11:03:39.458Z"
   },
   {
    "duration": 43,
    "start_time": "2021-08-02T11:03:39.514Z"
   },
   {
    "duration": 78,
    "start_time": "2021-08-02T11:03:39.559Z"
   },
   {
    "duration": 23,
    "start_time": "2021-08-02T11:03:39.639Z"
   },
   {
    "duration": 1270,
    "start_time": "2021-08-02T11:03:39.663Z"
   },
   {
    "duration": 7,
    "start_time": "2021-08-02T11:03:40.935Z"
   },
   {
    "duration": 23,
    "start_time": "2021-08-02T11:03:40.944Z"
   }
  ],
  "kernelspec": {
   "display_name": "Python 3 (ipykernel)",
   "language": "python",
   "name": "python3"
  },
  "language_info": {
   "codemirror_mode": {
    "name": "ipython",
    "version": 3
   },
   "file_extension": ".py",
   "mimetype": "text/x-python",
   "name": "python",
   "nbconvert_exporter": "python",
   "pygments_lexer": "ipython3",
   "version": "3.9.7"
  },
  "toc": {
   "base_numbering": 1,
   "nav_menu": {},
   "number_sections": true,
   "sideBar": true,
   "skip_h1_title": true,
   "title_cell": "Table of Contents",
   "title_sidebar": "Contents",
   "toc_cell": false,
   "toc_position": {},
   "toc_section_display": true,
   "toc_window_display": false
  }
 },
 "nbformat": 4,
 "nbformat_minor": 2
}
